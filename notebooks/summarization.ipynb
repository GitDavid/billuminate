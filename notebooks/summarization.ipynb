{
 "cells": [
  {
   "cell_type": "code",
   "execution_count": 1,
   "metadata": {},
   "outputs": [
    {
     "name": "stderr",
     "output_type": "stream",
     "text": [
      "[nltk_data] Downloading package punkt to\n",
      "[nltk_data]     /Users/melissaferrari/nltk_data...\n",
      "[nltk_data]   Package punkt is already up-to-date!\n"
     ]
    }
   ],
   "source": [
    "import sqlalchemy\n",
    "import psycopg2\n",
    "import os\n",
    "import numpy\n",
    "import ast\n",
    "import pandas as pd\n",
    "import json\n",
    "import re\n",
    "from lxml import etree\n",
    "import numpy as np\n",
    "import zipfile\n",
    "from io import StringIO, BytesIO\n",
    "import sumy\n",
    "from sqlalchemy import create_engine\n",
    "import seaborn\n",
    "import nltk\n",
    "nltk.download('punkt')\n",
    "\n",
    "import matplotlib\n",
    "import matplotlib.pylab as plt\n",
    "%matplotlib inline"
   ]
  },
  {
   "cell_type": "code",
   "execution_count": 2,
   "metadata": {},
   "outputs": [],
   "source": [
    "congress = '114'\n",
    "bill_type = 'hr'\n",
    "default_bill_number = 4764# 1216 #\n",
    "number = default_bill_number"
   ]
  },
  {
   "cell_type": "markdown",
   "metadata": {},
   "source": [
    "### Get XML doc from filepath"
   ]
  },
  {
   "cell_type": "code",
   "execution_count": 3,
   "metadata": {},
   "outputs": [],
   "source": [
    "bill_path_root = '/Users/melissaferrari/Projects/repo/congress/data/'"
   ]
  },
  {
   "cell_type": "code",
   "execution_count": 4,
   "metadata": {},
   "outputs": [],
   "source": [
    "bill_path = '{}{}/bills/{}/{}{}/text-versions/ih/'.format(bill_path_root, \n",
    "                                                          congress, \n",
    "                                                          bill_type, \n",
    "                                                          bill_type, \n",
    "                                                          number)\n",
    "bill_path += 'BILLS-{}{}{}ih/xml'.format(congress, bill_type, number)\n",
    "\n",
    "xml_file = os.listdir(bill_path)[0]"
   ]
  },
  {
   "cell_type": "code",
   "execution_count": 5,
   "metadata": {},
   "outputs": [],
   "source": [
    "tree = etree.parse(os.path.join(bill_path, xml_file))\n",
    "string_tree = etree.tostring(tree).decode()"
   ]
  },
  {
   "cell_type": "markdown",
   "metadata": {},
   "source": [
    "### Query XML from database"
   ]
  },
  {
   "cell_type": "code",
   "execution_count": 6,
   "metadata": {},
   "outputs": [
    {
     "data": {
      "text/plain": [
       "'hr4764-114'"
      ]
     },
     "execution_count": 6,
     "metadata": {},
     "output_type": "execute_result"
    }
   ],
   "source": [
    "# bill_id = 'hr1216-114'\n",
    "bill_id = '{}{}-{}'.format(bill_type, number, congress)\n",
    "bill_id"
   ]
  },
  {
   "cell_type": "code",
   "execution_count": 7,
   "metadata": {},
   "outputs": [],
   "source": [
    "user = 'melissaferrari'  # add your Postgres username here\n",
    "host = 'localhost'\n",
    "dbname = 'congressional_bills'\n",
    "db = create_engine('postgres://%s%s/%s' % (user, host, dbname))\n",
    "con = None\n",
    "con = psycopg2.connect(database=dbname, user=user)"
   ]
  },
  {
   "cell_type": "code",
   "execution_count": 8,
   "metadata": {},
   "outputs": [],
   "source": [
    "query_text = \"SELECT bill_ix, text FROM bill_text bt INNER JOIN bills b ON bt.bill_ix = b.id WHERE b.bill_id = '%s';\" % bill_id\n",
    "query_text_results = pd.read_sql_query(query_text, con)"
   ]
  },
  {
   "cell_type": "code",
   "execution_count": 9,
   "metadata": {},
   "outputs": [
    {
     "data": {
      "text/html": [
       "<div>\n",
       "<style scoped>\n",
       "    .dataframe tbody tr th:only-of-type {\n",
       "        vertical-align: middle;\n",
       "    }\n",
       "\n",
       "    .dataframe tbody tr th {\n",
       "        vertical-align: top;\n",
       "    }\n",
       "\n",
       "    .dataframe thead th {\n",
       "        text-align: right;\n",
       "    }\n",
       "</style>\n",
       "<table border=\"1\" class=\"dataframe\">\n",
       "  <thead>\n",
       "    <tr style=\"text-align: right;\">\n",
       "      <th></th>\n",
       "      <th>bill_ix</th>\n",
       "      <th>text</th>\n",
       "    </tr>\n",
       "  </thead>\n",
       "  <tbody>\n",
       "    <tr>\n",
       "      <th>0</th>\n",
       "      <td>5530</td>\n",
       "      <td>&lt;?xml-stylesheet type=\"text/xsl\" href=\"billres...</td>\n",
       "    </tr>\n",
       "  </tbody>\n",
       "</table>\n",
       "</div>"
      ],
      "text/plain": [
       "   bill_ix                                               text\n",
       "0     5530  <?xml-stylesheet type=\"text/xsl\" href=\"billres..."
      ]
     },
     "execution_count": 9,
     "metadata": {},
     "output_type": "execute_result"
    }
   ],
   "source": [
    "query_text_results"
   ]
  },
  {
   "cell_type": "code",
   "execution_count": 10,
   "metadata": {},
   "outputs": [],
   "source": [
    "string_xml = query_text_results.iloc[0]['text']\n",
    "tree = etree.fromstring(string_tree)\n",
    "#summarization_result = models.do_summarization(string_xml)"
   ]
  },
  {
   "cell_type": "code",
   "execution_count": 11,
   "metadata": {},
   "outputs": [
    {
     "data": {
      "text/plain": [
       "['action',\n",
       " 'action-date',\n",
       " 'action-desc',\n",
       " 'bill',\n",
       " 'committee-name',\n",
       " 'congress',\n",
       " 'cosponsor',\n",
       " 'current-chamber',\n",
       " 'date',\n",
       " 'distribution-code',\n",
       " 'dublinCore',\n",
       " 'enum',\n",
       " 'form',\n",
       " 'format',\n",
       " 'header',\n",
       " 'language',\n",
       " 'legis-body',\n",
       " 'legis-num',\n",
       " 'legis-type',\n",
       " 'metadata',\n",
       " 'official-title',\n",
       " 'paragraph',\n",
       " 'publisher',\n",
       " 'quote',\n",
       " 'rights',\n",
       " 'section',\n",
       " 'session',\n",
       " 'short-title',\n",
       " 'sponsor',\n",
       " 'subparagraph',\n",
       " 'subsection',\n",
       " 'text',\n",
       " 'title']"
      ]
     },
     "execution_count": 11,
     "metadata": {},
     "output_type": "execute_result"
    }
   ],
   "source": [
    "tags = []\n",
    "for elt in tree.getiterator():\n",
    "    tag = elt.tag\n",
    "    if '}' in tag:\n",
    "        tag = tag.split('}')[1]\n",
    "    tags.append(tag)\n",
    "tags = list(np.unique(tags))\n",
    "tags"
   ]
  },
  {
   "cell_type": "code",
   "execution_count": 13,
   "metadata": {},
   "outputs": [
    {
     "name": "stdout",
     "output_type": "stream",
     "text": [
      "bill\n",
      "\n",
      "\t\n",
      "\n",
      "metadata\n",
      "\n",
      "\n",
      "\n",
      "dublinCore\n",
      "\n",
      "\n",
      "\n",
      "{http://purl.org/dc/elements/1.1/}title\n",
      "114 HR 4764 IH: Puppies Assisting Wounded Servicemembers (PAWS) Act of 2016\n",
      "\n",
      "{http://purl.org/dc/elements/1.1/}publisher\n",
      "U.S. House of Representatives\n",
      "\n",
      "{http://purl.org/dc/elements/1.1/}date\n",
      "2016-03-16\n",
      "\n",
      "{http://purl.org/dc/elements/1.1/}format\n",
      "text/xml\n",
      "\n",
      "{http://purl.org/dc/elements/1.1/}language\n",
      "EN\n",
      "\n",
      "{http://purl.org/dc/elements/1.1/}rights\n",
      "Pursuant to Title 17 Section 105 of the United States Code, this file is not subject to copyright protection and is in the public domain.\n",
      "\n",
      "form\n",
      "\n",
      "\t\t\n",
      "\n",
      "distribution-code\n",
      "I\n",
      "\n",
      "congress\n",
      "114th CONGRESS\n",
      "\n",
      "session\n",
      "2d Session\n",
      "\n",
      "legis-num\n",
      "H. R. 4764\n",
      "\n",
      "current-chamber\n",
      "IN THE HOUSE OF REPRESENTATIVES\n",
      "\n",
      "action\n",
      "\n",
      "\t\t\t\n",
      "\n",
      "action-date\n",
      "March 16, 2016\n",
      "\n",
      "action-desc\n",
      "None\n",
      "\n",
      "sponsor\n",
      "Mr. DeSantis\n",
      "\n",
      "cosponsor\n",
      "Mr. Rooney of Florida\n",
      "\n",
      "cosponsor\n",
      "Mr. Rothfus\n",
      "\n",
      "cosponsor\n",
      "Ms. Stefanik\n",
      "\n",
      "cosponsor\n",
      "Mr. Nugent\n",
      "\n",
      "cosponsor\n",
      "Mr. Weber of Texas\n",
      "\n",
      "cosponsor\n",
      "Mrs. Ellmers of North Carolina\n",
      "\n",
      "cosponsor\n",
      "Mr. Meadows\n",
      "\n",
      "cosponsor\n",
      "Mr. Byrne\n",
      "\n",
      "cosponsor\n",
      "Mr. Bishop of Michigan\n",
      "\n",
      "cosponsor\n",
      "Mr. Flores\n",
      "\n",
      "cosponsor\n",
      "Ms. McSally\n",
      "\n",
      "cosponsor\n",
      "Mr. Jolly\n",
      "\n",
      "cosponsor\n",
      "Mr. Johnson of Georgia\n",
      "\n",
      "cosponsor\n",
      "Mr. Salmon\n",
      "\n",
      "cosponsor\n",
      "Ms. Gabbard\n",
      "\n",
      "cosponsor\n",
      "Ms. Sinema\n",
      "\n",
      "committee-name\n",
      "Committee on Veterans’ Affairs\n",
      "\n",
      "legis-type\n",
      "A BILL\n",
      "\n",
      "official-title\n",
      "To direct the Secretary of Veterans Affairs to carry out a pilot program to provide service dogs to\n",
      "\t\t\t certain veterans with severe post-traumatic stress disorder.\n",
      "\n",
      "legis-body\n",
      "\n",
      " \n",
      "\n",
      "section\n",
      "None\n",
      "\n",
      "enum\n",
      "1.\n",
      "\n",
      "header\n",
      "Short title\n",
      "\n",
      "text\n",
      "This Act may be cited as the \n",
      "\n",
      "quote\n",
      "None\n",
      "\n",
      "short-title\n",
      "Puppies Assisting Wounded Servicemembers (PAWS) Act of 2016\n",
      "\n",
      "section\n",
      "None\n",
      "\n",
      "enum\n",
      "2.\n",
      "\n",
      "header\n",
      "Findings\n",
      "\n",
      "text\n",
      "Congress makes the following findings:\n",
      "\n",
      "paragraph\n",
      "None\n",
      "\n",
      "enum\n",
      "(1)\n",
      "\n",
      "text\n",
      "An estimated 14 percent of members of the Armed Forces returning from active duty service in support of Operation Iraqi Freedom or Operation Enduring Freedom suffer from post-traumatic stress disorder.\n",
      "\n",
      "paragraph\n",
      "None\n",
      "\n",
      "enum\n",
      "(2)\n",
      "\n",
      "text\n",
      "The resulting hyperstimulation of the fight-flight-freeze response associated with post-traumatic stress disorder poses a threat to the successful societal reintegration of such members of the Armed Forces.\n",
      "\n",
      "paragraph\n",
      "None\n",
      "\n",
      "enum\n",
      "(3)\n",
      "\n",
      "text\n",
      "Animals such as dogs can buffer this stress response when humans fail to provide social support.\n",
      "\n",
      "paragraph\n",
      "None\n",
      "\n",
      "enum\n",
      "(4)\n",
      "\n",
      "text\n",
      "Interaction with dogs has been shown to modulate symptoms of post-traumatic stress disorder, such as anxiety, including fear response and hyperarousal, interpersonal difficulties, social isolation, physical pain, and sleep disturbances.\n",
      "\n",
      "section\n",
      "None\n",
      "\n",
      "enum\n",
      "3.\n",
      "\n",
      "header\n",
      "Pilot program on Department of Veterans Affairs provision of service dogs to certain veterans with\n",
      "\t\t\t severe post-traumatic stress disorder\n",
      "\n",
      "subsection\n",
      "None\n",
      "\n",
      "enum\n",
      "(a)\n",
      "\n",
      "header\n",
      "In general\n",
      "\n",
      "text\n",
      "The Secretary of Veterans Affairs, acting through the Office of Patient Centered Care and Cultural Transformation, shall carry out a pilot program under which the Secretary shall provide to eligible veterans with service dogs. The provision of a service dog under the pilot program shall be done in addition to other types of treatment provided for post-traumatic stress disorder and shall not replace established treatment modalities. The Secretary of Veterans Affairs shall furnish veterinary health insurance for each dog provided under the pilot program.\n",
      "\n",
      "subsection\n",
      "None\n",
      "\n",
      "enum\n",
      "(b)\n",
      "\n",
      "header\n",
      "Eligibility\n",
      "\n",
      "paragraph\n",
      "None\n",
      "\n",
      "enum\n",
      "(1)\n",
      "\n",
      "header\n",
      "Initial eligibility\n",
      "\n",
      "text\n",
      "To be eligible for a service dog under the pilot program a veteran shall—\n",
      "\n",
      "subparagraph\n",
      "None\n",
      "\n",
      "enum\n",
      "(A)\n",
      "\n",
      "text\n",
      "be diagnosed with post-traumatic stress disorder rated at a severity level of three or four on the Clinician-Administered PTSD Scale for DSM–5 (CAPS–5);\n",
      "\n",
      "subparagraph\n",
      "None\n",
      "\n",
      "enum\n",
      "(B)\n",
      "\n",
      "text\n",
      "have been treated and have completed an established evidence-based treatment and remain significantly symptomatic, as evidenced by the Global Assessment of Functioning or a similar clinical metric;\n",
      "\n",
      "subparagraph\n",
      "None\n",
      "\n",
      "enum\n",
      "(C)\n",
      "\n",
      "text\n",
      "have served on active duty in the Armed Forces on or after September 11, 2001; and\n",
      "\n",
      "subparagraph\n",
      "None\n",
      "\n",
      "enum\n",
      "(D)\n",
      "\n",
      "text\n",
      "have not experienced satisfactory improvement in post-traumatic stress disorder symptoms after being treated with established evidence-based therapies.\n",
      "\n",
      "paragraph\n",
      "None\n",
      "\n",
      "enum\n",
      "(2)\n",
      "\n",
      "header\n",
      "Ongoing eligibility\n",
      "\n",
      "text\n",
      "To remain eligible to receive canine health insurance furnished by the Department of Veterans Affairs, a veteran shall see a physician who is a primary care provider or mental health care provider at a Department of Veterans Affairs medical facility at least quarterly.\n",
      "\n",
      "subsection\n",
      "None\n",
      "\n",
      "enum\n",
      "(c)\n",
      "\n",
      "header\n",
      "Contract authority\n",
      "\n",
      "paragraph\n",
      "None\n",
      "\n",
      "enum\n",
      "(1)\n",
      "\n",
      "header\n",
      "In general\n",
      "\n",
      "text\n",
      "In carrying out the pilot program under this section, the Secretary shall enter into such contracts as may be necessary for the procurement and training of service dogs with appropriate providers that are certified by Assistance Dogs International or a similar organization that—\n",
      "\n",
      "subparagraph\n",
      "None\n",
      "\n",
      "enum\n",
      "(A)\n",
      "\n",
      "text\n",
      "on average, provides one-on-one training for each service canine for a minimum of 30 hours over at least 90 days including a wellness verification from a licensed veterinarian;\n",
      "\n",
      "subparagraph\n",
      "None\n",
      "\n",
      "enum\n",
      "(B)\n",
      "\n",
      "text\n",
      "provides an in-house residential facility in which service dog recipients stay for a minimum of ten days while receiving at least 30 hours of training with their new service canine;\n",
      "\n",
      "subparagraph\n",
      "None\n",
      "\n",
      "enum\n",
      "(C)\n",
      "\n",
      "text\n",
      "ensures all service canines pass the American Kennel Club Canine Good Citizen test prior to permanent placement with a recipient; and\n",
      "\n",
      "subparagraph\n",
      "None\n",
      "\n",
      "enum\n",
      "(D)\n",
      "\n",
      "text\n",
      "provides follow-up support service for the life of the service canine.\n",
      "\n",
      "paragraph\n",
      "None\n",
      "\n",
      "enum\n",
      "(2)\n",
      "\n",
      "header\n",
      "Limitation\n",
      "\n",
      "text\n",
      "The Secretary may not obligate or expend more than $27,000 for the procurement and training of any dog under a contract entered into under this subsection.\n",
      "\n",
      "subsection\n",
      "None\n",
      "\n",
      "enum\n",
      "(d)\n",
      "\n",
      "header\n",
      "GAO study\n",
      "\n",
      "text\n",
      "Not later than 180 days after the termination of the pilot program under this section, the Comptroller General of the United States shall submit to Congress a report on the pilot program. Such report shall include—\n",
      "\n",
      "paragraph\n",
      "None\n",
      "\n",
      "enum\n",
      "(1)\n",
      "\n",
      "text\n",
      "an evaluation of the effectiveness of the pilot program with respect to—\n",
      "\n",
      "subparagraph\n",
      "None\n",
      "\n",
      "enum\n",
      "(A)\n",
      "\n",
      "text\n",
      "helping veterans with severe post-traumatic stress disorder live normally;\n",
      "\n",
      "subparagraph\n",
      "None\n",
      "\n",
      "enum\n",
      "(B)\n",
      "\n",
      "text\n",
      "relevant metrics, including reduction in metrics such as reduction in scores under the post-traumatic stress disorder checklist (PCL), improvement in psychosocial function, and therapeutic compliance;\n",
      "\n",
      "subparagraph\n",
      "None\n",
      "\n",
      "enum\n",
      "(C)\n",
      "\n",
      "text\n",
      "lessening the symptoms of post-traumatic stress disorder; and\n",
      "\n",
      "subparagraph\n",
      "None\n",
      "\n",
      "enum\n",
      "(D)\n",
      "\n",
      "text\n",
      "reducing the dependence of participants on prescription narcotics and psychotropic medication; and\n",
      "\n",
      "paragraph\n",
      "None\n",
      "\n",
      "enum\n",
      "(2)\n",
      "\n",
      "text\n",
      "the recommendations of the Comptroller General with respect to the continuation or expansion of the program.\n",
      "\n",
      "subsection\n",
      "None\n",
      "\n",
      "enum\n",
      "(e)\n",
      "\n",
      "header\n",
      "Authorization of appropriations\n",
      "\n",
      "text\n",
      "There is authorized to be appropriated for each of fiscal years 2017 through 2022 $10,000,000 to carry out the pilot program under this section.\n",
      "\n",
      "subsection\n",
      "None\n",
      "\n",
      "enum\n",
      "(f)\n",
      "\n",
      "header\n",
      "Offset\n",
      "\n",
      "text\n",
      "The amounts otherwise authorized to be appropriated for Department of Veterans Affairs Office of Human Resources and Administration for each of fiscal years 2017 through 2022 shall be reduced by $10,000,000.\n",
      "\n",
      "subsection\n",
      "None\n",
      "\n",
      "enum\n",
      "(g)\n",
      "\n",
      "header\n",
      "Termination\n",
      "\n",
      "text\n",
      "The authority to carry out a pilot program under this section shall terminate on the date that is five years after the date of the enactment of this Act.\n",
      "\n"
     ]
    }
   ],
   "source": [
    "for elt in tree.getiterator():\n",
    "    if elt.text == None:\n",
    "        pass\n",
    "    if elt.tag == None:\n",
    "        pass\n",
    "    if elt.text == 'None':\n",
    "        pass\n",
    "    else:\n",
    "        print(elt.tag)\n",
    "        print(elt.text)\n",
    "        print('')"
   ]
  },
  {
   "cell_type": "code",
   "execution_count": 14,
   "metadata": {},
   "outputs": [],
   "source": [
    "def create_single_text_string(tree, tag='text'):\n",
    "    text = \"\"\n",
    "    for elt in tree.getiterator(tag):\n",
    "        if isinstance(elt.text, str):\n",
    "            text += elt.text  + ' '\n",
    "    return text"
   ]
  },
  {
   "cell_type": "code",
   "execution_count": 15,
   "metadata": {},
   "outputs": [],
   "source": [
    "full_text = create_single_text_string(tree)"
   ]
  },
  {
   "cell_type": "markdown",
   "metadata": {},
   "source": [
    "### Simple Gensim tutorial [[LINK](https://rare-technologies.com/text-summarization-with-gensim/)]"
   ]
  },
  {
   "cell_type": "code",
   "execution_count": 16,
   "metadata": {},
   "outputs": [],
   "source": [
    "import gensim #from gensim import summarization #import summarize, keywords"
   ]
  },
  {
   "cell_type": "code",
   "execution_count": 17,
   "metadata": {},
   "outputs": [
    {
     "data": {
      "text/plain": [
       "4642"
      ]
     },
     "execution_count": 17,
     "metadata": {},
     "output_type": "execute_result"
    }
   ],
   "source": [
    "len(full_text)"
   ]
  },
  {
   "cell_type": "code",
   "execution_count": 18,
   "metadata": {},
   "outputs": [],
   "source": [
    "summarized = gensim.summarization.summarize(full_text)"
   ]
  },
  {
   "cell_type": "code",
   "execution_count": 19,
   "metadata": {},
   "outputs": [
    {
     "data": {
      "text/plain": [
       "'This Act may be cited as the  Congress makes the following findings: An estimated 14 percent of members of the Armed Forces returning from active duty service in support of Operation Iraqi Freedom or Operation Enduring Freedom suffer from post-traumatic stress disorder.\\nIn carrying out the pilot program under this section, the Secretary shall enter into such contracts as may be necessary for the procurement and training of service dogs with appropriate providers that are certified by Assistance Dogs International or a similar organization that— on average, provides one-on-one training for each service canine for a minimum of 30 hours over at least 90 days including a wellness verification from a licensed veterinarian; provides an in-house residential facility in which service dog recipients stay for a minimum of ten days while receiving at least 30 hours of training with their new service canine; ensures all service canines pass the American Kennel Club Canine Good Citizen test prior to permanent placement with a recipient; and provides follow-up support service for the life of the service canine.\\nThe amounts otherwise authorized to be appropriated for Department of Veterans Affairs Office of Human Resources and Administration for each of fiscal years 2017 through 2022 shall be reduced by $10,000,000.'"
      ]
     },
     "execution_count": 19,
     "metadata": {},
     "output_type": "execute_result"
    }
   ],
   "source": [
    "summarized"
   ]
  },
  {
   "cell_type": "code",
   "execution_count": 20,
   "metadata": {},
   "outputs": [
    {
     "data": {
      "text/plain": [
       "0.2847910383455407"
      ]
     },
     "execution_count": 20,
     "metadata": {},
     "output_type": "execute_result"
    }
   ],
   "source": [
    "len(summarized)/len(full_text)"
   ]
  },
  {
   "cell_type": "code",
   "execution_count": 21,
   "metadata": {},
   "outputs": [
    {
     "data": {
      "text/plain": [
       "3320"
      ]
     },
     "execution_count": 21,
     "metadata": {},
     "output_type": "execute_result"
    }
   ],
   "source": [
    "len(full_text) - len(summarized)"
   ]
  },
  {
   "cell_type": "code",
   "execution_count": 22,
   "metadata": {},
   "outputs": [],
   "source": [
    "kw = gensim.summarization.keywords(full_text)"
   ]
  },
  {
   "cell_type": "code",
   "execution_count": 23,
   "metadata": {},
   "outputs": [
    {
     "name": "stdout",
     "output_type": "stream",
     "text": [
      "shall\n",
      "provider\n",
      "providers\n",
      "provides\n",
      "canine\n",
      "canines\n",
      "disorder\n",
      "treatment provided\n",
      "provide social\n",
      "including\n",
      "include\n",
      "dogs\n",
      "dog\n",
      "affairs\n",
      "service\n",
      "health\n",
      "forces\n",
      "response\n",
      "veterans\n",
      "veteran\n",
      "care\n",
      "freedom\n",
      "societal\n",
      "humans\n",
      "human\n",
      "compliance\n",
      "medical\n",
      "medication\n",
      "established\n",
      "metric\n",
      "metrics\n",
      "stress\n",
      "support\n",
      "ptsd\n",
      "furnish\n",
      "furnished\n",
      "satisfactory\n",
      "severity\n",
      "severe\n",
      "significantly\n"
     ]
    }
   ],
   "source": [
    "print(kw)"
   ]
  },
  {
   "cell_type": "markdown",
   "metadata": {},
   "source": [
    "# Implementing ROUGE\n",
    "[GITHUB REPO](https://github.com/Diego999/py-rouge)"
   ]
  },
  {
   "cell_type": "code",
   "execution_count": 24,
   "metadata": {},
   "outputs": [
    {
     "data": {
      "text/plain": [
       "'hr4764-114'"
      ]
     },
     "execution_count": 24,
     "metadata": {},
     "output_type": "execute_result"
    }
   ],
   "source": [
    "bill_id"
   ]
  },
  {
   "cell_type": "code",
   "execution_count": 25,
   "metadata": {},
   "outputs": [
    {
     "data": {
      "text/html": [
       "<div>\n",
       "<style scoped>\n",
       "    .dataframe tbody tr th:only-of-type {\n",
       "        vertical-align: middle;\n",
       "    }\n",
       "\n",
       "    .dataframe tbody tr th {\n",
       "        vertical-align: top;\n",
       "    }\n",
       "\n",
       "    .dataframe thead th {\n",
       "        text-align: right;\n",
       "    }\n",
       "</style>\n",
       "<table border=\"1\" class=\"dataframe\">\n",
       "  <thead>\n",
       "    <tr style=\"text-align: right;\">\n",
       "      <th></th>\n",
       "      <th>bill_id</th>\n",
       "      <th>official_title</th>\n",
       "      <th>short_title</th>\n",
       "      <th>subjects_top_term</th>\n",
       "    </tr>\n",
       "  </thead>\n",
       "  <tbody>\n",
       "    <tr>\n",
       "      <th>0</th>\n",
       "      <td>hr4764-114</td>\n",
       "      <td>To direct the Secretary of Veterans Affairs to...</td>\n",
       "      <td>Puppies Assisting Wounded Servicemembers (PAWS...</td>\n",
       "      <td>Armed forces and national security</td>\n",
       "    </tr>\n",
       "  </tbody>\n",
       "</table>\n",
       "</div>"
      ],
      "text/plain": [
       "      bill_id                                     official_title  \\\n",
       "0  hr4764-114  To direct the Secretary of Veterans Affairs to...   \n",
       "\n",
       "                                         short_title  \\\n",
       "0  Puppies Assisting Wounded Servicemembers (PAWS...   \n",
       "\n",
       "                    subjects_top_term  \n",
       "0  Armed forces and national security  "
      ]
     },
     "execution_count": 25,
     "metadata": {},
     "output_type": "execute_result"
    }
   ],
   "source": [
    "query_info = \"SELECT bill_id, official_title, short_title, subjects_top_term FROM bills WHERE bill_id='%s';\" % bill_id\n",
    "query_info_results = pd.read_sql_query(query_info, con)\n",
    "query_info_results"
   ]
  },
  {
   "cell_type": "code",
   "execution_count": 26,
   "metadata": {},
   "outputs": [],
   "source": [
    "_, official_title, short_title, subjects_top_term = query_info_results.iloc[0].values"
   ]
  },
  {
   "cell_type": "code",
   "execution_count": 27,
   "metadata": {},
   "outputs": [
    {
     "data": {
      "text/html": [
       "<div>\n",
       "<style scoped>\n",
       "    .dataframe tbody tr th:only-of-type {\n",
       "        vertical-align: middle;\n",
       "    }\n",
       "\n",
       "    .dataframe tbody tr th {\n",
       "        vertical-align: top;\n",
       "    }\n",
       "\n",
       "    .dataframe thead th {\n",
       "        text-align: right;\n",
       "    }\n",
       "</style>\n",
       "<table border=\"1\" class=\"dataframe\">\n",
       "  <thead>\n",
       "    <tr style=\"text-align: right;\">\n",
       "      <th></th>\n",
       "      <th>bill_ix</th>\n",
       "      <th>text</th>\n",
       "    </tr>\n",
       "  </thead>\n",
       "  <tbody>\n",
       "    <tr>\n",
       "      <th>0</th>\n",
       "      <td>5530</td>\n",
       "      <td>Puppies Assisting Wounded Servicemembers (PAWS...</td>\n",
       "    </tr>\n",
       "  </tbody>\n",
       "</table>\n",
       "</div>"
      ],
      "text/plain": [
       "   bill_ix                                               text\n",
       "0     5530  Puppies Assisting Wounded Servicemembers (PAWS..."
      ]
     },
     "execution_count": 27,
     "metadata": {},
     "output_type": "execute_result"
    }
   ],
   "source": [
    "query_summary = \"\"\"\n",
    "                SELECT bill_ix, text FROM summaries bt INNER JOIN bills b\n",
    "                ON bt.bill_ix = b.id WHERE b.bill_id = '%s';\n",
    "                \"\"\"\n",
    "data = (bill_id,)\n",
    "query_summary_results = pd.read_sql_query(query_summary % data, con)\n",
    "\n",
    "query_summary_results"
   ]
  },
  {
   "cell_type": "code",
   "execution_count": 28,
   "metadata": {},
   "outputs": [
    {
     "name": "stdout",
     "output_type": "stream",
     "text": [
      "REMOVED THE FOLLOWING TEXT: \n",
      "Puppies Assisting Wounded Servicemembers (PAWS) Act of 2016\n"
     ]
    }
   ],
   "source": [
    "actual_summary = query_summary_results.iloc[0]['text']\n",
    "# Remove summary title\n",
    "to_remove = actual_summary.split('\\n\\n')[0]\n",
    "if to_remove == short_title:\n",
    "    print('REMOVED THE FOLLOWING TEXT: \\n{}'.format(to_remove))\n",
    "else:\n",
    "    print('Did not remove first sentence: \\n{}'.format(to_remove))\n",
    "actual_summary = actual_summary.split(actual_summary.split('\\n\\n')[0] + '\\n\\n')[1]\n",
    "actual_summary = actual_summary.replace('\\n\\n', ' ')"
   ]
  },
  {
   "cell_type": "code",
   "execution_count": 29,
   "metadata": {},
   "outputs": [
    {
     "data": {
      "text/plain": [
       "'This bill directs the Department of Veterans Affairs (VA), through the Office of Patient Centered Care and Cultural Transformation, to carry out a five-year pilot program under which the VA shall provide service dogs and veterinary health insurance to certain veterans who: (1) served on active duty on or after September 11, 2001; and (2) were diagnosed with, and continue to suffer from, post-traumatic stress disorder. The provision of a service dog shall be done in addition to other types of treatment for post-traumatic stress disorder and shall not replace established treatment modalities.'"
      ]
     },
     "execution_count": 29,
     "metadata": {},
     "output_type": "execute_result"
    }
   ],
   "source": [
    "actual_summary"
   ]
  },
  {
   "cell_type": "code",
   "execution_count": 30,
   "metadata": {},
   "outputs": [],
   "source": [
    "## DEFINE ROUGE EVALUATOR\n",
    "evaluator = rouge.Rouge(metrics=['rouge-n', 'rouge-l', 'rouge-w'],\n",
    "                        max_n=4,\n",
    "                        limit_length=True,\n",
    "                        length_limit=100,\n",
    "                        length_limit_type='words',\n",
    "                        alpha=0.5, # Default F1_score\n",
    "                        weight_factor=1.2,\n",
    "                        stemming=True)"
   ]
  },
  {
   "cell_type": "code",
   "execution_count": 31,
   "metadata": {},
   "outputs": [],
   "source": [
    "scores = evaluator.get_scores(summarized, actual_summary)"
   ]
  },
  {
   "cell_type": "code",
   "execution_count": 32,
   "metadata": {},
   "outputs": [
    {
     "data": {
      "text/html": [
       "<div>\n",
       "<style scoped>\n",
       "    .dataframe tbody tr th:only-of-type {\n",
       "        vertical-align: middle;\n",
       "    }\n",
       "\n",
       "    .dataframe tbody tr th {\n",
       "        vertical-align: top;\n",
       "    }\n",
       "\n",
       "    .dataframe thead th {\n",
       "        text-align: right;\n",
       "    }\n",
       "</style>\n",
       "<table border=\"1\" class=\"dataframe\">\n",
       "  <thead>\n",
       "    <tr style=\"text-align: right;\">\n",
       "      <th></th>\n",
       "      <th>f</th>\n",
       "      <th>p</th>\n",
       "      <th>r</th>\n",
       "    </tr>\n",
       "  </thead>\n",
       "  <tbody>\n",
       "    <tr>\n",
       "      <th>rouge-4</th>\n",
       "      <td>0.031088</td>\n",
       "      <td>0.030000</td>\n",
       "      <td>0.032258</td>\n",
       "    </tr>\n",
       "    <tr>\n",
       "      <th>rouge-1</th>\n",
       "      <td>0.391960</td>\n",
       "      <td>0.378641</td>\n",
       "      <td>0.406250</td>\n",
       "    </tr>\n",
       "    <tr>\n",
       "      <th>rouge-2</th>\n",
       "      <td>0.101523</td>\n",
       "      <td>0.098039</td>\n",
       "      <td>0.105263</td>\n",
       "    </tr>\n",
       "    <tr>\n",
       "      <th>rouge-3</th>\n",
       "      <td>0.051282</td>\n",
       "      <td>0.049505</td>\n",
       "      <td>0.053191</td>\n",
       "    </tr>\n",
       "    <tr>\n",
       "      <th>rouge-l</th>\n",
       "      <td>0.326835</td>\n",
       "      <td>0.317527</td>\n",
       "      <td>0.336707</td>\n",
       "    </tr>\n",
       "    <tr>\n",
       "      <th>rouge-w</th>\n",
       "      <td>0.101696</td>\n",
       "      <td>0.168925</td>\n",
       "      <td>0.072745</td>\n",
       "    </tr>\n",
       "  </tbody>\n",
       "</table>\n",
       "</div>"
      ],
      "text/plain": [
       "                f         p         r\n",
       "rouge-4  0.031088  0.030000  0.032258\n",
       "rouge-1  0.391960  0.378641  0.406250\n",
       "rouge-2  0.101523  0.098039  0.105263\n",
       "rouge-3  0.051282  0.049505  0.053191\n",
       "rouge-l  0.326835  0.317527  0.336707\n",
       "rouge-w  0.101696  0.168925  0.072745"
      ]
     },
     "execution_count": 32,
     "metadata": {},
     "output_type": "execute_result"
    }
   ],
   "source": [
    "try:\n",
    "    rouge_df = pd.DataFrame(scores).transpose()\n",
    "except:\n",
    "    for metric, results in sorted(scores.items(), key=lambda x: x[0]):\n",
    "        results = {key: value[0] for key, value in results[0].items()}\n",
    "        scores[metric] = results\n",
    "    rouge_df = pd.DataFrame(scores).transpose()\n",
    "rouge_df"
   ]
  },
  {
   "cell_type": "code",
   "execution_count": 33,
   "metadata": {},
   "outputs": [
    {
     "data": {
      "text/html": [
       "<div>\n",
       "<style scoped>\n",
       "    .dataframe tbody tr th:only-of-type {\n",
       "        vertical-align: middle;\n",
       "    }\n",
       "\n",
       "    .dataframe tbody tr th {\n",
       "        vertical-align: top;\n",
       "    }\n",
       "\n",
       "    .dataframe thead th {\n",
       "        text-align: right;\n",
       "    }\n",
       "</style>\n",
       "<table border=\"1\" class=\"dataframe\">\n",
       "  <thead>\n",
       "    <tr style=\"text-align: right;\">\n",
       "      <th></th>\n",
       "      <th>F1</th>\n",
       "      <th>P</th>\n",
       "      <th>R</th>\n",
       "    </tr>\n",
       "  </thead>\n",
       "  <tbody>\n",
       "    <tr>\n",
       "      <th>rouge-4</th>\n",
       "      <td>3.108808</td>\n",
       "      <td>3.000000</td>\n",
       "      <td>3.225806</td>\n",
       "    </tr>\n",
       "    <tr>\n",
       "      <th>rouge-1</th>\n",
       "      <td>39.195980</td>\n",
       "      <td>37.864078</td>\n",
       "      <td>40.625000</td>\n",
       "    </tr>\n",
       "    <tr>\n",
       "      <th>rouge-2</th>\n",
       "      <td>10.152284</td>\n",
       "      <td>9.803922</td>\n",
       "      <td>10.526316</td>\n",
       "    </tr>\n",
       "    <tr>\n",
       "      <th>rouge-3</th>\n",
       "      <td>5.128205</td>\n",
       "      <td>4.950495</td>\n",
       "      <td>5.319149</td>\n",
       "    </tr>\n",
       "    <tr>\n",
       "      <th>rouge-l</th>\n",
       "      <td>32.683550</td>\n",
       "      <td>31.752659</td>\n",
       "      <td>33.670670</td>\n",
       "    </tr>\n",
       "    <tr>\n",
       "      <th>rouge-w</th>\n",
       "      <td>10.169629</td>\n",
       "      <td>16.892462</td>\n",
       "      <td>7.274526</td>\n",
       "    </tr>\n",
       "  </tbody>\n",
       "</table>\n",
       "</div>"
      ],
      "text/plain": [
       "                F1          P          R\n",
       "rouge-4   3.108808   3.000000   3.225806\n",
       "rouge-1  39.195980  37.864078  40.625000\n",
       "rouge-2  10.152284   9.803922  10.526316\n",
       "rouge-3   5.128205   4.950495   5.319149\n",
       "rouge-l  32.683550  31.752659  33.670670\n",
       "rouge-w  10.169629  16.892462   7.274526"
      ]
     },
     "execution_count": 33,
     "metadata": {},
     "output_type": "execute_result"
    }
   ],
   "source": [
    "rouge_df = np.multiply(rouge_df, 100.0)\n",
    "rouge_df.columns = ['F1', 'P', 'R']\n",
    "rouge_df"
   ]
  },
  {
   "cell_type": "code",
   "execution_count": 34,
   "metadata": {},
   "outputs": [],
   "source": [
    "def apply_rouge_naive(auto_summarization, actual_summarization, \n",
    "                      metrics=['rouge-n', 'rouge-l', 'rouge-w'],\n",
    "                      max_n=4, weight_factor=1.2, stemming=True, \n",
    "                      percent=False):\n",
    "    \n",
    "    ## DEFINE ROUGE EVALUATOR\n",
    "    evaluator = rouge.Rouge(metrics=metrics,\n",
    "                            max_n=max_n,\n",
    "                            limit_length=True,\n",
    "                            length_limit=100,\n",
    "                            length_limit_type='words',\n",
    "                            alpha=0.5, # Default F1_score\n",
    "                            weight_factor=weight_factor,\n",
    "                            stemming=stemming)\n",
    "    \n",
    "    scores = evaluator.get_scores(auto_summarization, actual_summarization)\n",
    "    try:\n",
    "        rouge_df = pd.DataFrame(scores).transpose()\n",
    "    except:\n",
    "        for metric, results in sorted(scores.items(), key=lambda x: x[0]):\n",
    "            results = {key: value[0] for key, value in results[0].items()}\n",
    "            scores[metric] = results\n",
    "        rouge_df = pd.DataFrame(scores).transpose()\n",
    "    if percent:\n",
    "        rouge_df = np.multiply(rouge_df, 100.0)\n",
    "        rouge_df.columns = ['F1', 'P', 'R']\n",
    "    return rouge_df"
   ]
  },
  {
   "cell_type": "markdown",
   "metadata": {},
   "source": [
    "### Random Summary Generator"
   ]
  },
  {
   "cell_type": "code",
   "execution_count": 38,
   "metadata": {},
   "outputs": [],
   "source": [
    "import random\n",
    "import itertools\n",
    "import time"
   ]
  },
  {
   "cell_type": "code",
   "execution_count": 39,
   "metadata": {},
   "outputs": [],
   "source": [
    "# choose random set of sentence locs \n",
    "sentence_locs = list(np.arange(1, num_sentences_full+1))\n",
    "sentence_nums = random.sample(sentence_locs, num_sentences_sum)\n",
    "sentence_nums = sorted(sentence_nums)"
   ]
  },
  {
   "cell_type": "code",
   "execution_count": 40,
   "metadata": {},
   "outputs": [],
   "source": [
    "def calculate_factorial(n):\n",
    "    total = n\n",
    "    n = n-1 \n",
    "    while n >=1:\n",
    "        total = total*n\n",
    "        n = n -1 \n",
    "    return total"
   ]
  },
  {
   "cell_type": "code",
   "execution_count": 41,
   "metadata": {},
   "outputs": [],
   "source": [
    "def calculate_combinations(n, k):\n",
    "    return int(np.divide(calculate_factorial(n), calculate_factorial(k)*calculate_factorial(n-k)))"
   ]
  },
  {
   "cell_type": "code",
   "execution_count": 42,
   "metadata": {},
   "outputs": [],
   "source": [
    "def calculate_permutations(n, k):\n",
    "    return int(np.divide(calculate_factorial(n), calculate_factorial(n-k)))"
   ]
  },
  {
   "cell_type": "code",
   "execution_count": 43,
   "metadata": {},
   "outputs": [
    {
     "name": "stdout",
     "output_type": "stream",
     "text": [
      "Number of 4 combinations from set of 17 elements is: 2380\n"
     ]
    }
   ],
   "source": [
    "num_combinations = calculate_combinations(num_sentences_full, num_sentences_sum)\n",
    "print('Number of {} combinations from set of {} elements is: {}'.format(num_sentences_sum, num_sentences_full, num_combinations))"
   ]
  },
  {
   "cell_type": "code",
   "execution_count": 44,
   "metadata": {},
   "outputs": [],
   "source": [
    "random_summaries = list(itertools.combinations(full_text.split('.'), num_sentences_sum))\n",
    "random_summaries = ['. '.join(random_summary) for random_summary in random_summaries]"
   ]
  },
  {
   "cell_type": "code",
   "execution_count": 45,
   "metadata": {},
   "outputs": [
    {
     "data": {
      "text/plain": [
       "2380"
      ]
     },
     "execution_count": 45,
     "metadata": {},
     "output_type": "execute_result"
    }
   ],
   "source": [
    "len(random_summaries)"
   ]
  },
  {
   "cell_type": "code",
   "execution_count": 46,
   "metadata": {},
   "outputs": [],
   "source": [
    "rouge1_random_sum = pd.DataFrame()\n",
    "for ix, random_summary in enumerate(random_summaries):\n",
    "    rouge1_random_sum = rouge1_random_sum.append(apply_rouge_naive(random_summary, actual_summary, \n",
    "                                                                   metrics=['rouge-n'], max_n=1).set_index(pd.Index([ix])))"
   ]
  },
  {
   "cell_type": "code",
   "execution_count": 47,
   "metadata": {},
   "outputs": [],
   "source": [
    "random_summ_sentence_locs = list(itertools.combinations(np.arange(1, 18), 4))"
   ]
  },
  {
   "cell_type": "code",
   "execution_count": 48,
   "metadata": {},
   "outputs": [
    {
     "data": {
      "text/html": [
       "<div>\n",
       "<style scoped>\n",
       "    .dataframe tbody tr th:only-of-type {\n",
       "        vertical-align: middle;\n",
       "    }\n",
       "\n",
       "    .dataframe tbody tr th {\n",
       "        vertical-align: top;\n",
       "    }\n",
       "\n",
       "    .dataframe thead th {\n",
       "        text-align: right;\n",
       "    }\n",
       "</style>\n",
       "<table border=\"1\" class=\"dataframe\">\n",
       "  <thead>\n",
       "    <tr style=\"text-align: right;\">\n",
       "      <th></th>\n",
       "      <th>f</th>\n",
       "    </tr>\n",
       "  </thead>\n",
       "  <tbody>\n",
       "    <tr>\n",
       "      <th>count</th>\n",
       "      <td>2380.000000</td>\n",
       "    </tr>\n",
       "    <tr>\n",
       "      <th>mean</th>\n",
       "      <td>0.456149</td>\n",
       "    </tr>\n",
       "    <tr>\n",
       "      <th>std</th>\n",
       "      <td>0.080205</td>\n",
       "    </tr>\n",
       "    <tr>\n",
       "      <th>min</th>\n",
       "      <td>0.294118</td>\n",
       "    </tr>\n",
       "    <tr>\n",
       "      <th>25%</th>\n",
       "      <td>0.391960</td>\n",
       "    </tr>\n",
       "    <tr>\n",
       "      <th>50%</th>\n",
       "      <td>0.453202</td>\n",
       "    </tr>\n",
       "    <tr>\n",
       "      <th>75%</th>\n",
       "      <td>0.515152</td>\n",
       "    </tr>\n",
       "    <tr>\n",
       "      <th>max</th>\n",
       "      <td>0.670391</td>\n",
       "    </tr>\n",
       "  </tbody>\n",
       "</table>\n",
       "</div>"
      ],
      "text/plain": [
       "                 f\n",
       "count  2380.000000\n",
       "mean      0.456149\n",
       "std       0.080205\n",
       "min       0.294118\n",
       "25%       0.391960\n",
       "50%       0.453202\n",
       "75%       0.515152\n",
       "max       0.670391"
      ]
     },
     "execution_count": 48,
     "metadata": {},
     "output_type": "execute_result"
    }
   ],
   "source": [
    "rouge1_random_stats = rouge1_random_sum[['f']].describe()\n",
    "rouge1_random_stats"
   ]
  },
  {
   "cell_type": "code",
   "execution_count": 49,
   "metadata": {},
   "outputs": [
    {
     "data": {
      "image/png": "[encoded data removed]",
      "text/plain": [
       "<Figure size 432x288 with 1 Axes>"
      ]
     },
     "metadata": {
      "needs_background": "light"
     },
     "output_type": "display_data"
    }
   ],
   "source": [
    "fig, ax = plt.subplots()\n",
    "rouge1_random_sum[['f']].hist(ax=ax);"
   ]
  },
  {
   "cell_type": "code",
   "execution_count": 50,
   "metadata": {},
   "outputs": [
    {
     "data": {
      "text/plain": [
       "0.6703910614525139"
      ]
     },
     "execution_count": 50,
     "metadata": {},
     "output_type": "execute_result"
    }
   ],
   "source": [
    "max_rouge = rouge1_random_stats.loc['max', 'f']\n",
    "max_rouge"
   ]
  },
  {
   "cell_type": "code",
   "execution_count": 51,
   "metadata": {},
   "outputs": [
    {
     "data": {
      "text/plain": [
       "0.2941176470588236"
      ]
     },
     "execution_count": 51,
     "metadata": {},
     "output_type": "execute_result"
    }
   ],
   "source": [
    "min_rouge = rouge1_random_stats.loc['min', 'f']\n",
    "min_rouge"
   ]
  },
  {
   "cell_type": "code",
   "execution_count": 52,
   "metadata": {},
   "outputs": [],
   "source": [
    "best_summary_ix = rouge1_random_sum.query('f == {}'.format(max_rouge)).index[0]\n",
    "worst_summary_ix = rouge1_random_sum.query('f == {}'.format(min_rouge)).index[0]"
   ]
  },
  {
   "cell_type": "code",
   "execution_count": 53,
   "metadata": {},
   "outputs": [],
   "source": [
    "best_summary = random_summaries[best_summary_ix]\n",
    "worst_summary = random_summaries[worst_summary_ix]"
   ]
  },
  {
   "cell_type": "code",
   "execution_count": 54,
   "metadata": {},
   "outputs": [
    {
     "data": {
      "text/plain": [
       "1103"
      ]
     },
     "execution_count": 54,
     "metadata": {},
     "output_type": "execute_result"
    }
   ],
   "source": [
    "best_summary_ix"
   ]
  },
  {
   "cell_type": "code",
   "execution_count": 55,
   "metadata": {},
   "outputs": [
    {
     "data": {
      "text/plain": [
       "' Animals such as dogs can buffer this stress response when humans fail to provide social support.  The Secretary of Veterans Affairs, acting through the Office of Patient Centered Care and Cultural Transformation, shall carry out a pilot program under which the Secretary shall provide to eligible veterans with service dogs.  The provision of a service dog under the pilot program shall be done in addition to other types of treatment provided for post-traumatic stress disorder and shall not replace established treatment modalities.  '"
      ]
     },
     "execution_count": 55,
     "metadata": {},
     "output_type": "execute_result"
    }
   ],
   "source": [
    "best_summary"
   ]
  },
  {
   "cell_type": "code",
   "execution_count": 56,
   "metadata": {},
   "outputs": [
    {
     "data": {
      "text/plain": [
       "' Animals such as dogs can buffer this stress response when humans fail to provide social support.  Interaction with dogs has been shown to modulate symptoms of post-traumatic stress disorder, such as anxiety, including fear response and hyperarousal, interpersonal difficulties, social isolation, physical pain, and sleep disturbances.  The Secretary may not obligate or expend more than $27,000 for the procurement and training of any dog under a contract entered into under this subsection.  '"
      ]
     },
     "execution_count": 56,
     "metadata": {},
     "output_type": "execute_result"
    }
   ],
   "source": [
    "worst_summary"
   ]
  },
  {
   "cell_type": "code",
   "execution_count": 57,
   "metadata": {},
   "outputs": [
    {
     "data": {
      "text/plain": [
       "(3, 4, 11, 17)"
      ]
     },
     "execution_count": 57,
     "metadata": {},
     "output_type": "execute_result"
    }
   ],
   "source": [
    "random_summ_sentence_locs[worst_summary_ix]"
   ]
  },
  {
   "cell_type": "code",
   "execution_count": 58,
   "metadata": {},
   "outputs": [
    {
     "data": {
      "text/html": [
       "<div>\n",
       "<style scoped>\n",
       "    .dataframe tbody tr th:only-of-type {\n",
       "        vertical-align: middle;\n",
       "    }\n",
       "\n",
       "    .dataframe tbody tr th {\n",
       "        vertical-align: top;\n",
       "    }\n",
       "\n",
       "    .dataframe thead th {\n",
       "        text-align: right;\n",
       "    }\n",
       "</style>\n",
       "<table border=\"1\" class=\"dataframe\">\n",
       "  <thead>\n",
       "    <tr style=\"text-align: right;\">\n",
       "      <th></th>\n",
       "      <th>f</th>\n",
       "      <th>p</th>\n",
       "      <th>r</th>\n",
       "    </tr>\n",
       "  </thead>\n",
       "  <tbody>\n",
       "    <tr>\n",
       "      <th>rouge-4</th>\n",
       "      <td>0.323699</td>\n",
       "      <td>0.350000</td>\n",
       "      <td>0.301075</td>\n",
       "    </tr>\n",
       "    <tr>\n",
       "      <th>rouge-1</th>\n",
       "      <td>0.670391</td>\n",
       "      <td>0.722892</td>\n",
       "      <td>0.625000</td>\n",
       "    </tr>\n",
       "    <tr>\n",
       "      <th>rouge-2</th>\n",
       "      <td>0.497175</td>\n",
       "      <td>0.536585</td>\n",
       "      <td>0.463158</td>\n",
       "    </tr>\n",
       "    <tr>\n",
       "      <th>rouge-3</th>\n",
       "      <td>0.400000</td>\n",
       "      <td>0.432099</td>\n",
       "      <td>0.372340</td>\n",
       "    </tr>\n",
       "    <tr>\n",
       "      <th>rouge-l</th>\n",
       "      <td>0.676805</td>\n",
       "      <td>0.720430</td>\n",
       "      <td>0.638162</td>\n",
       "    </tr>\n",
       "    <tr>\n",
       "      <th>rouge-w</th>\n",
       "      <td>0.268901</td>\n",
       "      <td>0.521895</td>\n",
       "      <td>0.181107</td>\n",
       "    </tr>\n",
       "  </tbody>\n",
       "</table>\n",
       "</div>"
      ],
      "text/plain": [
       "                f         p         r\n",
       "rouge-4  0.323699  0.350000  0.301075\n",
       "rouge-1  0.670391  0.722892  0.625000\n",
       "rouge-2  0.497175  0.536585  0.463158\n",
       "rouge-3  0.400000  0.432099  0.372340\n",
       "rouge-l  0.676805  0.720430  0.638162\n",
       "rouge-w  0.268901  0.521895  0.181107"
      ]
     },
     "execution_count": 58,
     "metadata": {},
     "output_type": "execute_result"
    }
   ],
   "source": [
    "apply_rouge_naive(best_summary, actual_summary)"
   ]
  },
  {
   "cell_type": "code",
   "execution_count": 59,
   "metadata": {},
   "outputs": [],
   "source": [
    "rouge_random_summary = pd.DataFrame()\n",
    "for ix, random_summary in enumerate(random_summaries):\n",
    "    rouge_scores = apply_rouge_naive(random_summary, actual_summary, max_n=9)\n",
    "    rouge_scores['random_sum_ix'] = ix\n",
    "    rouge_random_summary = rouge_random_summary.append(rouge_scores)"
   ]
  },
  {
   "cell_type": "code",
   "execution_count": 60,
   "metadata": {},
   "outputs": [
    {
     "data": {
      "text/html": [
       "<div>\n",
       "<style scoped>\n",
       "    .dataframe tbody tr th:only-of-type {\n",
       "        vertical-align: middle;\n",
       "    }\n",
       "\n",
       "    .dataframe tbody tr th {\n",
       "        vertical-align: top;\n",
       "    }\n",
       "\n",
       "    .dataframe thead th {\n",
       "        text-align: right;\n",
       "    }\n",
       "</style>\n",
       "<table border=\"1\" class=\"dataframe\">\n",
       "  <thead>\n",
       "    <tr style=\"text-align: right;\">\n",
       "      <th></th>\n",
       "      <th>f</th>\n",
       "      <th>p</th>\n",
       "      <th>r</th>\n",
       "      <th>random_sum_ix</th>\n",
       "    </tr>\n",
       "  </thead>\n",
       "  <tbody>\n",
       "    <tr>\n",
       "      <th>rouge-7</th>\n",
       "      <td>0.010582</td>\n",
       "      <td>0.010101</td>\n",
       "      <td>0.011111</td>\n",
       "      <td>0</td>\n",
       "    </tr>\n",
       "    <tr>\n",
       "      <th>rouge-4</th>\n",
       "      <td>0.051282</td>\n",
       "      <td>0.049020</td>\n",
       "      <td>0.053763</td>\n",
       "      <td>0</td>\n",
       "    </tr>\n",
       "    <tr>\n",
       "      <th>rouge-6</th>\n",
       "      <td>0.020942</td>\n",
       "      <td>0.020000</td>\n",
       "      <td>0.021978</td>\n",
       "      <td>0</td>\n",
       "    </tr>\n",
       "    <tr>\n",
       "      <th>rouge-1</th>\n",
       "      <td>0.338308</td>\n",
       "      <td>0.323810</td>\n",
       "      <td>0.354167</td>\n",
       "      <td>0</td>\n",
       "    </tr>\n",
       "    <tr>\n",
       "      <th>rouge-2</th>\n",
       "      <td>0.100503</td>\n",
       "      <td>0.096154</td>\n",
       "      <td>0.105263</td>\n",
       "      <td>0</td>\n",
       "    </tr>\n",
       "  </tbody>\n",
       "</table>\n",
       "</div>"
      ],
      "text/plain": [
       "                f         p         r  random_sum_ix\n",
       "rouge-7  0.010582  0.010101  0.011111              0\n",
       "rouge-4  0.051282  0.049020  0.053763              0\n",
       "rouge-6  0.020942  0.020000  0.021978              0\n",
       "rouge-1  0.338308  0.323810  0.354167              0\n",
       "rouge-2  0.100503  0.096154  0.105263              0"
      ]
     },
     "execution_count": 60,
     "metadata": {},
     "output_type": "execute_result"
    }
   ],
   "source": [
    "rouge_random_summary.head()"
   ]
  },
  {
   "cell_type": "code",
   "execution_count": 61,
   "metadata": {},
   "outputs": [],
   "source": [
    "rouge_f_summaries = rouge_random_summary[['random_sum_ix', 'f']]\n",
    "rouge_f_summaries = rouge_f_summaries.reset_index()\n",
    "rouge_f_summaries = rouge_f_summaries.rename(columns={'index':'metric'})\n",
    "rouge_f_summaries = rouge_f_summaries.sort_values(['metric', 'random_sum_ix']).reset_index(drop=True)\n",
    "rouge_f_summaries = rouge_f_summaries.set_index(['metric', 'random_sum_ix'])"
   ]
  },
  {
   "cell_type": "code",
   "execution_count": 62,
   "metadata": {},
   "outputs": [
    {
     "data": {
      "text/html": [
       "<div>\n",
       "<style scoped>\n",
       "    .dataframe tbody tr th:only-of-type {\n",
       "        vertical-align: middle;\n",
       "    }\n",
       "\n",
       "    .dataframe tbody tr th {\n",
       "        vertical-align: top;\n",
       "    }\n",
       "\n",
       "    .dataframe thead th {\n",
       "        text-align: right;\n",
       "    }\n",
       "</style>\n",
       "<table border=\"1\" class=\"dataframe\">\n",
       "  <thead>\n",
       "    <tr style=\"text-align: right;\">\n",
       "      <th></th>\n",
       "      <th></th>\n",
       "      <th>f</th>\n",
       "    </tr>\n",
       "    <tr>\n",
       "      <th>metric</th>\n",
       "      <th>random_sum_ix</th>\n",
       "      <th></th>\n",
       "    </tr>\n",
       "  </thead>\n",
       "  <tbody>\n",
       "    <tr>\n",
       "      <th rowspan=\"5\" valign=\"top\">rouge-1</th>\n",
       "      <th>0</th>\n",
       "      <td>0.338308</td>\n",
       "    </tr>\n",
       "    <tr>\n",
       "      <th>1</th>\n",
       "      <td>0.400000</td>\n",
       "    </tr>\n",
       "    <tr>\n",
       "      <th>2</th>\n",
       "      <td>0.420000</td>\n",
       "    </tr>\n",
       "    <tr>\n",
       "      <th>3</th>\n",
       "      <td>0.400000</td>\n",
       "    </tr>\n",
       "    <tr>\n",
       "      <th>4</th>\n",
       "      <td>0.420000</td>\n",
       "    </tr>\n",
       "  </tbody>\n",
       "</table>\n",
       "</div>"
      ],
      "text/plain": [
       "                              f\n",
       "metric  random_sum_ix          \n",
       "rouge-1 0              0.338308\n",
       "        1              0.400000\n",
       "        2              0.420000\n",
       "        3              0.400000\n",
       "        4              0.420000"
      ]
     },
     "execution_count": 62,
     "metadata": {},
     "output_type": "execute_result"
    }
   ],
   "source": [
    "rouge_f_summaries.head()"
   ]
  },
  {
   "cell_type": "code",
   "execution_count": 63,
   "metadata": {},
   "outputs": [
    {
     "data": {
      "text/html": [
       "<div>\n",
       "<style scoped>\n",
       "    .dataframe tbody tr th:only-of-type {\n",
       "        vertical-align: middle;\n",
       "    }\n",
       "\n",
       "    .dataframe tbody tr th {\n",
       "        vertical-align: top;\n",
       "    }\n",
       "\n",
       "    .dataframe thead tr th {\n",
       "        text-align: left;\n",
       "    }\n",
       "\n",
       "    .dataframe thead tr:last-of-type th {\n",
       "        text-align: right;\n",
       "    }\n",
       "</style>\n",
       "<table border=\"1\" class=\"dataframe\">\n",
       "  <thead>\n",
       "    <tr>\n",
       "      <th></th>\n",
       "      <th colspan=\"8\" halign=\"left\">f</th>\n",
       "    </tr>\n",
       "    <tr>\n",
       "      <th></th>\n",
       "      <th>count</th>\n",
       "      <th>mean</th>\n",
       "      <th>std</th>\n",
       "      <th>min</th>\n",
       "      <th>25%</th>\n",
       "      <th>50%</th>\n",
       "      <th>75%</th>\n",
       "      <th>max</th>\n",
       "    </tr>\n",
       "    <tr>\n",
       "      <th>metric</th>\n",
       "      <th></th>\n",
       "      <th></th>\n",
       "      <th></th>\n",
       "      <th></th>\n",
       "      <th></th>\n",
       "      <th></th>\n",
       "      <th></th>\n",
       "      <th></th>\n",
       "    </tr>\n",
       "  </thead>\n",
       "  <tbody>\n",
       "    <tr>\n",
       "      <th>rouge-1</th>\n",
       "      <td>2380.0</td>\n",
       "      <td>0.456149</td>\n",
       "      <td>0.080205</td>\n",
       "      <td>0.294118</td>\n",
       "      <td>0.391960</td>\n",
       "      <td>0.453202</td>\n",
       "      <td>0.515152</td>\n",
       "      <td>0.670391</td>\n",
       "    </tr>\n",
       "    <tr>\n",
       "      <th>rouge-2</th>\n",
       "      <td>2380.0</td>\n",
       "      <td>0.200486</td>\n",
       "      <td>0.108939</td>\n",
       "      <td>0.023669</td>\n",
       "      <td>0.110000</td>\n",
       "      <td>0.163684</td>\n",
       "      <td>0.287179</td>\n",
       "      <td>0.513966</td>\n",
       "    </tr>\n",
       "    <tr>\n",
       "      <th>rouge-3</th>\n",
       "      <td>2380.0</td>\n",
       "      <td>0.138145</td>\n",
       "      <td>0.095634</td>\n",
       "      <td>0.010256</td>\n",
       "      <td>0.061538</td>\n",
       "      <td>0.102302</td>\n",
       "      <td>0.196891</td>\n",
       "      <td>0.406780</td>\n",
       "    </tr>\n",
       "    <tr>\n",
       "      <th>rouge-4</th>\n",
       "      <td>2380.0</td>\n",
       "      <td>0.094527</td>\n",
       "      <td>0.084739</td>\n",
       "      <td>0.000000</td>\n",
       "      <td>0.030303</td>\n",
       "      <td>0.061538</td>\n",
       "      <td>0.136126</td>\n",
       "      <td>0.323699</td>\n",
       "    </tr>\n",
       "    <tr>\n",
       "      <th>rouge-5</th>\n",
       "      <td>2380.0</td>\n",
       "      <td>0.067043</td>\n",
       "      <td>0.074476</td>\n",
       "      <td>0.000000</td>\n",
       "      <td>0.010417</td>\n",
       "      <td>0.031088</td>\n",
       "      <td>0.105263</td>\n",
       "      <td>0.269006</td>\n",
       "    </tr>\n",
       "    <tr>\n",
       "      <th>rouge-6</th>\n",
       "      <td>2380.0</td>\n",
       "      <td>0.050185</td>\n",
       "      <td>0.061563</td>\n",
       "      <td>0.000000</td>\n",
       "      <td>0.000000</td>\n",
       "      <td>0.020942</td>\n",
       "      <td>0.074468</td>\n",
       "      <td>0.213018</td>\n",
       "    </tr>\n",
       "    <tr>\n",
       "      <th>rouge-7</th>\n",
       "      <td>2380.0</td>\n",
       "      <td>0.037755</td>\n",
       "      <td>0.049545</td>\n",
       "      <td>0.000000</td>\n",
       "      <td>0.000000</td>\n",
       "      <td>0.010582</td>\n",
       "      <td>0.053763</td>\n",
       "      <td>0.179775</td>\n",
       "    </tr>\n",
       "    <tr>\n",
       "      <th>rouge-8</th>\n",
       "      <td>2380.0</td>\n",
       "      <td>0.028602</td>\n",
       "      <td>0.040446</td>\n",
       "      <td>0.000000</td>\n",
       "      <td>0.000000</td>\n",
       "      <td>0.000000</td>\n",
       "      <td>0.033195</td>\n",
       "      <td>0.147727</td>\n",
       "    </tr>\n",
       "    <tr>\n",
       "      <th>rouge-9</th>\n",
       "      <td>2380.0</td>\n",
       "      <td>0.021023</td>\n",
       "      <td>0.030536</td>\n",
       "      <td>0.000000</td>\n",
       "      <td>0.000000</td>\n",
       "      <td>0.000000</td>\n",
       "      <td>0.022222</td>\n",
       "      <td>0.114943</td>\n",
       "    </tr>\n",
       "    <tr>\n",
       "      <th>rouge-l</th>\n",
       "      <td>2380.0</td>\n",
       "      <td>0.333492</td>\n",
       "      <td>0.099222</td>\n",
       "      <td>0.172624</td>\n",
       "      <td>0.257703</td>\n",
       "      <td>0.296327</td>\n",
       "      <td>0.402023</td>\n",
       "      <td>0.676805</td>\n",
       "    </tr>\n",
       "    <tr>\n",
       "      <th>rouge-w</th>\n",
       "      <td>2380.0</td>\n",
       "      <td>0.120813</td>\n",
       "      <td>0.051174</td>\n",
       "      <td>0.049583</td>\n",
       "      <td>0.080379</td>\n",
       "      <td>0.101099</td>\n",
       "      <td>0.160934</td>\n",
       "      <td>0.268901</td>\n",
       "    </tr>\n",
       "  </tbody>\n",
       "</table>\n",
       "</div>"
      ],
      "text/plain": [
       "              f                                                              \\\n",
       "          count      mean       std       min       25%       50%       75%   \n",
       "metric                                                                        \n",
       "rouge-1  2380.0  0.456149  0.080205  0.294118  0.391960  0.453202  0.515152   \n",
       "rouge-2  2380.0  0.200486  0.108939  0.023669  0.110000  0.163684  0.287179   \n",
       "rouge-3  2380.0  0.138145  0.095634  0.010256  0.061538  0.102302  0.196891   \n",
       "rouge-4  2380.0  0.094527  0.084739  0.000000  0.030303  0.061538  0.136126   \n",
       "rouge-5  2380.0  0.067043  0.074476  0.000000  0.010417  0.031088  0.105263   \n",
       "rouge-6  2380.0  0.050185  0.061563  0.000000  0.000000  0.020942  0.074468   \n",
       "rouge-7  2380.0  0.037755  0.049545  0.000000  0.000000  0.010582  0.053763   \n",
       "rouge-8  2380.0  0.028602  0.040446  0.000000  0.000000  0.000000  0.033195   \n",
       "rouge-9  2380.0  0.021023  0.030536  0.000000  0.000000  0.000000  0.022222   \n",
       "rouge-l  2380.0  0.333492  0.099222  0.172624  0.257703  0.296327  0.402023   \n",
       "rouge-w  2380.0  0.120813  0.051174  0.049583  0.080379  0.101099  0.160934   \n",
       "\n",
       "                   \n",
       "              max  \n",
       "metric             \n",
       "rouge-1  0.670391  \n",
       "rouge-2  0.513966  \n",
       "rouge-3  0.406780  \n",
       "rouge-4  0.323699  \n",
       "rouge-5  0.269006  \n",
       "rouge-6  0.213018  \n",
       "rouge-7  0.179775  \n",
       "rouge-8  0.147727  \n",
       "rouge-9  0.114943  \n",
       "rouge-l  0.676805  \n",
       "rouge-w  0.268901  "
      ]
     },
     "execution_count": 63,
     "metadata": {},
     "output_type": "execute_result"
    }
   ],
   "source": [
    "rouge_f_random_stats = rouge_f_summaries.groupby('metric').describe()\n",
    "rouge_f_random_stats"
   ]
  },
  {
   "cell_type": "code",
   "execution_count": 772,
   "metadata": {},
   "outputs": [],
   "source": [
    "#rouge_f_random_stats.columns = rouge_f_random_stats.columns.get_level_values(1)"
   ]
  },
  {
   "cell_type": "code",
   "execution_count": 774,
   "metadata": {},
   "outputs": [],
   "source": [
    "#rouge_f_random_stats.iloc[:, rouge_f_random_stats.columns.get_level_values(1)=='max']"
   ]
  },
  {
   "cell_type": "code",
   "execution_count": 64,
   "metadata": {},
   "outputs": [],
   "source": [
    "metrics = list(rouge_f_summaries.index.get_level_values(0).unique())"
   ]
  },
  {
   "cell_type": "code",
   "execution_count": 66,
   "metadata": {},
   "outputs": [],
   "source": [
    "tester = pd.DataFrame()\n",
    "tester = rouge_f_summaries.iloc[rouge_f_summaries.index.get_level_values(0) == 'rouge-1', :].copy()\n",
    "tester = tester.reset_index() \n",
    "tester = tester.rename(columns={'f':tester.metric.unique()[0]})\n",
    "del tester['metric']\n",
    "del tester['random_sum_ix']"
   ]
  },
  {
   "cell_type": "code",
   "execution_count": 67,
   "metadata": {},
   "outputs": [],
   "source": [
    "for mindex_val in metrics[1:]:\n",
    "    test = rouge_f_summaries.iloc[rouge_f_summaries.index.get_level_values(0) == mindex_val, :].copy()\n",
    "    test = test.reset_index() \n",
    "    test = test.rename(columns={'f':test.metric.unique()[0]})\n",
    "    del test['metric']\n",
    "    del test['random_sum_ix']\n",
    "    tester = tester.merge(test, left_index=True, right_index=True)"
   ]
  },
  {
   "cell_type": "code",
   "execution_count": 68,
   "metadata": {},
   "outputs": [
    {
     "data": {
      "image/png": "[encoded data removed]",
      "text/plain": [
       "<Figure size 1152x288 with 1 Axes>"
      ]
     },
     "metadata": {
      "needs_background": "light"
     },
     "output_type": "display_data"
    }
   ],
   "source": [
    "fig, ax = plt.subplots(figsize=(16, 4))\n",
    "seaborn.violinplot(data=tester[tester.columns], ax=ax);\n",
    "ax.grid()"
   ]
  },
  {
   "cell_type": "code",
   "execution_count": 69,
   "metadata": {},
   "outputs": [],
   "source": [
    "stats = tester.describe()"
   ]
  },
  {
   "cell_type": "code",
   "execution_count": 70,
   "metadata": {},
   "outputs": [
    {
     "data": {
      "text/html": [
       "<div>\n",
       "<style scoped>\n",
       "    .dataframe tbody tr th:only-of-type {\n",
       "        vertical-align: middle;\n",
       "    }\n",
       "\n",
       "    .dataframe tbody tr th {\n",
       "        vertical-align: top;\n",
       "    }\n",
       "\n",
       "    .dataframe thead th {\n",
       "        text-align: right;\n",
       "    }\n",
       "</style>\n",
       "<table border=\"1\" class=\"dataframe\">\n",
       "  <thead>\n",
       "    <tr style=\"text-align: right;\">\n",
       "      <th></th>\n",
       "      <th>max</th>\n",
       "    </tr>\n",
       "  </thead>\n",
       "  <tbody>\n",
       "    <tr>\n",
       "      <th>rouge-1</th>\n",
       "      <td>0.670391</td>\n",
       "    </tr>\n",
       "    <tr>\n",
       "      <th>rouge-2</th>\n",
       "      <td>0.513966</td>\n",
       "    </tr>\n",
       "    <tr>\n",
       "      <th>rouge-3</th>\n",
       "      <td>0.406780</td>\n",
       "    </tr>\n",
       "    <tr>\n",
       "      <th>rouge-4</th>\n",
       "      <td>0.323699</td>\n",
       "    </tr>\n",
       "    <tr>\n",
       "      <th>rouge-5</th>\n",
       "      <td>0.269006</td>\n",
       "    </tr>\n",
       "    <tr>\n",
       "      <th>rouge-6</th>\n",
       "      <td>0.213018</td>\n",
       "    </tr>\n",
       "    <tr>\n",
       "      <th>rouge-7</th>\n",
       "      <td>0.179775</td>\n",
       "    </tr>\n",
       "    <tr>\n",
       "      <th>rouge-8</th>\n",
       "      <td>0.147727</td>\n",
       "    </tr>\n",
       "    <tr>\n",
       "      <th>rouge-9</th>\n",
       "      <td>0.114943</td>\n",
       "    </tr>\n",
       "    <tr>\n",
       "      <th>rouge-l</th>\n",
       "      <td>0.676805</td>\n",
       "    </tr>\n",
       "    <tr>\n",
       "      <th>rouge-w</th>\n",
       "      <td>0.268901</td>\n",
       "    </tr>\n",
       "  </tbody>\n",
       "</table>\n",
       "</div>"
      ],
      "text/plain": [
       "              max\n",
       "rouge-1  0.670391\n",
       "rouge-2  0.513966\n",
       "rouge-3  0.406780\n",
       "rouge-4  0.323699\n",
       "rouge-5  0.269006\n",
       "rouge-6  0.213018\n",
       "rouge-7  0.179775\n",
       "rouge-8  0.147727\n",
       "rouge-9  0.114943\n",
       "rouge-l  0.676805\n",
       "rouge-w  0.268901"
      ]
     },
     "execution_count": 70,
     "metadata": {},
     "output_type": "execute_result"
    }
   ],
   "source": [
    "rouge_max = stats.loc[['max']].transpose()\n",
    "rouge_max"
   ]
  },
  {
   "cell_type": "code",
   "execution_count": 71,
   "metadata": {},
   "outputs": [
    {
     "data": {
      "text/html": [
       "<div>\n",
       "<style scoped>\n",
       "    .dataframe tbody tr th:only-of-type {\n",
       "        vertical-align: middle;\n",
       "    }\n",
       "\n",
       "    .dataframe tbody tr th {\n",
       "        vertical-align: top;\n",
       "    }\n",
       "\n",
       "    .dataframe thead th {\n",
       "        text-align: right;\n",
       "    }\n",
       "</style>\n",
       "<table border=\"1\" class=\"dataframe\">\n",
       "  <thead>\n",
       "    <tr style=\"text-align: right;\">\n",
       "      <th></th>\n",
       "      <th>max</th>\n",
       "    </tr>\n",
       "  </thead>\n",
       "  <tbody>\n",
       "    <tr>\n",
       "      <th>rouge-1</th>\n",
       "      <td>0.670391</td>\n",
       "    </tr>\n",
       "    <tr>\n",
       "      <th>rouge-2</th>\n",
       "      <td>0.513966</td>\n",
       "    </tr>\n",
       "    <tr>\n",
       "      <th>rouge-3</th>\n",
       "      <td>0.406780</td>\n",
       "    </tr>\n",
       "    <tr>\n",
       "      <th>rouge-4</th>\n",
       "      <td>0.323699</td>\n",
       "    </tr>\n",
       "    <tr>\n",
       "      <th>rouge-5</th>\n",
       "      <td>0.269006</td>\n",
       "    </tr>\n",
       "    <tr>\n",
       "      <th>rouge-6</th>\n",
       "      <td>0.213018</td>\n",
       "    </tr>\n",
       "    <tr>\n",
       "      <th>rouge-7</th>\n",
       "      <td>0.179775</td>\n",
       "    </tr>\n",
       "    <tr>\n",
       "      <th>rouge-8</th>\n",
       "      <td>0.147727</td>\n",
       "    </tr>\n",
       "    <tr>\n",
       "      <th>rouge-9</th>\n",
       "      <td>0.114943</td>\n",
       "    </tr>\n",
       "    <tr>\n",
       "      <th>rouge-l</th>\n",
       "      <td>0.676805</td>\n",
       "    </tr>\n",
       "    <tr>\n",
       "      <th>rouge-w</th>\n",
       "      <td>0.268901</td>\n",
       "    </tr>\n",
       "  </tbody>\n",
       "</table>\n",
       "</div>"
      ],
      "text/plain": [
       "              max\n",
       "rouge-1  0.670391\n",
       "rouge-2  0.513966\n",
       "rouge-3  0.406780\n",
       "rouge-4  0.323699\n",
       "rouge-5  0.269006\n",
       "rouge-6  0.213018\n",
       "rouge-7  0.179775\n",
       "rouge-8  0.147727\n",
       "rouge-9  0.114943\n",
       "rouge-l  0.676805\n",
       "rouge-w  0.268901"
      ]
     },
     "execution_count": 71,
     "metadata": {},
     "output_type": "execute_result"
    }
   ],
   "source": [
    "benchmark_rouge = rouge_f_random_stats.iloc[:, rouge_f_random_stats.columns.get_level_values(1) == 'max'].copy()\n",
    "benchmark_rouge.columns = benchmark_rouge.columns.get_level_values(1)\n",
    "del benchmark_rouge.index.name\n",
    "benchmark_rouge"
   ]
  },
  {
   "cell_type": "code",
   "execution_count": 72,
   "metadata": {},
   "outputs": [
    {
     "name": "stdout",
     "output_type": "stream",
     "text": [
      "rouge-1 ix=1103 score=0.67\n",
      "rouge-2 ix=1674 score=0.51\n",
      "rouge-3 ix=1674 score=0.41\n",
      "rouge-4 ix=1103 score=0.32\n",
      "rouge-5 ix=1103 score=0.27\n",
      "rouge-6 ix=1103 score=0.21\n",
      "rouge-7 ix=349 score=0.18\n",
      "rouge-8 ix=349 score=0.15\n",
      "rouge-9 ix=349 score=0.11\n",
      "rouge-l ix=1103 score=0.68\n",
      "rouge-w ix=1103 score=0.27\n"
     ]
    }
   ],
   "source": [
    "for ix, max_val in rouge_max.iterrows():\n",
    "    print('{} ix={} score={}'.format(ix,\n",
    "                                      rouge_f_summaries.query(\"metric == '{}' & f == {}\".format(ix, max_val[0])).reset_index()['random_sum_ix'][0], \n",
    "                                      np.round(max_val[0], 2)))"
   ]
  },
  {
   "cell_type": "code",
   "execution_count": 73,
   "metadata": {},
   "outputs": [],
   "source": [
    "idx_sort = np.argsort(tester.sum(axis=1))[::-1]"
   ]
  },
  {
   "cell_type": "code",
   "execution_count": 75,
   "metadata": {},
   "outputs": [
    {
     "data": {
      "image/png": "[encoded data removed]",
      "text/plain": [
       "<Figure size 432x288 with 1 Axes>"
      ]
     },
     "metadata": {
      "needs_background": "light"
     },
     "output_type": "display_data"
    }
   ],
   "source": [
    "fig, ax = plt.subplots()\n",
    "ax.plot(list(tester.loc[idx_sort].sum(axis=1)));\n",
    "ax.set_ylim(bottom=0); ax.grid();"
   ]
  },
  {
   "cell_type": "code",
   "execution_count": 76,
   "metadata": {},
   "outputs": [
    {
     "data": {
      "image/png": "[encoded data removed]",
      "text/plain": [
       "<Figure size 432x288 with 1 Axes>"
      ]
     },
     "metadata": {
      "needs_background": "light"
     },
     "output_type": "display_data"
    }
   ],
   "source": [
    "fig, ax = plt.subplots()\n",
    "tester.loc[idx_sort, metrics].reset_index(drop=True).plot(colormap='viridis', ax=ax);\n",
    "ax.legend(loc='center left', bbox_to_anchor=(1.0, 0.5)); ax.grid();"
   ]
  },
  {
   "cell_type": "code",
   "execution_count": 77,
   "metadata": {},
   "outputs": [],
   "source": [
    "rouge_1_ix_sort = list(np.argsort(tester[['rouge-1']], axis=0)[::-1]['rouge-1'].values)\n",
    "rouge_l_ix_sort = list(np.argsort(tester[['rouge-l']], axis=0)[::-1]['rouge-l'].values)\n",
    "rouge_w_ix_sort = list(np.argsort(tester[['rouge-w']], axis=0)[::-1]['rouge-w'].values)"
   ]
  },
  {
   "cell_type": "code",
   "execution_count": 78,
   "metadata": {},
   "outputs": [
    {
     "data": {
      "text/plain": [
       "[1103, 1389, 1388, 1380, 1381, 1386, 1676, 1677, 1678, 1679]"
      ]
     },
     "execution_count": 78,
     "metadata": {},
     "output_type": "execute_result"
    }
   ],
   "source": [
    "rouge_1_ix_sort[:10]"
   ]
  },
  {
   "cell_type": "code",
   "execution_count": 79,
   "metadata": {},
   "outputs": [
    {
     "data": {
      "text/plain": [
       "[1103, 1674, 1716, 1704, 1719, 739, 1099, 1098, 1093, 1095]"
      ]
     },
     "execution_count": 79,
     "metadata": {},
     "output_type": "execute_result"
    }
   ],
   "source": [
    "rouge_l_ix_sort[:10]"
   ]
  },
  {
   "cell_type": "code",
   "execution_count": 80,
   "metadata": {},
   "outputs": [
    {
     "data": {
      "text/plain": [
       "[1103, 1674, 1716, 1704, 1719, 739, 1095, 1102, 1099, 1098]"
      ]
     },
     "execution_count": 80,
     "metadata": {},
     "output_type": "execute_result"
    }
   ],
   "source": [
    "rouge_w_ix_sort[:10]"
   ]
  },
  {
   "cell_type": "code",
   "execution_count": 81,
   "metadata": {},
   "outputs": [
    {
     "data": {
      "text/plain": [
       "' Animals such as dogs can buffer this stress response when humans fail to provide social support.  The Secretary of Veterans Affairs, acting through the Office of Patient Centered Care and Cultural Transformation, shall carry out a pilot program under which the Secretary shall provide to eligible veterans with service dogs.  The provision of a service dog under the pilot program shall be done in addition to other types of treatment provided for post-traumatic stress disorder and shall not replace established treatment modalities.  '"
      ]
     },
     "execution_count": 81,
     "metadata": {},
     "output_type": "execute_result"
    }
   ],
   "source": [
    "random_summaries[1103]"
   ]
  },
  {
   "cell_type": "code",
   "execution_count": 82,
   "metadata": {},
   "outputs": [
    {
     "data": {
      "text/plain": [
       "' The Secretary of Veterans Affairs, acting through the Office of Patient Centered Care and Cultural Transformation, shall carry out a pilot program under which the Secretary shall provide to eligible veterans with service dogs.  The provision of a service dog under the pilot program shall be done in addition to other types of treatment provided for post-traumatic stress disorder and shall not replace established treatment modalities.  The Secretary of Veterans Affairs shall furnish veterinary health insurance for each dog provided under the pilot program.  '"
      ]
     },
     "execution_count": 82,
     "metadata": {},
     "output_type": "execute_result"
    }
   ],
   "source": [
    "random_summaries[1674]"
   ]
  },
  {
   "cell_type": "markdown",
   "metadata": {},
   "source": [
    "# Adding Complexity\n",
    "Now that I have a very minimal model that runs, I need to add complexity to the model. "
   ]
  },
  {
   "cell_type": "code",
   "execution_count": 83,
   "metadata": {},
   "outputs": [],
   "source": [
    "import sumy"
   ]
  },
  {
   "cell_type": "code",
   "execution_count": 87,
   "metadata": {},
   "outputs": [],
   "source": [
    "from sumy.parsers.html import HtmlParser\n",
    "from sumy.parsers.plaintext import PlaintextParser\n",
    "from sumy.nlp.tokenizers import Tokenizer\n",
    "from sumy.summarizers.lsa import LsaSummarizer\n",
    "from sumy.nlp.stemmers import Stemmer\n",
    "from sumy.utils import get_stop_words"
   ]
  },
  {
   "cell_type": "code",
   "execution_count": 84,
   "metadata": {},
   "outputs": [
    {
     "name": "stdout",
     "output_type": "stream",
     "text": [
      "Full text is 17 sentences\n"
     ]
    }
   ],
   "source": [
    "num_sentences_full = len(full_text.split('.'))\n",
    "print('Full text is {} sentences'.format(num_sentences_full))"
   ]
  },
  {
   "cell_type": "code",
   "execution_count": 85,
   "metadata": {},
   "outputs": [
    {
     "name": "stdout",
     "output_type": "stream",
     "text": [
      "To achieve a summary that is approximately 25% we need provide a summary with 4 sentences\n"
     ]
    }
   ],
   "source": [
    "target_summary_percentage = 0.25\n",
    "num_sentences_sum = int(np.round(num_sentences_full*target_summary_percentage))\n",
    "print('To achieve a summary that is approximately {}% we need provide a summary with {} sentences'.format(int(target_summary_percentage*100), num_sentences_sum))"
   ]
  },
  {
   "cell_type": "markdown",
   "metadata": {},
   "source": [
    "### Latent Semantic Analysis.\n",
    "Combines term freq with SVD (singular value decomposition)"
   ]
  },
  {
   "cell_type": "markdown",
   "metadata": {},
   "source": [
    "#### Without stemming"
   ]
  },
  {
   "cell_type": "code",
   "execution_count": 88,
   "metadata": {},
   "outputs": [],
   "source": [
    "summarizer = LsaSummarizer()"
   ]
  },
  {
   "cell_type": "code",
   "execution_count": 89,
   "metadata": {},
   "outputs": [],
   "source": [
    "sumy_lsa_summarized = \"\"\n",
    "full_text_parsed = PlaintextParser.from_string(full_text, Tokenizer('english'))\n",
    "for sentence in summarizer(full_text_parsed.document, num_sentences_sum):\n",
    "    #print(sentence)\n",
    "    #print(' ')\n",
    "    sumy_lsa_summarized += str(sentence) + \" \""
   ]
  },
  {
   "cell_type": "code",
   "execution_count": 90,
   "metadata": {},
   "outputs": [
    {
     "data": {
      "text/plain": [
       "'Animals such as dogs can buffer this stress response when humans fail to provide social support. The provision of a service dog under the pilot program shall be done in addition to other types of treatment provided for post-traumatic stress disorder and shall not replace established treatment modalities. To be eligible for a service dog under the pilot program a veteran shall— be diagnosed with post-traumatic stress disorder rated at a severity level of three or four on the Clinician-Administered PTSD Scale for DSM–5 (CAPS–5); have been treated and have completed an established evidence-based treatment and remain significantly symptomatic, as evidenced by the Global Assessment of Functioning or a similar clinical metric; have served on active duty in the Armed Forces on or after September 11, 2001; and have not experienced satisfactory improvement in post-traumatic stress disorder symptoms after being treated with established evidence-based therapies. In carrying out the pilot program under this section, the Secretary shall enter into such contracts as may be necessary for the procurement and training of service dogs with appropriate providers that are certified by Assistance Dogs International or a similar organization that— on average, provides one-on-one training for each service canine for a minimum of 30 hours over at least 90 days including a wellness verification from a licensed veterinarian; provides an in-house residential facility in which service dog recipients stay for a minimum of ten days while receiving at least 30 hours of training with their new service canine; ensures all service canines pass the American Kennel Club Canine Good Citizen test prior to permanent placement with a recipient; and provides follow-up support service for the life of the service canine. '"
      ]
     },
     "execution_count": 90,
     "metadata": {},
     "output_type": "execute_result"
    }
   ],
   "source": [
    "sumy_lsa_summarized"
   ]
  },
  {
   "cell_type": "code",
   "execution_count": 91,
   "metadata": {},
   "outputs": [
    {
     "data": {
      "text/html": [
       "<div>\n",
       "<style scoped>\n",
       "    .dataframe tbody tr th:only-of-type {\n",
       "        vertical-align: middle;\n",
       "    }\n",
       "\n",
       "    .dataframe tbody tr th {\n",
       "        vertical-align: top;\n",
       "    }\n",
       "\n",
       "    .dataframe thead th {\n",
       "        text-align: right;\n",
       "    }\n",
       "</style>\n",
       "<table border=\"1\" class=\"dataframe\">\n",
       "  <thead>\n",
       "    <tr style=\"text-align: right;\">\n",
       "      <th></th>\n",
       "      <th>f</th>\n",
       "      <th>p</th>\n",
       "      <th>r</th>\n",
       "    </tr>\n",
       "  </thead>\n",
       "  <tbody>\n",
       "    <tr>\n",
       "      <th>rouge-4</th>\n",
       "      <td>0.204082</td>\n",
       "      <td>0.194175</td>\n",
       "      <td>0.215054</td>\n",
       "    </tr>\n",
       "    <tr>\n",
       "      <th>rouge-1</th>\n",
       "      <td>0.544554</td>\n",
       "      <td>0.518868</td>\n",
       "      <td>0.572917</td>\n",
       "    </tr>\n",
       "    <tr>\n",
       "      <th>rouge-2</th>\n",
       "      <td>0.320000</td>\n",
       "      <td>0.304762</td>\n",
       "      <td>0.336842</td>\n",
       "    </tr>\n",
       "    <tr>\n",
       "      <th>rouge-3</th>\n",
       "      <td>0.252525</td>\n",
       "      <td>0.240385</td>\n",
       "      <td>0.265957</td>\n",
       "    </tr>\n",
       "    <tr>\n",
       "      <th>rouge-l</th>\n",
       "      <td>0.373773</td>\n",
       "      <td>0.358960</td>\n",
       "      <td>0.389860</td>\n",
       "    </tr>\n",
       "    <tr>\n",
       "      <th>rouge-w</th>\n",
       "      <td>0.169639</td>\n",
       "      <td>0.276208</td>\n",
       "      <td>0.122410</td>\n",
       "    </tr>\n",
       "  </tbody>\n",
       "</table>\n",
       "</div>"
      ],
      "text/plain": [
       "                f         p         r\n",
       "rouge-4  0.204082  0.194175  0.215054\n",
       "rouge-1  0.544554  0.518868  0.572917\n",
       "rouge-2  0.320000  0.304762  0.336842\n",
       "rouge-3  0.252525  0.240385  0.265957\n",
       "rouge-l  0.373773  0.358960  0.389860\n",
       "rouge-w  0.169639  0.276208  0.122410"
      ]
     },
     "execution_count": 91,
     "metadata": {},
     "output_type": "execute_result"
    }
   ],
   "source": [
    "sumy_lsa_summarized_rouge = apply_rouge_naive(sumy_lsa_summarized, actual_summary, \n",
    "                                              max_n=4, weight_factor=1.2, stemming=True)\n",
    "sumy_lsa_summarized_rouge"
   ]
  },
  {
   "cell_type": "markdown",
   "metadata": {},
   "source": [
    "#### With stemming."
   ]
  },
  {
   "cell_type": "code",
   "execution_count": 92,
   "metadata": {},
   "outputs": [],
   "source": [
    "language = 'English'\n",
    "stemmer_eng = Stemmer(language)"
   ]
  },
  {
   "cell_type": "code",
   "execution_count": 93,
   "metadata": {},
   "outputs": [],
   "source": [
    "summarizer = LsaSummarizer(stemmer_eng)\n",
    "summarizer.stop_words = get_stop_words(language)"
   ]
  },
  {
   "cell_type": "code",
   "execution_count": 94,
   "metadata": {},
   "outputs": [],
   "source": [
    "sumy_lsa_summarized_stemmed = \"\"\n",
    "full_text_parsed = PlaintextParser.from_string(full_text, Tokenizer('english'))\n",
    "for sentence in summarizer(full_text_parsed.document, num_sentences_sum):\n",
    "    #print(sentence)\n",
    "    #print(' ')\n",
    "    sumy_lsa_summarized_stemmed += str(sentence) + \" \""
   ]
  },
  {
   "cell_type": "code",
   "execution_count": 95,
   "metadata": {},
   "outputs": [
    {
     "data": {
      "text/html": [
       "<div>\n",
       "<style scoped>\n",
       "    .dataframe tbody tr th:only-of-type {\n",
       "        vertical-align: middle;\n",
       "    }\n",
       "\n",
       "    .dataframe tbody tr th {\n",
       "        vertical-align: top;\n",
       "    }\n",
       "\n",
       "    .dataframe thead th {\n",
       "        text-align: right;\n",
       "    }\n",
       "</style>\n",
       "<table border=\"1\" class=\"dataframe\">\n",
       "  <thead>\n",
       "    <tr style=\"text-align: right;\">\n",
       "      <th></th>\n",
       "      <th>f</th>\n",
       "      <th>p</th>\n",
       "      <th>r</th>\n",
       "    </tr>\n",
       "  </thead>\n",
       "  <tbody>\n",
       "    <tr>\n",
       "      <th>rouge-4</th>\n",
       "      <td>0.020202</td>\n",
       "      <td>0.019048</td>\n",
       "      <td>0.021505</td>\n",
       "    </tr>\n",
       "    <tr>\n",
       "      <th>rouge-1</th>\n",
       "      <td>0.382353</td>\n",
       "      <td>0.361111</td>\n",
       "      <td>0.406250</td>\n",
       "    </tr>\n",
       "    <tr>\n",
       "      <th>rouge-2</th>\n",
       "      <td>0.118812</td>\n",
       "      <td>0.112150</td>\n",
       "      <td>0.126316</td>\n",
       "    </tr>\n",
       "    <tr>\n",
       "      <th>rouge-3</th>\n",
       "      <td>0.060000</td>\n",
       "      <td>0.056604</td>\n",
       "      <td>0.063830</td>\n",
       "    </tr>\n",
       "    <tr>\n",
       "      <th>rouge-l</th>\n",
       "      <td>0.278584</td>\n",
       "      <td>0.265562</td>\n",
       "      <td>0.292950</td>\n",
       "    </tr>\n",
       "    <tr>\n",
       "      <th>rouge-w</th>\n",
       "      <td>0.090009</td>\n",
       "      <td>0.144673</td>\n",
       "      <td>0.065326</td>\n",
       "    </tr>\n",
       "  </tbody>\n",
       "</table>\n",
       "</div>"
      ],
      "text/plain": [
       "                f         p         r\n",
       "rouge-4  0.020202  0.019048  0.021505\n",
       "rouge-1  0.382353  0.361111  0.406250\n",
       "rouge-2  0.118812  0.112150  0.126316\n",
       "rouge-3  0.060000  0.056604  0.063830\n",
       "rouge-l  0.278584  0.265562  0.292950\n",
       "rouge-w  0.090009  0.144673  0.065326"
      ]
     },
     "execution_count": 95,
     "metadata": {},
     "output_type": "execute_result"
    }
   ],
   "source": [
    "sumy_lsa_summarized_stemmed_rouge = apply_rouge_naive(sumy_lsa_summarized_stemmed, actual_summary, \n",
    "                                              max_n=4, weight_factor=1.2, stemming=True)\n",
    "sumy_lsa_summarized_stemmed_rouge"
   ]
  },
  {
   "cell_type": "code",
   "execution_count": 96,
   "metadata": {},
   "outputs": [
    {
     "data": {
      "text/plain": [
       "'This bill directs the Department of Veterans Affairs (VA), through the Office of Patient Centered Care and Cultural Transformation, to carry out a five-year pilot program under which the VA shall provide service dogs and veterinary health insurance to certain veterans who: (1) served on active duty on or after September 11, 2001; and (2) were diagnosed with, and continue to suffer from, post-traumatic stress disorder. The provision of a service dog shall be done in addition to other types of treatment for post-traumatic stress disorder and shall not replace established treatment modalities.'"
      ]
     },
     "execution_count": 96,
     "metadata": {},
     "output_type": "execute_result"
    }
   ],
   "source": [
    "actual_summary"
   ]
  },
  {
   "cell_type": "code",
   "execution_count": 97,
   "metadata": {},
   "outputs": [
    {
     "name": "stdout",
     "output_type": "stream",
     "text": [
      "The resulting hyperstimulation of the fight-flight-freeze response associated with post-traumatic stress disorder poses a threat to the successful societal reintegration of such members of the Armed Forces\n",
      "\n",
      "Interaction with dogs has been shown to modulate symptoms of post-traumatic stress disorder, such as anxiety, including fear response and hyperarousal, interpersonal difficulties, social isolation, physical pain, and sleep disturbances\n",
      "\n",
      "To be eligible for a service dog under the pilot program a veteran shall— be diagnosed with post-traumatic stress disorder rated at a severity level of three or four on the Clinician-Administered PTSD Scale for DSM–5 (CAPS–5); have been treated and have completed an established evidence-based treatment and remain significantly symptomatic, as evidenced by the Global Assessment of Functioning or a similar clinical metric; have served on active duty in the Armed Forces on or after September 11, 2001; and have not experienced satisfactory improvement in post-traumatic stress disorder symptoms after being treated with established evidence-based therapies\n",
      "\n",
      "The amounts otherwise authorized to be appropriated for Department of Veterans Affairs Office of Human Resources and Administration for each of fiscal years 2017 through 2022 shall be reduced by $10,000,000\n",
      "\n",
      "\n"
     ]
    }
   ],
   "source": [
    "print(\"\\n\\n\".join(sumy_lsa_summarized_stemmed.split('. ')))"
   ]
  },
  {
   "cell_type": "code",
   "execution_count": 98,
   "metadata": {},
   "outputs": [
    {
     "name": "stdout",
     "output_type": "stream",
     "text": [
      "Animals such as dogs can buffer this stress response when humans fail to provide social support\n",
      "\n",
      "The provision of a service dog under the pilot program shall be done in addition to other types of treatment provided for post-traumatic stress disorder and shall not replace established treatment modalities\n",
      "\n",
      "To be eligible for a service dog under the pilot program a veteran shall— be diagnosed with post-traumatic stress disorder rated at a severity level of three or four on the Clinician-Administered PTSD Scale for DSM–5 (CAPS–5); have been treated and have completed an established evidence-based treatment and remain significantly symptomatic, as evidenced by the Global Assessment of Functioning or a similar clinical metric; have served on active duty in the Armed Forces on or after September 11, 2001; and have not experienced satisfactory improvement in post-traumatic stress disorder symptoms after being treated with established evidence-based therapies\n",
      "\n",
      "In carrying out the pilot program under this section, the Secretary shall enter into such contracts as may be necessary for the procurement and training of service dogs with appropriate providers that are certified by Assistance Dogs International or a similar organization that— on average, provides one-on-one training for each service canine for a minimum of 30 hours over at least 90 days including a wellness verification from a licensed veterinarian; provides an in-house residential facility in which service dog recipients stay for a minimum of ten days while receiving at least 30 hours of training with their new service canine; ensures all service canines pass the American Kennel Club Canine Good Citizen test prior to permanent placement with a recipient; and provides follow-up support service for the life of the service canine\n",
      "\n",
      "\n"
     ]
    }
   ],
   "source": [
    "print(\"\\n\\n\".join(sumy_lsa_summarized.split('. ')))"
   ]
  },
  {
   "cell_type": "code",
   "execution_count": 99,
   "metadata": {},
   "outputs": [
    {
     "data": {
      "text/plain": [
       "'Animals such as dogs can buffer this stress response when humans fail to provide social support. The provision of a service dog under the pilot program shall be done in addition to other types of treatment provided for post-traumatic stress disorder and shall not replace established treatment modalities. To be eligible for a service dog under the pilot program a veteran shall— be diagnosed with post-traumatic stress disorder rated at a severity level of three or four on the Clinician-Administered PTSD Scale for DSM–5 (CAPS–5); have been treated and have completed an established evidence-based treatment and remain significantly symptomatic, as evidenced by the Global Assessment of Functioning or a similar clinical metric; have served on active duty in the Armed Forces on or after September 11, 2001; and have not experienced satisfactory improvement in post-traumatic stress disorder symptoms after being treated with established evidence-based therapies. In carrying out the pilot program under this section, the Secretary shall enter into such contracts as may be necessary for the procurement and training of service dogs with appropriate providers that are certified by Assistance Dogs International or a similar organization that— on average, provides one-on-one training for each service canine for a minimum of 30 hours over at least 90 days including a wellness verification from a licensed veterinarian; provides an in-house residential facility in which service dog recipients stay for a minimum of ten days while receiving at least 30 hours of training with their new service canine; ensures all service canines pass the American Kennel Club Canine Good Citizen test prior to permanent placement with a recipient; and provides follow-up support service for the life of the service canine. '"
      ]
     },
     "execution_count": 99,
     "metadata": {},
     "output_type": "execute_result"
    }
   ],
   "source": [
    "sumy_lsa_summarized"
   ]
  },
  {
   "cell_type": "markdown",
   "metadata": {},
   "source": [
    "### Lex Rank\n",
    "Graphical based text summarizer\n",
    "[SOURCE](https://medium.com/@ondenyi.eric/extractive-text-summarization-techniques-with-sumy-3d3b127a0a32)"
   ]
  },
  {
   "cell_type": "code",
   "execution_count": 869,
   "metadata": {},
   "outputs": [],
   "source": [
    "from sumy.summarizers.lex_rank import LexRankSummarizer "
   ]
  },
  {
   "cell_type": "code",
   "execution_count": 870,
   "metadata": {},
   "outputs": [],
   "source": [
    "summarizer = LexRankSummarizer()"
   ]
  },
  {
   "cell_type": "code",
   "execution_count": 872,
   "metadata": {},
   "outputs": [],
   "source": [
    "sumy_summarized_lexrank = \"\"\n",
    "full_text_parsed = PlaintextParser.from_string(full_text, Tokenizer('english'))\n",
    "for sentence in summarizer(full_text_parsed.document, num_sentences_sum):\n",
    "    sumy_summarized_lexrank += str(sentence) + \" \""
   ]
  },
  {
   "cell_type": "code",
   "execution_count": 875,
   "metadata": {},
   "outputs": [
    {
     "data": {
      "text/plain": [
       "'The Secretary of Veterans Affairs, acting through the Office of Patient Centered Care and Cultural Transformation, shall carry out a pilot program under which the Secretary shall provide to eligible veterans with service dogs. The Secretary of Veterans Affairs shall furnish veterinary health insurance for each dog provided under the pilot program. To be eligible for a service dog under the pilot program a veteran shall— be diagnosed with post-traumatic stress disorder rated at a severity level of three or four on the Clinician-Administered PTSD Scale for DSM–5 (CAPS–5); have been treated and have completed an established evidence-based treatment and remain significantly symptomatic, as evidenced by the Global Assessment of Functioning or a similar clinical metric; have served on active duty in the Armed Forces on or after September 11, 2001; and have not experienced satisfactory improvement in post-traumatic stress disorder symptoms after being treated with established evidence-based therapies. Not later than 180 days after the termination of the pilot program under this section, the Comptroller General of the United States shall submit to Congress a report on the pilot program. '"
      ]
     },
     "execution_count": 875,
     "metadata": {},
     "output_type": "execute_result"
    }
   ],
   "source": [
    "sumy_summarized_lexrank"
   ]
  },
  {
   "cell_type": "code",
   "execution_count": 874,
   "metadata": {},
   "outputs": [
    {
     "data": {
      "text/html": [
       "<div>\n",
       "<style scoped>\n",
       "    .dataframe tbody tr th:only-of-type {\n",
       "        vertical-align: middle;\n",
       "    }\n",
       "\n",
       "    .dataframe tbody tr th {\n",
       "        vertical-align: top;\n",
       "    }\n",
       "\n",
       "    .dataframe thead th {\n",
       "        text-align: right;\n",
       "    }\n",
       "</style>\n",
       "<table border=\"1\" class=\"dataframe\">\n",
       "  <thead>\n",
       "    <tr style=\"text-align: right;\">\n",
       "      <th></th>\n",
       "      <th>f</th>\n",
       "      <th>p</th>\n",
       "      <th>r</th>\n",
       "    </tr>\n",
       "  </thead>\n",
       "  <tbody>\n",
       "    <tr>\n",
       "      <th>rouge-1</th>\n",
       "      <td>0.547264</td>\n",
       "      <td>0.523810</td>\n",
       "      <td>0.572917</td>\n",
       "    </tr>\n",
       "    <tr>\n",
       "      <th>rouge-2</th>\n",
       "      <td>0.291457</td>\n",
       "      <td>0.278846</td>\n",
       "      <td>0.305263</td>\n",
       "    </tr>\n",
       "    <tr>\n",
       "      <th>rouge-3</th>\n",
       "      <td>0.182741</td>\n",
       "      <td>0.174757</td>\n",
       "      <td>0.191489</td>\n",
       "    </tr>\n",
       "    <tr>\n",
       "      <th>rouge-4</th>\n",
       "      <td>0.102564</td>\n",
       "      <td>0.098039</td>\n",
       "      <td>0.107527</td>\n",
       "    </tr>\n",
       "    <tr>\n",
       "      <th>rouge-l</th>\n",
       "      <td>0.502496</td>\n",
       "      <td>0.484417</td>\n",
       "      <td>0.521977</td>\n",
       "    </tr>\n",
       "    <tr>\n",
       "      <th>rouge-w</th>\n",
       "      <td>0.171527</td>\n",
       "      <td>0.281125</td>\n",
       "      <td>0.123414</td>\n",
       "    </tr>\n",
       "  </tbody>\n",
       "</table>\n",
       "</div>"
      ],
      "text/plain": [
       "                f         p         r\n",
       "rouge-1  0.547264  0.523810  0.572917\n",
       "rouge-2  0.291457  0.278846  0.305263\n",
       "rouge-3  0.182741  0.174757  0.191489\n",
       "rouge-4  0.102564  0.098039  0.107527\n",
       "rouge-l  0.502496  0.484417  0.521977\n",
       "rouge-w  0.171527  0.281125  0.123414"
      ]
     },
     "execution_count": 874,
     "metadata": {},
     "output_type": "execute_result"
    }
   ],
   "source": [
    "apply_rouge_naive(sumy_summarized_lexrank, actual_summary)"
   ]
  },
  {
   "cell_type": "markdown",
   "metadata": {},
   "source": [
    "### Luhn\n",
    "Scored based on freq of most important words. [SOURCE](https://medium.com/@ondenyi.eric/extractive-text-summarization-techniques-with-sumy-3d3b127a0a32)"
   ]
  },
  {
   "cell_type": "code",
   "execution_count": 876,
   "metadata": {},
   "outputs": [],
   "source": [
    "from sumy.summarizers.luhn import LuhnSummarizer\n",
    "summarizer = LuhnSummarizer()\n",
    "sumy_summarized_luhn = \"\"\n",
    "for sentence in summarizer(full_text_parsed.document, num_sentences_sum):\n",
    "    sumy_summarized_luhn += str(sentence) + \" \""
   ]
  },
  {
   "cell_type": "code",
   "execution_count": 879,
   "metadata": {},
   "outputs": [
    {
     "name": "stdout",
     "output_type": "stream",
     "text": [
      "To be eligible for a service dog under the pilot program a veteran shall— be diagnosed with post-traumatic stress disorder rated at a severity level of three or four on the Clinician-Administered PTSD Scale for DSM–5 (CAPS–5); have been treated and have completed an established evidence-based treatment and remain significantly symptomatic, as evidenced by the Global Assessment of Functioning or a similar clinical metric; have served on active duty in the Armed Forces on or after September 11, 2001; and have not experienced satisfactory improvement in post-traumatic stress disorder symptoms after being treated with established evidence-based therapies\n",
      "\n",
      "To remain eligible to receive canine health insurance furnished by the Department of Veterans Affairs, a veteran shall see a physician who is a primary care provider or mental health care provider at a Department of Veterans Affairs medical facility at least quarterly\n",
      "\n",
      "In carrying out the pilot program under this section, the Secretary shall enter into such contracts as may be necessary for the procurement and training of service dogs with appropriate providers that are certified by Assistance Dogs International or a similar organization that— on average, provides one-on-one training for each service canine for a minimum of 30 hours over at least 90 days including a wellness verification from a licensed veterinarian; provides an in-house residential facility in which service dog recipients stay for a minimum of ten days while receiving at least 30 hours of training with their new service canine; ensures all service canines pass the American Kennel Club Canine Good Citizen test prior to permanent placement with a recipient; and provides follow-up support service for the life of the service canine\n",
      "\n",
      "Such report shall include— an evaluation of the effectiveness of the pilot program with respect to— helping veterans with severe post-traumatic stress disorder live normally; relevant metrics, including reduction in metrics such as reduction in scores under the post-traumatic stress disorder checklist (PCL), improvement in psychosocial function, and therapeutic compliance; lessening the symptoms of post-traumatic stress disorder; and reducing the dependence of participants on prescription narcotics and psychotropic medication; and the recommendations of the Comptroller General with respect to the continuation or expansion of the program\n",
      "\n",
      "\n"
     ]
    }
   ],
   "source": [
    "print(\"\\n\\n\".join(sumy_summarized_luhn.split('. ')))"
   ]
  },
  {
   "cell_type": "code",
   "execution_count": 880,
   "metadata": {},
   "outputs": [
    {
     "data": {
      "text/html": [
       "<div>\n",
       "<style scoped>\n",
       "    .dataframe tbody tr th:only-of-type {\n",
       "        vertical-align: middle;\n",
       "    }\n",
       "\n",
       "    .dataframe tbody tr th {\n",
       "        vertical-align: top;\n",
       "    }\n",
       "\n",
       "    .dataframe thead th {\n",
       "        text-align: right;\n",
       "    }\n",
       "</style>\n",
       "<table border=\"1\" class=\"dataframe\">\n",
       "  <thead>\n",
       "    <tr style=\"text-align: right;\">\n",
       "      <th></th>\n",
       "      <th>f</th>\n",
       "      <th>p</th>\n",
       "      <th>r</th>\n",
       "    </tr>\n",
       "  </thead>\n",
       "  <tbody>\n",
       "    <tr>\n",
       "      <th>rouge-1</th>\n",
       "      <td>0.463054</td>\n",
       "      <td>0.439252</td>\n",
       "      <td>0.489583</td>\n",
       "    </tr>\n",
       "    <tr>\n",
       "      <th>rouge-2</th>\n",
       "      <td>0.208955</td>\n",
       "      <td>0.198113</td>\n",
       "      <td>0.221053</td>\n",
       "    </tr>\n",
       "    <tr>\n",
       "      <th>rouge-3</th>\n",
       "      <td>0.130653</td>\n",
       "      <td>0.123810</td>\n",
       "      <td>0.138298</td>\n",
       "    </tr>\n",
       "    <tr>\n",
       "      <th>rouge-4</th>\n",
       "      <td>0.071066</td>\n",
       "      <td>0.067308</td>\n",
       "      <td>0.075269</td>\n",
       "    </tr>\n",
       "    <tr>\n",
       "      <th>rouge-l</th>\n",
       "      <td>0.290273</td>\n",
       "      <td>0.277728</td>\n",
       "      <td>0.304005</td>\n",
       "    </tr>\n",
       "    <tr>\n",
       "      <th>rouge-w</th>\n",
       "      <td>0.101984</td>\n",
       "      <td>0.164976</td>\n",
       "      <td>0.073804</td>\n",
       "    </tr>\n",
       "  </tbody>\n",
       "</table>\n",
       "</div>"
      ],
      "text/plain": [
       "                f         p         r\n",
       "rouge-1  0.463054  0.439252  0.489583\n",
       "rouge-2  0.208955  0.198113  0.221053\n",
       "rouge-3  0.130653  0.123810  0.138298\n",
       "rouge-4  0.071066  0.067308  0.075269\n",
       "rouge-l  0.290273  0.277728  0.304005\n",
       "rouge-w  0.101984  0.164976  0.073804"
      ]
     },
     "execution_count": 880,
     "metadata": {},
     "output_type": "execute_result"
    }
   ],
   "source": [
    "apply_rouge_naive(sumy_summarized_luhn, actual_summary)"
   ]
  },
  {
   "cell_type": "markdown",
   "metadata": {},
   "source": [
    "### Text Rank\n",
    "Graph-based summarization technique with keyword extraction.\n",
    "\n",
    "#### MUST also implement via pytextrank"
   ]
  },
  {
   "cell_type": "code",
   "execution_count": 881,
   "metadata": {},
   "outputs": [],
   "source": [
    "from sumy.summarizers.text_rank import TextRankSummarizer\n",
    "summarizer = TextRankSummarizer()\n",
    "sumy_summarized_textrank = \"\"\n",
    "for sentence in summarizer(full_text_parsed.document, num_sentences_sum):\n",
    "    sumy_summarized_textrank += str(sentence) + \" \""
   ]
  },
  {
   "cell_type": "code",
   "execution_count": 882,
   "metadata": {},
   "outputs": [
    {
     "data": {
      "text/plain": [
       "'To be eligible for a service dog under the pilot program a veteran shall— be diagnosed with post-traumatic stress disorder rated at a severity level of three or four on the Clinician-Administered PTSD Scale for DSM–5 (CAPS–5); have been treated and have completed an established evidence-based treatment and remain significantly symptomatic, as evidenced by the Global Assessment of Functioning or a similar clinical metric; have served on active duty in the Armed Forces on or after September 11, 2001; and have not experienced satisfactory improvement in post-traumatic stress disorder symptoms after being treated with established evidence-based therapies. In carrying out the pilot program under this section, the Secretary shall enter into such contracts as may be necessary for the procurement and training of service dogs with appropriate providers that are certified by Assistance Dogs International or a similar organization that— on average, provides one-on-one training for each service canine for a minimum of 30 hours over at least 90 days including a wellness verification from a licensed veterinarian; provides an in-house residential facility in which service dog recipients stay for a minimum of ten days while receiving at least 30 hours of training with their new service canine; ensures all service canines pass the American Kennel Club Canine Good Citizen test prior to permanent placement with a recipient; and provides follow-up support service for the life of the service canine. Not later than 180 days after the termination of the pilot program under this section, the Comptroller General of the United States shall submit to Congress a report on the pilot program. Such report shall include— an evaluation of the effectiveness of the pilot program with respect to— helping veterans with severe post-traumatic stress disorder live normally; relevant metrics, including reduction in metrics such as reduction in scores under the post-traumatic stress disorder checklist (PCL), improvement in psychosocial function, and therapeutic compliance; lessening the symptoms of post-traumatic stress disorder; and reducing the dependence of participants on prescription narcotics and psychotropic medication; and the recommendations of the Comptroller General with respect to the continuation or expansion of the program. '"
      ]
     },
     "execution_count": 882,
     "metadata": {},
     "output_type": "execute_result"
    }
   ],
   "source": [
    "sumy_summarized_textrank"
   ]
  },
  {
   "cell_type": "code",
   "execution_count": 884,
   "metadata": {},
   "outputs": [
    {
     "data": {
      "text/html": [
       "<div>\n",
       "<style scoped>\n",
       "    .dataframe tbody tr th:only-of-type {\n",
       "        vertical-align: middle;\n",
       "    }\n",
       "\n",
       "    .dataframe tbody tr th {\n",
       "        vertical-align: top;\n",
       "    }\n",
       "\n",
       "    .dataframe thead th {\n",
       "        text-align: right;\n",
       "    }\n",
       "</style>\n",
       "<table border=\"1\" class=\"dataframe\">\n",
       "  <thead>\n",
       "    <tr style=\"text-align: right;\">\n",
       "      <th></th>\n",
       "      <th>f</th>\n",
       "      <th>p</th>\n",
       "      <th>r</th>\n",
       "    </tr>\n",
       "  </thead>\n",
       "  <tbody>\n",
       "    <tr>\n",
       "      <th>rouge-1</th>\n",
       "      <td>0.472906</td>\n",
       "      <td>0.448598</td>\n",
       "      <td>0.500000</td>\n",
       "    </tr>\n",
       "    <tr>\n",
       "      <th>rouge-2</th>\n",
       "      <td>0.218905</td>\n",
       "      <td>0.207547</td>\n",
       "      <td>0.231579</td>\n",
       "    </tr>\n",
       "    <tr>\n",
       "      <th>rouge-3</th>\n",
       "      <td>0.130653</td>\n",
       "      <td>0.123810</td>\n",
       "      <td>0.138298</td>\n",
       "    </tr>\n",
       "    <tr>\n",
       "      <th>rouge-4</th>\n",
       "      <td>0.071066</td>\n",
       "      <td>0.067308</td>\n",
       "      <td>0.075269</td>\n",
       "    </tr>\n",
       "    <tr>\n",
       "      <th>rouge-l</th>\n",
       "      <td>0.290273</td>\n",
       "      <td>0.277728</td>\n",
       "      <td>0.304005</td>\n",
       "    </tr>\n",
       "    <tr>\n",
       "      <th>rouge-w</th>\n",
       "      <td>0.101984</td>\n",
       "      <td>0.164976</td>\n",
       "      <td>0.073804</td>\n",
       "    </tr>\n",
       "  </tbody>\n",
       "</table>\n",
       "</div>"
      ],
      "text/plain": [
       "                f         p         r\n",
       "rouge-1  0.472906  0.448598  0.500000\n",
       "rouge-2  0.218905  0.207547  0.231579\n",
       "rouge-3  0.130653  0.123810  0.138298\n",
       "rouge-4  0.071066  0.067308  0.075269\n",
       "rouge-l  0.290273  0.277728  0.304005\n",
       "rouge-w  0.101984  0.164976  0.073804"
      ]
     },
     "execution_count": 884,
     "metadata": {},
     "output_type": "execute_result"
    }
   ],
   "source": [
    "apply_rouge_naive(sumy_summarized_textrank, actual_summary)"
   ]
  },
  {
   "cell_type": "markdown",
   "metadata": {},
   "source": [
    "### TextRank with Pytextrank"
   ]
  },
  {
   "cell_type": "code",
   "execution_count": null,
   "metadata": {},
   "outputs": [],
   "source": [
    "import pytextrank"
   ]
  },
  {
   "cell_type": "code",
   "execution_count": 895,
   "metadata": {},
   "outputs": [],
   "source": [
    "#for ix, sentence in enumerate(full_text.split('.')):"
   ]
  },
  {
   "cell_type": "code",
   "execution_count": 898,
   "metadata": {},
   "outputs": [],
   "source": [
    "text_dict = {\"id\":\"1\", \"text\":full_text}\n",
    "text_json = json.dumps(text_dict)"
   ]
  },
  {
   "cell_type": "code",
   "execution_count": null,
   "metadata": {},
   "outputs": [],
   "source": [
    "for graf in pytextrank.parse_doc(text_dict):\n",
    "    print(graf._asdict())"
   ]
  },
  {
   "cell_type": "markdown",
   "metadata": {},
   "source": [
    "### TextRank with Summa"
   ]
  },
  {
   "cell_type": "code",
   "execution_count": 915,
   "metadata": {},
   "outputs": [],
   "source": [
    "import summa"
   ]
  },
  {
   "cell_type": "markdown",
   "metadata": {},
   "source": [
    "### TextRank with NLTK.\n",
    "[Source](https://www.analyticsvidhya.com/blog/2018/11/introduction-text-summarization-textrank-python/)"
   ]
  },
  {
   "cell_type": "code",
   "execution_count": 917,
   "metadata": {},
   "outputs": [
    {
     "name": "stdout",
     "output_type": "stream",
     "text": [
      "[nltk_data] Downloading package punkt to\n",
      "[nltk_data]     /Users/melissaferrari/nltk_data...\n",
      "[nltk_data]   Package punkt is already up-to-date!\n"
     ]
    }
   ],
   "source": [
    "import numpy as np\n",
    "import pandas as pd\n",
    "import nltk\n",
    "nltk.download('punkt') # one time execution\n",
    "import re"
   ]
  },
  {
   "cell_type": "markdown",
   "metadata": {},
   "source": [
    "#### 1. Split into sentences."
   ]
  },
  {
   "cell_type": "code",
   "execution_count": 100,
   "metadata": {},
   "outputs": [],
   "source": [
    "sentences = nltk.tokenize.sent_tokenize(full_text)"
   ]
  },
  {
   "cell_type": "markdown",
   "metadata": {},
   "source": [
    "#### 2. GloVe Word Embeddings (vector representation of words)"
   ]
  },
  {
   "cell_type": "code",
   "execution_count": 101,
   "metadata": {},
   "outputs": [
    {
     "name": "stdout",
     "output_type": "stream",
     "text": [
      "--2019-02-02 11:38:25--  http://nlp.stanford.edu/data/glove.6B.zip\n",
      "Resolving nlp.stanford.edu... 171.64.67.140\n",
      "Connecting to nlp.stanford.edu|171.64.67.140|:80... connected.\n",
      "HTTP request sent, awaiting response... 302 Found\n",
      "Location: https://nlp.stanford.edu/data/glove.6B.zip [following]\n",
      "--2019-02-02 11:38:25--  https://nlp.stanford.edu/data/glove.6B.zip\n",
      "Connecting to nlp.stanford.edu|171.64.67.140|:443... connected.\n",
      "HTTP request sent, awaiting response... 200 OK\n",
      "Length: 862182613 (822M) [application/zip]\n",
      "Saving to: 'glove.6B.zip.1'\n",
      "\n",
      "glove.6B.zip.1      100%[=====================>] 822.24M  3.59MB/s   in 3m 34s \n",
      "\n",
      "2019-02-02 11:42:00 (3.84 MB/s) - 'glove.6B.zip.1' saved [862182613/862182613]\n",
      "\n",
      "Archive:  glove.6B.zip\n",
      "replace glove.6B.50d.txt? [y]es, [n]o, [A]ll, [N]one, [r]ename: ^C\n"
     ]
    }
   ],
   "source": [
    "!wget http://nlp.stanford.edu/data/glove.6B.zip\n",
    "!unzip glove*.zip"
   ]
  },
  {
   "cell_type": "code",
   "execution_count": null,
   "metadata": {},
   "outputs": [],
   "source": []
  },
  {
   "cell_type": "code",
   "execution_count": 103,
   "metadata": {},
   "outputs": [],
   "source": [
    "# Extract word vectors\n",
    "f = open('glove.6B.100d.txt', encoding='utf-8')\n",
    "word_embeddings = {}\n",
    "for line in f:\n",
    "    values = line.split()\n",
    "    word = values[0]\n",
    "    coefs = np.asarray(values[1:], dtype='float32')\n",
    "    word_embeddings[word] = coefs\n",
    "f.close()"
   ]
  },
  {
   "cell_type": "code",
   "execution_count": 104,
   "metadata": {},
   "outputs": [
    {
     "data": {
      "text/plain": [
       "400000"
      ]
     },
     "execution_count": 104,
     "metadata": {},
     "output_type": "execute_result"
    }
   ],
   "source": [
    "len(word_embeddings)"
   ]
  },
  {
   "cell_type": "markdown",
   "metadata": {},
   "source": [
    "#### 3. Text preprocessing."
   ]
  },
  {
   "cell_type": "code",
   "execution_count": 105,
   "metadata": {},
   "outputs": [],
   "source": [
    "# remove punctuations, numbers and special characters\n",
    "clean_sentences = pd.Series(sentences).str.replace(\"[^a-zA-Z]\", \" \")\n",
    "\n",
    "# make alphabets lowercase\n",
    "clean_sentences = [s.lower() for s in clean_sentences]"
   ]
  },
  {
   "cell_type": "code",
   "execution_count": 106,
   "metadata": {},
   "outputs": [
    {
     "data": {
      "text/plain": [
       "['this act may be cited as the  congress makes the following findings  an estimated    percent of members of the armed forces returning from active duty service in support of operation iraqi freedom or operation enduring freedom suffer from post traumatic stress disorder ',\n",
       " 'the resulting hyperstimulation of the fight flight freeze response associated with post traumatic stress disorder poses a threat to the successful societal reintegration of such members of the armed forces ']"
      ]
     },
     "execution_count": 106,
     "metadata": {},
     "output_type": "execute_result"
    }
   ],
   "source": [
    "clean_sentences[:2]"
   ]
  },
  {
   "cell_type": "code",
   "execution_count": 107,
   "metadata": {},
   "outputs": [
    {
     "name": "stderr",
     "output_type": "stream",
     "text": [
      "[nltk_data] Downloading package stopwords to\n",
      "[nltk_data]     /Users/melissaferrari/nltk_data...\n",
      "[nltk_data]   Package stopwords is already up-to-date!\n"
     ]
    },
    {
     "data": {
      "text/plain": [
       "True"
      ]
     },
     "execution_count": 107,
     "metadata": {},
     "output_type": "execute_result"
    }
   ],
   "source": [
    "nltk.download('stopwords')"
   ]
  },
  {
   "cell_type": "code",
   "execution_count": 935,
   "metadata": {},
   "outputs": [],
   "source": [
    "from nltk.corpus import stopwords\n",
    "stop_words = stopwords.words('english')"
   ]
  },
  {
   "cell_type": "code",
   "execution_count": 937,
   "metadata": {},
   "outputs": [],
   "source": [
    "# function to remove stopwords\n",
    "def remove_stopwords(sen):\n",
    "    sen_new = \" \".join([i for i in sen if i not in stop_words])\n",
    "    return sen_new"
   ]
  },
  {
   "cell_type": "code",
   "execution_count": 938,
   "metadata": {},
   "outputs": [],
   "source": [
    "# remove stopwords from the sentences\n",
    "clean_sentences = [remove_stopwords(r.split()) for r in clean_sentences]"
   ]
  },
  {
   "cell_type": "markdown",
   "metadata": {},
   "source": [
    "#### 4. Vector representation of sentences."
   ]
  },
  {
   "cell_type": "code",
   "execution_count": 942,
   "metadata": {},
   "outputs": [],
   "source": [
    "sentence_vectors = []\n",
    "for i in clean_sentences:\n",
    "    if len(i) != 0:\n",
    "        v = sum([word_embeddings.get(w, np.zeros((100,))) for w in i.split()])/(len(i.split())+0.001)\n",
    "    else:\n",
    "        v = np.zeros((100,))\n",
    "    sentence_vectors.append(v)"
   ]
  },
  {
   "cell_type": "markdown",
   "metadata": {},
   "source": [
    "#### 5. Similarity Matrix.\n",
    "Use cosine similarity to find similarities between sentences."
   ]
  },
  {
   "cell_type": "code",
   "execution_count": 944,
   "metadata": {},
   "outputs": [],
   "source": [
    "# similarity matrix\n",
    "sim_mat = np.zeros([len(sentences), len(sentences)])"
   ]
  },
  {
   "cell_type": "code",
   "execution_count": 947,
   "metadata": {},
   "outputs": [
    {
     "data": {
      "text/plain": [
       "(16, 16)"
      ]
     },
     "execution_count": 947,
     "metadata": {},
     "output_type": "execute_result"
    }
   ],
   "source": [
    "np.shape(sim_mat)"
   ]
  },
  {
   "cell_type": "code",
   "execution_count": null,
   "metadata": {},
   "outputs": [],
   "source": []
  },
  {
   "cell_type": "code",
   "execution_count": 945,
   "metadata": {},
   "outputs": [],
   "source": [
    "from sklearn.metrics.pairwise import cosine_similarity"
   ]
  },
  {
   "cell_type": "code",
   "execution_count": 953,
   "metadata": {},
   "outputs": [],
   "source": [
    "i = 4\n",
    "j = 15"
   ]
  },
  {
   "cell_type": "code",
   "execution_count": 956,
   "metadata": {},
   "outputs": [
    {
     "data": {
      "text/plain": [
       "'secretary veterans affairs acting office patient centered care cultural transformation shall carry pilot program secretary shall provide eligible veterans service dogs'"
      ]
     },
     "execution_count": 956,
     "metadata": {},
     "output_type": "execute_result"
    }
   ],
   "source": [
    "clean_sentences[i]"
   ]
  },
  {
   "cell_type": "code",
   "execution_count": 957,
   "metadata": {},
   "outputs": [
    {
     "data": {
      "text/plain": [
       "'authority carry pilot program section shall terminate date five years date enactment act'"
      ]
     },
     "execution_count": 957,
     "metadata": {},
     "output_type": "execute_result"
    }
   ],
   "source": [
    "clean_sentences[j]"
   ]
  },
  {
   "cell_type": "code",
   "execution_count": 959,
   "metadata": {},
   "outputs": [
    {
     "data": {
      "text/plain": [
       "(100,)"
      ]
     },
     "execution_count": 959,
     "metadata": {},
     "output_type": "execute_result"
    }
   ],
   "source": [
    "np.shape(sentence_vectors[i])"
   ]
  },
  {
   "cell_type": "code",
   "execution_count": 961,
   "metadata": {},
   "outputs": [
    {
     "data": {
      "text/plain": [
       "(1, 100)"
      ]
     },
     "execution_count": 961,
     "metadata": {},
     "output_type": "execute_result"
    }
   ],
   "source": [
    "np.shape(sentence_vectors[i].reshape(1,100))"
   ]
  },
  {
   "cell_type": "code",
   "execution_count": 964,
   "metadata": {},
   "outputs": [],
   "source": [
    "for i in range(len(sentences)):\n",
    "    for j in range(len(sentences)):\n",
    "        if i != j:\n",
    "            sim_mat[i][j] = cosine_similarity(sentence_vectors[i].reshape(1,100), \n",
    "                                              sentence_vectors[j].reshape(1,100))[0,0]"
   ]
  },
  {
   "cell_type": "markdown",
   "metadata": {},
   "source": [
    "#### 6. Apply pagerank."
   ]
  },
  {
   "cell_type": "code",
   "execution_count": 7,
   "metadata": {},
   "outputs": [],
   "source": [
    "import networkx as nx"
   ]
  },
  {
   "cell_type": "code",
   "execution_count": 971,
   "metadata": {},
   "outputs": [],
   "source": [
    "# Similarity matrix to graph\n",
    "nx_graph = nx.from_numpy_array(sim_mat)"
   ]
  },
  {
   "cell_type": "code",
   "execution_count": 972,
   "metadata": {},
   "outputs": [],
   "source": [
    "scores = nx.pagerank(nx_graph)"
   ]
  },
  {
   "cell_type": "markdown",
   "metadata": {},
   "source": [
    "#### 7. Summary extraction."
   ]
  },
  {
   "cell_type": "code",
   "execution_count": 977,
   "metadata": {},
   "outputs": [],
   "source": [
    "ranked_sentences = sorted(((scores[i],s) for i,s in enumerate(sentences)), reverse=True)"
   ]
  },
  {
   "cell_type": "code",
   "execution_count": 980,
   "metadata": {},
   "outputs": [],
   "source": [
    "nltk_summarized_textrank = \"\"\n",
    "for i in range(num_sentences_sum):\n",
    "    nltk_summarized_textrank += str(ranked_sentences[i][1]) + \" \""
   ]
  },
  {
   "cell_type": "code",
   "execution_count": 981,
   "metadata": {},
   "outputs": [
    {
     "data": {
      "text/plain": [
       "'The provision of a service dog under the pilot program shall be done in addition to other types of treatment provided for post-traumatic stress disorder and shall not replace established treatment modalities. The Secretary of Veterans Affairs, acting through the Office of Patient Centered Care and Cultural Transformation, shall carry out a pilot program under which the Secretary shall provide to eligible veterans with service dogs. This Act may be cited as the  Congress makes the following findings: An estimated 14 percent of members of the Armed Forces returning from active duty service in support of Operation Iraqi Freedom or Operation Enduring Freedom suffer from post-traumatic stress disorder. In carrying out the pilot program under this section, the Secretary shall enter into such contracts as may be necessary for the procurement and training of service dogs with appropriate providers that are certified by Assistance Dogs International or a similar organization that— on average, provides one-on-one training for each service canine for a minimum of 30 hours over at least 90 days including a wellness verification from a licensed veterinarian; provides an in-house residential facility in which service dog recipients stay for a minimum of ten days while receiving at least 30 hours of training with their new service canine; ensures all service canines pass the American Kennel Club Canine Good Citizen test prior to permanent placement with a recipient; and provides follow-up support service for the life of the service canine. '"
      ]
     },
     "execution_count": 981,
     "metadata": {},
     "output_type": "execute_result"
    }
   ],
   "source": [
    "nltk_summarized_textrank"
   ]
  },
  {
   "cell_type": "code",
   "execution_count": 1014,
   "metadata": {},
   "outputs": [
    {
     "data": {
      "text/html": [
       "<div>\n",
       "<style scoped>\n",
       "    .dataframe tbody tr th:only-of-type {\n",
       "        vertical-align: middle;\n",
       "    }\n",
       "\n",
       "    .dataframe tbody tr th {\n",
       "        vertical-align: top;\n",
       "    }\n",
       "\n",
       "    .dataframe thead th {\n",
       "        text-align: right;\n",
       "    }\n",
       "</style>\n",
       "<table border=\"1\" class=\"dataframe\">\n",
       "  <thead>\n",
       "    <tr style=\"text-align: right;\">\n",
       "      <th></th>\n",
       "      <th>f</th>\n",
       "    </tr>\n",
       "  </thead>\n",
       "  <tbody>\n",
       "    <tr>\n",
       "      <th>rouge-1</th>\n",
       "      <td>0.639594</td>\n",
       "    </tr>\n",
       "    <tr>\n",
       "      <th>rouge-2</th>\n",
       "      <td>0.461538</td>\n",
       "    </tr>\n",
       "    <tr>\n",
       "      <th>rouge-3</th>\n",
       "      <td>0.362694</td>\n",
       "    </tr>\n",
       "    <tr>\n",
       "      <th>rouge-4</th>\n",
       "      <td>0.293194</td>\n",
       "    </tr>\n",
       "    <tr>\n",
       "      <th>rouge-5</th>\n",
       "      <td>0.243386</td>\n",
       "    </tr>\n",
       "    <tr>\n",
       "      <th>rouge-6</th>\n",
       "      <td>0.192513</td>\n",
       "    </tr>\n",
       "    <tr>\n",
       "      <th>rouge-7</th>\n",
       "      <td>0.151351</td>\n",
       "    </tr>\n",
       "    <tr>\n",
       "      <th>rouge-8</th>\n",
       "      <td>0.120219</td>\n",
       "    </tr>\n",
       "    <tr>\n",
       "      <th>rouge-9</th>\n",
       "      <td>0.088398</td>\n",
       "    </tr>\n",
       "    <tr>\n",
       "      <th>rouge-l</th>\n",
       "      <td>0.391845</td>\n",
       "    </tr>\n",
       "    <tr>\n",
       "      <th>rouge-w</th>\n",
       "      <td>0.164619</td>\n",
       "    </tr>\n",
       "  </tbody>\n",
       "</table>\n",
       "</div>"
      ],
      "text/plain": [
       "                f\n",
       "rouge-1  0.639594\n",
       "rouge-2  0.461538\n",
       "rouge-3  0.362694\n",
       "rouge-4  0.293194\n",
       "rouge-5  0.243386\n",
       "rouge-6  0.192513\n",
       "rouge-7  0.151351\n",
       "rouge-8  0.120219\n",
       "rouge-9  0.088398\n",
       "rouge-l  0.391845\n",
       "rouge-w  0.164619"
      ]
     },
     "execution_count": 1014,
     "metadata": {},
     "output_type": "execute_result"
    }
   ],
   "source": [
    "rouge_nltk_textrank = apply_rouge_naive(nltk_summarized_textrank, actual_summary, max_n=9)[['f']]\n",
    "rouge_nltk_textrank"
   ]
  },
  {
   "cell_type": "code",
   "execution_count": 1021,
   "metadata": {},
   "outputs": [
    {
     "data": {
      "text/plain": [
       "array([0.95406091, 0.89799331, 0.89162349, 0.90575916, 0.9047619 ,\n",
       "       0.90374332, 0.84189189, 0.81378731, 0.76906077, 0.57896296,\n",
       "       0.61219039])"
      ]
     },
     "execution_count": 1021,
     "metadata": {},
     "output_type": "execute_result"
    }
   ],
   "source": [
    "np.divide(rouge_nltk_textrank['f'].values, benchmark_rouge['max'].values)"
   ]
  },
  {
   "cell_type": "markdown",
   "metadata": {},
   "source": [
    "### Supervised learning approach\n",
    "[Supervised Machine Learning for Summarizaing Legal Documents](http://atour.iro.umontreal.ca/rali/sites/default/files/publis/SupervisedCanAI2010.pdf)"
   ]
  },
  {
   "cell_type": "code",
   "execution_count": 1031,
   "metadata": {},
   "outputs": [],
   "source": [
    "ordered_tags = []\n",
    "for elt in tree.getiterator():\n",
    "    tag = elt.tag\n",
    "    if '}' in tag:\n",
    "        tag = tag.split('}')[1]\n",
    "    ordered_tags.append(tag)\n",
    "unique_tags = list(np.unique(tags))"
   ]
  },
  {
   "cell_type": "code",
   "execution_count": 1033,
   "metadata": {},
   "outputs": [
    {
     "name": "stdout",
     "output_type": "stream",
     "text": [
      "bill --> \n",
      "\t\n",
      "metadata --> \n",
      "\n",
      "dublinCore --> \n",
      "\n",
      "{http://purl.org/dc/elements/1.1/}title --> 114 HR 4764 IH: Puppies Assisting Wounded Servicemembers (PAWS) Act of 2016\n",
      "{http://purl.org/dc/elements/1.1/}publisher --> U.S. House of Representatives\n",
      "{http://purl.org/dc/elements/1.1/}date --> 2016-03-16\n",
      "{http://purl.org/dc/elements/1.1/}format --> text/xml\n",
      "{http://purl.org/dc/elements/1.1/}language --> EN\n",
      "{http://purl.org/dc/elements/1.1/}rights --> Pursuant to Title 17 Section 105 of the United States Code, this file is not subject to copyright protection and is in the public domain.\n",
      "form --> \n",
      "\t\t\n",
      "distribution-code --> I\n",
      "congress --> 114th CONGRESS\n",
      "session --> 2d Session\n",
      "legis-num --> H. R. 4764\n",
      "current-chamber --> IN THE HOUSE OF REPRESENTATIVES\n",
      "action --> \n",
      "\t\t\t\n",
      "action-date --> March 16, 2016\n",
      "action-desc --> None\n",
      "sponsor --> Mr. DeSantis\n",
      "cosponsor --> Mr. Rooney of Florida\n",
      "cosponsor --> Mr. Rothfus\n",
      "cosponsor --> Ms. Stefanik\n",
      "cosponsor --> Mr. Nugent\n",
      "cosponsor --> Mr. Weber of Texas\n",
      "cosponsor --> Mrs. Ellmers of North Carolina\n",
      "cosponsor --> Mr. Meadows\n",
      "cosponsor --> Mr. Byrne\n",
      "cosponsor --> Mr. Bishop of Michigan\n",
      "cosponsor --> Mr. Flores\n",
      "cosponsor --> Ms. McSally\n",
      "cosponsor --> Mr. Jolly\n",
      "cosponsor --> Mr. Johnson of Georgia\n",
      "cosponsor --> Mr. Salmon\n",
      "cosponsor --> Ms. Gabbard\n",
      "cosponsor --> Ms. Sinema\n",
      "committee-name --> Committee on Veterans’ Affairs\n",
      "legis-type --> A BILL\n",
      "official-title --> To direct the Secretary of Veterans Affairs to carry out a pilot program to provide service dogs to\n",
      "\t\t\t certain veterans with severe post-traumatic stress disorder.\n",
      "legis-body --> \n",
      " \n",
      "section --> None\n",
      "enum --> 1.\n",
      "header --> Short title\n",
      "text --> This Act may be cited as the \n",
      "quote --> None\n",
      "short-title --> Puppies Assisting Wounded Servicemembers (PAWS) Act of 2016\n",
      "section --> None\n",
      "enum --> 2.\n",
      "header --> Findings\n",
      "text --> Congress makes the following findings:\n",
      "paragraph --> None\n",
      "enum --> (1)\n",
      "text --> An estimated 14 percent of members of the Armed Forces returning from active duty service in support of Operation Iraqi Freedom or Operation Enduring Freedom suffer from post-traumatic stress disorder.\n",
      "paragraph --> None\n",
      "enum --> (2)\n",
      "text --> The resulting hyperstimulation of the fight-flight-freeze response associated with post-traumatic stress disorder poses a threat to the successful societal reintegration of such members of the Armed Forces.\n",
      "paragraph --> None\n",
      "enum --> (3)\n",
      "text --> Animals such as dogs can buffer this stress response when humans fail to provide social support.\n",
      "paragraph --> None\n",
      "enum --> (4)\n",
      "text --> Interaction with dogs has been shown to modulate symptoms of post-traumatic stress disorder, such as anxiety, including fear response and hyperarousal, interpersonal difficulties, social isolation, physical pain, and sleep disturbances.\n",
      "section --> None\n",
      "enum --> 3.\n",
      "header --> Pilot program on Department of Veterans Affairs provision of service dogs to certain veterans with\n",
      "\t\t\t severe post-traumatic stress disorder\n",
      "subsection --> None\n",
      "enum --> (a)\n",
      "header --> In general\n",
      "text --> The Secretary of Veterans Affairs, acting through the Office of Patient Centered Care and Cultural Transformation, shall carry out a pilot program under which the Secretary shall provide to eligible veterans with service dogs. The provision of a service dog under the pilot program shall be done in addition to other types of treatment provided for post-traumatic stress disorder and shall not replace established treatment modalities. The Secretary of Veterans Affairs shall furnish veterinary health insurance for each dog provided under the pilot program.\n",
      "subsection --> None\n",
      "enum --> (b)\n",
      "header --> Eligibility\n",
      "paragraph --> None\n",
      "enum --> (1)\n",
      "header --> Initial eligibility\n",
      "text --> To be eligible for a service dog under the pilot program a veteran shall—\n",
      "subparagraph --> None\n",
      "enum --> (A)\n",
      "text --> be diagnosed with post-traumatic stress disorder rated at a severity level of three or four on the Clinician-Administered PTSD Scale for DSM–5 (CAPS–5);\n",
      "subparagraph --> None\n",
      "enum --> (B)\n",
      "text --> have been treated and have completed an established evidence-based treatment and remain significantly symptomatic, as evidenced by the Global Assessment of Functioning or a similar clinical metric;\n",
      "subparagraph --> None\n",
      "enum --> (C)\n",
      "text --> have served on active duty in the Armed Forces on or after September 11, 2001; and\n",
      "subparagraph --> None\n",
      "enum --> (D)\n",
      "text --> have not experienced satisfactory improvement in post-traumatic stress disorder symptoms after being treated with established evidence-based therapies.\n",
      "paragraph --> None\n",
      "enum --> (2)\n",
      "header --> Ongoing eligibility\n",
      "text --> To remain eligible to receive canine health insurance furnished by the Department of Veterans Affairs, a veteran shall see a physician who is a primary care provider or mental health care provider at a Department of Veterans Affairs medical facility at least quarterly.\n",
      "subsection --> None\n",
      "enum --> (c)\n",
      "header --> Contract authority\n",
      "paragraph --> None\n",
      "enum --> (1)\n",
      "header --> In general\n",
      "text --> In carrying out the pilot program under this section, the Secretary shall enter into such contracts as may be necessary for the procurement and training of service dogs with appropriate providers that are certified by Assistance Dogs International or a similar organization that—\n",
      "subparagraph --> None\n",
      "enum --> (A)\n",
      "text --> on average, provides one-on-one training for each service canine for a minimum of 30 hours over at least 90 days including a wellness verification from a licensed veterinarian;\n",
      "subparagraph --> None\n",
      "enum --> (B)\n",
      "text --> provides an in-house residential facility in which service dog recipients stay for a minimum of ten days while receiving at least 30 hours of training with their new service canine;\n",
      "subparagraph --> None\n",
      "enum --> (C)\n",
      "text --> ensures all service canines pass the American Kennel Club Canine Good Citizen test prior to permanent placement with a recipient; and\n",
      "subparagraph --> None\n",
      "enum --> (D)\n",
      "text --> provides follow-up support service for the life of the service canine.\n",
      "paragraph --> None\n",
      "enum --> (2)\n",
      "header --> Limitation\n",
      "text --> The Secretary may not obligate or expend more than $27,000 for the procurement and training of any dog under a contract entered into under this subsection.\n",
      "subsection --> None\n",
      "enum --> (d)\n",
      "header --> GAO study\n",
      "text --> Not later than 180 days after the termination of the pilot program under this section, the Comptroller General of the United States shall submit to Congress a report on the pilot program. Such report shall include—\n",
      "paragraph --> None\n",
      "enum --> (1)\n",
      "text --> an evaluation of the effectiveness of the pilot program with respect to—\n",
      "subparagraph --> None\n",
      "enum --> (A)\n",
      "text --> helping veterans with severe post-traumatic stress disorder live normally;\n",
      "subparagraph --> None\n",
      "enum --> (B)\n",
      "text --> relevant metrics, including reduction in metrics such as reduction in scores under the post-traumatic stress disorder checklist (PCL), improvement in psychosocial function, and therapeutic compliance;\n",
      "subparagraph --> None\n",
      "enum --> (C)\n",
      "text --> lessening the symptoms of post-traumatic stress disorder; and\n",
      "subparagraph --> None\n",
      "enum --> (D)\n",
      "text --> reducing the dependence of participants on prescription narcotics and psychotropic medication; and\n",
      "paragraph --> None\n",
      "enum --> (2)\n",
      "text --> the recommendations of the Comptroller General with respect to the continuation or expansion of the program.\n",
      "subsection --> None\n",
      "enum --> (e)\n",
      "header --> Authorization of appropriations\n",
      "text --> There is authorized to be appropriated for each of fiscal years 2017 through 2022 $10,000,000 to carry out the pilot program under this section.\n",
      "subsection --> None\n",
      "enum --> (f)\n",
      "header --> Offset\n",
      "text --> The amounts otherwise authorized to be appropriated for Department of Veterans Affairs Office of Human Resources and Administration for each of fiscal years 2017 through 2022 shall be reduced by $10,000,000.\n",
      "subsection --> None\n",
      "enum --> (g)\n",
      "header --> Termination\n",
      "text --> The authority to carry out a pilot program under this section shall terminate on the date that is five years after the date of the enactment of this Act.\n"
     ]
    }
   ],
   "source": [
    "for elt in tree.getiterator():\n",
    "    print('{} --> {}'.format(elt.tag, elt.text))"
   ]
  },
  {
   "cell_type": "code",
   "execution_count": 1037,
   "metadata": {},
   "outputs": [
    {
     "data": {
      "text/plain": [
       "['bill',\n",
       " 'metadata',\n",
       " 'dublinCore',\n",
       " 'title',\n",
       " 'publisher',\n",
       " 'date',\n",
       " 'format',\n",
       " 'language',\n",
       " 'rights',\n",
       " 'form']"
      ]
     },
     "execution_count": 1037,
     "metadata": {},
     "output_type": "execute_result"
    }
   ],
   "source": [
    "ordered_tags[:10]"
   ]
  },
  {
   "cell_type": "markdown",
   "metadata": {},
   "source": [
    "#### Unsupervised Text Summarization\n",
    "[SOURCE](https://medium.com/jatana/unsupervised-text-summarization-using-sentence-embeddings-adb15ce83db1)"
   ]
  },
  {
   "cell_type": "code",
   "execution_count": 1035,
   "metadata": {},
   "outputs": [],
   "source": [
    "from sklearn import cluster"
   ]
  },
  {
   "cell_type": "code",
   "execution_count": 1036,
   "metadata": {},
   "outputs": [],
   "source": [
    "kmeans = cluster.KMeans(n_clusters=num_sentences_sum)"
   ]
  },
  {
   "cell_type": "code",
   "execution_count": 1039,
   "metadata": {},
   "outputs": [],
   "source": [
    "kmeans_output = kmeans.fit(sentence_vectors)"
   ]
  },
  {
   "cell_type": "code",
   "execution_count": 1041,
   "metadata": {},
   "outputs": [],
   "source": [
    "from sklearn import metrics"
   ]
  },
  {
   "cell_type": "code",
   "execution_count": 1044,
   "metadata": {},
   "outputs": [],
   "source": [
    "avg = []\n",
    "for j in range(num_sentences_sum):\n",
    "    idx = np.where(kmeans.labels_ == j)[0]\n",
    "    avg.append(np.mean(idx))"
   ]
  },
  {
   "cell_type": "code",
   "execution_count": 1050,
   "metadata": {},
   "outputs": [],
   "source": [
    "cluster_centers = kmeans.cluster_centers_"
   ]
  },
  {
   "cell_type": "code",
   "execution_count": 1056,
   "metadata": {},
   "outputs": [],
   "source": [
    "closest, distances = metrics.pairwise_distances_argmin_min(cluster_centers, \n",
    "                                                           sentence_vectors)"
   ]
  },
  {
   "cell_type": "code",
   "execution_count": 1059,
   "metadata": {},
   "outputs": [],
   "source": [
    "ordering = sorted(range(num_sentences_sum), key=lambda k: avg[k])"
   ]
  },
  {
   "cell_type": "code",
   "execution_count": 1066,
   "metadata": {},
   "outputs": [],
   "source": [
    "summary = ' '.join([sentences[closest[idx]] for idx in ordering])"
   ]
  },
  {
   "cell_type": "code",
   "execution_count": 1067,
   "metadata": {},
   "outputs": [
    {
     "data": {
      "text/plain": [
       "'To be eligible for a service dog under the pilot program a veteran shall— be diagnosed with post-traumatic stress disorder rated at a severity level of three or four on the Clinician-Administered PTSD Scale for DSM–5 (CAPS–5); have been treated and have completed an established evidence-based treatment and remain significantly symptomatic, as evidenced by the Global Assessment of Functioning or a similar clinical metric; have served on active duty in the Armed Forces on or after September 11, 2001; and have not experienced satisfactory improvement in post-traumatic stress disorder symptoms after being treated with established evidence-based therapies. The Secretary of Veterans Affairs, acting through the Office of Patient Centered Care and Cultural Transformation, shall carry out a pilot program under which the Secretary shall provide to eligible veterans with service dogs. The Secretary may not obligate or expend more than $27,000 for the procurement and training of any dog under a contract entered into under this subsection. The authority to carry out a pilot program under this section shall terminate on the date that is five years after the date of the enactment of this Act.'"
      ]
     },
     "execution_count": 1067,
     "metadata": {},
     "output_type": "execute_result"
    }
   ],
   "source": [
    "summary"
   ]
  },
  {
   "cell_type": "code",
   "execution_count": 1068,
   "metadata": {},
   "outputs": [
    {
     "data": {
      "text/html": [
       "<div>\n",
       "<style scoped>\n",
       "    .dataframe tbody tr th:only-of-type {\n",
       "        vertical-align: middle;\n",
       "    }\n",
       "\n",
       "    .dataframe tbody tr th {\n",
       "        vertical-align: top;\n",
       "    }\n",
       "\n",
       "    .dataframe thead th {\n",
       "        text-align: right;\n",
       "    }\n",
       "</style>\n",
       "<table border=\"1\" class=\"dataframe\">\n",
       "  <thead>\n",
       "    <tr style=\"text-align: right;\">\n",
       "      <th></th>\n",
       "      <th>f</th>\n",
       "      <th>p</th>\n",
       "      <th>r</th>\n",
       "    </tr>\n",
       "  </thead>\n",
       "  <tbody>\n",
       "    <tr>\n",
       "      <th>rouge-1</th>\n",
       "      <td>0.463054</td>\n",
       "      <td>0.439252</td>\n",
       "      <td>0.489583</td>\n",
       "    </tr>\n",
       "    <tr>\n",
       "      <th>rouge-2</th>\n",
       "      <td>0.208955</td>\n",
       "      <td>0.198113</td>\n",
       "      <td>0.221053</td>\n",
       "    </tr>\n",
       "    <tr>\n",
       "      <th>rouge-3</th>\n",
       "      <td>0.130653</td>\n",
       "      <td>0.123810</td>\n",
       "      <td>0.138298</td>\n",
       "    </tr>\n",
       "    <tr>\n",
       "      <th>rouge-4</th>\n",
       "      <td>0.071066</td>\n",
       "      <td>0.067308</td>\n",
       "      <td>0.075269</td>\n",
       "    </tr>\n",
       "    <tr>\n",
       "      <th>rouge-l</th>\n",
       "      <td>0.290273</td>\n",
       "      <td>0.277728</td>\n",
       "      <td>0.304005</td>\n",
       "    </tr>\n",
       "    <tr>\n",
       "      <th>rouge-w</th>\n",
       "      <td>0.103664</td>\n",
       "      <td>0.167693</td>\n",
       "      <td>0.075020</td>\n",
       "    </tr>\n",
       "  </tbody>\n",
       "</table>\n",
       "</div>"
      ],
      "text/plain": [
       "                f         p         r\n",
       "rouge-1  0.463054  0.439252  0.489583\n",
       "rouge-2  0.208955  0.198113  0.221053\n",
       "rouge-3  0.130653  0.123810  0.138298\n",
       "rouge-4  0.071066  0.067308  0.075269\n",
       "rouge-l  0.290273  0.277728  0.304005\n",
       "rouge-w  0.103664  0.167693  0.075020"
      ]
     },
     "execution_count": 1068,
     "metadata": {},
     "output_type": "execute_result"
    }
   ],
   "source": [
    "apply_rouge_naive(summary, actual_summary)"
   ]
  },
  {
   "cell_type": "markdown",
   "metadata": {},
   "source": [
    "### Ideas"
   ]
  },
  {
   "cell_type": "code",
   "execution_count": 1069,
   "metadata": {},
   "outputs": [],
   "source": [
    "query_text = \"SELECT bill_ix, text FROM bill_text;\"\n",
    "query_text_results = pd.read_sql_query(query_text, con)"
   ]
  },
  {
   "cell_type": "code",
   "execution_count": 1072,
   "metadata": {},
   "outputs": [],
   "source": [
    "def create_single_text_string(tree, tag='text'):\n",
    "    text = \"\"\n",
    "    for elt in tree.getiterator(tag):\n",
    "        if isinstance(elt.text, str):\n",
    "            text += elt.text  + ' '\n",
    "    return text"
   ]
  },
  {
   "cell_type": "code",
   "execution_count": null,
   "metadata": {},
   "outputs": [],
   "source": [
    "\n",
    "def do_summarization(string_xml):\n",
    "    string_length = len(string_xml)\n",
    "    print('text length: {}'.format(string_length))\n",
    "    tree = etree.fromstring(string_xml)\n",
    "\n",
    "    text = create_single_text_string(tree, tag='text')\n",
    "\n",
    "    summarized = summarization.summarize(text)\n",
    "    print('summary length: {}'.format(len(summarized)))\n",
    "\n",
    "    return summarized"
   ]
  },
  {
   "cell_type": "code",
   "execution_count": null,
   "metadata": {},
   "outputs": [],
   "source": [
    "string_xml = query_text_results.iloc[0]['text']\n",
    "tree = etree.fromstring(string_tree)\n",
    "#summarization_result = models.do_summarization(string_xml)\n",
    "full_text = create_single_text_string(tree)"
   ]
  },
  {
   "cell_type": "code",
   "execution_count": null,
   "metadata": {},
   "outputs": [],
   "source": [
    "tree = etree.parse(os.path.join(bill_path, xml_file))\n",
    "string_tree = etree.tostring(tree).decode()"
   ]
  },
  {
   "cell_type": "code",
   "execution_count": 1075,
   "metadata": {},
   "outputs": [],
   "source": [
    "query_text_results['tree'] = query_text_results['text'].apply(etree.fromstring)\n"
   ]
  },
  {
   "cell_type": "code",
   "execution_count": 1080,
   "metadata": {},
   "outputs": [],
   "source": [
    "query_text_results['full_text'] = query_text_results['tree'].apply(create_single_text_string)"
   ]
  },
  {
   "cell_type": "code",
   "execution_count": 1081,
   "metadata": {},
   "outputs": [
    {
     "data": {
      "text/html": [
       "<div>\n",
       "<style scoped>\n",
       "    .dataframe tbody tr th:only-of-type {\n",
       "        vertical-align: middle;\n",
       "    }\n",
       "\n",
       "    .dataframe tbody tr th {\n",
       "        vertical-align: top;\n",
       "    }\n",
       "\n",
       "    .dataframe thead th {\n",
       "        text-align: right;\n",
       "    }\n",
       "</style>\n",
       "<table border=\"1\" class=\"dataframe\">\n",
       "  <thead>\n",
       "    <tr style=\"text-align: right;\">\n",
       "      <th></th>\n",
       "      <th>bill_ix</th>\n",
       "      <th>text</th>\n",
       "      <th>tree</th>\n",
       "      <th>full_text</th>\n",
       "    </tr>\n",
       "  </thead>\n",
       "  <tbody>\n",
       "    <tr>\n",
       "      <th>0</th>\n",
       "      <td>5529</td>\n",
       "      <td>&lt;?xml-stylesheet type=\"text/xsl\" href=\"billres...</td>\n",
       "      <td>[[[&lt;Element {http://purl.org/dc/elements/1.1/}...</td>\n",
       "      <td>This Act may be cited as the  Not later than 9...</td>\n",
       "    </tr>\n",
       "    <tr>\n",
       "      <th>1</th>\n",
       "      <td>5530</td>\n",
       "      <td>&lt;?xml-stylesheet type=\"text/xsl\" href=\"billres...</td>\n",
       "      <td>[[[&lt;Element {http://purl.org/dc/elements/1.1/}...</td>\n",
       "      <td>This Act may be cited as the  Congress makes t...</td>\n",
       "    </tr>\n",
       "    <tr>\n",
       "      <th>2</th>\n",
       "      <td>5531</td>\n",
       "      <td>&lt;?xml-stylesheet type=\"text/xsl\" href=\"billres...</td>\n",
       "      <td>[[[&lt;Element {http://purl.org/dc/elements/1.1/}...</td>\n",
       "      <td>This Act may be cited as the  Subchapter I of ...</td>\n",
       "    </tr>\n",
       "    <tr>\n",
       "      <th>3</th>\n",
       "      <td>5588</td>\n",
       "      <td>&lt;?xml-stylesheet type=\"text/xsl\" href=\"billres...</td>\n",
       "      <td>[[[&lt;Element {http://purl.org/dc/elements/1.1/}...</td>\n",
       "      <td>This Act may be cited as the  For each fiscal ...</td>\n",
       "    </tr>\n",
       "    <tr>\n",
       "      <th>4</th>\n",
       "      <td>5589</td>\n",
       "      <td>&lt;?xml-stylesheet type=\"text/xsl\" href=\"billres...</td>\n",
       "      <td>[[[&lt;Element {http://purl.org/dc/elements/1.1/}...</td>\n",
       "      <td>This Act may be cited as the  an organization ...</td>\n",
       "    </tr>\n",
       "  </tbody>\n",
       "</table>\n",
       "</div>"
      ],
      "text/plain": [
       "   bill_ix                                               text  \\\n",
       "0     5529  <?xml-stylesheet type=\"text/xsl\" href=\"billres...   \n",
       "1     5530  <?xml-stylesheet type=\"text/xsl\" href=\"billres...   \n",
       "2     5531  <?xml-stylesheet type=\"text/xsl\" href=\"billres...   \n",
       "3     5588  <?xml-stylesheet type=\"text/xsl\" href=\"billres...   \n",
       "4     5589  <?xml-stylesheet type=\"text/xsl\" href=\"billres...   \n",
       "\n",
       "                                                tree  \\\n",
       "0  [[[<Element {http://purl.org/dc/elements/1.1/}...   \n",
       "1  [[[<Element {http://purl.org/dc/elements/1.1/}...   \n",
       "2  [[[<Element {http://purl.org/dc/elements/1.1/}...   \n",
       "3  [[[<Element {http://purl.org/dc/elements/1.1/}...   \n",
       "4  [[[<Element {http://purl.org/dc/elements/1.1/}...   \n",
       "\n",
       "                                           full_text  \n",
       "0  This Act may be cited as the  Not later than 9...  \n",
       "1  This Act may be cited as the  Congress makes t...  \n",
       "2  This Act may be cited as the  Subchapter I of ...  \n",
       "3  This Act may be cited as the  For each fiscal ...  \n",
       "4  This Act may be cited as the  an organization ...  "
      ]
     },
     "execution_count": 1081,
     "metadata": {},
     "output_type": "execute_result"
    }
   ],
   "source": [
    "query_text_results.head()"
   ]
  },
  {
   "cell_type": "code",
   "execution_count": 1087,
   "metadata": {},
   "outputs": [],
   "source": [
    "query_text_results['tokenize'] = query_text_results['full_text'].apply(sent_tokenize)"
   ]
  },
  {
   "cell_type": "code",
   "execution_count": 1094,
   "metadata": {},
   "outputs": [],
   "source": [
    "query_text_results['num_sentences'] = query_text_results['tokenize'].apply(len).astype(int)"
   ]
  },
  {
   "cell_type": "code",
   "execution_count": 1097,
   "metadata": {},
   "outputs": [
    {
     "data": {
      "text/plain": [
       "count    5550.000000\n",
       "mean       19.904685\n",
       "std        60.348962\n",
       "min         1.000000\n",
       "25%         2.000000\n",
       "50%         7.000000\n",
       "75%        18.000000\n",
       "max      1871.000000\n",
       "Name: num_sentences, dtype: float64"
      ]
     },
     "execution_count": 1097,
     "metadata": {},
     "output_type": "execute_result"
    }
   ],
   "source": [
    "query_text_results['num_sentences'].describe()"
   ]
  },
  {
   "cell_type": "code",
   "execution_count": 1121,
   "metadata": {},
   "outputs": [
    {
     "data": {
      "image/png": "[encoded data removed]",
      "text/plain": [
       "<Figure size 1152x432 with 1 Axes>"
      ]
     },
     "metadata": {
      "needs_background": "light"
     },
     "output_type": "display_data"
    }
   ],
   "source": [
    "fig, ax = plt.subplots(figsize=(16, 6))\n",
    "query_text_results['num_sentences'].hist(bins=100, ax=ax, alpha=0.7);\n",
    "ax.set_yscale('log'); #ax.set_xlim(xmin=0);\n",
    "ax.set_xlabel('Number of Sentences', size=14);\n",
    "ax.set_title('Log Distribution of Bill Length (N=5550)', size=20);"
   ]
  },
  {
   "cell_type": "code",
   "execution_count": null,
   "metadata": {},
   "outputs": [],
   "source": [
    "query_text_results[query_text_results['num_sentences'] > query_text_results['num_sentences'].describe()['50%']]"
   ]
  },
  {
   "cell_type": "code",
   "execution_count": 1201,
   "metadata": {},
   "outputs": [],
   "source": [
    "long_bill = query_text_results.loc[query_text_results['num_sentences'] == \n",
    "                                         query_text_results['num_sentences'].describe()['max']]"
   ]
  },
  {
   "cell_type": "code",
   "execution_count": 1195,
   "metadata": {},
   "outputs": [],
   "source": [
    "longest_bill_ix = query_text_results.loc[query_text_results['num_sentences'] == \n",
    "                                         query_text_results['num_sentences'].describe()['max'], 'bill_ix'].values[0]"
   ]
  },
  {
   "cell_type": "code",
   "execution_count": 1196,
   "metadata": {},
   "outputs": [],
   "source": [
    "longest_bill = query_text_results.loc[query_text_results['num_sentences'] == \n",
    "                                      query_text_results['num_sentences'].describe()['max'], 'tokenize'].values[0]"
   ]
  },
  {
   "cell_type": "code",
   "execution_count": 1169,
   "metadata": {},
   "outputs": [
    {
     "data": {
      "text/html": [
       "<div>\n",
       "<style scoped>\n",
       "    .dataframe tbody tr th:only-of-type {\n",
       "        vertical-align: middle;\n",
       "    }\n",
       "\n",
       "    .dataframe tbody tr th {\n",
       "        vertical-align: top;\n",
       "    }\n",
       "\n",
       "    .dataframe thead th {\n",
       "        text-align: right;\n",
       "    }\n",
       "</style>\n",
       "<table border=\"1\" class=\"dataframe\">\n",
       "  <thead>\n",
       "    <tr style=\"text-align: right;\">\n",
       "      <th></th>\n",
       "      <th>bill_ix</th>\n",
       "      <th>text</th>\n",
       "      <th>tree</th>\n",
       "      <th>full_text</th>\n",
       "      <th>tokenize</th>\n",
       "      <th>num_sentences</th>\n",
       "    </tr>\n",
       "  </thead>\n",
       "  <tbody>\n",
       "    <tr>\n",
       "      <th>25</th>\n",
       "      <td>9589</td>\n",
       "      <td>&lt;?xml-stylesheet type=\"text/xsl\" href=\"billres...</td>\n",
       "      <td>[[[&lt;Element {http://purl.org/dc/elements/1.1/}...</td>\n",
       "      <td>This Act may be cited as the  The table of con...</td>\n",
       "      <td>[This Act may be cited as the  The table of co...</td>\n",
       "      <td>1871</td>\n",
       "    </tr>\n",
       "  </tbody>\n",
       "</table>\n",
       "</div>"
      ],
      "text/plain": [
       "    bill_ix                                               text  \\\n",
       "25     9589  <?xml-stylesheet type=\"text/xsl\" href=\"billres...   \n",
       "\n",
       "                                                 tree  \\\n",
       "25  [[[<Element {http://purl.org/dc/elements/1.1/}...   \n",
       "\n",
       "                                            full_text  \\\n",
       "25  This Act may be cited as the  The table of con...   \n",
       "\n",
       "                                             tokenize  num_sentences  \n",
       "25  [This Act may be cited as the  The table of co...           1871  "
      ]
     },
     "execution_count": 1169,
     "metadata": {},
     "output_type": "execute_result"
    }
   ],
   "source": [
    "query_text_results.loc[query_text_results['num_sentences'] == \n",
    "                                      query_text_results['num_sentences'].describe()['max']]"
   ]
  },
  {
   "cell_type": "code",
   "execution_count": 1244,
   "metadata": {},
   "outputs": [
    {
     "data": {
      "text/plain": [
       "'To improve the health of minority individuals, and for other purposes.'"
      ]
     },
     "execution_count": 1244,
     "metadata": {},
     "output_type": "execute_result"
    }
   ],
   "source": [
    "official_title"
   ]
  },
  {
   "cell_type": "code",
   "execution_count": 1180,
   "metadata": {},
   "outputs": [
    {
     "data": {
      "text/plain": [
       "9589"
      ]
     },
     "execution_count": 1180,
     "metadata": {},
     "output_type": "execute_result"
    }
   ],
   "source": [
    "longest_bill_ix"
   ]
  },
  {
   "cell_type": "code",
   "execution_count": 1188,
   "metadata": {},
   "outputs": [],
   "source": [
    "query_info = \"SELECT bill_id, official_title, short_title, subjects_top_term FROM bills WHERE id='%s';\" % longest_bill_ix\n",
    "query_info_results = pd.read_sql_query(query_info, con)"
   ]
  },
  {
   "cell_type": "code",
   "execution_count": 1190,
   "metadata": {},
   "outputs": [],
   "source": [
    "bill_id, official_title, short_title, subjects_top_term = query_info_results.loc[0].values"
   ]
  },
  {
   "cell_type": "code",
   "execution_count": 1191,
   "metadata": {},
   "outputs": [
    {
     "data": {
      "text/plain": [
       "'hr5475-114'"
      ]
     },
     "execution_count": 1191,
     "metadata": {},
     "output_type": "execute_result"
    }
   ],
   "source": [
    "bill_id"
   ]
  },
  {
   "cell_type": "code",
   "execution_count": 1192,
   "metadata": {},
   "outputs": [],
   "source": [
    "query_summary = \"\"\"\n",
    "                SELECT bill_ix, text FROM summaries bt INNER JOIN bills b\n",
    "                ON bt.bill_ix = b.id WHERE b.bill_id = '%s';\n",
    "                \"\"\""
   ]
  },
  {
   "cell_type": "code",
   "execution_count": 1193,
   "metadata": {},
   "outputs": [
    {
     "data": {
      "text/html": [
       "<div>\n",
       "<style scoped>\n",
       "    .dataframe tbody tr th:only-of-type {\n",
       "        vertical-align: middle;\n",
       "    }\n",
       "\n",
       "    .dataframe tbody tr th {\n",
       "        vertical-align: top;\n",
       "    }\n",
       "\n",
       "    .dataframe thead th {\n",
       "        text-align: right;\n",
       "    }\n",
       "</style>\n",
       "<table border=\"1\" class=\"dataframe\">\n",
       "  <thead>\n",
       "    <tr style=\"text-align: right;\">\n",
       "      <th></th>\n",
       "      <th>bill_ix</th>\n",
       "      <th>text</th>\n",
       "    </tr>\n",
       "  </thead>\n",
       "  <tbody>\n",
       "    <tr>\n",
       "      <th>0</th>\n",
       "      <td>9589</td>\n",
       "      <td>Health Equity and Accountability Act of 2016\\n...</td>\n",
       "    </tr>\n",
       "  </tbody>\n",
       "</table>\n",
       "</div>"
      ],
      "text/plain": [
       "   bill_ix                                               text\n",
       "0     9589  Health Equity and Accountability Act of 2016\\n..."
      ]
     },
     "execution_count": 1193,
     "metadata": {},
     "output_type": "execute_result"
    }
   ],
   "source": [
    "data = (bill_id,)\n",
    "query_summary_results = pd.read_sql_query(query_summary % data, con)\n",
    "query_summary_results"
   ]
  },
  {
   "cell_type": "code",
   "execution_count": 1206,
   "metadata": {},
   "outputs": [],
   "source": [
    "tree = etree.fromstring(long_bill.loc[25, 'text'])"
   ]
  },
  {
   "cell_type": "code",
   "execution_count": 1208,
   "metadata": {},
   "outputs": [],
   "source": [
    "ordered_tags = []\n",
    "for elt in tree.getiterator():\n",
    "    tag = elt.tag\n",
    "    if '}' in tag:\n",
    "        tag = tag.split('}')[1]\n",
    "    ordered_tags.append(tag)\n",
    "unique_tags = list(np.unique(tags))"
   ]
  },
  {
   "cell_type": "code",
   "execution_count": 1243,
   "metadata": {},
   "outputs": [
    {
     "data": {
      "text/plain": [
       "['act-name',\n",
       " 'action',\n",
       " 'action-date',\n",
       " 'action-desc',\n",
       " 'after-quoted-block',\n",
       " 'bill',\n",
       " 'chapter',\n",
       " 'clause',\n",
       " 'committee-name',\n",
       " 'congress']"
      ]
     },
     "execution_count": 1243,
     "metadata": {},
     "output_type": "execute_result"
    }
   ],
   "source": [
    "unique_tags[:10]"
   ]
  },
  {
   "cell_type": "code",
   "execution_count": 1242,
   "metadata": {},
   "outputs": [
    {
     "data": {
      "text/plain": [
       "['bill',\n",
       " 'metadata',\n",
       " 'dublinCore',\n",
       " 'title',\n",
       " 'publisher',\n",
       " 'date',\n",
       " 'format',\n",
       " 'language',\n",
       " 'rights',\n",
       " 'form']"
      ]
     },
     "execution_count": 1242,
     "metadata": {},
     "output_type": "execute_result"
    }
   ],
   "source": [
    "ordered_tags[:10]"
   ]
  },
  {
   "cell_type": "code",
   "execution_count": 1249,
   "metadata": {},
   "outputs": [],
   "source": [
    "from nltk# import tokenize #import sent_tokenize"
   ]
  },
  {
   "cell_type": "code",
   "execution_count": 109,
   "metadata": {},
   "outputs": [],
   "source": [
    "full_sent = nltk.tokenize.sent_tokenize(full_text)\n",
    "summ_sent = nltk.tokenize.sent_tokenize(actual_summary)"
   ]
  },
  {
   "cell_type": "code",
   "execution_count": 136,
   "metadata": {},
   "outputs": [],
   "source": [
    "sim_mat = np.zeros([len(full_sent), len(summ_sent)])"
   ]
  },
  {
   "cell_type": "code",
   "execution_count": 111,
   "metadata": {},
   "outputs": [],
   "source": [
    "from sklearn.metrics.pairwise import cosine_similarity"
   ]
  },
  {
   "cell_type": "code",
   "execution_count": 113,
   "metadata": {},
   "outputs": [],
   "source": [
    "full_sent_clean = pd.Series(full_sent).str.replace(\"[^a-zA-Z]\", \" \")"
   ]
  },
  {
   "cell_type": "code",
   "execution_count": 114,
   "metadata": {},
   "outputs": [],
   "source": [
    "summ_sent_clean = pd.Series(summ_sent).str.replace(\"[^a-zA-Z]\", \" \")"
   ]
  },
  {
   "cell_type": "code",
   "execution_count": 117,
   "metadata": {},
   "outputs": [],
   "source": [
    "# make alphabets lowercase\n",
    "summ_sent_clean = [s.lower() for s in summ_sent_clean]\n",
    "full_sent_clean = [s.lower() for s in full_sent_clean]"
   ]
  },
  {
   "cell_type": "code",
   "execution_count": null,
   "metadata": {},
   "outputs": [],
   "source": [
    "from nltk.corpus import stopwords"
   ]
  },
  {
   "cell_type": "code",
   "execution_count": 118,
   "metadata": {},
   "outputs": [],
   "source": [
    "stop_words = nltk.corpus.stopwords.words('english')\n",
    "# function to remove stopwords\n",
    "def remove_stopwords(sen):\n",
    "    sen_new = \" \".join([i for i in sen if i not in stop_words])\n",
    "    return sen_new"
   ]
  },
  {
   "cell_type": "code",
   "execution_count": 119,
   "metadata": {},
   "outputs": [],
   "source": [
    "# remove stopwords from the sentences\n",
    "summ_sent_clean = [remove_stopwords(r.split()) for r in summ_sent_clean]\n",
    "full_sent_clean = [remove_stopwords(r.split()) for r in full_sent_clean]"
   ]
  },
  {
   "cell_type": "code",
   "execution_count": 144,
   "metadata": {},
   "outputs": [],
   "source": [
    "summ_sentence_vectors = []\n",
    "for i in summ_sent_clean:\n",
    "    if len(i) != 0:\n",
    "        v = sum([word_embeddings.get(w, np.zeros((100,))) for w in i.split()])/(len(i.split())+0.001)\n",
    "    else:\n",
    "        v = np.zeros((100,))\n",
    "    summ_sentence_vectors.append(v)\n",
    "full_sentence_vectors = []\n",
    "for i in full_sent_clean:\n",
    "    if len(i) != 0:\n",
    "        v = sum([word_embeddings.get(w, np.zeros((100,))) for w in i.split()])/(len(i.split())+0.001)\n",
    "    else:\n",
    "        v = np.zeros((100,))\n",
    "    full_sentence_vectors.append(v)"
   ]
  },
  {
   "cell_type": "code",
   "execution_count": 145,
   "metadata": {},
   "outputs": [
    {
     "data": {
      "text/plain": [
       "(16, 2)"
      ]
     },
     "execution_count": 145,
     "metadata": {},
     "output_type": "execute_result"
    }
   ],
   "source": [
    "np.shape(sim_mat)"
   ]
  },
  {
   "cell_type": "code",
   "execution_count": 138,
   "metadata": {},
   "outputs": [
    {
     "data": {
      "text/plain": [
       "0.0"
      ]
     },
     "execution_count": 138,
     "metadata": {},
     "output_type": "execute_result"
    }
   ],
   "source": [
    "sim_mat[5][1]"
   ]
  },
  {
   "cell_type": "code",
   "execution_count": 143,
   "metadata": {},
   "outputs": [
    {
     "data": {
      "text/plain": [
       "(2, 100)"
      ]
     },
     "execution_count": 143,
     "metadata": {},
     "output_type": "execute_result"
    }
   ],
   "source": [
    "np.shape(full_sentence_vectors)"
   ]
  },
  {
   "cell_type": "code",
   "execution_count": 149,
   "metadata": {},
   "outputs": [],
   "source": [
    "for i in range(len(full_sent)):\n",
    "    for j in range(len(summ_sent)):\n",
    "            sim_mat[i][j] = cosine_similarity(full_sentence_vectors[i].reshape(1,100), \n",
    "                                              summ_sentence_vectors[j].reshape(1,100))[0,0]"
   ]
  },
  {
   "cell_type": "code",
   "execution_count": 150,
   "metadata": {},
   "outputs": [
    {
     "data": {
      "text/plain": [
       "array([[0.91735315, 0.87459004],\n",
       "       [0.84506869, 0.84888577],\n",
       "       [0.8259142 , 0.86032683],\n",
       "       [0.7629053 , 0.81978511],\n",
       "       [0.95249951, 0.87305421],\n",
       "       [0.93604189, 0.98994952],\n",
       "       [0.91544795, 0.81710064],\n",
       "       [0.92808485, 0.93059683],\n",
       "       [0.95272976, 0.84556741],\n",
       "       [0.9176293 , 0.86911321],\n",
       "       [0.79945445, 0.76730931],\n",
       "       [0.87854075, 0.80809921],\n",
       "       [0.89066541, 0.92094696],\n",
       "       [0.84576815, 0.78002995],\n",
       "       [0.88902825, 0.80967653],\n",
       "       [0.84630245, 0.84506655]])"
      ]
     },
     "execution_count": 150,
     "metadata": {},
     "output_type": "execute_result"
    }
   ],
   "source": [
    "sim_mat"
   ]
  },
  {
   "cell_type": "code",
   "execution_count": 152,
   "metadata": {},
   "outputs": [
    {
     "data": {
      "text/plain": [
       "numpy.ndarray"
      ]
     },
     "execution_count": 152,
     "metadata": {},
     "output_type": "execute_result"
    }
   ],
   "source": [
    "type(sim_mat)"
   ]
  },
  {
   "cell_type": "code",
   "execution_count": 164,
   "metadata": {},
   "outputs": [
    {
     "data": {
      "text/plain": [
       "array([8, 5])"
      ]
     },
     "execution_count": 164,
     "metadata": {},
     "output_type": "execute_result"
    }
   ],
   "source": [
    "ix_match = np.argmax(sim_mat, axis=0)\n",
    "ix_match"
   ]
  },
  {
   "cell_type": "code",
   "execution_count": 166,
   "metadata": {},
   "outputs": [
    {
     "data": {
      "text/plain": [
       "array([0.91735315, 0.84506869, 0.8259142 , 0.7629053 , 0.95249951,\n",
       "       0.93604189, 0.91544795, 0.92808485, 0.95272976, 0.9176293 ,\n",
       "       0.79945445, 0.87854075, 0.89066541, 0.84576815, 0.88902825,\n",
       "       0.84630245])"
      ]
     },
     "execution_count": 166,
     "metadata": {},
     "output_type": "execute_result"
    }
   ],
   "source": [
    "sim_mat[:, 0]"
   ]
  },
  {
   "cell_type": "code",
   "execution_count": 165,
   "metadata": {},
   "outputs": [
    {
     "data": {
      "text/plain": [
       "0.9527297616004944"
      ]
     },
     "execution_count": 165,
     "metadata": {},
     "output_type": "execute_result"
    }
   ],
   "source": [
    "sim_mat[8, 0]"
   ]
  },
  {
   "cell_type": "code",
   "execution_count": 167,
   "metadata": {},
   "outputs": [
    {
     "data": {
      "text/plain": [
       "array([0.87459004, 0.84888577, 0.86032683, 0.81978511, 0.87305421,\n",
       "       0.98994952, 0.81710064, 0.93059683, 0.84556741, 0.86911321,\n",
       "       0.76730931, 0.80809921, 0.92094696, 0.78002995, 0.80967653,\n",
       "       0.84506655])"
      ]
     },
     "execution_count": 167,
     "metadata": {},
     "output_type": "execute_result"
    }
   ],
   "source": [
    "sim_mat[:, 1]"
   ]
  },
  {
   "cell_type": "code",
   "execution_count": 169,
   "metadata": {},
   "outputs": [
    {
     "data": {
      "text/plain": [
       "0.9899495244026184"
      ]
     },
     "execution_count": 169,
     "metadata": {},
     "output_type": "execute_result"
    }
   ],
   "source": [
    "sim_mat[5, 1]"
   ]
  },
  {
   "cell_type": "code",
   "execution_count": 170,
   "metadata": {},
   "outputs": [
    {
     "data": {
      "text/plain": [
       "['To remain eligible to receive canine health insurance furnished by the Department of Veterans Affairs, a veteran shall see a physician who is a primary care provider or mental health care provider at a Department of Veterans Affairs medical facility at least quarterly.',\n",
       " 'The provision of a service dog under the pilot program shall be done in addition to other types of treatment provided for post-traumatic stress disorder and shall not replace established treatment modalities.']"
      ]
     },
     "execution_count": 170,
     "metadata": {},
     "output_type": "execute_result"
    }
   ],
   "source": [
    "closest_match = [full_sent[i] for i in ix_match]\n",
    "closest_match"
   ]
  },
  {
   "cell_type": "code",
   "execution_count": null,
   "metadata": {},
   "outputs": [],
   "source": []
  }
 ],
 "metadata": {
  "kernelspec": {
   "display_name": "Python 3",
   "language": "python",
   "name": "python3"
  },
  "language_info": {
   "codemirror_mode": {
    "name": "ipython",
    "version": 3
   },
   "file_extension": ".py",
   "mimetype": "text/x-python",
   "name": "python",
   "nbconvert_exporter": "python",
   "pygments_lexer": "ipython3",
   "version": "3.6.8"
  }
 },
 "nbformat": 4,
 "nbformat_minor": 2
}
