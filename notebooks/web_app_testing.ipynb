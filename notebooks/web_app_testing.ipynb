{
 "cells": [
  {
   "cell_type": "code",
   "execution_count": 2,
   "metadata": {},
   "outputs": [],
   "source": [
    "import sys\n",
    "sys.path.append('../../flask-insight/')\n",
    "\n",
    "from flask import render_template, request\n",
    "from bill_app import app\n",
    "from sqlalchemy import create_engine\n",
    "from sqlalchemy_utils import database_exists, create_database\n",
    "import pandas as pd\n",
    "import psycopg2\n",
    "from bill_app import models "
   ]
  },
  {
   "cell_type": "code",
   "execution_count": 3,
   "metadata": {},
   "outputs": [],
   "source": [
    "# Python code to connect to Postgres\n",
    "# You may need to modify this based on your OS,\n",
    "# as detailed in the postgres dev setup materials.\n",
    "user = 'melissaferrari'  # add your Postgres username here\n",
    "host = 'localhost'\n",
    "dbname = 'congressional_bills'\n",
    "db = create_engine('postgres://%s%s/%s' % (user, host, dbname))\n",
    "con = None\n",
    "con = psycopg2.connect(database=dbname,\n",
    "                       user=user)"
   ]
  },
  {
   "cell_type": "code",
   "execution_count": null,
   "metadata": {},
   "outputs": [],
   "source": [
    "@app.route('/')\n",
    "@app.route('/index')\n",
    "def index():\n",
    "    return render_template(\"index.html\",\n",
    "                           title='Home',\n",
    "                           user={'nickname': 'Melissa'},)"
   ]
  },
  {
   "cell_type": "code",
   "execution_count": null,
   "metadata": {},
   "outputs": [],
   "source": [
    "@app.route('/db')\n",
    "def bill_page():\n",
    "    sql_query = \"\"\"\n",
    "                SELECT * FROM bills WHERE status=1;\n",
    "                \"\"\"\n",
    "    \n",
    "    query_results = pd.read_sql_query(sql_query, con)\n",
    "    bills = \"\"\n",
    "    print(query_results[:10])\n",
    "    for i in range(0, 10):\n",
    "        bills += query_results.iloc[i]['official_title']\n",
    "        bills += \"<br>\"\n",
    "    return bills"
   ]
  },
  {
   "cell_type": "code",
   "execution_count": null,
   "metadata": {},
   "outputs": [],
   "source": [
    "@app.route('/db_fancy')\n",
    "def bills_page_fancy():\n",
    "    sql_query = \"\"\"\n",
    "                SELECT bill_id, official_title, subjects_top_term FROM bills WHERE status=1;\n",
    "                \"\"\"\n",
    "    query_results = pd.read_sql_query(sql_query, con)\n",
    "    bills = []\n",
    "    for i in range(0, query_results.shape[0]):\n",
    "        bills.append(dict(bill_id=query_results.iloc[i]['bill_id'],\n",
    "                          official_title=query_results.iloc[i]['official_title'],\n",
    "                          subjects_top_term=query_results.iloc[i]['subjects_top_term']))\n",
    "    return render_template('bill_list.html', bills=bills)"
   ]
  },
  {
   "cell_type": "code",
   "execution_count": null,
   "metadata": {},
   "outputs": [],
   "source": [
    "@app.route('/input')\n",
    "def bills_input():\n",
    "    query_list = \"SELECT bill_id FROM bills;\"\n",
    "    query_list_results = pd.read_sql_query(query_list, con)\n",
    "\n",
    "    return render_template(\"input.html\",\n",
    "                           title='Database selector',\n",
    "                           bill_list=query_list_results)"
   ]
  },
  {
   "cell_type": "code",
   "execution_count": null,
   "metadata": {},
   "outputs": [],
   "source": [
    "@app.route('/output')\n",
    "def bills_output():\n",
    "    # pull 'bill_id' from input field and store it\n",
    "    # bill_id = request.args.get('bill_id')\n",
    "    bill_id = 'hr4764-114'\n",
    "\n",
    "    # just select the bill from the database\n",
    "    query_info = \"SELECT bill_id, official_title, subjects_top_term FROM bills WHERE bill_id='%s';\" % bill_id\n",
    "    #query_text = \"SELECT bill_ix, text FROM bill_text WHERE bill_ix = (SELECT ls.id FROM bills ls WHERE bill_id='%s');\" % bill_id\n",
    "    query_text = \"SELECT bill_ix, text FROM bill_text bt INNER JOIN bills b ON bt.bill_ix = b.id WHERE b.bill_id = '%s';\" % bill_id\n",
    "    \n",
    "    query_info_results = pd.read_sql_query(query_info, con)\n",
    "    query_text_results = pd.read_sql_query(query_text, con)\n",
    "    \n",
    "    bill_id = query_info_results.iloc[0]['bill_id'],\n",
    "    official_title = query_info_results.iloc[0]['official_title'],\n",
    "    subjects_top_term = query_info_results.iloc[0]['subjects_top_term']\n",
    "    \n",
    "    string_xml = query_text_results.iloc[0]['text']\n",
    "    summarization_result = models.do_summarization(string_xml)\n",
    "\n",
    "    return render_template(\"output.html\",\n",
    "                           summarization_result=summarization_result, \n",
    "                           bill_id=bill_id,\n",
    "                           official_title=official_title,\n",
    "                           subjects_top_term=subjects_top_term)"
   ]
  },
  {
   "cell_type": "code",
   "execution_count": 5,
   "metadata": {},
   "outputs": [],
   "source": [
    "bill_id = 'hr4764-114'"
   ]
  },
  {
   "cell_type": "code",
   "execution_count": 6,
   "metadata": {},
   "outputs": [],
   "source": [
    "query_info = \"SELECT bill_id, official_title, subjects_top_term FROM bills WHERE bill_id='%s';\" % bill_id"
   ]
  },
  {
   "cell_type": "code",
   "execution_count": 7,
   "metadata": {},
   "outputs": [
    {
     "data": {
      "text/plain": [
       "\"SELECT bill_id, official_title, subjects_top_term FROM bills WHERE bill_id='hr4764-114';\""
      ]
     },
     "execution_count": 7,
     "metadata": {},
     "output_type": "execute_result"
    }
   ],
   "source": [
    "query_info"
   ]
  },
  {
   "cell_type": "code",
   "execution_count": 8,
   "metadata": {},
   "outputs": [],
   "source": [
    "query_info_results = pd.read_sql_query(query_info, con)"
   ]
  },
  {
   "cell_type": "code",
   "execution_count": 12,
   "metadata": {},
   "outputs": [
    {
     "data": {
      "text/html": [
       "<div>\n",
       "<style scoped>\n",
       "    .dataframe tbody tr th:only-of-type {\n",
       "        vertical-align: middle;\n",
       "    }\n",
       "\n",
       "    .dataframe tbody tr th {\n",
       "        vertical-align: top;\n",
       "    }\n",
       "\n",
       "    .dataframe thead th {\n",
       "        text-align: right;\n",
       "    }\n",
       "</style>\n",
       "<table border=\"1\" class=\"dataframe\">\n",
       "  <thead>\n",
       "    <tr style=\"text-align: right;\">\n",
       "      <th></th>\n",
       "      <th>bill_id</th>\n",
       "      <th>official_title</th>\n",
       "      <th>subjects_top_term</th>\n",
       "    </tr>\n",
       "  </thead>\n",
       "  <tbody>\n",
       "    <tr>\n",
       "      <th>0</th>\n",
       "      <td>hr4764-114</td>\n",
       "      <td>To direct the Secretary of Veterans Affairs to...</td>\n",
       "      <td>Armed forces and national security</td>\n",
       "    </tr>\n",
       "  </tbody>\n",
       "</table>\n",
       "</div>"
      ],
      "text/plain": [
       "      bill_id                                     official_title  \\\n",
       "0  hr4764-114  To direct the Secretary of Veterans Affairs to...   \n",
       "\n",
       "                    subjects_top_term  \n",
       "0  Armed forces and national security  "
      ]
     },
     "execution_count": 12,
     "metadata": {},
     "output_type": "execute_result"
    }
   ],
   "source": [
    "query_info_results"
   ]
  },
  {
   "cell_type": "code",
   "execution_count": 10,
   "metadata": {},
   "outputs": [
    {
     "data": {
      "text/plain": [
       "'hr4764-114'"
      ]
     },
     "execution_count": 10,
     "metadata": {},
     "output_type": "execute_result"
    }
   ],
   "source": [
    "query_info_results.iloc[0]['bill_id']"
   ]
  },
  {
   "cell_type": "code",
   "execution_count": 13,
   "metadata": {},
   "outputs": [],
   "source": [
    "query_list = \"SELECT bill_id FROM bills;\"\n",
    "query_list_results = pd.read_sql_query(query_list, con)"
   ]
  },
  {
   "cell_type": "code",
   "execution_count": null,
   "metadata": {},
   "outputs": [],
   "source": []
  }
 ],
 "metadata": {
  "kernelspec": {
   "display_name": "Python 3",
   "language": "python",
   "name": "python3"
  },
  "language_info": {
   "codemirror_mode": {
    "name": "ipython",
    "version": 3
   },
   "file_extension": ".py",
   "mimetype": "text/x-python",
   "name": "python",
   "nbconvert_exporter": "python",
   "pygments_lexer": "ipython3",
   "version": "3.5.5"
  }
 },
 "nbformat": 4,
 "nbformat_minor": 2
}
