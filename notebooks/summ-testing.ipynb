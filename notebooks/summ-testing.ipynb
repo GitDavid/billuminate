{
 "cells": [
  {
   "cell_type": "code",
   "execution_count": 23,
   "metadata": {},
   "outputs": [],
   "source": [
    "import matplotlib\n",
    "%matplotlib inline"
   ]
  },
  {
   "cell_type": "code",
   "execution_count": 25,
   "metadata": {},
   "outputs": [],
   "source": []
  },
  {
   "cell_type": "code",
   "execution_count": 24,
   "metadata": {},
   "outputs": [],
   "source": [
    "import matplotlib.pyplot as plt\n",
    "import numpy as np\n",
    "import lxml"
   ]
  },
  {
   "cell_type": "code",
   "execution_count": 1,
   "metadata": {},
   "outputs": [],
   "source": [
    "from sqlalchemy import create_engine\n",
    "from sqlalchemy_utils import database_exists, create_database\n",
    "import psycopg2\n",
    "import pandas as pd"
   ]
  },
  {
   "cell_type": "code",
   "execution_count": 2,
   "metadata": {},
   "outputs": [],
   "source": [
    "\n",
    "# Set your postgres username\n",
    "dbname = 'congressional_bills'\n",
    "username = 'melissaferrari' # change this to your username"
   ]
  },
  {
   "cell_type": "code",
   "execution_count": 3,
   "metadata": {},
   "outputs": [
    {
     "name": "stdout",
     "output_type": "stream",
     "text": [
      "postgres://melissaferrari@localhost/congressional_bills\n"
     ]
    }
   ],
   "source": [
    "## 'engine' is a connection to a database\n",
    "## Here, we're using postgres, but sqlalchemy can connect to other things too.\n",
    "engine = create_engine('postgres://%s@localhost/%s'%(username,dbname))\n",
    "print(engine.url)"
   ]
  },
  {
   "cell_type": "code",
   "execution_count": 4,
   "metadata": {},
   "outputs": [
    {
     "name": "stdout",
     "output_type": "stream",
     "text": [
      "True\n"
     ]
    }
   ],
   "source": [
    "## create a database (if it doesn't exist)\n",
    "if not database_exists(engine.url):\n",
    "    create_database(engine.url)\n",
    "print(database_exists(engine.url))"
   ]
  },
  {
   "cell_type": "code",
   "execution_count": 5,
   "metadata": {},
   "outputs": [],
   "source": [
    "# Connect to make queries using psycopg2\n",
    "con = None\n",
    "con = psycopg2.connect(database = dbname, user = username)"
   ]
  },
  {
   "cell_type": "code",
   "execution_count": 14,
   "metadata": {},
   "outputs": [],
   "source": [
    "con.rollback()"
   ]
  },
  {
   "cell_type": "markdown",
   "metadata": {},
   "source": [
    "Try a few other sample queries.  Before you type in each one, ask yourself what you think the output will look like:\n",
    "`SELECT * FROM birth_data_table;`\n",
    "\n",
    "\n",
    "`SELECT * FROM birth_data_table WHERE infant_sex='M';`\n",
    "\n",
    "`SELECT COUNT(infant_sex) FROM birth_data_table WHERE infant_sex='M';`\n",
    "\n",
    "`SELECT COUNT(gestation_weeks), infant_sex FROM birth_data_table WHERE infant_sex = 'M' GROUP BY gestation_weeks, infant_sex;`\n",
    "\n",
    "`SELECT gestation_weeks, COUNT(gestation_weeks) FROM birth_data_table WHERE infant_sex = 'M' GROUP BY gestation_weeks;`\n",
    "\n",
    "All the above queries run, but they are difficult to visually inspect in the Postgres terminal."
   ]
  },
  {
   "cell_type": "code",
   "execution_count": 6,
   "metadata": {},
   "outputs": [],
   "source": [
    "cur = con.cursor()"
   ]
  },
  {
   "cell_type": "code",
   "execution_count": 12,
   "metadata": {},
   "outputs": [],
   "source": [
    "query = \"\"\"\n",
    "        SELECT DISTINCT bv.code, bv.title FROM bill_text bt \n",
    "        INNER JOIN bill_versions bv ON bt.bill_version_id = bv.id;\n",
    "        \"\"\""
   ]
  },
  {
   "cell_type": "code",
   "execution_count": 15,
   "metadata": {},
   "outputs": [],
   "source": [
    "cur.execute(query)"
   ]
  },
  {
   "cell_type": "code",
   "execution_count": 17,
   "metadata": {},
   "outputs": [
    {
     "data": {
      "text/plain": [
       "[('ES', 'Engrossed (Senate)'),\n",
       " ('IH', 'Introduced (House)'),\n",
       " ('ENR', 'Enrolled'),\n",
       " ('RS', 'Reported in (Senate)'),\n",
       " ('EAH', 'Engrossed Amendment (House)'),\n",
       " ('EH', 'Engrossed (House)'),\n",
       " ('IS', 'Introduced (Senate)'),\n",
       " ('RH', 'Reported in (House)'),\n",
       " ('PCS', 'Placed on Calendar (Senate)')]"
      ]
     },
     "execution_count": 17,
     "metadata": {},
     "output_type": "execute_result"
    }
   ],
   "source": [
    "cur.fetchall()"
   ]
  },
  {
   "cell_type": "markdown",
   "metadata": {},
   "source": [
    "### Get distribution of topics."
   ]
  },
  {
   "cell_type": "code",
   "execution_count": 214,
   "metadata": {},
   "outputs": [],
   "source": [
    "query = \"\"\"\n",
    "        SELECT subjects_top_term, COUNT(*) FROM bills GROUP BY subjects_top_term;\n",
    "        \"\"\""
   ]
  },
  {
   "cell_type": "code",
   "execution_count": 47,
   "metadata": {},
   "outputs": [
    {
     "data": {
      "text/plain": [
       "[('Arts, culture, religion', 60),\n",
       " ('Labor and employment', 817),\n",
       " ('Sports and recreation', 46),\n",
       " ('Science, technology, communications', 673),\n",
       " ('Emergency management', 440)]"
      ]
     },
     "execution_count": 47,
     "metadata": {},
     "output_type": "execute_result"
    }
   ],
   "source": [
    "cur.execute(query)\n",
    "cur.fetchmany(5)"
   ]
  },
  {
   "cell_type": "code",
   "execution_count": 215,
   "metadata": {},
   "outputs": [
    {
     "data": {
      "text/html": [
       "<div>\n",
       "<style scoped>\n",
       "    .dataframe tbody tr th:only-of-type {\n",
       "        vertical-align: middle;\n",
       "    }\n",
       "\n",
       "    .dataframe tbody tr th {\n",
       "        vertical-align: top;\n",
       "    }\n",
       "\n",
       "    .dataframe thead th {\n",
       "        text-align: right;\n",
       "    }\n",
       "</style>\n",
       "<table border=\"1\" class=\"dataframe\">\n",
       "  <thead>\n",
       "    <tr style=\"text-align: right;\">\n",
       "      <th></th>\n",
       "      <th>count</th>\n",
       "    </tr>\n",
       "    <tr>\n",
       "      <th>subjects_top_term</th>\n",
       "      <th></th>\n",
       "    </tr>\n",
       "  </thead>\n",
       "  <tbody>\n",
       "    <tr>\n",
       "      <th>Health</th>\n",
       "      <td>3490</td>\n",
       "    </tr>\n",
       "    <tr>\n",
       "      <th>Taxation</th>\n",
       "      <td>2915</td>\n",
       "    </tr>\n",
       "    <tr>\n",
       "      <th>Armed forces and national security</th>\n",
       "      <td>2741</td>\n",
       "    </tr>\n",
       "    <tr>\n",
       "      <th>Government operations and politics</th>\n",
       "      <td>2233</td>\n",
       "    </tr>\n",
       "    <tr>\n",
       "      <th>Public lands and natural resources</th>\n",
       "      <td>1876</td>\n",
       "    </tr>\n",
       "    <tr>\n",
       "      <th>Crime and law enforcement</th>\n",
       "      <td>1810</td>\n",
       "    </tr>\n",
       "    <tr>\n",
       "      <th>Education</th>\n",
       "      <td>1520</td>\n",
       "    </tr>\n",
       "  </tbody>\n",
       "</table>\n",
       "</div>"
      ],
      "text/plain": [
       "                                    count\n",
       "subjects_top_term                        \n",
       "Health                               3490\n",
       "Taxation                             2915\n",
       "Armed forces and national security   2741\n",
       "Government operations and politics   2233\n",
       "Public lands and natural resources   1876\n",
       "Crime and law enforcement            1810\n",
       "Education                            1520"
      ]
     },
     "execution_count": 215,
     "metadata": {},
     "output_type": "execute_result"
    }
   ],
   "source": [
    "top_subjects = pd.read_sql_query(query, engine).set_index('subjects_top_term').sort_values(by='count', ascending=False)\n",
    "top_subjects.head(7)"
   ]
  },
  {
   "cell_type": "code",
   "execution_count": 66,
   "metadata": {},
   "outputs": [
    {
     "data": {
      "image/png": "[encoded data removed]",
      "text/plain": [
       "<Figure size 576x864 with 1 Axes>"
      ]
     },
     "metadata": {
      "needs_background": "light"
     },
     "output_type": "display_data"
    }
   ],
   "source": [
    "fig, ax = plt.subplots(figsize=(8, 12))\n",
    "colors = matplotlib.cm.viridis_r(np.linspace(0, 1, len(top_subjects)))\n",
    "top_subjects['count'].sort_values().plot(kind='barh', ax=ax, stacked=True, color=colors);\n",
    "ax.grid(); ax.set_axisbelow(True); ax.set_ylabel('Bill Subject', size=26); ax.set_xlabel('Frequency', size=26);"
   ]
  },
  {
   "cell_type": "code",
   "execution_count": 67,
   "metadata": {},
   "outputs": [
    {
     "data": {
      "text/html": [
       "<div>\n",
       "<style scoped>\n",
       "    .dataframe tbody tr th:only-of-type {\n",
       "        vertical-align: middle;\n",
       "    }\n",
       "\n",
       "    .dataframe tbody tr th {\n",
       "        vertical-align: top;\n",
       "    }\n",
       "\n",
       "    .dataframe thead th {\n",
       "        text-align: right;\n",
       "    }\n",
       "</style>\n",
       "<table border=\"1\" class=\"dataframe\">\n",
       "  <thead>\n",
       "    <tr style=\"text-align: right;\">\n",
       "      <th></th>\n",
       "      <th>count</th>\n",
       "    </tr>\n",
       "  </thead>\n",
       "  <tbody>\n",
       "    <tr>\n",
       "      <th>count</th>\n",
       "      <td>34.000000</td>\n",
       "    </tr>\n",
       "    <tr>\n",
       "      <th>mean</th>\n",
       "      <td>887.500000</td>\n",
       "    </tr>\n",
       "    <tr>\n",
       "      <th>std</th>\n",
       "      <td>888.054778</td>\n",
       "    </tr>\n",
       "    <tr>\n",
       "      <th>min</th>\n",
       "      <td>11.000000</td>\n",
       "    </tr>\n",
       "    <tr>\n",
       "      <th>25%</th>\n",
       "      <td>275.500000</td>\n",
       "    </tr>\n",
       "    <tr>\n",
       "      <th>50%</th>\n",
       "      <td>550.500000</td>\n",
       "    </tr>\n",
       "    <tr>\n",
       "      <th>75%</th>\n",
       "      <td>1214.000000</td>\n",
       "    </tr>\n",
       "    <tr>\n",
       "      <th>max</th>\n",
       "      <td>3490.000000</td>\n",
       "    </tr>\n",
       "  </tbody>\n",
       "</table>\n",
       "</div>"
      ],
      "text/plain": [
       "             count\n",
       "count    34.000000\n",
       "mean    887.500000\n",
       "std     888.054778\n",
       "min      11.000000\n",
       "25%     275.500000\n",
       "50%     550.500000\n",
       "75%    1214.000000\n",
       "max    3490.000000"
      ]
     },
     "execution_count": 67,
     "metadata": {},
     "output_type": "execute_result"
    }
   ],
   "source": [
    "top_subjects.describe()"
   ]
  },
  {
   "cell_type": "code",
   "execution_count": 87,
   "metadata": {},
   "outputs": [
    {
     "data": {
      "text/html": [
       "<div>\n",
       "<style scoped>\n",
       "    .dataframe tbody tr th:only-of-type {\n",
       "        vertical-align: middle;\n",
       "    }\n",
       "\n",
       "    .dataframe tbody tr th {\n",
       "        vertical-align: top;\n",
       "    }\n",
       "\n",
       "    .dataframe thead th {\n",
       "        text-align: right;\n",
       "    }\n",
       "</style>\n",
       "<table border=\"1\" class=\"dataframe\">\n",
       "  <thead>\n",
       "    <tr style=\"text-align: right;\">\n",
       "      <th></th>\n",
       "      <th>count</th>\n",
       "    </tr>\n",
       "    <tr>\n",
       "      <th>subjects_top_term</th>\n",
       "      <th></th>\n",
       "    </tr>\n",
       "  </thead>\n",
       "  <tbody>\n",
       "    <tr>\n",
       "      <th>Health</th>\n",
       "      <td>3490</td>\n",
       "    </tr>\n",
       "    <tr>\n",
       "      <th>Taxation</th>\n",
       "      <td>2915</td>\n",
       "    </tr>\n",
       "    <tr>\n",
       "      <th>Armed forces and national security</th>\n",
       "      <td>2741</td>\n",
       "    </tr>\n",
       "    <tr>\n",
       "      <th>Government operations and politics</th>\n",
       "      <td>2233</td>\n",
       "    </tr>\n",
       "    <tr>\n",
       "      <th>Public lands and natural resources</th>\n",
       "      <td>1876</td>\n",
       "    </tr>\n",
       "    <tr>\n",
       "      <th>Crime and law enforcement</th>\n",
       "      <td>1810</td>\n",
       "    </tr>\n",
       "    <tr>\n",
       "      <th>Education</th>\n",
       "      <td>1520</td>\n",
       "    </tr>\n",
       "    <tr>\n",
       "      <th>Finance and financial sector</th>\n",
       "      <td>1329</td>\n",
       "    </tr>\n",
       "  </tbody>\n",
       "</table>\n",
       "</div>"
      ],
      "text/plain": [
       "                                    count\n",
       "subjects_top_term                        \n",
       "Health                               3490\n",
       "Taxation                             2915\n",
       "Armed forces and national security   2741\n",
       "Government operations and politics   2233\n",
       "Public lands and natural resources   1876\n",
       "Crime and law enforcement            1810\n",
       "Education                            1520\n",
       "Finance and financial sector         1329"
      ]
     },
     "execution_count": 87,
     "metadata": {},
     "output_type": "execute_result"
    }
   ],
   "source": [
    "top25 = top_subjects.nlargest(int(0.25*len(top_subjects)), 'count')\n",
    "top25"
   ]
  },
  {
   "cell_type": "code",
   "execution_count": 92,
   "metadata": {},
   "outputs": [
    {
     "data": {
      "text/plain": [
       "['Health',\n",
       " 'Taxation',\n",
       " 'Armed forces and national security',\n",
       " 'Government operations and politics',\n",
       " 'Public lands and natural resources',\n",
       " 'Crime and law enforcement',\n",
       " 'Education',\n",
       " 'Finance and financial sector']"
      ]
     },
     "execution_count": 92,
     "metadata": {},
     "output_type": "execute_result"
    }
   ],
   "source": [
    "list(top25.index.values)"
   ]
  },
  {
   "cell_type": "code",
   "execution_count": 167,
   "metadata": {},
   "outputs": [
    {
     "data": {
      "text/html": [
       "<div>\n",
       "<style scoped>\n",
       "    .dataframe tbody tr th:only-of-type {\n",
       "        vertical-align: middle;\n",
       "    }\n",
       "\n",
       "    .dataframe tbody tr th {\n",
       "        vertical-align: top;\n",
       "    }\n",
       "\n",
       "    .dataframe thead th {\n",
       "        text-align: right;\n",
       "    }\n",
       "</style>\n",
       "<table border=\"1\" class=\"dataframe\">\n",
       "  <thead>\n",
       "    <tr style=\"text-align: right;\">\n",
       "      <th></th>\n",
       "      <th>id</th>\n",
       "      <th>bill_ix</th>\n",
       "      <th>as</th>\n",
       "      <th>date</th>\n",
       "      <th>text</th>\n",
       "      <th>source</th>\n",
       "    </tr>\n",
       "  </thead>\n",
       "  <tbody>\n",
       "    <tr>\n",
       "      <th>0</th>\n",
       "      <td>9677</td>\n",
       "      <td>7899</td>\n",
       "      <td>Introduced in House</td>\n",
       "      <td>2016-07-13</td>\n",
       "      <td>Marine Mammal Research and Response Act of 201...</td>\n",
       "      <td>1</td>\n",
       "    </tr>\n",
       "    <tr>\n",
       "      <th>1</th>\n",
       "      <td>9678</td>\n",
       "      <td>7900</td>\n",
       "      <td>Introduced in House</td>\n",
       "      <td>2015-05-21</td>\n",
       "      <td>Coastal Communities Ocean Acidification Act of...</td>\n",
       "      <td>1</td>\n",
       "    </tr>\n",
       "    <tr>\n",
       "      <th>2</th>\n",
       "      <td>9679</td>\n",
       "      <td>7901</td>\n",
       "      <td>Introduced in House</td>\n",
       "      <td>2015-09-10</td>\n",
       "      <td>Police Reporting Information, Data, and Eviden...</td>\n",
       "      <td>1</td>\n",
       "    </tr>\n",
       "    <tr>\n",
       "      <th>3</th>\n",
       "      <td>9680</td>\n",
       "      <td>7902</td>\n",
       "      <td>Introduced in House</td>\n",
       "      <td>2015-06-12</td>\n",
       "      <td>Sanctity of Life Act of 2015\\n\\nDeclares that:...</td>\n",
       "      <td>1</td>\n",
       "    </tr>\n",
       "    <tr>\n",
       "      <th>4</th>\n",
       "      <td>9681</td>\n",
       "      <td>7903</td>\n",
       "      <td>Introduced in House</td>\n",
       "      <td>2016-02-08</td>\n",
       "      <td>Funding Unpaid National Debt with Settlements ...</td>\n",
       "      <td>1</td>\n",
       "    </tr>\n",
       "  </tbody>\n",
       "</table>\n",
       "</div>"
      ],
      "text/plain": [
       "     id  bill_ix                   as       date  \\\n",
       "0  9677     7899  Introduced in House 2016-07-13   \n",
       "1  9678     7900  Introduced in House 2015-05-21   \n",
       "2  9679     7901  Introduced in House 2015-09-10   \n",
       "3  9680     7902  Introduced in House 2015-06-12   \n",
       "4  9681     7903  Introduced in House 2016-02-08   \n",
       "\n",
       "                                                text  source  \n",
       "0  Marine Mammal Research and Response Act of 201...       1  \n",
       "1  Coastal Communities Ocean Acidification Act of...       1  \n",
       "2  Police Reporting Information, Data, and Eviden...       1  \n",
       "3  Sanctity of Life Act of 2015\\n\\nDeclares that:...       1  \n",
       "4  Funding Unpaid National Debt with Settlements ...       1  "
      ]
     },
     "execution_count": 167,
     "metadata": {},
     "output_type": "execute_result"
    }
   ],
   "source": [
    "summary_table = pd.read_sql_table('summaries', con=engine, columns=None)#, index_col='id')\n",
    "summary_table.head()"
   ]
  },
  {
   "cell_type": "code",
   "execution_count": 168,
   "metadata": {},
   "outputs": [
    {
     "name": "stdout",
     "output_type": "stream",
     "text": [
      "There are 23812 summaries\n"
     ]
    }
   ],
   "source": [
    "print('There are {} summaries'.format(len(summary_table)))"
   ]
  },
  {
   "cell_type": "code",
   "execution_count": 169,
   "metadata": {},
   "outputs": [
    {
     "data": {
      "text/html": [
       "<div>\n",
       "<style scoped>\n",
       "    .dataframe tbody tr th:only-of-type {\n",
       "        vertical-align: middle;\n",
       "    }\n",
       "\n",
       "    .dataframe tbody tr th {\n",
       "        vertical-align: top;\n",
       "    }\n",
       "\n",
       "    .dataframe thead th {\n",
       "        text-align: right;\n",
       "    }\n",
       "</style>\n",
       "<table border=\"1\" class=\"dataframe\">\n",
       "  <thead>\n",
       "    <tr style=\"text-align: right;\">\n",
       "      <th></th>\n",
       "      <th>id</th>\n",
       "      <th>official_title</th>\n",
       "      <th>popular_title</th>\n",
       "      <th>url</th>\n",
       "      <th>bill_type</th>\n",
       "      <th>status_at</th>\n",
       "      <th>by_request</th>\n",
       "      <th>sponsor</th>\n",
       "      <th>updated_at</th>\n",
       "      <th>status</th>\n",
       "      <th>number</th>\n",
       "      <th>subjects_top_term</th>\n",
       "      <th>bill_id</th>\n",
       "      <th>introduced_at</th>\n",
       "      <th>congress</th>\n",
       "      <th>short_title</th>\n",
       "    </tr>\n",
       "  </thead>\n",
       "  <tbody>\n",
       "    <tr>\n",
       "      <th>0</th>\n",
       "      <td>5529</td>\n",
       "      <td>To require the Securities and Exchange Commiss...</td>\n",
       "      <td>NaN</td>\n",
       "      <td>https://www.gpo.gov/fdsys/bulkdata/BILLSTATUS/...</td>\n",
       "      <td>0</td>\n",
       "      <td>2015-03-03</td>\n",
       "      <td>False</td>\n",
       "      <td>153</td>\n",
       "      <td>2017-12-11 19:28:52</td>\n",
       "      <td>4.0</td>\n",
       "      <td>1216</td>\n",
       "      <td>Finance and financial sector</td>\n",
       "      <td>hr1216-114</td>\n",
       "      <td>2015-03-03</td>\n",
       "      <td>114</td>\n",
       "      <td>Maker-Taker Conflict of Interest Reform Act of...</td>\n",
       "    </tr>\n",
       "    <tr>\n",
       "      <th>1</th>\n",
       "      <td>5530</td>\n",
       "      <td>To direct the Secretary of Veterans Affairs to...</td>\n",
       "      <td>NaN</td>\n",
       "      <td>https://www.gpo.gov/fdsys/bulkdata/BILLSTATUS/...</td>\n",
       "      <td>0</td>\n",
       "      <td>2016-03-16</td>\n",
       "      <td>False</td>\n",
       "      <td>12419</td>\n",
       "      <td>2017-12-11 21:02:18</td>\n",
       "      <td>4.0</td>\n",
       "      <td>4764</td>\n",
       "      <td>Armed forces and national security</td>\n",
       "      <td>hr4764-114</td>\n",
       "      <td>2016-03-16</td>\n",
       "      <td>114</td>\n",
       "      <td>Puppies Assisting Wounded Servicemembers (PAWS...</td>\n",
       "    </tr>\n",
       "    <tr>\n",
       "      <th>2</th>\n",
       "      <td>5531</td>\n",
       "      <td>To provide limitations on maritime liens on fi...</td>\n",
       "      <td>NaN</td>\n",
       "      <td>https://www.gpo.gov/fdsys/bulkdata/BILLSTATUS/...</td>\n",
       "      <td>0</td>\n",
       "      <td>2015-01-13</td>\n",
       "      <td>False</td>\n",
       "      <td>256</td>\n",
       "      <td>2017-12-11 19:10:21</td>\n",
       "      <td>4.0</td>\n",
       "      <td>337</td>\n",
       "      <td>Transportation and public works</td>\n",
       "      <td>hr337-114</td>\n",
       "      <td>2015-01-13</td>\n",
       "      <td>114</td>\n",
       "      <td>Maritime Lien Reform Act</td>\n",
       "    </tr>\n",
       "  </tbody>\n",
       "</table>\n",
       "</div>"
      ],
      "text/plain": [
       "     id                                     official_title popular_title  \\\n",
       "0  5529  To require the Securities and Exchange Commiss...           NaN   \n",
       "1  5530  To direct the Secretary of Veterans Affairs to...           NaN   \n",
       "2  5531  To provide limitations on maritime liens on fi...           NaN   \n",
       "\n",
       "                                                 url  bill_type  status_at  \\\n",
       "0  https://www.gpo.gov/fdsys/bulkdata/BILLSTATUS/...          0 2015-03-03   \n",
       "1  https://www.gpo.gov/fdsys/bulkdata/BILLSTATUS/...          0 2016-03-16   \n",
       "2  https://www.gpo.gov/fdsys/bulkdata/BILLSTATUS/...          0 2015-01-13   \n",
       "\n",
       "   by_request  sponsor          updated_at  status  number  \\\n",
       "0       False      153 2017-12-11 19:28:52     4.0    1216   \n",
       "1       False    12419 2017-12-11 21:02:18     4.0    4764   \n",
       "2       False      256 2017-12-11 19:10:21     4.0     337   \n",
       "\n",
       "                    subjects_top_term     bill_id introduced_at  congress  \\\n",
       "0        Finance and financial sector  hr1216-114    2015-03-03       114   \n",
       "1  Armed forces and national security  hr4764-114    2016-03-16       114   \n",
       "2     Transportation and public works   hr337-114    2015-01-13       114   \n",
       "\n",
       "                                         short_title  \n",
       "0  Maker-Taker Conflict of Interest Reform Act of...  \n",
       "1  Puppies Assisting Wounded Servicemembers (PAWS...  \n",
       "2                           Maritime Lien Reform Act  "
      ]
     },
     "execution_count": 169,
     "metadata": {},
     "output_type": "execute_result"
    }
   ],
   "source": [
    "bills_info = pd.read_sql_table('bills', con=engine)\n",
    "bills_info.head(3)"
   ]
  },
  {
   "cell_type": "code",
   "execution_count": 170,
   "metadata": {},
   "outputs": [],
   "source": [
    "bills_text_table = pd.read_sql_table('bill_text', con=engine, columns=None)#, index_col='id')"
   ]
  },
  {
   "cell_type": "code",
   "execution_count": 175,
   "metadata": {},
   "outputs": [
    {
     "data": {
      "text/plain": [
       "Index(['id', 'bill_ix', 'as', 'date', 'text', 'source'], dtype='object')"
      ]
     },
     "execution_count": 175,
     "metadata": {},
     "output_type": "execute_result"
    }
   ],
   "source": [
    "summary_table.columns"
   ]
  },
  {
   "cell_type": "code",
   "execution_count": 177,
   "metadata": {},
   "outputs": [
    {
     "data": {
      "text/plain": [
       "Index(['bill_ix', 'bill_version_id', 'text'], dtype='object')"
      ]
     },
     "execution_count": 177,
     "metadata": {},
     "output_type": "execute_result"
    }
   ],
   "source": [
    "bills_text_table.columns"
   ]
  },
  {
   "cell_type": "code",
   "execution_count": 180,
   "metadata": {},
   "outputs": [
    {
     "data": {
      "text/plain": [
       "Index(['id', 'official_title', 'popular_title', 'url', 'bill_type',\n",
       "       'status_at', 'by_request', 'sponsor', 'updated_at', 'status', 'number',\n",
       "       'subjects_top_term', 'bill_id', 'introduced_at', 'congress',\n",
       "       'short_title'],\n",
       "      dtype='object')"
      ]
     },
     "execution_count": 180,
     "metadata": {},
     "output_type": "execute_result"
    }
   ],
   "source": [
    "bills_info.columns"
   ]
  },
  {
   "cell_type": "code",
   "execution_count": 284,
   "metadata": {},
   "outputs": [],
   "source": [
    "query = \"\"\"\n",
    "        SELECT \n",
    "        sm.text AS summary_text,\n",
    "        sm.bill_ix, sm.as, sm.date,\n",
    "        bv.code,\n",
    "        bt.text AS full_text\n",
    "        FROM summaries sm\n",
    "        INNER JOIN bill_text bt\n",
    "        ON sm.bill_ix=bt.bill_ix\n",
    "        INNER JOIN bill_versions bv\n",
    "        ON bv.id=bt.bill_version_id\n",
    "        ;\n",
    "        \"\"\"\n",
    "bill_inner_join = pd.read_sql_query(query, engine)"
   ]
  },
  {
   "cell_type": "code",
   "execution_count": 285,
   "metadata": {},
   "outputs": [
    {
     "data": {
      "text/plain": [
       "30669"
      ]
     },
     "execution_count": 285,
     "metadata": {},
     "output_type": "execute_result"
    }
   ],
   "source": [
    "bill_inner_join.full_text.nunique()"
   ]
  },
  {
   "cell_type": "code",
   "execution_count": 286,
   "metadata": {},
   "outputs": [
    {
     "data": {
      "text/plain": [
       "21736"
      ]
     },
     "execution_count": 286,
     "metadata": {},
     "output_type": "execute_result"
    }
   ],
   "source": [
    "bill_inner_join.summary_text.nunique()"
   ]
  },
  {
   "cell_type": "code",
   "execution_count": 287,
   "metadata": {},
   "outputs": [
    {
     "data": {
      "text/plain": [
       "21736"
      ]
     },
     "execution_count": 287,
     "metadata": {},
     "output_type": "execute_result"
    }
   ],
   "source": [
    "bill_inner_join.summary_text.nunique()"
   ]
  },
  {
   "cell_type": "code",
   "execution_count": 288,
   "metadata": {},
   "outputs": [
    {
     "data": {
      "text/html": [
       "<div>\n",
       "<style scoped>\n",
       "    .dataframe tbody tr th:only-of-type {\n",
       "        vertical-align: middle;\n",
       "    }\n",
       "\n",
       "    .dataframe tbody tr th {\n",
       "        vertical-align: top;\n",
       "    }\n",
       "\n",
       "    .dataframe thead th {\n",
       "        text-align: right;\n",
       "    }\n",
       "</style>\n",
       "<table border=\"1\" class=\"dataframe\">\n",
       "  <thead>\n",
       "    <tr style=\"text-align: right;\">\n",
       "      <th></th>\n",
       "      <th>summary_text</th>\n",
       "      <th>bill_ix</th>\n",
       "      <th>as</th>\n",
       "      <th>date</th>\n",
       "      <th>code</th>\n",
       "      <th>full_text</th>\n",
       "    </tr>\n",
       "  </thead>\n",
       "  <tbody>\n",
       "    <tr>\n",
       "      <th>0</th>\n",
       "      <td>Consumer Financial Protection Commission Act o...</td>\n",
       "      <td>27059</td>\n",
       "      <td>Introduced in House</td>\n",
       "      <td>2013-06-17</td>\n",
       "      <td>IH</td>\n",
       "      <td>&lt;?xml-stylesheet type=\"text/xsl\" href=\"billres...</td>\n",
       "    </tr>\n",
       "    <tr>\n",
       "      <th>1</th>\n",
       "      <td>Children of Military Service Members Commemora...</td>\n",
       "      <td>27062</td>\n",
       "      <td>Introduced in House</td>\n",
       "      <td>2013-05-08</td>\n",
       "      <td>IH</td>\n",
       "      <td>&lt;?xml-stylesheet type=\"text/xsl\" href=\"billres...</td>\n",
       "    </tr>\n",
       "    <tr>\n",
       "      <th>2</th>\n",
       "      <td>Tick-Borne Disease Research Accountability and...</td>\n",
       "      <td>27064</td>\n",
       "      <td>Passed House amended</td>\n",
       "      <td>2014-09-09</td>\n",
       "      <td>IH</td>\n",
       "      <td>&lt;?xml-stylesheet type=\"text/xsl\" href=\"billres...</td>\n",
       "    </tr>\n",
       "    <tr>\n",
       "      <th>3</th>\n",
       "      <td>Tick-Borne Disease Research Accountability and...</td>\n",
       "      <td>27064</td>\n",
       "      <td>Passed House amended</td>\n",
       "      <td>2014-09-09</td>\n",
       "      <td>RH</td>\n",
       "      <td>&lt;?xml-stylesheet type=\"text/xsl\" href=\"billres...</td>\n",
       "    </tr>\n",
       "    <tr>\n",
       "      <th>4</th>\n",
       "      <td>Tick-Borne Disease Research Accountability and...</td>\n",
       "      <td>27064</td>\n",
       "      <td>Passed House amended</td>\n",
       "      <td>2014-09-09</td>\n",
       "      <td>EH</td>\n",
       "      <td>&lt;?xml-stylesheet type=\"text/xsl\" href=\"billres...</td>\n",
       "    </tr>\n",
       "  </tbody>\n",
       "</table>\n",
       "</div>"
      ],
      "text/plain": [
       "                                        summary_text  bill_ix  \\\n",
       "0  Consumer Financial Protection Commission Act o...    27059   \n",
       "1  Children of Military Service Members Commemora...    27062   \n",
       "2  Tick-Borne Disease Research Accountability and...    27064   \n",
       "3  Tick-Borne Disease Research Accountability and...    27064   \n",
       "4  Tick-Borne Disease Research Accountability and...    27064   \n",
       "\n",
       "                     as       date code  \\\n",
       "0   Introduced in House 2013-06-17   IH   \n",
       "1   Introduced in House 2013-05-08   IH   \n",
       "2  Passed House amended 2014-09-09   IH   \n",
       "3  Passed House amended 2014-09-09   RH   \n",
       "4  Passed House amended 2014-09-09   EH   \n",
       "\n",
       "                                           full_text  \n",
       "0  <?xml-stylesheet type=\"text/xsl\" href=\"billres...  \n",
       "1  <?xml-stylesheet type=\"text/xsl\" href=\"billres...  \n",
       "2  <?xml-stylesheet type=\"text/xsl\" href=\"billres...  \n",
       "3  <?xml-stylesheet type=\"text/xsl\" href=\"billres...  \n",
       "4  <?xml-stylesheet type=\"text/xsl\" href=\"billres...  "
      ]
     },
     "execution_count": 288,
     "metadata": {},
     "output_type": "execute_result"
    }
   ],
   "source": [
    "bill_inner_join.head()"
   ]
  },
  {
   "cell_type": "code",
   "execution_count": 283,
   "metadata": {},
   "outputs": [
    {
     "data": {
      "text/html": [
       "<div>\n",
       "<style scoped>\n",
       "    .dataframe tbody tr th:only-of-type {\n",
       "        vertical-align: middle;\n",
       "    }\n",
       "\n",
       "    .dataframe tbody tr th {\n",
       "        vertical-align: top;\n",
       "    }\n",
       "\n",
       "    .dataframe thead th {\n",
       "        text-align: right;\n",
       "    }\n",
       "</style>\n",
       "<table border=\"1\" class=\"dataframe\">\n",
       "  <thead>\n",
       "    <tr style=\"text-align: right;\">\n",
       "      <th></th>\n",
       "      <th>id</th>\n",
       "      <th>title</th>\n",
       "      <th>code</th>\n",
       "      <th>definition</th>\n",
       "      <th>chamber</th>\n",
       "    </tr>\n",
       "  </thead>\n",
       "  <tbody>\n",
       "    <tr>\n",
       "      <th>0</th>\n",
       "      <td>0</td>\n",
       "      <td>Amendment (Senate)</td>\n",
       "      <td>AS</td>\n",
       "      <td>An alternate name for this version is Senate A...</td>\n",
       "      <td>Senate</td>\n",
       "    </tr>\n",
       "    <tr>\n",
       "      <th>1</th>\n",
       "      <td>1</td>\n",
       "      <td>Additional Sponsors (House)</td>\n",
       "      <td>ASH</td>\n",
       "      <td>An alternate name for this version is House Sp...</td>\n",
       "      <td>House</td>\n",
       "    </tr>\n",
       "    <tr>\n",
       "      <th>2</th>\n",
       "      <td>2</td>\n",
       "      <td>Agreed to (House)</td>\n",
       "      <td>ATH</td>\n",
       "      <td>An alternate name for this version is Agreed t...</td>\n",
       "      <td>House</td>\n",
       "    </tr>\n",
       "    <tr>\n",
       "      <th>3</th>\n",
       "      <td>3</td>\n",
       "      <td>Agreed to (Senate)</td>\n",
       "      <td>ATS</td>\n",
       "      <td>An alternate name for this version is Agreed t...</td>\n",
       "      <td>Senate</td>\n",
       "    </tr>\n",
       "    <tr>\n",
       "      <th>4</th>\n",
       "      <td>4</td>\n",
       "      <td>Committee Discharged (House)</td>\n",
       "      <td>CDH</td>\n",
       "      <td>An alternate name for this version is House Co...</td>\n",
       "      <td>House ",
       "Senate</td>\n",
       "    </tr>\n",
       "  </tbody>\n",
       "</table>\n",
       "</div>"
      ],
      "text/plain": [
       "   id                         title code  \\\n",
       "0   0            Amendment (Senate)   AS   \n",
       "1   1   Additional Sponsors (House)  ASH   \n",
       "2   2             Agreed to (House)  ATH   \n",
       "3   3            Agreed to (Senate)  ATS   \n",
       "4   4  Committee Discharged (House)  CDH   \n",
       "\n",
       "                                          definition       chamber  \n",
       "0  An alternate name for this version is Senate A...        Senate  \n",
       "1  An alternate name for this version is House Sp...         House  \n",
       "2  An alternate name for this version is Agreed t...         House  \n",
       "3  An alternate name for this version is Agreed t...        Senate  \n",
       "4  An alternate name for this version is House Co...  House\n",
       "Senate  "
      ]
     },
     "execution_count": 283,
     "metadata": {},
     "output_type": "execute_result"
    }
   ],
   "source": [
    "bill_versions = pd.read_sql_table('bill_versions', con=engine)\n",
    "bill_versions.head()"
   ]
  },
  {
   "cell_type": "markdown",
   "metadata": {},
   "source": [
    "# Education Bills\n",
    "#### Lets work on a subset of `subjects_top_term = education`"
   ]
  },
  {
   "cell_type": "code",
   "execution_count": 204,
   "metadata": {},
   "outputs": [],
   "source": [
    "subject = list(top25.index.values)[6]"
   ]
  },
  {
   "cell_type": "code",
   "execution_count": 196,
   "metadata": {},
   "outputs": [
    {
     "data": {
      "text/html": [
       "<div>\n",
       "<style scoped>\n",
       "    .dataframe tbody tr th:only-of-type {\n",
       "        vertical-align: middle;\n",
       "    }\n",
       "\n",
       "    .dataframe tbody tr th {\n",
       "        vertical-align: top;\n",
       "    }\n",
       "\n",
       "    .dataframe thead th {\n",
       "        text-align: right;\n",
       "    }\n",
       "</style>\n",
       "<table border=\"1\" class=\"dataframe\">\n",
       "  <thead>\n",
       "    <tr style=\"text-align: right;\">\n",
       "      <th></th>\n",
       "      <th>id</th>\n",
       "      <th>official_title</th>\n",
       "      <th>popular_title</th>\n",
       "      <th>url</th>\n",
       "      <th>bill_type</th>\n",
       "      <th>status_at</th>\n",
       "      <th>by_request</th>\n",
       "      <th>sponsor</th>\n",
       "      <th>updated_at</th>\n",
       "      <th>status</th>\n",
       "      <th>number</th>\n",
       "      <th>subjects_top_term</th>\n",
       "      <th>bill_id</th>\n",
       "      <th>introduced_at</th>\n",
       "      <th>congress</th>\n",
       "      <th>short_title</th>\n",
       "    </tr>\n",
       "  </thead>\n",
       "  <tbody>\n",
       "    <tr>\n",
       "      <th>0</th>\n",
       "      <td>5529</td>\n",
       "      <td>To require the Securities and Exchange Commiss...</td>\n",
       "      <td>NaN</td>\n",
       "      <td>https://www.gpo.gov/fdsys/bulkdata/BILLSTATUS/...</td>\n",
       "      <td>0</td>\n",
       "      <td>2015-03-03</td>\n",
       "      <td>False</td>\n",
       "      <td>153</td>\n",
       "      <td>2017-12-11 19:28:52</td>\n",
       "      <td>4.0</td>\n",
       "      <td>1216</td>\n",
       "      <td>Finance and financial sector</td>\n",
       "      <td>hr1216-114</td>\n",
       "      <td>2015-03-03</td>\n",
       "      <td>114</td>\n",
       "      <td>Maker-Taker Conflict of Interest Reform Act of...</td>\n",
       "    </tr>\n",
       "    <tr>\n",
       "      <th>1</th>\n",
       "      <td>5530</td>\n",
       "      <td>To direct the Secretary of Veterans Affairs to...</td>\n",
       "      <td>NaN</td>\n",
       "      <td>https://www.gpo.gov/fdsys/bulkdata/BILLSTATUS/...</td>\n",
       "      <td>0</td>\n",
       "      <td>2016-03-16</td>\n",
       "      <td>False</td>\n",
       "      <td>12419</td>\n",
       "      <td>2017-12-11 21:02:18</td>\n",
       "      <td>4.0</td>\n",
       "      <td>4764</td>\n",
       "      <td>Armed forces and national security</td>\n",
       "      <td>hr4764-114</td>\n",
       "      <td>2016-03-16</td>\n",
       "      <td>114</td>\n",
       "      <td>Puppies Assisting Wounded Servicemembers (PAWS...</td>\n",
       "    </tr>\n",
       "  </tbody>\n",
       "</table>\n",
       "</div>"
      ],
      "text/plain": [
       "     id                                     official_title popular_title  \\\n",
       "0  5529  To require the Securities and Exchange Commiss...           NaN   \n",
       "1  5530  To direct the Secretary of Veterans Affairs to...           NaN   \n",
       "\n",
       "                                                 url  bill_type  status_at  \\\n",
       "0  https://www.gpo.gov/fdsys/bulkdata/BILLSTATUS/...          0 2015-03-03   \n",
       "1  https://www.gpo.gov/fdsys/bulkdata/BILLSTATUS/...          0 2016-03-16   \n",
       "\n",
       "   by_request  sponsor          updated_at  status  number  \\\n",
       "0       False      153 2017-12-11 19:28:52     4.0    1216   \n",
       "1       False    12419 2017-12-11 21:02:18     4.0    4764   \n",
       "\n",
       "                    subjects_top_term     bill_id introduced_at  congress  \\\n",
       "0        Finance and financial sector  hr1216-114    2015-03-03       114   \n",
       "1  Armed forces and national security  hr4764-114    2016-03-16       114   \n",
       "\n",
       "                                         short_title  \n",
       "0  Maker-Taker Conflict of Interest Reform Act of...  \n",
       "1  Puppies Assisting Wounded Servicemembers (PAWS...  "
      ]
     },
     "execution_count": 196,
     "metadata": {},
     "output_type": "execute_result"
    }
   ],
   "source": [
    "bills_info.head(2)"
   ]
  },
  {
   "cell_type": "code",
   "execution_count": 225,
   "metadata": {},
   "outputs": [
    {
     "data": {
      "text/plain": [
       "1520"
      ]
     },
     "execution_count": 225,
     "metadata": {},
     "output_type": "execute_result"
    }
   ],
   "source": [
    "select_cols = ['id', 'official_title', 'bill_type', 'status_at', 'sponsor', 'status', \n",
    "               'subjects_top_term', 'bill_id', 'introduced_at', 'congress', 'short_title']\n",
    "ed_bills = bills_info[bills_info['subjects_top_term'] == subject][select_cols]\n",
    "ed_bills = ed_bills.rename(columns={'id':'bill_ix'})\n",
    "len(ed_bills)"
   ]
  },
  {
   "cell_type": "code",
   "execution_count": 289,
   "metadata": {},
   "outputs": [
    {
     "data": {
      "text/plain": [
       "1168"
      ]
     },
     "execution_count": 289,
     "metadata": {},
     "output_type": "execute_result"
    }
   ],
   "source": [
    "ed_bills_join = ed_bills.merge(bill_inner_join, on='bill_ix', how='inner')\n",
    "len(ed_bills_join)"
   ]
  },
  {
   "cell_type": "code",
   "execution_count": 290,
   "metadata": {},
   "outputs": [
    {
     "data": {
      "text/html": [
       "<div>\n",
       "<style scoped>\n",
       "    .dataframe tbody tr th:only-of-type {\n",
       "        vertical-align: middle;\n",
       "    }\n",
       "\n",
       "    .dataframe tbody tr th {\n",
       "        vertical-align: top;\n",
       "    }\n",
       "\n",
       "    .dataframe thead th {\n",
       "        text-align: right;\n",
       "    }\n",
       "</style>\n",
       "<table border=\"1\" class=\"dataframe\">\n",
       "  <thead>\n",
       "    <tr style=\"text-align: right;\">\n",
       "      <th></th>\n",
       "      <th>bill_ix</th>\n",
       "      <th>official_title</th>\n",
       "      <th>bill_type</th>\n",
       "      <th>status_at</th>\n",
       "      <th>sponsor</th>\n",
       "      <th>status</th>\n",
       "      <th>subjects_top_term</th>\n",
       "      <th>bill_id</th>\n",
       "      <th>introduced_at</th>\n",
       "      <th>congress</th>\n",
       "      <th>short_title</th>\n",
       "      <th>summary_text</th>\n",
       "      <th>as</th>\n",
       "      <th>date</th>\n",
       "      <th>code</th>\n",
       "      <th>full_text</th>\n",
       "    </tr>\n",
       "  </thead>\n",
       "  <tbody>\n",
       "    <tr>\n",
       "      <th>0</th>\n",
       "      <td>5537</td>\n",
       "      <td>To require the Secretary of Education to use t...</td>\n",
       "      <td>0</td>\n",
       "      <td>2015-02-12</td>\n",
       "      <td>131</td>\n",
       "      <td>4.0</td>\n",
       "      <td>Education</td>\n",
       "      <td>hr939-114</td>\n",
       "      <td>2015-02-12</td>\n",
       "      <td>114</td>\n",
       "      <td>Pell Grant Funding Act</td>\n",
       "      <td>Pell Grant Funding Act\\n\\nDirects the Secretar...</td>\n",
       "      <td>Introduced in House</td>\n",
       "      <td>2015-02-12</td>\n",
       "      <td>IH</td>\n",
       "      <td>&lt;?xml-stylesheet type=\"text/xsl\" href=\"billres...</td>\n",
       "    </tr>\n",
       "    <tr>\n",
       "      <th>1</th>\n",
       "      <td>5545</td>\n",
       "      <td>To require the Secretary of Education to asses...</td>\n",
       "      <td>0</td>\n",
       "      <td>2015-01-27</td>\n",
       "      <td>12390</td>\n",
       "      <td>4.0</td>\n",
       "      <td>Education</td>\n",
       "      <td>hr561-114</td>\n",
       "      <td>2015-01-27</td>\n",
       "      <td>114</td>\n",
       "      <td>Assessing Appropriate School Start Times Act</td>\n",
       "      <td>Assessing Appropriate School Start Times Act\\n...</td>\n",
       "      <td>Introduced in House</td>\n",
       "      <td>2015-01-27</td>\n",
       "      <td>IH</td>\n",
       "      <td>&lt;?xml-stylesheet type=\"text/xsl\" href=\"billres...</td>\n",
       "    </tr>\n",
       "    <tr>\n",
       "      <th>2</th>\n",
       "      <td>5572</td>\n",
       "      <td>To allow funds under title II of the Elementar...</td>\n",
       "      <td>0</td>\n",
       "      <td>2015-04-15</td>\n",
       "      <td>276</td>\n",
       "      <td>4.0</td>\n",
       "      <td>Education</td>\n",
       "      <td>hr1827-114</td>\n",
       "      <td>2015-04-15</td>\n",
       "      <td>114</td>\n",
       "      <td>Helping Schools Protect Our Children Act of 2015</td>\n",
       "      <td>Helping Schools Protect Our Children Act of 20...</td>\n",
       "      <td>Introduced in House</td>\n",
       "      <td>2015-04-15</td>\n",
       "      <td>IH</td>\n",
       "      <td>&lt;?xml-stylesheet type=\"text/xsl\" href=\"billres...</td>\n",
       "    </tr>\n",
       "    <tr>\n",
       "      <th>3</th>\n",
       "      <td>5590</td>\n",
       "      <td>To amend the Higher Education Act of 1965 to p...</td>\n",
       "      <td>0</td>\n",
       "      <td>2015-04-23</td>\n",
       "      <td>328</td>\n",
       "      <td>4.0</td>\n",
       "      <td>Education</td>\n",
       "      <td>hr2004-114</td>\n",
       "      <td>2015-04-23</td>\n",
       "      <td>114</td>\n",
       "      <td>Online Education Verification Act</td>\n",
       "      <td>Online Education Verification Act\\n\\nAmends ti...</td>\n",
       "      <td>Introduced in House</td>\n",
       "      <td>2015-04-23</td>\n",
       "      <td>IH</td>\n",
       "      <td>&lt;?xml-stylesheet type=\"text/xsl\" href=\"billres...</td>\n",
       "    </tr>\n",
       "    <tr>\n",
       "      <th>4</th>\n",
       "      <td>5595</td>\n",
       "      <td>To amend the weighted child count used to dete...</td>\n",
       "      <td>0</td>\n",
       "      <td>2015-02-05</td>\n",
       "      <td>232</td>\n",
       "      <td>4.0</td>\n",
       "      <td>Education</td>\n",
       "      <td>hr754-114</td>\n",
       "      <td>2015-02-05</td>\n",
       "      <td>114</td>\n",
       "      <td>ACE Act</td>\n",
       "      <td>All Children are Equal Act or the ACE Act\\n\\nA...</td>\n",
       "      <td>Introduced in House</td>\n",
       "      <td>2015-02-05</td>\n",
       "      <td>IH</td>\n",
       "      <td>&lt;?xml-stylesheet type=\"text/xsl\" href=\"billres...</td>\n",
       "    </tr>\n",
       "  </tbody>\n",
       "</table>\n",
       "</div>"
      ],
      "text/plain": [
       "   bill_ix                                     official_title  bill_type  \\\n",
       "0     5537  To require the Secretary of Education to use t...          0   \n",
       "1     5545  To require the Secretary of Education to asses...          0   \n",
       "2     5572  To allow funds under title II of the Elementar...          0   \n",
       "3     5590  To amend the Higher Education Act of 1965 to p...          0   \n",
       "4     5595  To amend the weighted child count used to dete...          0   \n",
       "\n",
       "   status_at  sponsor  status subjects_top_term     bill_id introduced_at  \\\n",
       "0 2015-02-12      131     4.0         Education   hr939-114    2015-02-12   \n",
       "1 2015-01-27    12390     4.0         Education   hr561-114    2015-01-27   \n",
       "2 2015-04-15      276     4.0         Education  hr1827-114    2015-04-15   \n",
       "3 2015-04-23      328     4.0         Education  hr2004-114    2015-04-23   \n",
       "4 2015-02-05      232     4.0         Education   hr754-114    2015-02-05   \n",
       "\n",
       "   congress                                       short_title  \\\n",
       "0       114                            Pell Grant Funding Act   \n",
       "1       114      Assessing Appropriate School Start Times Act   \n",
       "2       114  Helping Schools Protect Our Children Act of 2015   \n",
       "3       114                 Online Education Verification Act   \n",
       "4       114                                           ACE Act   \n",
       "\n",
       "                                        summary_text                   as  \\\n",
       "0  Pell Grant Funding Act\\n\\nDirects the Secretar...  Introduced in House   \n",
       "1  Assessing Appropriate School Start Times Act\\n...  Introduced in House   \n",
       "2  Helping Schools Protect Our Children Act of 20...  Introduced in House   \n",
       "3  Online Education Verification Act\\n\\nAmends ti...  Introduced in House   \n",
       "4  All Children are Equal Act or the ACE Act\\n\\nA...  Introduced in House   \n",
       "\n",
       "        date code                                          full_text  \n",
       "0 2015-02-12   IH  <?xml-stylesheet type=\"text/xsl\" href=\"billres...  \n",
       "1 2015-01-27   IH  <?xml-stylesheet type=\"text/xsl\" href=\"billres...  \n",
       "2 2015-04-15   IH  <?xml-stylesheet type=\"text/xsl\" href=\"billres...  \n",
       "3 2015-04-23   IH  <?xml-stylesheet type=\"text/xsl\" href=\"billres...  \n",
       "4 2015-02-05   IH  <?xml-stylesheet type=\"text/xsl\" href=\"billres...  "
      ]
     },
     "execution_count": 290,
     "metadata": {},
     "output_type": "execute_result"
    }
   ],
   "source": [
    "ed_bills_join.head()"
   ]
  },
  {
   "cell_type": "code",
   "execution_count": 291,
   "metadata": {},
   "outputs": [],
   "source": [
    "ed_bills_join['summary_length'] = ed_bills_join['summary_text'].str.len()"
   ]
  },
  {
   "cell_type": "code",
   "execution_count": 292,
   "metadata": {},
   "outputs": [
    {
     "data": {
      "image/png": "[encoded data removed]",
      "text/plain": [
       "<Figure size 1152x432 with 1 Axes>"
      ]
     },
     "metadata": {
      "needs_background": "light"
     },
     "output_type": "display_data"
    }
   ],
   "source": [
    "fig, ax = plt.subplots(figsize=(16, 6))\n",
    "ed_bills_join['summary_length'].hist(bins=100, ax=ax, alpha=0.7);\n",
    "ax.set_yscale('log'); #ax.set_xlim(xmin=0);\n",
    "ax.set_xlabel('Number of Characters', size=14);\n",
    "ax.set_title('Log Distribution of Bill Summary (N={})'.format(len(ed_bills_join)), size=20);"
   ]
  },
  {
   "cell_type": "code",
   "execution_count": 1041,
   "metadata": {},
   "outputs": [
    {
     "data": {
      "text/plain": [
       "array([ 5741,  6037,  6324,  6429,  6726,  7372,  7625,  8914,  9041,\n",
       "       10058, 11782, 12817, 13120, 13715, 13999, 16100, 17276, 18991,\n",
       "       20269, 21074, 22786, 25291, 27020, 27653, 27886, 28789, 29038,\n",
       "       29095, 29642, 29671, 29781, 29854, 31214, 32234])"
      ]
     },
     "execution_count": 1041,
     "metadata": {},
     "output_type": "execute_result"
    }
   ],
   "source": [
    "duplicates = ed_bills_join[ed_bills_join.duplicated('bill_ix')].bill_ix.unique()\n",
    "duplicates"
   ]
  },
  {
   "cell_type": "code",
   "execution_count": 1044,
   "metadata": {},
   "outputs": [
    {
     "data": {
      "text/html": [
       "<div>\n",
       "<style scoped>\n",
       "    .dataframe tbody tr th:only-of-type {\n",
       "        vertical-align: middle;\n",
       "    }\n",
       "\n",
       "    .dataframe tbody tr th {\n",
       "        vertical-align: top;\n",
       "    }\n",
       "\n",
       "    .dataframe thead th {\n",
       "        text-align: right;\n",
       "    }\n",
       "</style>\n",
       "<table border=\"1\" class=\"dataframe\">\n",
       "  <thead>\n",
       "    <tr style=\"text-align: right;\">\n",
       "      <th></th>\n",
       "      <th>bill_ix</th>\n",
       "      <th>official_title</th>\n",
       "      <th>bill_type</th>\n",
       "      <th>status_at</th>\n",
       "      <th>sponsor</th>\n",
       "      <th>status</th>\n",
       "      <th>subjects_top_term</th>\n",
       "      <th>bill_id</th>\n",
       "      <th>introduced_at</th>\n",
       "      <th>congress</th>\n",
       "      <th>short_title</th>\n",
       "      <th>summary_text</th>\n",
       "      <th>as</th>\n",
       "      <th>date</th>\n",
       "      <th>code</th>\n",
       "      <th>full_text</th>\n",
       "      <th>summary_length</th>\n",
       "    </tr>\n",
       "  </thead>\n",
       "  <tbody>\n",
       "    <tr>\n",
       "      <th>194</th>\n",
       "      <td>8914</td>\n",
       "      <td>To support State and local accountability for ...</td>\n",
       "      <td>0</td>\n",
       "      <td>2015-07-08</td>\n",
       "      <td>12374</td>\n",
       "      <td>2.0</td>\n",
       "      <td>Education</td>\n",
       "      <td>hr5-114</td>\n",
       "      <td>2015-02-03</td>\n",
       "      <td>114</td>\n",
       "      <td>Student Success Act</td>\n",
       "      <td>Student Success Act\\n\\n(Sec. 6) Reauthorizes t...</td>\n",
       "      <td>Passed House amended</td>\n",
       "      <td>2015-07-08</td>\n",
       "      <td>PCS</td>\n",
       "      <td>&lt;?xml-stylesheet type=\"text/xsl\" href=\"billres...</td>\n",
       "      <td>52203</td>\n",
       "    </tr>\n",
       "    <tr>\n",
       "      <th>195</th>\n",
       "      <td>8914</td>\n",
       "      <td>To support State and local accountability for ...</td>\n",
       "      <td>0</td>\n",
       "      <td>2015-07-08</td>\n",
       "      <td>12374</td>\n",
       "      <td>2.0</td>\n",
       "      <td>Education</td>\n",
       "      <td>hr5-114</td>\n",
       "      <td>2015-02-03</td>\n",
       "      <td>114</td>\n",
       "      <td>Student Success Act</td>\n",
       "      <td>Student Success Act\\n\\n(Sec. 6) Reauthorizes t...</td>\n",
       "      <td>Passed House amended</td>\n",
       "      <td>2015-07-08</td>\n",
       "      <td>IH</td>\n",
       "      <td>&lt;?xml-stylesheet type=\"text/xsl\" href=\"billres...</td>\n",
       "      <td>52203</td>\n",
       "    </tr>\n",
       "    <tr>\n",
       "      <th>196</th>\n",
       "      <td>8914</td>\n",
       "      <td>To support State and local accountability for ...</td>\n",
       "      <td>0</td>\n",
       "      <td>2015-07-08</td>\n",
       "      <td>12374</td>\n",
       "      <td>2.0</td>\n",
       "      <td>Education</td>\n",
       "      <td>hr5-114</td>\n",
       "      <td>2015-02-03</td>\n",
       "      <td>114</td>\n",
       "      <td>Student Success Act</td>\n",
       "      <td>Student Success Act\\n\\n(Sec. 6) Reauthorizes t...</td>\n",
       "      <td>Passed House amended</td>\n",
       "      <td>2015-07-08</td>\n",
       "      <td>RH</td>\n",
       "      <td>&lt;?xml-stylesheet type=\"text/xsl\" href=\"billres...</td>\n",
       "      <td>52203</td>\n",
       "    </tr>\n",
       "    <tr>\n",
       "      <th>197</th>\n",
       "      <td>8914</td>\n",
       "      <td>To support State and local accountability for ...</td>\n",
       "      <td>0</td>\n",
       "      <td>2015-07-08</td>\n",
       "      <td>12374</td>\n",
       "      <td>2.0</td>\n",
       "      <td>Education</td>\n",
       "      <td>hr5-114</td>\n",
       "      <td>2015-02-03</td>\n",
       "      <td>114</td>\n",
       "      <td>Student Success Act</td>\n",
       "      <td>Student Success Act\\n\\n(Sec. 6) Reauthorizes t...</td>\n",
       "      <td>Passed House amended</td>\n",
       "      <td>2015-07-08</td>\n",
       "      <td>EH</td>\n",
       "      <td>&lt;?xml-stylesheet type=\"text/xsl\" href=\"billres...</td>\n",
       "      <td>52203</td>\n",
       "    </tr>\n",
       "  </tbody>\n",
       "</table>\n",
       "</div>"
      ],
      "text/plain": [
       "     bill_ix                                     official_title  bill_type  \\\n",
       "194     8914  To support State and local accountability for ...          0   \n",
       "195     8914  To support State and local accountability for ...          0   \n",
       "196     8914  To support State and local accountability for ...          0   \n",
       "197     8914  To support State and local accountability for ...          0   \n",
       "\n",
       "     status_at  sponsor  status subjects_top_term  bill_id introduced_at  \\\n",
       "194 2015-07-08    12374     2.0         Education  hr5-114    2015-02-03   \n",
       "195 2015-07-08    12374     2.0         Education  hr5-114    2015-02-03   \n",
       "196 2015-07-08    12374     2.0         Education  hr5-114    2015-02-03   \n",
       "197 2015-07-08    12374     2.0         Education  hr5-114    2015-02-03   \n",
       "\n",
       "     congress          short_title  \\\n",
       "194       114  Student Success Act   \n",
       "195       114  Student Success Act   \n",
       "196       114  Student Success Act   \n",
       "197       114  Student Success Act   \n",
       "\n",
       "                                          summary_text                    as  \\\n",
       "194  Student Success Act\\n\\n(Sec. 6) Reauthorizes t...  Passed House amended   \n",
       "195  Student Success Act\\n\\n(Sec. 6) Reauthorizes t...  Passed House amended   \n",
       "196  Student Success Act\\n\\n(Sec. 6) Reauthorizes t...  Passed House amended   \n",
       "197  Student Success Act\\n\\n(Sec. 6) Reauthorizes t...  Passed House amended   \n",
       "\n",
       "          date code                                          full_text  \\\n",
       "194 2015-07-08  PCS  <?xml-stylesheet type=\"text/xsl\" href=\"billres...   \n",
       "195 2015-07-08   IH  <?xml-stylesheet type=\"text/xsl\" href=\"billres...   \n",
       "196 2015-07-08   RH  <?xml-stylesheet type=\"text/xsl\" href=\"billres...   \n",
       "197 2015-07-08   EH  <?xml-stylesheet type=\"text/xsl\" href=\"billres...   \n",
       "\n",
       "     summary_length  \n",
       "194           52203  \n",
       "195           52203  \n",
       "196           52203  \n",
       "197           52203  "
      ]
     },
     "execution_count": 1044,
     "metadata": {},
     "output_type": "execute_result"
    }
   ],
   "source": [
    "ix = 7\n",
    "test_bill = ed_bills_join[(ed_bills_join['summary_length'] > 9000)&(ed_bills_join['bill_ix']==duplicates[ix])].copy()\n",
    "test_bill"
   ]
  },
  {
   "cell_type": "code",
   "execution_count": null,
   "metadata": {},
   "outputs": [],
   "source": [
    "full_trees = {}\n",
    "full_texts = {}\n",
    "for ix, row in test_bill.iterrows():\n",
    "    print(row['status_at'], row['introduced_at'], row['as'], row['date'], row['code'], len(row['full_text']))\n",
    "    tree =  etree.fromstring(row['full_text'])\n",
    "    full_text = create_single_text_string(tree)\n",
    "    full_texts[ix] = full_text\n",
    "    full_trees[ix] = tree"
   ]
  },
  {
   "cell_type": "code",
   "execution_count": 1046,
   "metadata": {},
   "outputs": [],
   "source": [
    "rank_codes = ['ENR', 'EAS', 'EAH', 'RS', 'ES',\n",
    "              'PCS', 'EH', 'RH', 'IS', 'IH']\n",
    "code = next(i for i in rank_codes if i in test_bill['code'].unique())\n",
    "test_bill = test_bill[test_bill['code'] == code]"
   ]
  },
  {
   "cell_type": "code",
   "execution_count": 1047,
   "metadata": {},
   "outputs": [
    {
     "data": {
      "text/html": [
       "<div>\n",
       "<style scoped>\n",
       "    .dataframe tbody tr th:only-of-type {\n",
       "        vertical-align: middle;\n",
       "    }\n",
       "\n",
       "    .dataframe tbody tr th {\n",
       "        vertical-align: top;\n",
       "    }\n",
       "\n",
       "    .dataframe thead th {\n",
       "        text-align: right;\n",
       "    }\n",
       "</style>\n",
       "<table border=\"1\" class=\"dataframe\">\n",
       "  <thead>\n",
       "    <tr style=\"text-align: right;\">\n",
       "      <th></th>\n",
       "      <th>bill_ix</th>\n",
       "      <th>official_title</th>\n",
       "      <th>bill_type</th>\n",
       "      <th>status_at</th>\n",
       "      <th>sponsor</th>\n",
       "      <th>status</th>\n",
       "      <th>subjects_top_term</th>\n",
       "      <th>bill_id</th>\n",
       "      <th>introduced_at</th>\n",
       "      <th>congress</th>\n",
       "      <th>short_title</th>\n",
       "      <th>summary_text</th>\n",
       "      <th>as</th>\n",
       "      <th>date</th>\n",
       "      <th>code</th>\n",
       "      <th>full_text</th>\n",
       "      <th>summary_length</th>\n",
       "    </tr>\n",
       "  </thead>\n",
       "  <tbody>\n",
       "    <tr>\n",
       "      <th>34</th>\n",
       "      <td>6037</td>\n",
       "      <td>To reauthorize the Scholarships for Opportunit...</td>\n",
       "      <td>0</td>\n",
       "      <td>2016-04-29</td>\n",
       "      <td>12405</td>\n",
       "      <td>2.0</td>\n",
       "      <td>Education</td>\n",
       "      <td>hr4901-114</td>\n",
       "      <td>2016-04-12</td>\n",
       "      <td>114</td>\n",
       "      <td>Scholarships for Opportunity and Results Reaut...</td>\n",
       "      <td>(This measure has not been amended since it wa...</td>\n",
       "      <td>Passed House without amendment</td>\n",
       "      <td>2016-04-29</td>\n",
       "      <td>PCS</td>\n",
       "      <td>&lt;?xml-stylesheet type=\"text/xsl\" href=\"billres...</td>\n",
       "      <td>5533</td>\n",
       "    </tr>\n",
       "  </tbody>\n",
       "</table>\n",
       "</div>"
      ],
      "text/plain": [
       "    bill_ix                                     official_title  bill_type  \\\n",
       "34     6037  To reauthorize the Scholarships for Opportunit...          0   \n",
       "\n",
       "    status_at  sponsor  status subjects_top_term     bill_id introduced_at  \\\n",
       "34 2016-04-29    12405     2.0         Education  hr4901-114    2016-04-12   \n",
       "\n",
       "    congress                                        short_title  \\\n",
       "34       114  Scholarships for Opportunity and Results Reaut...   \n",
       "\n",
       "                                         summary_text  \\\n",
       "34  (This measure has not been amended since it wa...   \n",
       "\n",
       "                                as       date code  \\\n",
       "34  Passed House without amendment 2016-04-29  PCS   \n",
       "\n",
       "                                            full_text  summary_length  \n",
       "34  <?xml-stylesheet type=\"text/xsl\" href=\"billres...            5533  "
      ]
     },
     "execution_count": 1047,
     "metadata": {},
     "output_type": "execute_result"
    }
   ],
   "source": [
    "test_bill"
   ]
  },
  {
   "cell_type": "code",
   "execution_count": 1081,
   "metadata": {},
   "outputs": [],
   "source": [
    "from lxml import etree\n"
   ]
  },
  {
   "cell_type": "code",
   "execution_count": 460,
   "metadata": {},
   "outputs": [],
   "source": [
    "def create_single_text_string(tree, tag='text'):\n",
    "    text = \"\"\n",
    "    for elt in tree.getiterator(tag):\n",
    "        if isinstance(elt.text, str):\n",
    "            text += elt.text  + ' '\n",
    "    return text"
   ]
  },
  {
   "cell_type": "code",
   "execution_count": 1049,
   "metadata": {},
   "outputs": [],
   "source": [
    "from xml.etree.ElementTree import fromstring, ElementTree\n",
    "import xml.etree.ElementTree as ET\n",
    "\n",
    "all_tags = []\n",
    "for elt in tree.getiterator():#('{http://purl.org/dc/elements/1.1/}date'):\n",
    "    #print(elt.tag, elt.text)\n",
    "    all_tags.append(elt.tag)"
   ]
  },
  {
   "cell_type": "code",
   "execution_count": 1298,
   "metadata": {},
   "outputs": [],
   "source": [
    "import random"
   ]
  },
  {
   "cell_type": "code",
   "execution_count": 1204,
   "metadata": {},
   "outputs": [
    {
     "name": "stderr",
     "output_type": "stream",
     "text": [
      "[nltk_data] Downloading package wordnet to\n",
      "[nltk_data]     /Users/melissaferrari/nltk_data...\n",
      "[nltk_data]   Unzipping corpora/wordnet.zip.\n"
     ]
    },
    {
     "data": {
      "text/plain": [
       "True"
      ]
     },
     "execution_count": 1204,
     "metadata": {},
     "output_type": "execute_result"
    }
   ],
   "source": [
    "import nltk\n",
    "nltk.download('wordnet')"
   ]
  },
  {
   "cell_type": "code",
   "execution_count": 1061,
   "metadata": {},
   "outputs": [],
   "source": [
    "import string\n",
    "import spacy\n",
    "\n",
    "nlp = spacy.load('en_core_web_lg')\n",
    "get_ipython().config.get('IPKernelApp', {})['parent_appname'] = \"\""
   ]
  },
  {
   "cell_type": "code",
   "execution_count": 1062,
   "metadata": {},
   "outputs": [
    {
     "data": {
      "text/plain": [
       "Index(['bill_ix', 'official_title', 'bill_type', 'status_at', 'sponsor',\n",
       "       'status', 'subjects_top_term', 'bill_id', 'introduced_at', 'congress',\n",
       "       'short_title', 'summary_text', 'as', 'date', 'code', 'full_text',\n",
       "       'summary_length'],\n",
       "      dtype='object')"
      ]
     },
     "execution_count": 1062,
     "metadata": {},
     "output_type": "execute_result"
    }
   ],
   "source": [
    "test_bill.columns"
   ]
  },
  {
   "cell_type": "code",
   "execution_count": 1063,
   "metadata": {},
   "outputs": [],
   "source": [
    "text_dict = test_bill.iloc[0].to_dict()\n",
    "full_string_xml = text_dict['full_text']\n",
    "full_tree = etree.fromstring(full_string_xml)"
   ]
  },
  {
   "cell_type": "code",
   "execution_count": 1074,
   "metadata": {},
   "outputs": [
    {
     "name": "stdout",
     "output_type": "stream",
     "text": [
      "hr4901-114 To reauthorize the Scholarships for Opportunity and Results Act, and for other purposes.\n"
     ]
    }
   ],
   "source": [
    "bill_id, official_title = (text_dict['bill_id'], text_dict['official_title'])\n",
    "print(bill_id, official_title)"
   ]
  },
  {
   "cell_type": "code",
   "execution_count": 1075,
   "metadata": {},
   "outputs": [
    {
     "name": "stdout",
     "output_type": "stream",
     "text": [
      "Scholarships for Opportunity and Results Reauthorization Act\n"
     ]
    }
   ],
   "source": [
    "short_title = text_dict['short_title']\n",
    "print(short_title)"
   ]
  },
  {
   "cell_type": "code",
   "execution_count": 1082,
   "metadata": {},
   "outputs": [],
   "source": [
    "summ_text = text_dict['summary_text']\n",
    "#print(summ_text)"
   ]
  },
  {
   "cell_type": "code",
   "execution_count": 1083,
   "metadata": {},
   "outputs": [],
   "source": [
    "full_text = create_single_text_string(full_tree)"
   ]
  },
  {
   "cell_type": "code",
   "execution_count": 520,
   "metadata": {},
   "outputs": [],
   "source": [
    "xpathselector = 'section/enum'\n",
    "hold = full_tree.xpath(xpathselector)"
   ]
  },
  {
   "cell_type": "code",
   "execution_count": 1088,
   "metadata": {},
   "outputs": [],
   "source": [
    "full_tree = ET.ElementTree(ET.fromstring(full_string_xml))\n",
    "root = full_tree.getroot()"
   ]
  },
  {
   "cell_type": "code",
   "execution_count": 1089,
   "metadata": {},
   "outputs": [
    {
     "name": "stdout",
     "output_type": "stream",
     "text": [
      "metadata {}\n",
      "form {}\n",
      "legis-body {'id': 'H089E2AD3E9F4472FA050886A8625AD08', 'style': 'OLC'}\n",
      "attestation {}\n",
      "endorsement {}\n"
     ]
    }
   ],
   "source": [
    "for child in root:\n",
    "    print(child.tag, child.attrib)"
   ]
  },
  {
   "cell_type": "code",
   "execution_count": 1130,
   "metadata": {},
   "outputs": [],
   "source": [
    "all_descendants = list(root.iter())\n",
    "#for thing in root.findall(\".//text\"):\n",
    "#    print(thing.tag, thing.attrib, thing.text)"
   ]
  },
  {
   "cell_type": "code",
   "execution_count": 1092,
   "metadata": {},
   "outputs": [],
   "source": [
    "all_tags = [elem.tag for elem in root.iter()]"
   ]
  },
  {
   "cell_type": "code",
   "execution_count": 1095,
   "metadata": {},
   "outputs": [
    {
     "name": "stdout",
     "output_type": "stream",
     "text": [
      "<?xml version='1.0' encoding='utf8'?>\n",
      "<bill xmlns:dc=\"http://purl.org/dc/elements/1.1/\" bill-stage=\"Placed-on-Calendar-Senate\" bill-type=\"olc\" dms-id=\"H775D919078204AD69CA1574764D6C19A\" public-private=\"public\" stage-count=\"1\">\n",
      "\t<metadata>\n",
      "<dublinCore>\n",
      "<dc:title>114 HR 4901 PCS: Scholarships for Opportunity and Results Reauthorization Act</dc:title>\n",
      "<dc:publisher>U.S. House of Representatives</dc:publisher>\n",
      "<dc:date />\n",
      "<dc:format>text/xml</dc:format>\n",
      "<dc:language>EN</dc:language>\n",
      "<dc:rights>Pursuant to Title 17 Section 105 of the United States Code, this file is not subject to copyright protection and is in the public domain.</dc:rights>\n",
      "</dublinCore>\n",
      "</metadata>\n",
      "<form>\n",
      "\t\t<distribution-code display=\"yes\">II</distribution-code>\n",
      "\t\t<calendar>Calendar No. 564</calendar><congress display=\"yes\">114th CONGRESS</congress>\n",
      "\t\t<session display=\"yes\">2d Session</session>\n",
      "\t\t<legis-num>H. R. 4901</legis-num>\n",
      "\t\t<current-chamber display=\"yes\">IN THE SENATE OF THE UNITED STATES</current-chamber><action>\n"
     ]
    }
   ],
   "source": [
    "# VIEW CML\n",
    "print(ET.tostring(root, encoding='utf8').decode('utf8')[:1000]);"
   ]
  },
  {
   "cell_type": "code",
   "execution_count": 1116,
   "metadata": {},
   "outputs": [],
   "source": [
    "ordered_list = []\n",
    "data = pd.DataFrame()\n",
    "for ix, description in enumerate(root.iter()):\n",
    "    if description.text is None:\n",
    "        # print(description.tag)\n",
    "        pass\n",
    "    elif description.text.isspace():\n",
    "        pass\n",
    "    #elif description.tag == 'external-xref':\n",
    "     #   data = data.append([[ix, description.tag, description.text]])\n",
    "    elif description.tag in ['enum', 'header', 'text']:\n",
    "        data = data.append([[ix, description.tag, description.text]])\n",
    "        if description.tag == 'enum':\n",
    "            ordered_list.append(description.text)\n",
    "    else:\n",
    "        pass\n",
    "        #print(ix, description.tag, description.text)\n",
    "data = data.reset_index(drop=True)\n",
    "data.columns = ['sent_ix', 'tag', 'text']"
   ]
  },
  {
   "cell_type": "code",
   "execution_count": 1104,
   "metadata": {},
   "outputs": [
    {
     "data": {
      "text/html": [
       "<div>\n",
       "<style scoped>\n",
       "    .dataframe tbody tr th:only-of-type {\n",
       "        vertical-align: middle;\n",
       "    }\n",
       "\n",
       "    .dataframe tbody tr th {\n",
       "        vertical-align: top;\n",
       "    }\n",
       "\n",
       "    .dataframe thead th {\n",
       "        text-align: right;\n",
       "    }\n",
       "</style>\n",
       "<table border=\"1\" class=\"dataframe\">\n",
       "  <thead>\n",
       "    <tr style=\"text-align: right;\">\n",
       "      <th></th>\n",
       "      <th>sent_ix</th>\n",
       "      <th>tag</th>\n",
       "      <th>text</th>\n",
       "    </tr>\n",
       "  </thead>\n",
       "  <tbody>\n",
       "    <tr>\n",
       "      <th>0</th>\n",
       "      <td>29</td>\n",
       "      <td>enum</td>\n",
       "      <td>1.</td>\n",
       "    </tr>\n",
       "    <tr>\n",
       "      <th>1</th>\n",
       "      <td>30</td>\n",
       "      <td>header</td>\n",
       "      <td>Short title; references in Act</td>\n",
       "    </tr>\n",
       "    <tr>\n",
       "      <th>2</th>\n",
       "      <td>32</td>\n",
       "      <td>enum</td>\n",
       "      <td>(a)</td>\n",
       "    </tr>\n",
       "    <tr>\n",
       "      <th>3</th>\n",
       "      <td>33</td>\n",
       "      <td>header</td>\n",
       "      <td>Short Title</td>\n",
       "    </tr>\n",
       "    <tr>\n",
       "      <th>4</th>\n",
       "      <td>34</td>\n",
       "      <td>text</td>\n",
       "      <td>This Act may be cited as the</td>\n",
       "    </tr>\n",
       "  </tbody>\n",
       "</table>\n",
       "</div>"
      ],
      "text/plain": [
       "   sent_ix     tag                            text\n",
       "0       29    enum                              1.\n",
       "1       30  header  Short title; references in Act\n",
       "2       32    enum                             (a)\n",
       "3       33  header                     Short Title\n",
       "4       34    text   This Act may be cited as the "
      ]
     },
     "execution_count": 1104,
     "metadata": {},
     "output_type": "execute_result"
    }
   ],
   "source": [
    "data.head()"
   ]
  },
  {
   "cell_type": "code",
   "execution_count": 1118,
   "metadata": {},
   "outputs": [],
   "source": [
    "sentences = []\n",
    "full_string = \"\"\n",
    "astr = \"\"\n",
    "for ix, row in data[data.tag != 'header'].iterrows():\n",
    "    astr += row['text'] + ' '\n",
    "    full_string += row['text'] + ' '\n",
    "    if row['tag'] == 'enum':\n",
    "        #print(row['text'])\n",
    "        nextix = ix + 1\n",
    "    if nextix == ix:\n",
    "        sentences.append(astr)\n",
    "        astr = \"\""
   ]
  },
  {
   "cell_type": "code",
   "execution_count": 1119,
   "metadata": {},
   "outputs": [
    {
     "data": {
      "text/plain": [
       "120"
      ]
     },
     "execution_count": 1119,
     "metadata": {},
     "output_type": "execute_result"
    }
   ],
   "source": [
    "doc = nlp(full_string)\n",
    "full_sentences = [sent.string.strip() for sent in doc.sents]\n",
    "len(full_sentences)"
   ]
  },
  {
   "cell_type": "code",
   "execution_count": 1121,
   "metadata": {},
   "outputs": [
    {
     "data": {
      "text/plain": [
       "87"
      ]
     },
     "execution_count": 1121,
     "metadata": {},
     "output_type": "execute_result"
    }
   ],
   "source": [
    "for ix in range(len(full_sentences)):\n",
    "    for x in ordered_list:\n",
    "        if x in full_sentences[ix]:\n",
    "            full_sentences[ix] = full_sentences[ix].replace(x, \"\")\n",
    "full = []\n",
    "for sentence in full_sentences:\n",
    "    if sentence:\n",
    "        full.append(sentence)\n",
    "full_sentences = full\n",
    "len(full_sentences)"
   ]
  },
  {
   "cell_type": "code",
   "execution_count": 1126,
   "metadata": {},
   "outputs": [],
   "source": [
    "df_ent = pd.DataFrame()\n",
    "for ix, sentence in enumerate(full_sentences):\n",
    "    doc = nlp(sentence)\n",
    "\n",
    "    for ent in doc.ents:\n",
    "        # print(ix, ent.text, ent.start_char, ent.end_char, ent.label_)\n",
    "        df_ent = df_ent.append([[ix, ent.text, ent.start_char, ent.end_char, ent.label_]], ignore_index=True)\n",
    "df_ent.columns = ['sentence', 'text', 'start_char', 'end_char', 'label']\n",
    "df_ent = df_ent[(df_ent.label != 'CARDINAL')& (~df_ent['text'].apply(str.isspace))]"
   ]
  },
  {
   "cell_type": "code",
   "execution_count": 1127,
   "metadata": {},
   "outputs": [
    {
     "data": {
      "text/html": [
       "<div>\n",
       "<style scoped>\n",
       "    .dataframe tbody tr th:only-of-type {\n",
       "        vertical-align: middle;\n",
       "    }\n",
       "\n",
       "    .dataframe tbody tr th {\n",
       "        vertical-align: top;\n",
       "    }\n",
       "\n",
       "    .dataframe thead th {\n",
       "        text-align: right;\n",
       "    }\n",
       "</style>\n",
       "<table border=\"1\" class=\"dataframe\">\n",
       "  <thead>\n",
       "    <tr style=\"text-align: right;\">\n",
       "      <th></th>\n",
       "      <th>sentence</th>\n",
       "      <th>text</th>\n",
       "      <th>start_char</th>\n",
       "      <th>end_char</th>\n",
       "      <th>label</th>\n",
       "    </tr>\n",
       "  </thead>\n",
       "  <tbody>\n",
       "    <tr>\n",
       "      <th>0</th>\n",
       "      <td>1</td>\n",
       "      <td>Act an amendment</td>\n",
       "      <td>57</td>\n",
       "      <td>73</td>\n",
       "      <td>LAW</td>\n",
       "    </tr>\n",
       "    <tr>\n",
       "      <th>1</th>\n",
       "      <td>1</td>\n",
       "      <td>the Scholarships for Opportunity and Results Act</td>\n",
       "      <td>241</td>\n",
       "      <td>289</td>\n",
       "      <td>ORG</td>\n",
       "    </tr>\n",
       "    <tr>\n",
       "      <th>3</th>\n",
       "      <td>2</td>\n",
       "      <td>the Consolidated Appropriations Act</td>\n",
       "      <td>15</td>\n",
       "      <td>50</td>\n",
       "      <td>LAW</td>\n",
       "    </tr>\n",
       "    <tr>\n",
       "      <th>4</th>\n",
       "      <td>2</td>\n",
       "      <td>2016</td>\n",
       "      <td>52</td>\n",
       "      <td>56</td>\n",
       "      <td>DATE</td>\n",
       "    </tr>\n",
       "    <tr>\n",
       "      <th>7</th>\n",
       "      <td>7</td>\n",
       "      <td>D.C.</td>\n",
       "      <td>0</td>\n",
       "      <td>4</td>\n",
       "      <td>GPE</td>\n",
       "    </tr>\n",
       "  </tbody>\n",
       "</table>\n",
       "</div>"
      ],
      "text/plain": [
       "   sentence                                              text  start_char  \\\n",
       "0         1                                  Act an amendment          57   \n",
       "1         1  the Scholarships for Opportunity and Results Act         241   \n",
       "3         2               the Consolidated Appropriations Act          15   \n",
       "4         2                                              2016          52   \n",
       "7         7                                              D.C.           0   \n",
       "\n",
       "   end_char label  \n",
       "0        73   LAW  \n",
       "1       289   ORG  \n",
       "3        50   LAW  \n",
       "4        56  DATE  \n",
       "7         4   GPE  "
      ]
     },
     "execution_count": 1127,
     "metadata": {},
     "output_type": "execute_result"
    }
   ],
   "source": [
    "df_ent.head()"
   ]
  },
  {
   "cell_type": "code",
   "execution_count": 1128,
   "metadata": {},
   "outputs": [],
   "source": [
    "low_alpha = list(string.ascii_lowercase)\n",
    "up_alpha = list(string.ascii_uppercase)\n",
    "digits = list(string.digits)\n",
    "white_space = list(string.whitespace)\n",
    "punctuation = list(string.punctuation)"
   ]
  },
  {
   "cell_type": "code",
   "execution_count": 1131,
   "metadata": {},
   "outputs": [],
   "source": [
    "def recurse_tree(node):\n",
    "    for child in node.getchildren():\n",
    "        if child.tag == 'enum':\n",
    "            yield node\n",
    "        for subchild in recurse_tree(child):\n",
    "            yield subchild"
   ]
  },
  {
   "cell_type": "code",
   "execution_count": 1133,
   "metadata": {},
   "outputs": [],
   "source": [
    "# returns \n",
    "enum_parents =list(recurse_tree(root)) "
   ]
  },
  {
   "cell_type": "code",
   "execution_count": 1139,
   "metadata": {},
   "outputs": [
    {
     "data": {
      "text/plain": [
       "34"
      ]
     },
     "execution_count": 1139,
     "metadata": {},
     "output_type": "execute_result"
    }
   ],
   "source": [
    "summ_doc = nlp(summ_text)\n",
    "summ_sentences = [sent.string.strip() for sent in summ_doc.sents]\n",
    "len(summ_sentences)"
   ]
  },
  {
   "cell_type": "code",
   "execution_count": 1141,
   "metadata": {},
   "outputs": [
    {
     "data": {
      "text/plain": [
       "70"
      ]
     },
     "execution_count": 1141,
     "metadata": {},
     "output_type": "execute_result"
    }
   ],
   "source": [
    "full_doc = nlp(full_text)\n",
    "full_sentences = [sent.string.strip() for sent in full_doc.sents]\n",
    "len(full_sentences)"
   ]
  },
  {
   "cell_type": "code",
   "execution_count": null,
   "metadata": {},
   "outputs": [],
   "source": [
    "full_text = create_single_text_string(tree)\n",
    "bad_string = \"\\n\\t\\t\\t\"\n",
    "if bad_string in full_text:\n",
    "    full_text =full_text.replace(bad_string, \"\")t"
   ]
  },
  {
   "cell_type": "code",
   "execution_count": 1147,
   "metadata": {},
   "outputs": [],
   "source": [
    "from nltk.tokenize import word_tokenize\n",
    "tokenized_word=word_tokenize(full_text)\n",
    "#print(tokenized_word)"
   ]
  },
  {
   "cell_type": "code",
   "execution_count": 1148,
   "metadata": {},
   "outputs": [],
   "source": [
    "from nltk.probability import FreqDist\n",
    "fdist = FreqDist(tokenized_word)"
   ]
  },
  {
   "cell_type": "code",
   "execution_count": 1150,
   "metadata": {},
   "outputs": [
    {
     "data": {
      "text/plain": [
       "[('the', 254), ('of', 190)]"
      ]
     },
     "execution_count": 1150,
     "metadata": {},
     "output_type": "execute_result"
    }
   ],
   "source": [
    "fdist.most_common(2)"
   ]
  },
  {
   "cell_type": "code",
   "execution_count": 1151,
   "metadata": {},
   "outputs": [
    {
     "data": {
      "image/png": "[encoded data removed]",
      "text/plain": [
       "<Figure size 432x288 with 1 Axes>"
      ]
     },
     "metadata": {
      "needs_background": "light"
     },
     "output_type": "display_data"
    }
   ],
   "source": [
    "# Frequency Distribution Plot\n",
    "import matplotlib.pyplot as plt\n",
    "fdist.plot(30,cumulative=False)\n",
    "plt.show()"
   ]
  },
  {
   "cell_type": "code",
   "execution_count": 1160,
   "metadata": {},
   "outputs": [],
   "source": [
    "from nltk.corpus import stopwords\n",
    "stop_words= set(nltk.corpus.stopwords.words(\"english\"))"
   ]
  },
  {
   "cell_type": "code",
   "execution_count": 1196,
   "metadata": {},
   "outputs": [],
   "source": [
    "def remove_punct_nums(sentences):\n",
    "    # remove punctuations, numbers and special characters\n",
    "    regex = re.compile(r\"[^a-zA-Z]\")\n",
    "    return [regex.sub(\" \", s) for s in sentences]\n",
    "\n",
    "def make_lowercase(sentences):\n",
    "    return [s.lower() for s in sentences]"
   ]
  },
  {
   "cell_type": "code",
   "execution_count": 1180,
   "metadata": {},
   "outputs": [],
   "source": [
    "# function to remove stopwords\n",
    "def remove_stopwords_sentence(sen, stop_words=set(nltk.corpus.stopwords.words(\"english\"))):\n",
    "    sen_new = \" \".join([i for i in sen if i not in stop_words])\n",
    "    return sen_new\n",
    "\n",
    "def remove_stopwords_all(sentences):\n",
    "    return [remove_stopwords_sentence(s.split()) for s in sentences]"
   ]
  },
  {
   "cell_type": "code",
   "execution_count": 1199,
   "metadata": {},
   "outputs": [],
   "source": [
    "clean_full = full_sentences\n",
    "clean_full = remove_punct_nums(clean_full)\n",
    "clean_full = make_lowercase(clean_full)\n",
    "clean_full = remove_stopwords_all(clean_full)"
   ]
  },
  {
   "cell_type": "code",
   "execution_count": 1236,
   "metadata": {},
   "outputs": [
    {
     "data": {
      "text/plain": [
       "True"
      ]
     },
     "execution_count": 1236,
     "metadata": {},
     "output_type": "execute_result"
    }
   ],
   "source": [
    "len(full_sentences) == len(clean_full)"
   ]
  },
  {
   "cell_type": "code",
   "execution_count": 1202,
   "metadata": {},
   "outputs": [],
   "source": [
    "#Lexicon Normalization\n",
    "#performing stemming and Lemmatization\n",
    "from nltk.stem.wordnet import WordNetLemmatizer\n",
    "lem = WordNetLemmatizer()\n",
    "\n",
    "from nltk.stem.porter import PorterStemmer\n",
    "stem = PorterStemmer()"
   ]
  },
  {
   "cell_type": "code",
   "execution_count": null,
   "metadata": {},
   "outputs": [],
   "source": [
    "from nltk.tokenize import word_tokenize\n",
    "tokenized_word=word_tokenize(full_text)"
   ]
  },
  {
   "cell_type": "code",
   "execution_count": 1217,
   "metadata": {},
   "outputs": [],
   "source": [
    "def lemmatize_sentence(sen):\n",
    "    word_list = [lem.lemmatize(word, \"v\") for word in nltk.tokenize.word_tokenize(sen)]\n",
    "    return ' '.join(word for word in word_list)"
   ]
  },
  {
   "cell_type": "code",
   "execution_count": 1235,
   "metadata": {},
   "outputs": [],
   "source": [
    "def remove_empty_sentece(sentences):\n",
    "    return [s for s in sentences if s and not s.isspace()]"
   ]
  },
  {
   "cell_type": "code",
   "execution_count": null,
   "metadata": {},
   "outputs": [],
   "source": [
    "ordered_list = []\n",
    "data = pd.DataFrame()\n",
    "for ix, description in enumerate(root.iter()):\n",
    "    if description.text is None:\n",
    "        # print(description.tag)\n",
    "        pass\n",
    "    elif description.text.isspace():\n",
    "        pass\n",
    "    #elif description.tag == 'external-xref':\n",
    "     #   data = data.append([[ix, description.tag, description.text]])\n",
    "    elif description.tag in ['enum', 'header', 'text']:\n",
    "        data = data.append([[ix, description.tag, description.text]])\n",
    "        if description.tag == 'enum':\n",
    "            ordered_list.append(description.text)\n",
    "    else:\n",
    "        pass\n",
    "        #print(ix, description.tag, description.text)\n",
    "data = data.reset_index(drop=True)\n",
    "data.columns = ['sent_ix', 'tag', 'text']"
   ]
  },
  {
   "cell_type": "markdown",
   "metadata": {},
   "source": [
    "### Embeddings."
   ]
  },
  {
   "cell_type": "code",
   "execution_count": 1228,
   "metadata": {},
   "outputs": [],
   "source": [
    "# Extract word vectors\n",
    "f = open('../nlp_models/glove.6B/glove.6B.300d.txt', encoding='utf-8')\n",
    "word_embeddings = {}\n",
    "for line in f:\n",
    "    values = line.split()\n",
    "    word = values[0]\n",
    "    coefs = np.asarray(values[1:], dtype='float32')\n",
    "    word_embeddings[word] = coefs\n",
    "f.close()"
   ]
  },
  {
   "cell_type": "code",
   "execution_count": 1294,
   "metadata": {},
   "outputs": [
    {
     "data": {
      "text/plain": [
       "(300,)"
      ]
     },
     "execution_count": 1294,
     "metadata": {},
     "output_type": "execute_result"
    }
   ],
   "source": [
    "embedding_size = coefs.shape\n",
    "embedding_size"
   ]
  },
  {
   "cell_type": "code",
   "execution_count": 1243,
   "metadata": {},
   "outputs": [
    {
     "data": {
      "text/plain": [
       "400000"
      ]
     },
     "execution_count": 1243,
     "metadata": {},
     "output_type": "execute_result"
    }
   ],
   "source": [
    "len(word_embeddings)"
   ]
  },
  {
   "cell_type": "code",
   "execution_count": 1313,
   "metadata": {},
   "outputs": [],
   "source": [
    "def calc_embeddings(sen, word_embeddings, embedding_size=None):\n",
    "    if embedding_size == None:\n",
    "        embedding_size = random.choice(list(word_embeddings.values())).shape\n",
    "    if len(sen) != 0:\n",
    "        vector = sum([word_embeddings.get(w, embedding_size) for w in sen.split()])/(len(sen.split())+0.001)\n",
    "    else:\n",
    "        vector = np.zeros(embedding_size)\n",
    "        #print(vector.shape)\n",
    "    return vector"
   ]
  },
  {
   "cell_type": "code",
   "execution_count": 1316,
   "metadata": {},
   "outputs": [],
   "source": [
    "sentence_vectors = [calc_embeddings(s, word_embeddings, embedding_size) for s in clean_full]"
   ]
  },
  {
   "cell_type": "code",
   "execution_count": 1356,
   "metadata": {},
   "outputs": [],
   "source": [
    "## FOR SIM MATRIX, UNUSED\n",
    "\n",
    "from sklearn.metrics.pairwise import cosine_similarity\n",
    "# similarity matrix\n",
    "sim_mat = np.zeros([len(sentence_vectors), len(sentence_vectors)])\n",
    "veclen = list(embedding_size)[0]\n",
    "for i in range(len(sentence_vectors)):\n",
    "    for j in range(len(sentence_vectors)):\n",
    "        if i != j :\n",
    "            sim_mat[i][j] = cosine_similarity(sentence_vectors[i].reshape(1,veclen), \n",
    "                                              sentence_vectors[j].reshape(1,veclen))[0,0]"
   ]
  },
  {
   "cell_type": "markdown",
   "metadata": {},
   "source": [
    "### Clustering"
   ]
  },
  {
   "cell_type": "code",
   "execution_count": 1351,
   "metadata": {},
   "outputs": [],
   "source": [
    "from sklearn import cluster, metrics"
   ]
  },
  {
   "cell_type": "code",
   "execution_count": 1353,
   "metadata": {},
   "outputs": [],
   "source": [
    "num_sentences_sum = 5"
   ]
  },
  {
   "cell_type": "code",
   "execution_count": 1358,
   "metadata": {},
   "outputs": [],
   "source": [
    "kmeans = cluster.KMeans(n_clusters=num_sentences_sum)\n",
    "kmeans_output = kmeans.fit(sentence_vectors)\n",
    "\n",
    "avg = []\n",
    "for j in range(num_sentences_sum):\n",
    "    idx = np.where(kmeans.labels_ == j)[0]\n",
    "    avg.append(np.mean(idx))\n",
    "    \n",
    "cluster_centers = kmeans.cluster_centers_\n",
    "closest, distances = metrics.pairwise_distances_argmin_min(cluster_centers, \n",
    "                                                           sentence_vectors)\n",
    "ordering = sorted(range(num_sentences_sum), key=lambda k: avg[k])"
   ]
  },
  {
   "cell_type": "code",
   "execution_count": 1361,
   "metadata": {},
   "outputs": [
    {
     "data": {
      "text/plain": [
       "array([ 0,  1,  2,  3,  4,  5,  6,  7,  8,  9, 11, 12, 13, 14, 16, 17, 18,\n",
       "       19, 20, 21, 22, 23, 24, 25, 26, 27, 28, 30, 31, 32, 33, 34, 35, 36,\n",
       "       37, 38, 39, 40, 41, 42, 43, 44, 45, 46, 47, 48, 49, 50, 51, 52, 53,\n",
       "       54, 55, 56, 57, 59, 60, 61, 62, 63, 64, 65, 66, 67, 68, 69])"
      ]
     },
     "execution_count": 1361,
     "metadata": {},
     "output_type": "execute_result"
    }
   ],
   "source": [
    "np.where(kmeans.labels_ == 0)[0]"
   ]
  },
  {
   "cell_type": "code",
   "execution_count": 1362,
   "metadata": {},
   "outputs": [],
   "source": [
    "ordering = sorted(range(num_sentences_sum), key=lambda k: avg[k])"
   ]
  },
  {
   "cell_type": "code",
   "execution_count": 1363,
   "metadata": {},
   "outputs": [
    {
     "data": {
      "text/plain": [
       "[4, 1, 3, 0, 2]"
      ]
     },
     "execution_count": 1363,
     "metadata": {},
     "output_type": "execute_result"
    }
   ],
   "source": [
    "summary = ' '.join([sentences[closest[idx]] for idx in ordering])"
   ]
  },
  {
   "cell_type": "code",
   "execution_count": 1364,
   "metadata": {},
   "outputs": [],
   "source": []
  },
  {
   "cell_type": "code",
   "execution_count": null,
   "metadata": {},
   "outputs": [],
   "source": []
  },
  {
   "cell_type": "code",
   "execution_count": null,
   "metadata": {},
   "outputs": [],
   "source": []
  }
 ],
 "metadata": {
  "kernelspec": {
   "display_name": "Python 3",
   "language": "python",
   "name": "python3"
  },
  "language_info": {
   "codemirror_mode": {
    "name": "ipython",
    "version": 3
   },
   "file_extension": ".py",
   "mimetype": "text/x-python",
   "name": "python",
   "nbconvert_exporter": "python",
   "pygments_lexer": "ipython3",
   "version": "3.6.8"
  }
 },
 "nbformat": 4,
 "nbformat_minor": 2
}
