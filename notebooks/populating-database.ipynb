{
 "cells": [
  {
   "cell_type": "code",
   "execution_count": 2,
   "metadata": {
    "colab": {
     "autoexec": {
      "startup": false,
      "wait_interval": 0
     },
     "base_uri": "https://localhost:8080/",
     "height": 351
    },
    "colab_type": "code",
    "executionInfo": {
     "elapsed": 2687,
     "status": "error",
     "timestamp": 1527862142062,
     "user": {
      "displayName": "Sara Rasmussen",
      "photoUrl": "//lh4.googleusercontent.com/-LtO9lzWleSs/AAAAAAAAAAI/AAAAAAAAM2Y/BZMmlvpzHsA/s50-c-k-no/photo.jpg",
      "userId": "104187312336895847104"
     },
     "user_tz": 240
    },
    "id": "57CVuCgpksGN",
    "outputId": "402ccc33-0a4b-4126-9e5c-4f79da0c6cfe"
   },
   "outputs": [],
   "source": [
    "import sqlalchemy\n",
    "\n",
    "from sqlalchemy import create_engine\n",
    "from sqlalchemy_utils import database_exists, create_database\n",
    "import psycopg2\n",
    "import pandas as pd\n",
    "import os\n",
    "import numpy\n",
    "import ast"
   ]
  },
  {
   "cell_type": "code",
   "execution_count": 3,
   "metadata": {},
   "outputs": [],
   "source": [
    "hostname='localhost'\n",
    "dbname = 'congressional_bills'\n",
    "username = 'melissaferrari'"
   ]
  },
  {
   "cell_type": "markdown",
   "metadata": {},
   "source": [
    "### Database connection with sqlalchemy."
   ]
  },
  {
   "cell_type": "code",
   "execution_count": 4,
   "metadata": {},
   "outputs": [],
   "source": [
    "#engine = create_engine('postgres://{}@{}/{}'.format(hostname, username, dbname))\n",
    "engine = create_engine('postgres://{}/{}'.format(hostname, dbname))"
   ]
  },
  {
   "cell_type": "code",
   "execution_count": 5,
   "metadata": {},
   "outputs": [
    {
     "name": "stdout",
     "output_type": "stream",
     "text": [
      "postgres://localhost/congressional_bills\n"
     ]
    }
   ],
   "source": [
    "print(engine.url)"
   ]
  },
  {
   "cell_type": "code",
   "execution_count": 6,
   "metadata": {},
   "outputs": [
    {
     "name": "stdout",
     "output_type": "stream",
     "text": [
      "True\n"
     ]
    }
   ],
   "source": [
    "## create a database (if it doesn't exist)\n",
    "if not database_exists(engine.url):\n",
    "    create_database(engine.url)\n",
    "print(database_exists(engine.url))"
   ]
  },
  {
   "cell_type": "markdown",
   "metadata": {},
   "source": [
    "### Load in csv data."
   ]
  },
  {
   "cell_type": "code",
   "execution_count": 7,
   "metadata": {},
   "outputs": [],
   "source": [
    "def import_csv(file_path):\n",
    "    df = pd.read_csv(file_path)\n",
    "    if 'Unnamed: 0' in df.columns:\n",
    "        del df['Unnamed: 0']\n",
    "    return df"
   ]
  },
  {
   "cell_type": "markdown",
   "metadata": {},
   "source": [
    "### Create legislator database table.\n",
    "The legislator table is flat and simply a copy of the csv file downloaded, so I will use `pandas` function `to_sql` for simplicity.\n",
    "\n",
    "[Legislator Data Glossary](https://github.com/unitedstates/congress-legislators)"
   ]
  },
  {
   "cell_type": "code",
   "execution_count": 10,
   "metadata": {},
   "outputs": [
    {
     "data": {
      "text/html": [
       "<div>\n",
       "<style scoped>\n",
       "    .dataframe tbody tr th:only-of-type {\n",
       "        vertical-align: middle;\n",
       "    }\n",
       "\n",
       "    .dataframe tbody tr th {\n",
       "        vertical-align: top;\n",
       "    }\n",
       "\n",
       "    .dataframe thead th {\n",
       "        text-align: right;\n",
       "    }\n",
       "</style>\n",
       "<table border=\"1\" class=\"dataframe\">\n",
       "  <thead>\n",
       "    <tr style=\"text-align: right;\">\n",
       "      <th></th>\n",
       "      <th>last_name</th>\n",
       "      <th>first_name</th>\n",
       "      <th>middle_name</th>\n",
       "      <th>suffix</th>\n",
       "      <th>nickname</th>\n",
       "      <th>full_name</th>\n",
       "      <th>birthday</th>\n",
       "      <th>gender</th>\n",
       "      <th>type</th>\n",
       "      <th>state</th>\n",
       "      <th>...</th>\n",
       "      <th>lis_id</th>\n",
       "      <th>fec_ids</th>\n",
       "      <th>cspan_id</th>\n",
       "      <th>govtrack_id</th>\n",
       "      <th>votesmart_id</th>\n",
       "      <th>ballotpedia_id</th>\n",
       "      <th>washington_post_id</th>\n",
       "      <th>icpsr_id</th>\n",
       "      <th>wikipedia_id</th>\n",
       "      <th>current_legislator</th>\n",
       "    </tr>\n",
       "  </thead>\n",
       "  <tbody>\n",
       "    <tr>\n",
       "      <th>0</th>\n",
       "      <td>Bassett</td>\n",
       "      <td>Richard</td>\n",
       "      <td>NaN</td>\n",
       "      <td>NaN</td>\n",
       "      <td>NaN</td>\n",
       "      <td>NaN</td>\n",
       "      <td>1745-04-02</td>\n",
       "      <td>M</td>\n",
       "      <td>sen</td>\n",
       "      <td>DE</td>\n",
       "      <td>...</td>\n",
       "      <td>NaN</td>\n",
       "      <td>NaN</td>\n",
       "      <td>NaN</td>\n",
       "      <td>401222</td>\n",
       "      <td>NaN</td>\n",
       "      <td>NaN</td>\n",
       "      <td>NaN</td>\n",
       "      <td>507.0</td>\n",
       "      <td>Richard Bassett (politician)</td>\n",
       "      <td>False</td>\n",
       "    </tr>\n",
       "    <tr>\n",
       "      <th>1</th>\n",
       "      <td>Bland</td>\n",
       "      <td>Theodorick</td>\n",
       "      <td>NaN</td>\n",
       "      <td>NaN</td>\n",
       "      <td>NaN</td>\n",
       "      <td>NaN</td>\n",
       "      <td>1742-03-21</td>\n",
       "      <td>M</td>\n",
       "      <td>rep</td>\n",
       "      <td>VA</td>\n",
       "      <td>...</td>\n",
       "      <td>NaN</td>\n",
       "      <td>NaN</td>\n",
       "      <td>NaN</td>\n",
       "      <td>401521</td>\n",
       "      <td>NaN</td>\n",
       "      <td>NaN</td>\n",
       "      <td>NaN</td>\n",
       "      <td>786.0</td>\n",
       "      <td>Theodorick Bland (congressman)</td>\n",
       "      <td>False</td>\n",
       "    </tr>\n",
       "    <tr>\n",
       "      <th>2</th>\n",
       "      <td>Burke</td>\n",
       "      <td>Aedanus</td>\n",
       "      <td>NaN</td>\n",
       "      <td>NaN</td>\n",
       "      <td>NaN</td>\n",
       "      <td>NaN</td>\n",
       "      <td>1743-06-16</td>\n",
       "      <td>M</td>\n",
       "      <td>rep</td>\n",
       "      <td>SC</td>\n",
       "      <td>...</td>\n",
       "      <td>NaN</td>\n",
       "      <td>NaN</td>\n",
       "      <td>NaN</td>\n",
       "      <td>402032</td>\n",
       "      <td>NaN</td>\n",
       "      <td>NaN</td>\n",
       "      <td>NaN</td>\n",
       "      <td>1260.0</td>\n",
       "      <td>Aedanus Burke</td>\n",
       "      <td>False</td>\n",
       "    </tr>\n",
       "    <tr>\n",
       "      <th>3</th>\n",
       "      <td>Carroll</td>\n",
       "      <td>Daniel</td>\n",
       "      <td>NaN</td>\n",
       "      <td>NaN</td>\n",
       "      <td>NaN</td>\n",
       "      <td>NaN</td>\n",
       "      <td>1730-07-22</td>\n",
       "      <td>M</td>\n",
       "      <td>rep</td>\n",
       "      <td>MD</td>\n",
       "      <td>...</td>\n",
       "      <td>NaN</td>\n",
       "      <td>NaN</td>\n",
       "      <td>NaN</td>\n",
       "      <td>402334</td>\n",
       "      <td>NaN</td>\n",
       "      <td>NaN</td>\n",
       "      <td>NaN</td>\n",
       "      <td>1538.0</td>\n",
       "      <td>Daniel Carroll</td>\n",
       "      <td>False</td>\n",
       "    </tr>\n",
       "    <tr>\n",
       "      <th>4</th>\n",
       "      <td>Clymer</td>\n",
       "      <td>George</td>\n",
       "      <td>NaN</td>\n",
       "      <td>NaN</td>\n",
       "      <td>NaN</td>\n",
       "      <td>NaN</td>\n",
       "      <td>1739-03-16</td>\n",
       "      <td>M</td>\n",
       "      <td>rep</td>\n",
       "      <td>PA</td>\n",
       "      <td>...</td>\n",
       "      <td>NaN</td>\n",
       "      <td>NaN</td>\n",
       "      <td>NaN</td>\n",
       "      <td>402671</td>\n",
       "      <td>NaN</td>\n",
       "      <td>NaN</td>\n",
       "      <td>NaN</td>\n",
       "      <td>1859.0</td>\n",
       "      <td>George Clymer</td>\n",
       "      <td>False</td>\n",
       "    </tr>\n",
       "  </tbody>\n",
       "</table>\n",
       "<p>5 rows × 35 columns</p>\n",
       "</div>"
      ],
      "text/plain": [
       "  last_name  first_name middle_name suffix nickname full_name    birthday  \\\n",
       "0   Bassett     Richard         NaN    NaN      NaN       NaN  1745-04-02   \n",
       "1     Bland  Theodorick         NaN    NaN      NaN       NaN  1742-03-21   \n",
       "2     Burke     Aedanus         NaN    NaN      NaN       NaN  1743-06-16   \n",
       "3   Carroll      Daniel         NaN    NaN      NaN       NaN  1730-07-22   \n",
       "4    Clymer      George         NaN    NaN      NaN       NaN  1739-03-16   \n",
       "\n",
       "  gender type state         ...          lis_id  fec_ids cspan_id govtrack_id  \\\n",
       "0      M  sen    DE         ...             NaN      NaN      NaN      401222   \n",
       "1      M  rep    VA         ...             NaN      NaN      NaN      401521   \n",
       "2      M  rep    SC         ...             NaN      NaN      NaN      402032   \n",
       "3      M  rep    MD         ...             NaN      NaN      NaN      402334   \n",
       "4      M  rep    PA         ...             NaN      NaN      NaN      402671   \n",
       "\n",
       "  votesmart_id ballotpedia_id washington_post_id icpsr_id  \\\n",
       "0          NaN            NaN                NaN    507.0   \n",
       "1          NaN            NaN                NaN    786.0   \n",
       "2          NaN            NaN                NaN   1260.0   \n",
       "3          NaN            NaN                NaN   1538.0   \n",
       "4          NaN            NaN                NaN   1859.0   \n",
       "\n",
       "                     wikipedia_id  current_legislator  \n",
       "0    Richard Bassett (politician)               False  \n",
       "1  Theodorick Bland (congressman)               False  \n",
       "2                   Aedanus Burke               False  \n",
       "3                  Daniel Carroll               False  \n",
       "4                   George Clymer               False  \n",
       "\n",
       "[5 rows x 35 columns]"
      ]
     },
     "execution_count": 10,
     "metadata": {},
     "output_type": "execute_result"
    }
   ],
   "source": [
    "leg_hist = import_csv(os.path.join(data_path, 'legislators-historical.csv'))\n",
    "leg_hist['current_legislator'] = False \n",
    "leg_hist.head()"
   ]
  },
  {
   "cell_type": "code",
   "execution_count": 11,
   "metadata": {},
   "outputs": [
    {
     "data": {
      "text/html": [
       "<div>\n",
       "<style scoped>\n",
       "    .dataframe tbody tr th:only-of-type {\n",
       "        vertical-align: middle;\n",
       "    }\n",
       "\n",
       "    .dataframe tbody tr th {\n",
       "        vertical-align: top;\n",
       "    }\n",
       "\n",
       "    .dataframe thead th {\n",
       "        text-align: right;\n",
       "    }\n",
       "</style>\n",
       "<table border=\"1\" class=\"dataframe\">\n",
       "  <thead>\n",
       "    <tr style=\"text-align: right;\">\n",
       "      <th></th>\n",
       "      <th>last_name</th>\n",
       "      <th>first_name</th>\n",
       "      <th>middle_name</th>\n",
       "      <th>suffix</th>\n",
       "      <th>nickname</th>\n",
       "      <th>full_name</th>\n",
       "      <th>birthday</th>\n",
       "      <th>gender</th>\n",
       "      <th>type</th>\n",
       "      <th>state</th>\n",
       "      <th>...</th>\n",
       "      <th>lis_id</th>\n",
       "      <th>fec_ids</th>\n",
       "      <th>cspan_id</th>\n",
       "      <th>govtrack_id</th>\n",
       "      <th>votesmart_id</th>\n",
       "      <th>ballotpedia_id</th>\n",
       "      <th>washington_post_id</th>\n",
       "      <th>icpsr_id</th>\n",
       "      <th>wikipedia_id</th>\n",
       "      <th>current_legislator</th>\n",
       "    </tr>\n",
       "  </thead>\n",
       "  <tbody>\n",
       "    <tr>\n",
       "      <th>0</th>\n",
       "      <td>Brown</td>\n",
       "      <td>Sherrod</td>\n",
       "      <td>NaN</td>\n",
       "      <td>NaN</td>\n",
       "      <td>NaN</td>\n",
       "      <td>Sherrod Brown</td>\n",
       "      <td>1952-11-09</td>\n",
       "      <td>M</td>\n",
       "      <td>sen</td>\n",
       "      <td>OH</td>\n",
       "      <td>...</td>\n",
       "      <td>S307</td>\n",
       "      <td>H2OH13033,S6OH00163</td>\n",
       "      <td>5051.0</td>\n",
       "      <td>400050</td>\n",
       "      <td>27018.0</td>\n",
       "      <td>Sherrod Brown</td>\n",
       "      <td>NaN</td>\n",
       "      <td>29389.0</td>\n",
       "      <td>Sherrod Brown</td>\n",
       "      <td>True</td>\n",
       "    </tr>\n",
       "    <tr>\n",
       "      <th>1</th>\n",
       "      <td>Cantwell</td>\n",
       "      <td>Maria</td>\n",
       "      <td>NaN</td>\n",
       "      <td>NaN</td>\n",
       "      <td>NaN</td>\n",
       "      <td>Maria Cantwell</td>\n",
       "      <td>1958-10-13</td>\n",
       "      <td>F</td>\n",
       "      <td>sen</td>\n",
       "      <td>WA</td>\n",
       "      <td>...</td>\n",
       "      <td>S275</td>\n",
       "      <td>S8WA00194,H2WA01054</td>\n",
       "      <td>26137.0</td>\n",
       "      <td>300018</td>\n",
       "      <td>27122.0</td>\n",
       "      <td>Maria Cantwell</td>\n",
       "      <td>NaN</td>\n",
       "      <td>39310.0</td>\n",
       "      <td>Maria Cantwell</td>\n",
       "      <td>True</td>\n",
       "    </tr>\n",
       "    <tr>\n",
       "      <th>2</th>\n",
       "      <td>Cardin</td>\n",
       "      <td>Benjamin</td>\n",
       "      <td>L.</td>\n",
       "      <td>NaN</td>\n",
       "      <td>NaN</td>\n",
       "      <td>Benjamin L. Cardin</td>\n",
       "      <td>1943-10-05</td>\n",
       "      <td>M</td>\n",
       "      <td>sen</td>\n",
       "      <td>MD</td>\n",
       "      <td>...</td>\n",
       "      <td>S308</td>\n",
       "      <td>H6MD03177,S6MD03177</td>\n",
       "      <td>4004.0</td>\n",
       "      <td>400064</td>\n",
       "      <td>26888.0</td>\n",
       "      <td>Ben Cardin</td>\n",
       "      <td>NaN</td>\n",
       "      <td>15408.0</td>\n",
       "      <td>Ben Cardin</td>\n",
       "      <td>True</td>\n",
       "    </tr>\n",
       "    <tr>\n",
       "      <th>3</th>\n",
       "      <td>Carper</td>\n",
       "      <td>Thomas</td>\n",
       "      <td>Richard</td>\n",
       "      <td>NaN</td>\n",
       "      <td>NaN</td>\n",
       "      <td>Thomas R. Carper</td>\n",
       "      <td>1947-01-23</td>\n",
       "      <td>M</td>\n",
       "      <td>sen</td>\n",
       "      <td>DE</td>\n",
       "      <td>...</td>\n",
       "      <td>S277</td>\n",
       "      <td>S8DE00079</td>\n",
       "      <td>663.0</td>\n",
       "      <td>300019</td>\n",
       "      <td>22421.0</td>\n",
       "      <td>Tom Carper</td>\n",
       "      <td>NaN</td>\n",
       "      <td>15015.0</td>\n",
       "      <td>Tom Carper</td>\n",
       "      <td>True</td>\n",
       "    </tr>\n",
       "    <tr>\n",
       "      <th>4</th>\n",
       "      <td>Casey</td>\n",
       "      <td>Robert</td>\n",
       "      <td>P.</td>\n",
       "      <td>Jr.</td>\n",
       "      <td>Bob</td>\n",
       "      <td>Robert P. Casey, Jr.</td>\n",
       "      <td>1960-04-13</td>\n",
       "      <td>M</td>\n",
       "      <td>sen</td>\n",
       "      <td>PA</td>\n",
       "      <td>...</td>\n",
       "      <td>S309</td>\n",
       "      <td>S6PA00217</td>\n",
       "      <td>47036.0</td>\n",
       "      <td>412246</td>\n",
       "      <td>2541.0</td>\n",
       "      <td>Bob Casey, Jr.</td>\n",
       "      <td>NaN</td>\n",
       "      <td>40703.0</td>\n",
       "      <td>Bob Casey Jr.</td>\n",
       "      <td>True</td>\n",
       "    </tr>\n",
       "  </tbody>\n",
       "</table>\n",
       "<p>5 rows × 35 columns</p>\n",
       "</div>"
      ],
      "text/plain": [
       "  last_name first_name middle_name suffix nickname             full_name  \\\n",
       "0     Brown    Sherrod         NaN    NaN      NaN         Sherrod Brown   \n",
       "1  Cantwell      Maria         NaN    NaN      NaN        Maria Cantwell   \n",
       "2    Cardin   Benjamin          L.    NaN      NaN    Benjamin L. Cardin   \n",
       "3    Carper     Thomas     Richard    NaN      NaN      Thomas R. Carper   \n",
       "4     Casey     Robert          P.    Jr.      Bob  Robert P. Casey, Jr.   \n",
       "\n",
       "     birthday gender type state        ...          lis_id  \\\n",
       "0  1952-11-09      M  sen    OH        ...            S307   \n",
       "1  1958-10-13      F  sen    WA        ...            S275   \n",
       "2  1943-10-05      M  sen    MD        ...            S308   \n",
       "3  1947-01-23      M  sen    DE        ...            S277   \n",
       "4  1960-04-13      M  sen    PA        ...            S309   \n",
       "\n",
       "               fec_ids cspan_id govtrack_id votesmart_id  ballotpedia_id  \\\n",
       "0  H2OH13033,S6OH00163   5051.0      400050      27018.0   Sherrod Brown   \n",
       "1  S8WA00194,H2WA01054  26137.0      300018      27122.0  Maria Cantwell   \n",
       "2  H6MD03177,S6MD03177   4004.0      400064      26888.0      Ben Cardin   \n",
       "3            S8DE00079    663.0      300019      22421.0      Tom Carper   \n",
       "4            S6PA00217  47036.0      412246       2541.0  Bob Casey, Jr.   \n",
       "\n",
       "  washington_post_id icpsr_id    wikipedia_id current_legislator  \n",
       "0                NaN  29389.0   Sherrod Brown               True  \n",
       "1                NaN  39310.0  Maria Cantwell               True  \n",
       "2                NaN  15408.0      Ben Cardin               True  \n",
       "3                NaN  15015.0      Tom Carper               True  \n",
       "4                NaN  40703.0   Bob Casey Jr.               True  \n",
       "\n",
       "[5 rows x 35 columns]"
      ]
     },
     "execution_count": 11,
     "metadata": {},
     "output_type": "execute_result"
    }
   ],
   "source": [
    "leg_current = import_csv(os.path.join(data_path, 'legislators-current.csv'))\n",
    "leg_current['current_legislator'] = True\n",
    "leg_current.head()"
   ]
  },
  {
   "cell_type": "code",
   "execution_count": 12,
   "metadata": {},
   "outputs": [],
   "source": [
    "leg_all = pd.concat([leg_current, leg_hist])"
   ]
  },
  {
   "cell_type": "code",
   "execution_count": 13,
   "metadata": {},
   "outputs": [
    {
     "data": {
      "text/plain": [
       "True"
      ]
     },
     "execution_count": 13,
     "metadata": {},
     "output_type": "execute_result"
    }
   ],
   "source": [
    "len(leg_current) + len(leg_hist) == len(leg_all.drop_duplicates())"
   ]
  },
  {
   "cell_type": "code",
   "execution_count": 14,
   "metadata": {},
   "outputs": [],
   "source": [
    "#leg_all.to_csv(os.path.join(data_path, 'legislators-all.csv'))\n",
    "leg_all = import_csv(os.path.join(data_path, 'legislators-all.csv'))"
   ]
  },
  {
   "cell_type": "code",
   "execution_count": 15,
   "metadata": {},
   "outputs": [
    {
     "data": {
      "text/html": [
       "<div>\n",
       "<style scoped>\n",
       "    .dataframe tbody tr th:only-of-type {\n",
       "        vertical-align: middle;\n",
       "    }\n",
       "\n",
       "    .dataframe tbody tr th {\n",
       "        vertical-align: top;\n",
       "    }\n",
       "\n",
       "    .dataframe thead th {\n",
       "        text-align: right;\n",
       "    }\n",
       "</style>\n",
       "<table border=\"1\" class=\"dataframe\">\n",
       "  <thead>\n",
       "    <tr style=\"text-align: right;\">\n",
       "      <th></th>\n",
       "      <th>last_name</th>\n",
       "      <th>first_name</th>\n",
       "      <th>middle_name</th>\n",
       "      <th>suffix</th>\n",
       "      <th>nickname</th>\n",
       "      <th>full_name</th>\n",
       "      <th>birthday</th>\n",
       "      <th>gender</th>\n",
       "      <th>type</th>\n",
       "      <th>state</th>\n",
       "      <th>...</th>\n",
       "      <th>lis_id</th>\n",
       "      <th>fec_ids</th>\n",
       "      <th>cspan_id</th>\n",
       "      <th>govtrack_id</th>\n",
       "      <th>votesmart_id</th>\n",
       "      <th>ballotpedia_id</th>\n",
       "      <th>washington_post_id</th>\n",
       "      <th>icpsr_id</th>\n",
       "      <th>wikipedia_id</th>\n",
       "      <th>current_legislator</th>\n",
       "    </tr>\n",
       "  </thead>\n",
       "  <tbody>\n",
       "    <tr>\n",
       "      <th>0</th>\n",
       "      <td>Brown</td>\n",
       "      <td>Sherrod</td>\n",
       "      <td>NaN</td>\n",
       "      <td>NaN</td>\n",
       "      <td>NaN</td>\n",
       "      <td>Sherrod Brown</td>\n",
       "      <td>1952-11-09</td>\n",
       "      <td>M</td>\n",
       "      <td>sen</td>\n",
       "      <td>OH</td>\n",
       "      <td>...</td>\n",
       "      <td>S307</td>\n",
       "      <td>H2OH13033,S6OH00163</td>\n",
       "      <td>5051.0</td>\n",
       "      <td>400050</td>\n",
       "      <td>27018.0</td>\n",
       "      <td>Sherrod Brown</td>\n",
       "      <td>NaN</td>\n",
       "      <td>29389.0</td>\n",
       "      <td>Sherrod Brown</td>\n",
       "      <td>True</td>\n",
       "    </tr>\n",
       "    <tr>\n",
       "      <th>1</th>\n",
       "      <td>Cantwell</td>\n",
       "      <td>Maria</td>\n",
       "      <td>NaN</td>\n",
       "      <td>NaN</td>\n",
       "      <td>NaN</td>\n",
       "      <td>Maria Cantwell</td>\n",
       "      <td>1958-10-13</td>\n",
       "      <td>F</td>\n",
       "      <td>sen</td>\n",
       "      <td>WA</td>\n",
       "      <td>...</td>\n",
       "      <td>S275</td>\n",
       "      <td>S8WA00194,H2WA01054</td>\n",
       "      <td>26137.0</td>\n",
       "      <td>300018</td>\n",
       "      <td>27122.0</td>\n",
       "      <td>Maria Cantwell</td>\n",
       "      <td>NaN</td>\n",
       "      <td>39310.0</td>\n",
       "      <td>Maria Cantwell</td>\n",
       "      <td>True</td>\n",
       "    </tr>\n",
       "    <tr>\n",
       "      <th>2</th>\n",
       "      <td>Cardin</td>\n",
       "      <td>Benjamin</td>\n",
       "      <td>L.</td>\n",
       "      <td>NaN</td>\n",
       "      <td>NaN</td>\n",
       "      <td>Benjamin L. Cardin</td>\n",
       "      <td>1943-10-05</td>\n",
       "      <td>M</td>\n",
       "      <td>sen</td>\n",
       "      <td>MD</td>\n",
       "      <td>...</td>\n",
       "      <td>S308</td>\n",
       "      <td>H6MD03177,S6MD03177</td>\n",
       "      <td>4004.0</td>\n",
       "      <td>400064</td>\n",
       "      <td>26888.0</td>\n",
       "      <td>Ben Cardin</td>\n",
       "      <td>NaN</td>\n",
       "      <td>15408.0</td>\n",
       "      <td>Ben Cardin</td>\n",
       "      <td>True</td>\n",
       "    </tr>\n",
       "    <tr>\n",
       "      <th>3</th>\n",
       "      <td>Carper</td>\n",
       "      <td>Thomas</td>\n",
       "      <td>Richard</td>\n",
       "      <td>NaN</td>\n",
       "      <td>NaN</td>\n",
       "      <td>Thomas R. Carper</td>\n",
       "      <td>1947-01-23</td>\n",
       "      <td>M</td>\n",
       "      <td>sen</td>\n",
       "      <td>DE</td>\n",
       "      <td>...</td>\n",
       "      <td>S277</td>\n",
       "      <td>S8DE00079</td>\n",
       "      <td>663.0</td>\n",
       "      <td>300019</td>\n",
       "      <td>22421.0</td>\n",
       "      <td>Tom Carper</td>\n",
       "      <td>NaN</td>\n",
       "      <td>15015.0</td>\n",
       "      <td>Tom Carper</td>\n",
       "      <td>True</td>\n",
       "    </tr>\n",
       "    <tr>\n",
       "      <th>4</th>\n",
       "      <td>Casey</td>\n",
       "      <td>Robert</td>\n",
       "      <td>P.</td>\n",
       "      <td>Jr.</td>\n",
       "      <td>Bob</td>\n",
       "      <td>Robert P. Casey, Jr.</td>\n",
       "      <td>1960-04-13</td>\n",
       "      <td>M</td>\n",
       "      <td>sen</td>\n",
       "      <td>PA</td>\n",
       "      <td>...</td>\n",
       "      <td>S309</td>\n",
       "      <td>S6PA00217</td>\n",
       "      <td>47036.0</td>\n",
       "      <td>412246</td>\n",
       "      <td>2541.0</td>\n",
       "      <td>Bob Casey, Jr.</td>\n",
       "      <td>NaN</td>\n",
       "      <td>40703.0</td>\n",
       "      <td>Bob Casey Jr.</td>\n",
       "      <td>True</td>\n",
       "    </tr>\n",
       "  </tbody>\n",
       "</table>\n",
       "<p>5 rows × 35 columns</p>\n",
       "</div>"
      ],
      "text/plain": [
       "  last_name first_name middle_name suffix nickname             full_name  \\\n",
       "0     Brown    Sherrod         NaN    NaN      NaN         Sherrod Brown   \n",
       "1  Cantwell      Maria         NaN    NaN      NaN        Maria Cantwell   \n",
       "2    Cardin   Benjamin          L.    NaN      NaN    Benjamin L. Cardin   \n",
       "3    Carper     Thomas     Richard    NaN      NaN      Thomas R. Carper   \n",
       "4     Casey     Robert          P.    Jr.      Bob  Robert P. Casey, Jr.   \n",
       "\n",
       "     birthday gender type state        ...          lis_id  \\\n",
       "0  1952-11-09      M  sen    OH        ...            S307   \n",
       "1  1958-10-13      F  sen    WA        ...            S275   \n",
       "2  1943-10-05      M  sen    MD        ...            S308   \n",
       "3  1947-01-23      M  sen    DE        ...            S277   \n",
       "4  1960-04-13      M  sen    PA        ...            S309   \n",
       "\n",
       "               fec_ids cspan_id govtrack_id votesmart_id  ballotpedia_id  \\\n",
       "0  H2OH13033,S6OH00163   5051.0      400050      27018.0   Sherrod Brown   \n",
       "1  S8WA00194,H2WA01054  26137.0      300018      27122.0  Maria Cantwell   \n",
       "2  H6MD03177,S6MD03177   4004.0      400064      26888.0      Ben Cardin   \n",
       "3            S8DE00079    663.0      300019      22421.0      Tom Carper   \n",
       "4            S6PA00217  47036.0      412246       2541.0  Bob Casey, Jr.   \n",
       "\n",
       "  washington_post_id icpsr_id    wikipedia_id current_legislator  \n",
       "0                NaN  29389.0   Sherrod Brown               True  \n",
       "1                NaN  39310.0  Maria Cantwell               True  \n",
       "2                NaN  15408.0      Ben Cardin               True  \n",
       "3                NaN  15015.0      Tom Carper               True  \n",
       "4                NaN  40703.0   Bob Casey Jr.               True  \n",
       "\n",
       "[5 rows x 35 columns]"
      ]
     },
     "execution_count": 15,
     "metadata": {},
     "output_type": "execute_result"
    }
   ],
   "source": [
    "leg_all.head()"
   ]
  },
  {
   "cell_type": "code",
   "execution_count": 90,
   "metadata": {},
   "outputs": [],
   "source": [
    "## insert data into database from Python (proof of concept - this won't be useful for big data, of course)\n",
    "#leg_all.to_sql('legislators', con=engine, if_exists='replace', index_label='id')"
   ]
  },
  {
   "cell_type": "code",
   "execution_count": 16,
   "metadata": {},
   "outputs": [],
   "source": [
    "bill_type = ['hr', 'hres', 'hjres', 'hconres', 's', 'sres', 'sjres', 'sconres']\n",
    "bill_type_df = pd.DataFrame({'name':bill_type})"
   ]
  },
  {
   "cell_type": "code",
   "execution_count": 379,
   "metadata": {},
   "outputs": [],
   "source": [
    "#bill_type_df.to_sql('lk_bill_type', con=engine, index_label='id', dtype={\"name\": sqlalchemy.types.String(8)})"
   ]
  },
  {
   "cell_type": "markdown",
   "metadata": {},
   "source": [
    "# Data Cleaning."
   ]
  },
  {
   "cell_type": "markdown",
   "metadata": {},
   "source": [
    "### Bill versions."
   ]
  },
  {
   "cell_type": "code",
   "execution_count": 466,
   "metadata": {},
   "outputs": [
    {
     "name": "stdout",
     "output_type": "stream",
     "text": [
      "/Users/melissaferrari/Projects/repo/bill-summarization/data_files\n"
     ]
    }
   ],
   "source": [
    "cd data_files/"
   ]
  },
  {
   "cell_type": "code",
   "execution_count": 467,
   "metadata": {},
   "outputs": [
    {
     "name": "stdout",
     "output_type": "stream",
     "text": [
      "\u001b[1m\u001b[36mbill_details\u001b[m\u001b[m/               legislators-all.csv\n",
      "bill_version.csv            legislators-current.csv\n",
      "committees-current.json     legislators-historical.csv\n",
      "committees-historical.json\n"
     ]
    }
   ],
   "source": [
    "ls"
   ]
  },
  {
   "cell_type": "code",
   "execution_count": 469,
   "metadata": {},
   "outputs": [],
   "source": [
    "#bill_versions = pd.read_csv(os.path.join(data_path, 'bill_version.csv'))\n",
    "bill_versions = pd.read_csv('bill_version.csv')\n",
    "bill_versions.columns = ['title', 'code', 'definition', 'chamber']"
   ]
  },
  {
   "cell_type": "code",
   "execution_count": 475,
   "metadata": {},
   "outputs": [],
   "source": [
    "sql = \"\"\"SELECT DISTINCT \"as\" FROM summaries;\"\"\""
   ]
  },
  {
   "cell_type": "code",
   "execution_count": 19,
   "metadata": {},
   "outputs": [],
   "source": [
    "## insert data into database from Python (proof of concept - this won't be useful for big data, of course)\n",
    "bill_versions.to_sql('bill_versions', con=engine, if_exists='replace', index_label='id')"
   ]
  },
  {
   "cell_type": "markdown",
   "metadata": {},
   "source": [
    "### Open aggregated data."
   ]
  },
  {
   "cell_type": "code",
   "execution_count": 161,
   "metadata": {},
   "outputs": [],
   "source": [
    "data_path = '/Users/melissaferrari/Projects/repo/bill-summarization/'\n",
    "data_path += 'data_files/bill_details'\n",
    "file_name = 'agg_propublica_114hr.csv'\n",
    "#file_name = 'agg_propublica_113hr.csv'\n",
    "df = import_csv(os.path.join(data_path, file_name))\n",
    "data_agg = df.copy()"
   ]
  },
  {
   "cell_type": "code",
   "execution_count": 162,
   "metadata": {},
   "outputs": [],
   "source": [
    "data_dont_touch = data_agg.copy()"
   ]
  },
  {
   "cell_type": "code",
   "execution_count": 27,
   "metadata": {},
   "outputs": [
    {
     "data": {
      "text/html": [
       "<div>\n",
       "<style scoped>\n",
       "    .dataframe tbody tr th:only-of-type {\n",
       "        vertical-align: middle;\n",
       "    }\n",
       "\n",
       "    .dataframe tbody tr th {\n",
       "        vertical-align: top;\n",
       "    }\n",
       "\n",
       "    .dataframe thead th {\n",
       "        text-align: right;\n",
       "    }\n",
       "</style>\n",
       "<table border=\"1\" class=\"dataframe\">\n",
       "  <thead>\n",
       "    <tr style=\"text-align: right;\">\n",
       "      <th></th>\n",
       "      <th>actions</th>\n",
       "      <th>amendments</th>\n",
       "      <th>bill_id</th>\n",
       "      <th>bill_type</th>\n",
       "      <th>by_request</th>\n",
       "      <th>committee_reports</th>\n",
       "      <th>committees</th>\n",
       "      <th>congress</th>\n",
       "      <th>cosponsors</th>\n",
       "      <th>enacted_as</th>\n",
       "      <th>...</th>\n",
       "      <th>short_title</th>\n",
       "      <th>sponsor</th>\n",
       "      <th>status</th>\n",
       "      <th>status_at</th>\n",
       "      <th>subjects</th>\n",
       "      <th>subjects_top_term</th>\n",
       "      <th>summary</th>\n",
       "      <th>titles</th>\n",
       "      <th>updated_at</th>\n",
       "      <th>url</th>\n",
       "    </tr>\n",
       "  </thead>\n",
       "  <tbody>\n",
       "    <tr>\n",
       "      <th>0</th>\n",
       "      <td>[{'acted_at': '2015-03-03', 'references': [], ...</td>\n",
       "      <td>[]</td>\n",
       "      <td>hr1216-114</td>\n",
       "      <td>hr</td>\n",
       "      <td>False</td>\n",
       "      <td>[]</td>\n",
       "      <td>[{'committee_id': 'HSBA', 'activity': ['referr...</td>\n",
       "      <td>114</td>\n",
       "      <td>[{'withdrawn_at': None, 'district': '7', 'spon...</td>\n",
       "      <td>NaN</td>\n",
       "      <td>...</td>\n",
       "      <td>Maker-Taker Conflict of Interest Reform Act of...</td>\n",
       "      <td>{'district': '8', 'type': 'person', 'title': '...</td>\n",
       "      <td>REFERRED</td>\n",
       "      <td>2015-03-03</td>\n",
       "      <td>['Congressional oversight', 'Finance and finan...</td>\n",
       "      <td>Finance and financial sector</td>\n",
       "      <td>{'date': '2015-03-03T05:00:00Z', 'text': 'Make...</td>\n",
       "      <td>[{'title': 'Maker-Taker Conflict of Interest R...</td>\n",
       "      <td>2017-12-11T19:28:52Z</td>\n",
       "      <td>https://www.gpo.gov/fdsys/bulkdata/BILLSTATUS/...</td>\n",
       "    </tr>\n",
       "    <tr>\n",
       "      <th>1</th>\n",
       "      <td>[{'acted_at': '2016-03-16', 'references': [], ...</td>\n",
       "      <td>[]</td>\n",
       "      <td>hr4764-114</td>\n",
       "      <td>hr</td>\n",
       "      <td>False</td>\n",
       "      <td>[]</td>\n",
       "      <td>[{'committee_id': 'HSVR', 'activity': ['referr...</td>\n",
       "      <td>114</td>\n",
       "      <td>[{'withdrawn_at': None, 'district': '12', 'spo...</td>\n",
       "      <td>NaN</td>\n",
       "      <td>...</td>\n",
       "      <td>Puppies Assisting Wounded Servicemembers (PAWS...</td>\n",
       "      <td>{'district': '6', 'type': 'person', 'title': '...</td>\n",
       "      <td>REFERRED</td>\n",
       "      <td>2016-03-16</td>\n",
       "      <td>['Armed forces and national security', 'Health...</td>\n",
       "      <td>Armed forces and national security</td>\n",
       "      <td>{'date': '2016-03-16T04:00:00Z', 'text': 'Pupp...</td>\n",
       "      <td>[{'title': 'Puppies Assisting Wounded Servicem...</td>\n",
       "      <td>2017-12-11T21:02:18Z</td>\n",
       "      <td>https://www.gpo.gov/fdsys/bulkdata/BILLSTATUS/...</td>\n",
       "    </tr>\n",
       "  </tbody>\n",
       "</table>\n",
       "<p>2 rows × 26 columns</p>\n",
       "</div>"
      ],
      "text/plain": [
       "                                             actions amendments     bill_id  \\\n",
       "0  [{'acted_at': '2015-03-03', 'references': [], ...         []  hr1216-114   \n",
       "1  [{'acted_at': '2016-03-16', 'references': [], ...         []  hr4764-114   \n",
       "\n",
       "  bill_type  by_request committee_reports  \\\n",
       "0        hr       False                []   \n",
       "1        hr       False                []   \n",
       "\n",
       "                                          committees  congress  \\\n",
       "0  [{'committee_id': 'HSBA', 'activity': ['referr...       114   \n",
       "1  [{'committee_id': 'HSVR', 'activity': ['referr...       114   \n",
       "\n",
       "                                          cosponsors enacted_as  ...  \\\n",
       "0  [{'withdrawn_at': None, 'district': '7', 'spon...        NaN  ...   \n",
       "1  [{'withdrawn_at': None, 'district': '12', 'spo...        NaN  ...   \n",
       "\n",
       "                                         short_title  \\\n",
       "0  Maker-Taker Conflict of Interest Reform Act of...   \n",
       "1  Puppies Assisting Wounded Servicemembers (PAWS...   \n",
       "\n",
       "                                             sponsor    status   status_at  \\\n",
       "0  {'district': '8', 'type': 'person', 'title': '...  REFERRED  2015-03-03   \n",
       "1  {'district': '6', 'type': 'person', 'title': '...  REFERRED  2016-03-16   \n",
       "\n",
       "                                            subjects  \\\n",
       "0  ['Congressional oversight', 'Finance and finan...   \n",
       "1  ['Armed forces and national security', 'Health...   \n",
       "\n",
       "                    subjects_top_term  \\\n",
       "0        Finance and financial sector   \n",
       "1  Armed forces and national security   \n",
       "\n",
       "                                             summary  \\\n",
       "0  {'date': '2015-03-03T05:00:00Z', 'text': 'Make...   \n",
       "1  {'date': '2016-03-16T04:00:00Z', 'text': 'Pupp...   \n",
       "\n",
       "                                              titles            updated_at  \\\n",
       "0  [{'title': 'Maker-Taker Conflict of Interest R...  2017-12-11T19:28:52Z   \n",
       "1  [{'title': 'Puppies Assisting Wounded Servicem...  2017-12-11T21:02:18Z   \n",
       "\n",
       "                                                 url  \n",
       "0  https://www.gpo.gov/fdsys/bulkdata/BILLSTATUS/...  \n",
       "1  https://www.gpo.gov/fdsys/bulkdata/BILLSTATUS/...  \n",
       "\n",
       "[2 rows x 26 columns]"
      ]
     },
     "execution_count": 27,
     "metadata": {},
     "output_type": "execute_result"
    }
   ],
   "source": [
    "data_agg.head(2)"
   ]
  },
  {
   "cell_type": "markdown",
   "metadata": {},
   "source": [
    "#### Unpack sponsor dictionary.\n",
    "This has been migrated to `insert_bill_data.py`"
   ]
  },
  {
   "cell_type": "code",
   "execution_count": 28,
   "metadata": {},
   "outputs": [],
   "source": [
    "sponsor_dict = data_agg['sponsor'].apply(ast.literal_eval).values.tolist()\n",
    "sponsor_df = pd.DataFrame(sponsor_dict, index=data_agg.index)[['bioguide_id']]"
   ]
  },
  {
   "cell_type": "code",
   "execution_count": 29,
   "metadata": {},
   "outputs": [],
   "source": [
    "data_agg = data_agg.merge(sponsor_df, left_index=True, right_index=True)\n",
    "del data_agg['sponsor']"
   ]
  },
  {
   "cell_type": "markdown",
   "metadata": {},
   "source": [
    "#### Clean bill title data.\n",
    "This has been migrated to `insert_bill_data.py`"
   ]
  },
  {
   "cell_type": "code",
   "execution_count": 22,
   "metadata": {},
   "outputs": [
    {
     "data": {
      "text/html": [
       "<div>\n",
       "<style scoped>\n",
       "    .dataframe tbody tr th:only-of-type {\n",
       "        vertical-align: middle;\n",
       "    }\n",
       "\n",
       "    .dataframe tbody tr th {\n",
       "        vertical-align: top;\n",
       "    }\n",
       "\n",
       "    .dataframe thead th {\n",
       "        text-align: right;\n",
       "    }\n",
       "</style>\n",
       "<table border=\"1\" class=\"dataframe\">\n",
       "  <thead>\n",
       "    <tr style=\"text-align: right;\">\n",
       "      <th></th>\n",
       "      <th>short_title</th>\n",
       "      <th>official_title</th>\n",
       "      <th>popular_title</th>\n",
       "    </tr>\n",
       "  </thead>\n",
       "  <tbody>\n",
       "    <tr>\n",
       "      <th>0</th>\n",
       "      <td>Maker-Taker Conflict of Interest Reform Act of...</td>\n",
       "      <td>To require the Securities and Exchange Commiss...</td>\n",
       "      <td>NaN</td>\n",
       "    </tr>\n",
       "    <tr>\n",
       "      <th>1</th>\n",
       "      <td>Puppies Assisting Wounded Servicemembers (PAWS...</td>\n",
       "      <td>To direct the Secretary of Veterans Affairs to...</td>\n",
       "      <td>NaN</td>\n",
       "    </tr>\n",
       "    <tr>\n",
       "      <th>2</th>\n",
       "      <td>Maritime Lien Reform Act</td>\n",
       "      <td>To provide limitations on maritime liens on fi...</td>\n",
       "      <td>NaN</td>\n",
       "    </tr>\n",
       "    <tr>\n",
       "      <th>3</th>\n",
       "      <td>Adding Middle East Respiratory Syndrome to the...</td>\n",
       "      <td>To expand the tropical disease product priorit...</td>\n",
       "      <td>NaN</td>\n",
       "    </tr>\n",
       "    <tr>\n",
       "      <th>4</th>\n",
       "      <td>Wounded Warrior Service Dog Act of 2015</td>\n",
       "      <td>To establish a grant program to encourage the ...</td>\n",
       "      <td>NaN</td>\n",
       "    </tr>\n",
       "  </tbody>\n",
       "</table>\n",
       "</div>"
      ],
      "text/plain": [
       "                                         short_title  \\\n",
       "0  Maker-Taker Conflict of Interest Reform Act of...   \n",
       "1  Puppies Assisting Wounded Servicemembers (PAWS...   \n",
       "2                           Maritime Lien Reform Act   \n",
       "3  Adding Middle East Respiratory Syndrome to the...   \n",
       "4            Wounded Warrior Service Dog Act of 2015   \n",
       "\n",
       "                                      official_title popular_title  \n",
       "0  To require the Securities and Exchange Commiss...           NaN  \n",
       "1  To direct the Secretary of Veterans Affairs to...           NaN  \n",
       "2  To provide limitations on maritime liens on fi...           NaN  \n",
       "3  To expand the tropical disease product priorit...           NaN  \n",
       "4  To establish a grant program to encourage the ...           NaN  "
      ]
     },
     "execution_count": 22,
     "metadata": {},
     "output_type": "execute_result"
    }
   ],
   "source": [
    "data_agg[['short_title', 'official_title', 'popular_title']].head()"
   ]
  },
  {
   "cell_type": "markdown",
   "metadata": {},
   "source": [
    "The `titles` dict in the aggregated table data is redundant, so we delete it."
   ]
  },
  {
   "cell_type": "code",
   "execution_count": 23,
   "metadata": {},
   "outputs": [],
   "source": [
    "del data_agg['titles']"
   ]
  },
  {
   "cell_type": "markdown",
   "metadata": {},
   "source": [
    "#### Separate summaries.\n",
    "This has been migrated to `insert_bill_data.py`"
   ]
  },
  {
   "cell_type": "code",
   "execution_count": 34,
   "metadata": {},
   "outputs": [],
   "source": [
    "data_summary = data_agg[['summary', 'bill_id', 'congress', 'number', 'bill_type']].copy()\n",
    "del data_agg['summary']"
   ]
  },
  {
   "cell_type": "markdown",
   "metadata": {},
   "source": [
    "### Convert appropriate columns to `date` objects"
   ]
  },
  {
   "cell_type": "code",
   "execution_count": null,
   "metadata": {},
   "outputs": [],
   "source": [
    "data_agg['status_at'] = pd.to_datetime(data_agg['status_at']).dt.date"
   ]
  },
  {
   "cell_type": "code",
   "execution_count": 43,
   "metadata": {},
   "outputs": [],
   "source": [
    "data_agg['introduced_at'] = pd.to_datetime(data_agg['introduced_at']).dt.date"
   ]
  },
  {
   "cell_type": "code",
   "execution_count": 44,
   "metadata": {},
   "outputs": [],
   "source": [
    "data_agg['updated_at'] = pd.to_datetime(data_agg['updated_at'])"
   ]
  },
  {
   "cell_type": "markdown",
   "metadata": {},
   "source": [
    "# Separating actions."
   ]
  },
  {
   "cell_type": "code",
   "execution_count": 31,
   "metadata": {},
   "outputs": [],
   "source": [
    "data_actions = data_agg[['actions', 'bill_id']].copy()\n",
    "del data_agg['actions']"
   ]
  },
  {
   "cell_type": "markdown",
   "metadata": {},
   "source": [
    "# Separating committees."
   ]
  },
  {
   "cell_type": "code",
   "execution_count": 32,
   "metadata": {},
   "outputs": [],
   "source": [
    "data_committees = data_agg[['committees', 'bill_id']].copy()\n",
    "del data_agg['committees']"
   ]
  },
  {
   "cell_type": "markdown",
   "metadata": {},
   "source": [
    "# Separating amendments."
   ]
  },
  {
   "cell_type": "code",
   "execution_count": 33,
   "metadata": {},
   "outputs": [],
   "source": [
    "data_amendments = data_agg[['amendments', 'bill_id']].copy()\n",
    "del data_agg['amendments']"
   ]
  },
  {
   "cell_type": "markdown",
   "metadata": {},
   "source": [
    "# Separating committee reports."
   ]
  },
  {
   "cell_type": "code",
   "execution_count": 34,
   "metadata": {},
   "outputs": [],
   "source": [
    "data_committee_reports = data_agg[['committee_reports', 'bill_id']].copy()\n",
    "del data_agg['committee_reports']"
   ]
  },
  {
   "cell_type": "markdown",
   "metadata": {},
   "source": [
    "# Separating cosponsorship."
   ]
  },
  {
   "cell_type": "code",
   "execution_count": 35,
   "metadata": {},
   "outputs": [],
   "source": [
    "data_cosponsors = data_agg[['cosponsors', 'bill_id']].copy()\n",
    "del data_agg['cosponsors']"
   ]
  },
  {
   "cell_type": "markdown",
   "metadata": {},
   "source": [
    "# Unpack and separate bill history dictionary."
   ]
  },
  {
   "cell_type": "code",
   "execution_count": 36,
   "metadata": {},
   "outputs": [],
   "source": [
    "history_dict = data_agg['history'].apply(ast.literal_eval).values.tolist()\n",
    "history_df = pd.DataFrame(history_dict, index=data_agg.index)"
   ]
  },
  {
   "cell_type": "code",
   "execution_count": 37,
   "metadata": {},
   "outputs": [],
   "source": [
    "history_df = data_agg[['bill_id']].merge(history_df, right_index=True, left_index=True)"
   ]
  },
  {
   "cell_type": "code",
   "execution_count": 38,
   "metadata": {},
   "outputs": [],
   "source": [
    "del data_agg['history']"
   ]
  },
  {
   "cell_type": "markdown",
   "metadata": {},
   "source": [
    "# Separate related bills."
   ]
  },
  {
   "cell_type": "code",
   "execution_count": 39,
   "metadata": {},
   "outputs": [],
   "source": [
    "data_related_bills = data_agg[['related_bills', 'bill_id']].copy()\n",
    "del data_agg['related_bills']"
   ]
  },
  {
   "cell_type": "markdown",
   "metadata": {},
   "source": [
    "# Separate subjects."
   ]
  },
  {
   "cell_type": "code",
   "execution_count": 40,
   "metadata": {},
   "outputs": [],
   "source": [
    "data_subjects = data_agg[['subjects', 'bill_id']].copy()\n",
    "del data_agg['subjects']"
   ]
  },
  {
   "cell_type": "markdown",
   "metadata": {},
   "source": [
    "# Separate enacted_as."
   ]
  },
  {
   "cell_type": "code",
   "execution_count": 35,
   "metadata": {},
   "outputs": [],
   "source": [
    "data_enacted_as = data_agg[['enacted_as', 'bill_id']].copy()\n",
    "del data_agg['enacted_as']"
   ]
  },
  {
   "cell_type": "code",
   "execution_count": 36,
   "metadata": {},
   "outputs": [
    {
     "data": {
      "text/plain": [
       "Index(['bill_id', 'bill_type', 'by_request', 'congress', 'introduced_at',\n",
       "       'number', 'official_title', 'popular_title', 'short_title', 'status',\n",
       "       'status_at', 'subjects_top_term', 'updated_at', 'url', 'bioguide_id'],\n",
       "      dtype='object')"
      ]
     },
     "execution_count": 36,
     "metadata": {},
     "output_type": "execute_result"
    }
   ],
   "source": [
    "data_agg.columns"
   ]
  },
  {
   "cell_type": "markdown",
   "metadata": {},
   "source": [
    "### Insert remaining data into `bills` table of database.\n",
    "This has been migrated to `insert_bill_data.py`"
   ]
  },
  {
   "cell_type": "code",
   "execution_count": 41,
   "metadata": {},
   "outputs": [
    {
     "data": {
      "text/plain": [
       "['bill_id',\n",
       " 'bill_type',\n",
       " 'by_request',\n",
       " 'congress',\n",
       " 'introduced_at',\n",
       " 'number',\n",
       " 'official_title',\n",
       " 'popular_title',\n",
       " 'short_title',\n",
       " 'status',\n",
       " 'status_at',\n",
       " 'subjects_top_term',\n",
       " 'updated_at',\n",
       " 'url',\n",
       " 'bioguide_id']"
      ]
     },
     "execution_count": 41,
     "metadata": {},
     "output_type": "execute_result"
    }
   ],
   "source": [
    "list(data_agg.columns)"
   ]
  },
  {
   "cell_type": "code",
   "execution_count": 807,
   "metadata": {},
   "outputs": [],
   "source": [
    "col_names = ['bill_id', 'by_request', 'congress', 'introduced_at',\n",
    "             'number', 'official_title', 'popular_title', 'short_title',\n",
    "             'status_at', 'subjects_top_term', 'updated_at', 'url']\n",
    "\n",
    "relational_cols = ['status', 'bioguide_id', 'bill_type']\n",
    "\n",
    "data_path = '/Users/melissaferrari/Projects/repo/insight/data_collection'\n",
    "file_name = 'agg_propublica_114hr.csv'\n",
    "data_agg = import_csv(os.path.join(data_path, file_name))\n"
   ]
  },
  {
   "cell_type": "code",
   "execution_count": 810,
   "metadata": {},
   "outputs": [
    {
     "data": {
      "text/plain": [
       "Index(['actions', 'amendments', 'bill_id', 'bill_type', 'by_request',\n",
       "       'committee_reports', 'committees', 'congress', 'cosponsors',\n",
       "       'enacted_as', 'history', 'introduced_at', 'number', 'official_title',\n",
       "       'popular_title', 'related_bills', 'short_title', 'sponsor', 'status',\n",
       "       'status_at', 'subjects', 'subjects_top_term', 'summary', 'titles',\n",
       "       'updated_at', 'url'],\n",
       "      dtype='object')"
      ]
     },
     "execution_count": 810,
     "metadata": {},
     "output_type": "execute_result"
    }
   ],
   "source": [
    "data_agg.columns"
   ]
  },
  {
   "cell_type": "markdown",
   "metadata": {},
   "source": [
    "## Postgres with psycopg2."
   ]
  },
  {
   "cell_type": "code",
   "execution_count": 495,
   "metadata": {},
   "outputs": [],
   "source": [
    "db_conn = psycopg2.connect(\"host={} dbname={} user={}\".format(hostname,\n",
    "                                                              dbname,\n",
    "                                                              username))"
   ]
  },
  {
   "cell_type": "code",
   "execution_count": 275,
   "metadata": {},
   "outputs": [],
   "source": [
    "#db_conn.close()"
   ]
  },
  {
   "cell_type": "code",
   "execution_count": 496,
   "metadata": {},
   "outputs": [],
   "source": [
    "db_cursor = db_conn.cursor()"
   ]
  },
  {
   "cell_type": "code",
   "execution_count": 497,
   "metadata": {},
   "outputs": [],
   "source": [
    "search = 'hr1'\n",
    "sql_query = \"SELECT bill_id FROM bills WHERE bill_id LIKE '%\" + str(search) + \"%' LIMIT 10;\"\n",
    "query = db_cursor.execute(sql_query)"
   ]
  },
  {
   "cell_type": "code",
   "execution_count": 502,
   "metadata": {},
   "outputs": [],
   "source": [
    "query_list = \"SELECT bill_id FROM bills WHERE bill_id LIKE '%\" + search + \"%' LIMIT 10;\"\n",
    "query_list_results = pd.read_sql_query(query_list, con)\n",
    "bill_id_list = list(query_list_results['bill_id'])"
   ]
  },
  {
   "cell_type": "code",
   "execution_count": 505,
   "metadata": {},
   "outputs": [
    {
     "data": {
      "text/plain": [
       "{'bill_id': {0: 'hr1216-114',\n",
       "  1: 'hr1024-114',\n",
       "  2: 'hr105-114',\n",
       "  3: 'hr1818-114',\n",
       "  4: 'hr1440-114',\n",
       "  5: 'hr1672-114',\n",
       "  6: 'hr1686-114',\n",
       "  7: 'hr1827-114',\n",
       "  8: 'hr1229-114',\n",
       "  9: 'hr1681-114'}}"
      ]
     },
     "execution_count": 505,
     "metadata": {},
     "output_type": "execute_result"
    }
   ],
   "source": [
    "df_dict = query_list_results.to_dict()\n",
    "df_dict"
   ]
  },
  {
   "cell_type": "code",
   "execution_count": 504,
   "metadata": {},
   "outputs": [
    {
     "data": {
      "text/plain": [
       "['hr1216-114',\n",
       " 'hr1024-114',\n",
       " 'hr105-114',\n",
       " 'hr1818-114',\n",
       " 'hr1440-114',\n",
       " 'hr1672-114',\n",
       " 'hr1686-114',\n",
       " 'hr1827-114',\n",
       " 'hr1229-114',\n",
       " 'hr1681-114']"
      ]
     },
     "execution_count": 504,
     "metadata": {},
     "output_type": "execute_result"
    }
   ],
   "source": [
    "bill_id_list"
   ]
  },
  {
   "cell_type": "markdown",
   "metadata": {},
   "source": [
    "#### List tables in database."
   ]
  },
  {
   "cell_type": "code",
   "execution_count": 278,
   "metadata": {},
   "outputs": [
    {
     "name": "stdout",
     "output_type": "stream",
     "text": [
      "('lk_status',)\n",
      "('related_bills',)\n",
      "('congresspeople',)\n",
      "('bill_actions',)\n",
      "('committees',)\n",
      "('bill_committee',)\n",
      "('action_committee',)\n",
      "('subjects',)\n",
      "('cosponsorship',)\n",
      "('summaries',)\n",
      "('lk_summary_source',)\n",
      "('bill_text',)\n",
      "('bills',)\n",
      "('legislators',)\n"
     ]
    }
   ],
   "source": [
    "db_cursor.execute(\"\"\"SELECT table_name \n",
    "                     FROM information_schema.tables \n",
    "                     WHERE table_schema = 'public'\"\"\")\n",
    "for table in db_cursor.fetchall():\n",
    "    print(table)"
   ]
  },
  {
   "cell_type": "markdown",
   "metadata": {},
   "source": [
    "#### Basic table queries."
   ]
  },
  {
   "cell_type": "code",
   "execution_count": 487,
   "metadata": {},
   "outputs": [],
   "source": [
    "db_conn.rollback()"
   ]
  },
  {
   "cell_type": "code",
   "execution_count": 489,
   "metadata": {},
   "outputs": [
    {
     "data": {
      "text/plain": [
       "[('ENACTED:SIGNED',),\n",
       " ('PASS_OVER:HOUSE',),\n",
       " ('REPORTED',),\n",
       " ('REFERRED',),\n",
       " ('PROV_KILL:CLOTUREFAILED',),\n",
       " ('PROV_KILL:SUSPENSIONFAILED',),\n",
       " ('PASS_BACK:SENATE',),\n",
       " ('PROV_KILL:VETO',),\n",
       " ('CONFERENCE:PASSED:HOUSE',),\n",
       " ('FAIL:ORIGINATING:HOUSE',),\n",
       " ('VETOED:OVERRIDE_FAIL_ORIGINATING:HOUSE',),\n",
       " ('ENACTED:TENDAYRULE',)]"
      ]
     },
     "execution_count": 489,
     "metadata": {},
     "output_type": "execute_result"
    }
   ],
   "source": [
    "db_cursor.execute('SELECT ls.name FROM lk_status ls')\n",
    "all_status = db_cursor.fetchall()\n",
    "all_status"
   ]
  },
  {
   "cell_type": "code",
   "execution_count": 293,
   "metadata": {},
   "outputs": [
    {
     "data": {
      "text/plain": [
       "[('Sherrod Brown',),\n",
       " ('Maria Cantwell',),\n",
       " ('Benjamin L. Cardin',),\n",
       " ('Thomas R. Carper',),\n",
       " ('Robert P. Casey, Jr.',),\n",
       " ('Dianne Feinstein',),\n",
       " ('Amy Klobuchar',),\n",
       " ('Robert Menendez',),\n",
       " ('Bernard Sanders',),\n",
       " ('Debbie Stabenow',)]"
      ]
     },
     "execution_count": 293,
     "metadata": {},
     "output_type": "execute_result"
    }
   ],
   "source": [
    "db_cursor.execute('SELECT ls.full_name FROM legislators ls;')\n",
    "all_status = db_cursor.fetchmany(10)\n",
    "all_status"
   ]
  },
  {
   "cell_type": "markdown",
   "metadata": {},
   "source": [
    "#### Formatting SQL queries to load data into database."
   ]
  },
  {
   "cell_type": "code",
   "execution_count": 103,
   "metadata": {},
   "outputs": [],
   "source": [
    "#db_conn.rollback()"
   ]
  },
  {
   "cell_type": "code",
   "execution_count": 775,
   "metadata": {},
   "outputs": [],
   "source": [
    "index = 2 #1226\n",
    "row = data_agg.iloc[index]"
   ]
  },
  {
   "cell_type": "code",
   "execution_count": 776,
   "metadata": {},
   "outputs": [
    {
     "data": {
      "text/plain": [
       "['bill_id',\n",
       " 'by_request',\n",
       " 'congress',\n",
       " 'introduced_at',\n",
       " 'number',\n",
       " 'official_title',\n",
       " 'popular_title',\n",
       " 'short_title',\n",
       " 'status_at',\n",
       " 'subjects_top_term',\n",
       " 'updated_at',\n",
       " 'url']"
      ]
     },
     "execution_count": 776,
     "metadata": {},
     "output_type": "execute_result"
    }
   ],
   "source": [
    "col_names"
   ]
  },
  {
   "cell_type": "code",
   "execution_count": 758,
   "metadata": {},
   "outputs": [],
   "source": [
    "col_names = list(data_agg.columns)"
   ]
  },
  {
   "cell_type": "code",
   "execution_count": 766,
   "metadata": {},
   "outputs": [],
   "source": [
    "relational_cols = ['status', 'bioguide_id', 'bill_type']"
   ]
  },
  {
   "cell_type": "code",
   "execution_count": 768,
   "metadata": {},
   "outputs": [],
   "source": [
    "data_agg = data_agg[col_names + relational_cols];"
   ]
  },
  {
   "cell_type": "code",
   "execution_count": 760,
   "metadata": {},
   "outputs": [
    {
     "data": {
      "text/plain": [
       "[None, None, None]"
      ]
     },
     "execution_count": 760,
     "metadata": {},
     "output_type": "execute_result"
    }
   ],
   "source": [
    "[col_names.remove(f) for f in relational_cols]"
   ]
  },
  {
   "cell_type": "code",
   "execution_count": 769,
   "metadata": {},
   "outputs": [
    {
     "data": {
      "text/plain": [
       "['bill_id',\n",
       " 'by_request',\n",
       " 'congress',\n",
       " 'introduced_at',\n",
       " 'number',\n",
       " 'official_title',\n",
       " 'popular_title',\n",
       " 'short_title',\n",
       " 'status_at',\n",
       " 'subjects_top_term',\n",
       " 'updated_at',\n",
       " 'url']"
      ]
     },
     "execution_count": 769,
     "metadata": {},
     "output_type": "execute_result"
    }
   ],
   "source": [
    "col_names"
   ]
  },
  {
   "cell_type": "code",
   "execution_count": 770,
   "metadata": {},
   "outputs": [
    {
     "data": {
      "text/plain": [
       "'bill_id, by_request, congress, introduced_at, number, official_title, popular_title, short_title, status_at, subjects_top_term, updated_at, url'"
      ]
     },
     "execution_count": 770,
     "metadata": {},
     "output_type": "execute_result"
    }
   ],
   "source": [
    "cols_string = str(col_names)[1:-1]\n",
    "cols_string = cols_string.replace(\"'\", '')\n",
    "cols_string"
   ]
  },
  {
   "cell_type": "code",
   "execution_count": 656,
   "metadata": {},
   "outputs": [
    {
     "data": {
      "text/plain": [
       "'%s, %s, %s, %s, %s, %s, %s, %s, %s, %s, %s, %s'"
      ]
     },
     "execution_count": 656,
     "metadata": {},
     "output_type": "execute_result"
    }
   ],
   "source": [
    "vals_type = '%s, ' * len(col_names)\n",
    "vals_type = vals_type[:-2]\n",
    "vals_type"
   ]
  },
  {
   "cell_type": "code",
   "execution_count": 657,
   "metadata": {},
   "outputs": [
    {
     "data": {
      "text/plain": [
       "['hr337-114',\n",
       " False,\n",
       " 114,\n",
       " datetime.date(2015, 1, 13),\n",
       " 337,\n",
       " 'To provide limitations on maritime liens on fishing permits, and for other purposes.',\n",
       " nan,\n",
       " 'Maritime Lien Reform Act',\n",
       " datetime.date(2015, 1, 13),\n",
       " 'Transportation and public works',\n",
       " Timestamp('2017-12-11 19:10:21'),\n",
       " 'https://www.gpo.gov/fdsys/bulkdata/BILLSTATUS/114/hr/BILLSTATUS-114hr337.xml',\n",
       " 'REFERRED',\n",
       " 'Y000033',\n",
       " 'hr']"
      ]
     },
     "execution_count": 657,
     "metadata": {},
     "output_type": "execute_result"
    }
   ],
   "source": [
    "insert_list = list(row[col_names]) + list(row[related_cols])\n",
    "insert_list"
   ]
  },
  {
   "cell_type": "code",
   "execution_count": 658,
   "metadata": {},
   "outputs": [],
   "source": [
    "for ix in range(len(insert_list)):\n",
    "    if type(insert_list[ix]) == numpy.int64:\n",
    "        insert_list[ix] = int(insert_list[ix])\n",
    "    if type(insert_list[ix]) == numpy.bool_:\n",
    "        insert_list[ix] = bool(insert_list[ix])"
   ]
  },
  {
   "cell_type": "code",
   "execution_count": 773,
   "metadata": {},
   "outputs": [
    {
     "data": {
      "text/plain": [
       "'/Users/melissaferrari/Projects/repo/insight/data_collection'"
      ]
     },
     "execution_count": 773,
     "metadata": {},
     "output_type": "execute_result"
    }
   ],
   "source": [
    "data_path"
   ]
  },
  {
   "cell_type": "code",
   "execution_count": 774,
   "metadata": {},
   "outputs": [
    {
     "data": {
      "text/plain": [
       "Index(['bill_id', 'by_request', 'congress', 'introduced_at', 'number',\n",
       "       'official_title', 'popular_title', 'short_title', 'status_at',\n",
       "       'subjects_top_term', 'updated_at', 'url', 'status', 'bioguide_id',\n",
       "       'bill_type'],\n",
       "      dtype='object')"
      ]
     },
     "execution_count": 774,
     "metadata": {},
     "output_type": "execute_result"
    }
   ],
   "source": [
    "data_agg.columns"
   ]
  },
  {
   "cell_type": "code",
   "execution_count": 771,
   "metadata": {},
   "outputs": [],
   "source": [
    "related_cols_string = str(related_cols)[1:-1]\n",
    "related_cols_string = related_cols_string.replace(\"'\", '')\n",
    "\n",
    "string_mapping = {\"bioguide_id\":\"sponsor\"}\n"
   ]
  },
  {
   "cell_type": "code",
   "execution_count": 663,
   "metadata": {},
   "outputs": [
    {
     "data": {
      "text/plain": [
       "'status, sponsor, bill_type'"
      ]
     },
     "execution_count": 663,
     "metadata": {},
     "output_type": "execute_result"
    }
   ],
   "source": [
    "for key in string_mapping.keys():\n",
    "    related_cols_string = related_cols_string.replace(key, string_mapping[key])\n",
    "query_keys = related_cols_string.split(', ')"
   ]
  },
  {
   "cell_type": "code",
   "execution_count": 751,
   "metadata": {},
   "outputs": [],
   "source": [
    "index = []\n",
    "column_name = []\n",
    "for ix, val in enumerate(query_keys):\n",
    "    index.append(ix)\n",
    "    column_name.append(val)\n",
    "table_relate = pd.DataFrame({'column':column_name}, index=index)\n",
    "table_relate['relation_column'] = ['name', 'bioguide_id', 'name']\n",
    "table_relate['relation_table'] = ['lk_status', 'legislators', 'lk_bill_type']"
   ]
  },
  {
   "cell_type": "code",
   "execution_count": 753,
   "metadata": {},
   "outputs": [],
   "source": [
    "query_list = ''\n",
    "for ix, row in table_relate.iterrows():\n",
    "    query_list += '(SELECT ls.id FROM {} ls WHERE {}=%s),'.format(row['relation_table'], row['relation_column'])\n",
    "query_list = query_list[:-1]    "
   ]
  },
  {
   "cell_type": "code",
   "execution_count": 754,
   "metadata": {},
   "outputs": [
    {
     "data": {
      "text/plain": [
       "'INSERT INTO bills (bill_id, by_request, congress, introduced_at, number, official_title, popular_title, short_title, status_at, subjects_top_term, updated_at, url, status, sponsor, bill_type) VALUES (%s, %s, %s, %s, %s, %s, %s, %s, %s, %s, %s, %s, (SELECT ls.id FROM lk_status ls WHERE name=%s),(SELECT ls.id FROM legislators ls WHERE bioguide_id=%s),(SELECT ls.id FROM lk_bill_type ls WHERE name=%s))'"
      ]
     },
     "execution_count": 754,
     "metadata": {},
     "output_type": "execute_result"
    }
   ],
   "source": [
    "sql = \"INSERT INTO bills ({}, {}) VALUES ({}, {})\".format(cols_string, \n",
    "                                                          related_cols_string, \n",
    "                                                          vals_type, \n",
    "                                                          query_list)\n",
    "sql"
   ]
  },
  {
   "cell_type": "code",
   "execution_count": 746,
   "metadata": {},
   "outputs": [],
   "source": [
    "#db_conn.rollback()"
   ]
  },
  {
   "cell_type": "code",
   "execution_count": 749,
   "metadata": {},
   "outputs": [],
   "source": [
    "db_cursor.execute(sql, insert_list)"
   ]
  },
  {
   "cell_type": "code",
   "execution_count": 750,
   "metadata": {},
   "outputs": [],
   "source": [
    "db_conn.commit()"
   ]
  },
  {
   "cell_type": "markdown",
   "metadata": {},
   "source": [
    "### Summary database."
   ]
  },
  {
   "cell_type": "code",
   "execution_count": 944,
   "metadata": {},
   "outputs": [
    {
     "data": {
      "text/plain": [
       "710     NaN\n",
       "1443    NaN\n",
       "2968    NaN\n",
       "3927    NaN\n",
       "5442    NaN\n",
       "6491    NaN\n",
       "Name: summary, dtype: object"
      ]
     },
     "execution_count": 944,
     "metadata": {},
     "output_type": "execute_result"
    }
   ],
   "source": [
    "data_summary['summary'][data_summary['summary'].isna()]"
   ]
  },
  {
   "cell_type": "code",
   "execution_count": 945,
   "metadata": {},
   "outputs": [],
   "source": [
    "data_summary.loc[data_summary['summary'].isna(), 'summary'] = \"{'as': 'nan'}\""
   ]
  },
  {
   "cell_type": "code",
   "execution_count": 946,
   "metadata": {},
   "outputs": [],
   "source": [
    "summary_dict = data_summary['summary'].apply(ast.literal_eval).values.tolist()"
   ]
  },
  {
   "cell_type": "code",
   "execution_count": 947,
   "metadata": {},
   "outputs": [],
   "source": [
    "summary_df = pd.DataFrame(summary_dict, index=data_agg.index)"
   ]
  },
  {
   "cell_type": "code",
   "execution_count": 948,
   "metadata": {},
   "outputs": [],
   "source": [
    "data_summary = data_summary.merge(summary_df, left_index=True, right_index=True)\n",
    "del data_summary['summary']"
   ]
  },
  {
   "cell_type": "code",
   "execution_count": 949,
   "metadata": {},
   "outputs": [],
   "source": [
    "data_summary['date'] = pd.to_datetime(data_summary['date']).dt.date"
   ]
  },
  {
   "cell_type": "code",
   "execution_count": 950,
   "metadata": {},
   "outputs": [
    {
     "data": {
      "text/plain": [
       "['bill_id', 'congress', 'number', 'bill_type', 'as', 'date', 'text']"
      ]
     },
     "execution_count": 950,
     "metadata": {},
     "output_type": "execute_result"
    }
   ],
   "source": [
    "list(data_summary.columns)"
   ]
  },
  {
   "cell_type": "code",
   "execution_count": 43,
   "metadata": {},
   "outputs": [],
   "source": [
    "col_names = ['as', 'date', 'text']\n",
    "\n",
    "relational_cols = ['bill_id', 'source']\n",
    "\n",
    "data_path = '/Users/melissaferrari/Projects/repo/insight/data_collection'\n",
    "file_name = 'agg_propublica_114hr.csv'\n",
    "data_agg = import_csv(os.path.join(data_path, file_name))\n",
    "\n",
    "data_summary = data_agg[['summary', 'bill_id']].copy()\n",
    "data_summary.loc[data_summary['summary'].isna(),\n",
    "                 'summary'] = \"{'as': 'nan'}\"\n",
    "\n",
    "data_summary = data_summary.dropna()"
   ]
  },
  {
   "cell_type": "code",
   "execution_count": 44,
   "metadata": {},
   "outputs": [],
   "source": [
    "to_dict = ast.literal_eval\n",
    "summary_dict = data_summary['summary'].apply(to_dict).values.tolist()\n",
    "\n",
    "summary_df = pd.DataFrame(summary_dict, index=data_agg.index)\n",
    "data_summary = data_summary.merge(summary_df,\n",
    "                                  left_index=True,\n",
    "                                  right_index=True)\n",
    "del data_summary['summary']\n",
    "data_summary['source'] = 'CRS'\n",
    "\n",
    "data_summary['date'] = pd.to_datetime(data_summary['date']).dt.date\n"
   ]
  },
  {
   "cell_type": "code",
   "execution_count": 45,
   "metadata": {},
   "outputs": [
    {
     "data": {
      "text/plain": [
       "710    nan\n",
       "Name: as, dtype: object"
      ]
     },
     "execution_count": 45,
     "metadata": {},
     "output_type": "execute_result"
    }
   ],
   "source": [
    "data_summary[data_summary['bill_id'] == 'hr6061-114']['as']"
   ]
  },
  {
   "cell_type": "code",
   "execution_count": 46,
   "metadata": {},
   "outputs": [
    {
     "data": {
      "text/plain": [
       "Index(['bill_id', 'as', 'date', 'text', 'source'], dtype='object')"
      ]
     },
     "execution_count": 46,
     "metadata": {},
     "output_type": "execute_result"
    }
   ],
   "source": [
    "data_summary.columns"
   ]
  },
  {
   "cell_type": "code",
   "execution_count": 47,
   "metadata": {},
   "outputs": [
    {
     "data": {
      "text/html": [
       "<div>\n",
       "<style scoped>\n",
       "    .dataframe tbody tr th:only-of-type {\n",
       "        vertical-align: middle;\n",
       "    }\n",
       "\n",
       "    .dataframe tbody tr th {\n",
       "        vertical-align: top;\n",
       "    }\n",
       "\n",
       "    .dataframe thead th {\n",
       "        text-align: right;\n",
       "    }\n",
       "</style>\n",
       "<table border=\"1\" class=\"dataframe\">\n",
       "  <thead>\n",
       "    <tr style=\"text-align: right;\">\n",
       "      <th></th>\n",
       "      <th>bill_id</th>\n",
       "      <th>as</th>\n",
       "      <th>date</th>\n",
       "      <th>text</th>\n",
       "      <th>source</th>\n",
       "    </tr>\n",
       "  </thead>\n",
       "  <tbody>\n",
       "    <tr>\n",
       "      <th>3433</th>\n",
       "      <td>hr2-114</td>\n",
       "      <td>Public Law</td>\n",
       "      <td>2015-04-17</td>\n",
       "      <td>(This measure has not been amended since it wa...</td>\n",
       "      <td>CRS</td>\n",
       "    </tr>\n",
       "  </tbody>\n",
       "</table>\n",
       "</div>"
      ],
      "text/plain": [
       "      bill_id          as        date  \\\n",
       "3433  hr2-114  Public Law  2015-04-17   \n",
       "\n",
       "                                                   text source  \n",
       "3433  (This measure has not been amended since it wa...    CRS  "
      ]
     },
     "execution_count": 47,
     "metadata": {},
     "output_type": "execute_result"
    }
   ],
   "source": [
    "data_summary[data_summary['bill_id'] == 'hr2-114']"
   ]
  },
  {
   "cell_type": "code",
   "execution_count": 889,
   "metadata": {},
   "outputs": [],
   "source": [
    "text = data_summary[data_summary['bill_id'] == 'hr2-114']['text'].values"
   ]
  },
  {
   "cell_type": "code",
   "execution_count": 890,
   "metadata": {},
   "outputs": [
    {
     "data": {
      "text/plain": [
       "numpy.ndarray"
      ]
     },
     "execution_count": 890,
     "metadata": {},
     "output_type": "execute_result"
    }
   ],
   "source": [
    "type(text)"
   ]
  },
  {
   "cell_type": "code",
   "execution_count": 895,
   "metadata": {},
   "outputs": [],
   "source": [
    "text[0];"
   ]
  },
  {
   "cell_type": "code",
   "execution_count": 48,
   "metadata": {},
   "outputs": [
    {
     "data": {
      "text/plain": [
       "array(['Introduced in House', 'Passed House without amendment',\n",
       "       'Passed House amended', 'Reported to House without amendment',\n",
       "       'Public Law', 'Reported to Senate without amendment',\n",
       "       'Reported to House with amendment(s)',\n",
       "       'Reported to House amended, Part I',\n",
       "       'Reported to House without amendment, Part I',\n",
       "       'Reported to Senate with amendment(s)', 'nan',\n",
       "       'Passed Senate amended', 'Conference report filed in House',\n",
       "       'Reported to House amended, Part II',\n",
       "       'Reported to House without amendment, Part II'], dtype=object)"
      ]
     },
     "execution_count": 48,
     "metadata": {},
     "output_type": "execute_result"
    }
   ],
   "source": [
    "data_summary['as'].unique()"
   ]
  },
  {
   "cell_type": "code",
   "execution_count": null,
   "metadata": {},
   "outputs": [],
   "source": [
    "version_code = {'Introduced in House':'IH', \n",
    "                'Passed House without amendment',\n",
    "                'Passed House amended', \n",
    "                'Reported to House without amendment',\n",
    "                'Public Law', \n",
    "                'Reported to Senate without amendment',\n",
    "                'Reported to House with amendment(s)',\n",
    "                'Reported to House amended, Part I',\n",
    "                'Reported to House without amendment, Part I',\n",
    "                'Reported to Senate with amendment(s)', \n",
    "                'Passed Senate amended',\n",
    "                'Conference report filed in House',\n",
    "                'Reported to House amended, Part II',\n",
    "                'Reported to House without amendment, Part II'}"
   ]
  },
  {
   "cell_type": "code",
   "execution_count": 476,
   "metadata": {},
   "outputs": [
    {
     "data": {
      "text/plain": [
       "'SELECT DISTINCT \"as\" FROM summaries;'"
      ]
     },
     "execution_count": 476,
     "metadata": {},
     "output_type": "execute_result"
    }
   ],
   "source": [
    "sql"
   ]
  },
  {
   "cell_type": "code",
   "execution_count": 477,
   "metadata": {},
   "outputs": [],
   "source": [
    "user = 'melissaferrari'  # add your Postgres username here\n",
    "host = 'localhost'\n",
    "dbname = 'congressional_bills'\n",
    "db = create_engine('postgres://%s%s/%s' % (user, host, dbname))\n",
    "con = None\n",
    "con = psycopg2.connect(database=dbname, user=user)"
   ]
  },
  {
   "cell_type": "code",
   "execution_count": 491,
   "metadata": {},
   "outputs": [],
   "source": [
    "query_text_results = pd.read_sql_query(sql, con)"
   ]
  },
  {
   "cell_type": "code",
   "execution_count": 492,
   "metadata": {},
   "outputs": [
    {
     "data": {
      "text/html": [
       "<div>\n",
       "<style scoped>\n",
       "    .dataframe tbody tr th:only-of-type {\n",
       "        vertical-align: middle;\n",
       "    }\n",
       "\n",
       "    .dataframe tbody tr th {\n",
       "        vertical-align: top;\n",
       "    }\n",
       "\n",
       "    .dataframe thead th {\n",
       "        text-align: right;\n",
       "    }\n",
       "</style>\n",
       "<table border=\"1\" class=\"dataframe\">\n",
       "  <thead>\n",
       "    <tr style=\"text-align: right;\">\n",
       "      <th></th>\n",
       "      <th>as</th>\n",
       "    </tr>\n",
       "  </thead>\n",
       "  <tbody>\n",
       "    <tr>\n",
       "      <th>0</th>\n",
       "      <td>Reported to House with amendment(s)</td>\n",
       "    </tr>\n",
       "    <tr>\n",
       "      <th>1</th>\n",
       "      <td>Reported to House without amendment</td>\n",
       "    </tr>\n",
       "    <tr>\n",
       "      <th>2</th>\n",
       "      <td>Reported to Senate without amendment</td>\n",
       "    </tr>\n",
       "    <tr>\n",
       "      <th>3</th>\n",
       "      <td>Reported to House amended, Part II</td>\n",
       "    </tr>\n",
       "    <tr>\n",
       "      <th>4</th>\n",
       "      <td>Reported to House without amendment, Part II</td>\n",
       "    </tr>\n",
       "    <tr>\n",
       "      <th>5</th>\n",
       "      <td>Reported to House amended, Part I</td>\n",
       "    </tr>\n",
       "    <tr>\n",
       "      <th>6</th>\n",
       "      <td>Senate agreed to House amendment with amendment</td>\n",
       "    </tr>\n",
       "    <tr>\n",
       "      <th>7</th>\n",
       "      <td>Passed House without amendment</td>\n",
       "    </tr>\n",
       "    <tr>\n",
       "      <th>8</th>\n",
       "      <td>Senate agreed to House amendment without amend...</td>\n",
       "    </tr>\n",
       "    <tr>\n",
       "      <th>9</th>\n",
       "      <td>Passed Senate without amendment</td>\n",
       "    </tr>\n",
       "    <tr>\n",
       "      <th>10</th>\n",
       "      <td>Reported to House amended</td>\n",
       "    </tr>\n",
       "    <tr>\n",
       "      <th>11</th>\n",
       "      <td>Public Law</td>\n",
       "    </tr>\n",
       "    <tr>\n",
       "      <th>12</th>\n",
       "      <td>Reported to House without amendment, Part I</td>\n",
       "    </tr>\n",
       "    <tr>\n",
       "      <th>13</th>\n",
       "      <td>Passed House amended</td>\n",
       "    </tr>\n",
       "    <tr>\n",
       "      <th>14</th>\n",
       "      <td>Introduced in Senate</td>\n",
       "    </tr>\n",
       "    <tr>\n",
       "      <th>15</th>\n",
       "      <td>Introduced in House</td>\n",
       "    </tr>\n",
       "    <tr>\n",
       "      <th>16</th>\n",
       "      <td>Reported to Senate amended</td>\n",
       "    </tr>\n",
       "    <tr>\n",
       "      <th>17</th>\n",
       "      <td>Conference report filed in House</td>\n",
       "    </tr>\n",
       "    <tr>\n",
       "      <th>18</th>\n",
       "      <td>Reported to Senate with amendment(s)</td>\n",
       "    </tr>\n",
       "    <tr>\n",
       "      <th>19</th>\n",
       "      <td>Passed Senate amended</td>\n",
       "    </tr>\n",
       "  </tbody>\n",
       "</table>\n",
       "</div>"
      ],
      "text/plain": [
       "                                                   as\n",
       "0                 Reported to House with amendment(s)\n",
       "1                 Reported to House without amendment\n",
       "2                Reported to Senate without amendment\n",
       "3                  Reported to House amended, Part II\n",
       "4        Reported to House without amendment, Part II\n",
       "5                   Reported to House amended, Part I\n",
       "6     Senate agreed to House amendment with amendment\n",
       "7                      Passed House without amendment\n",
       "8   Senate agreed to House amendment without amend...\n",
       "9                     Passed Senate without amendment\n",
       "10                          Reported to House amended\n",
       "11                                         Public Law\n",
       "12        Reported to House without amendment, Part I\n",
       "13                               Passed House amended\n",
       "14                               Introduced in Senate\n",
       "15                                Introduced in House\n",
       "16                         Reported to Senate amended\n",
       "17                   Conference report filed in House\n",
       "18               Reported to Senate with amendment(s)\n",
       "19                              Passed Senate amended"
      ]
     },
     "execution_count": 492,
     "metadata": {},
     "output_type": "execute_result"
    }
   ],
   "source": [
    "query_text_results"
   ]
  },
  {
   "cell_type": "code",
   "execution_count": 493,
   "metadata": {},
   "outputs": [],
   "source": [
    "summary_version_list = list(query_text_results[\"as\"])"
   ]
  },
  {
   "cell_type": "code",
   "execution_count": 494,
   "metadata": {},
   "outputs": [
    {
     "data": {
      "text/plain": [
       "['Reported to House with amendment(s)',\n",
       " 'Reported to House without amendment',\n",
       " 'Reported to Senate without amendment',\n",
       " 'Reported to House amended, Part II',\n",
       " 'Reported to House without amendment, Part II',\n",
       " 'Reported to House amended, Part I',\n",
       " 'Senate agreed to House amendment with amendment',\n",
       " 'Passed House without amendment',\n",
       " 'Senate agreed to House amendment without amendment',\n",
       " 'Passed Senate without amendment',\n",
       " 'Reported to House amended',\n",
       " 'Public Law',\n",
       " 'Reported to House without amendment, Part I',\n",
       " 'Passed House amended',\n",
       " 'Introduced in Senate',\n",
       " 'Introduced in House',\n",
       " 'Reported to Senate amended',\n",
       " 'Conference report filed in House',\n",
       " 'Reported to Senate with amendment(s)',\n",
       " 'Passed Senate amended']"
      ]
     },
     "execution_count": 494,
     "metadata": {},
     "output_type": "execute_result"
    }
   ],
   "source": [
    "summary_version_list"
   ]
  },
  {
   "cell_type": "code",
   "execution_count": 507,
   "metadata": {},
   "outputs": [
    {
     "data": {
      "text/plain": [
       "['Reported to House with amendment(s)',\n",
       " 'Reported to House without amendment',\n",
       " 'Reported to Senate without amendment',\n",
       " 'Reported to House amended, Part II',\n",
       " 'Reported to House without amendment, Part II',\n",
       " 'Reported to House amended, Part I']"
      ]
     },
     "execution_count": 507,
     "metadata": {},
     "output_type": "execute_result"
    }
   ],
   "source": [
    "summary_version_list[:6]"
   ]
  },
  {
   "cell_type": "code",
   "execution_count": null,
   "metadata": {},
   "outputs": [],
   "source": [
    "bill_version_list = ['RH', 'RH', 'RS', 'RH', 'RH', 'RH']"
   ]
  },
  {
   "cell_type": "code",
   "execution_count": 508,
   "metadata": {},
   "outputs": [
    {
     "data": {
      "text/plain": [
       "['Senate agreed to House amendment with amendment',\n",
       " 'Passed House without amendment',\n",
       " 'Senate agreed to House amendment without amendment',\n",
       " 'Passed Senate without amendment',\n",
       " 'Reported to House amended',\n",
       " 'Public Law']"
      ]
     },
     "execution_count": 508,
     "metadata": {},
     "output_type": "execute_result"
    }
   ],
   "source": [
    "summary_version_list[6:12]"
   ]
  },
  {
   "cell_type": "code",
   "execution_count": 490,
   "metadata": {},
   "outputs": [
    {
     "data": {
      "text/html": [
       "<div>\n",
       "<style scoped>\n",
       "    .dataframe tbody tr th:only-of-type {\n",
       "        vertical-align: middle;\n",
       "    }\n",
       "\n",
       "    .dataframe tbody tr th {\n",
       "        vertical-align: top;\n",
       "    }\n",
       "\n",
       "    .dataframe thead th {\n",
       "        text-align: right;\n",
       "    }\n",
       "</style>\n",
       "<table border=\"1\" class=\"dataframe\">\n",
       "  <thead>\n",
       "    <tr style=\"text-align: right;\">\n",
       "      <th></th>\n",
       "      <th>title</th>\n",
       "      <th>code</th>\n",
       "      <th>definition</th>\n",
       "      <th>chamber</th>\n",
       "    </tr>\n",
       "  </thead>\n",
       "  <tbody>\n",
       "    <tr>\n",
       "      <th>0</th>\n",
       "      <td>Amendment (Senate)</td>\n",
       "      <td>AS</td>\n",
       "      <td>An alternate name for this version is Senate A...</td>\n",
       "      <td>Senate</td>\n",
       "    </tr>\n",
       "    <tr>\n",
       "      <th>1</th>\n",
       "      <td>Additional Sponsors (House)</td>\n",
       "      <td>ASH</td>\n",
       "      <td>An alternate name for this version is House Sp...</td>\n",
       "      <td>House</td>\n",
       "    </tr>\n",
       "    <tr>\n",
       "      <th>2</th>\n",
       "      <td>Agreed to (House)</td>\n",
       "      <td>ATH</td>\n",
       "      <td>An alternate name for this version is Agreed t...</td>\n",
       "      <td>House</td>\n",
       "    </tr>\n",
       "    <tr>\n",
       "      <th>3</th>\n",
       "      <td>Agreed to (Senate)</td>\n",
       "      <td>ATS</td>\n",
       "      <td>An alternate name for this version is Agreed t...</td>\n",
       "      <td>Senate</td>\n",
       "    </tr>\n",
       "    <tr>\n",
       "      <th>4</th>\n",
       "      <td>Committee Discharged (House)</td>\n",
       "      <td>CDH</td>\n",
       "      <td>An alternate name for this version is House Co...</td>\n",
       "      <td>House ",
       "Senate</td>\n",
       "    </tr>\n",
       "    <tr>\n",
       "      <th>5</th>\n",
       "      <td>Committee Discharged (Senate)</td>\n",
       "      <td>CDS</td>\n",
       "      <td>An alternate name for this version is Senate C...</td>\n",
       "      <td>Senate ",
       "House</td>\n",
       "    </tr>\n",
       "    <tr>\n",
       "      <th>6</th>\n",
       "      <td>Considered and Passed (House)</td>\n",
       "      <td>CPH</td>\n",
       "      <td>Considered and Passed House – An alternate nam...</td>\n",
       "      <td>House</td>\n",
       "    </tr>\n",
       "    <tr>\n",
       "      <th>7</th>\n",
       "      <td>Considered and Passed (Senate)</td>\n",
       "      <td>CPS</td>\n",
       "      <td>An alternate name for this version is Consider...</td>\n",
       "      <td>Senate ",
       "House</td>\n",
       "    </tr>\n",
       "    <tr>\n",
       "      <th>8</th>\n",
       "      <td>Engrossed Amendment (House)</td>\n",
       "      <td>EAH</td>\n",
       "      <td>An alternate name for this version is Engrosse...</td>\n",
       "      <td>House ",
       "Senate</td>\n",
       "    </tr>\n",
       "    <tr>\n",
       "      <th>9</th>\n",
       "      <td>Engrossed Amendment (Senate)</td>\n",
       "      <td>EAS</td>\n",
       "      <td>An alternate name for this version is Engrosse...</td>\n",
       "      <td>House ",
       "Senate</td>\n",
       "    </tr>\n",
       "    <tr>\n",
       "      <th>10</th>\n",
       "      <td>Engrossed (House)</td>\n",
       "      <td>EH</td>\n",
       "      <td>An alternate name for this version is Engrosse...</td>\n",
       "      <td>House</td>\n",
       "    </tr>\n",
       "    <tr>\n",
       "      <th>11</th>\n",
       "      <td>Engrossed and Deemed Passed by House</td>\n",
       "      <td>EPH</td>\n",
       "      <td>This version is the official copy of the bill ...</td>\n",
       "      <td>House</td>\n",
       "    </tr>\n",
       "    <tr>\n",
       "      <th>12</th>\n",
       "      <td>Enrolled</td>\n",
       "      <td>ENR</td>\n",
       "      <td>An alternate name for this version is Enrolled...</td>\n",
       "      <td>Joint ",
       "Senate ",
       "House</td>\n",
       "    </tr>\n",
       "    <tr>\n",
       "      <th>13</th>\n",
       "      <td>Engrossed (Senate)</td>\n",
       "      <td>ES</td>\n",
       "      <td>An alternate name for this version is Engrosse...</td>\n",
       "      <td>Senate</td>\n",
       "    </tr>\n",
       "    <tr>\n",
       "      <th>14</th>\n",
       "      <td>Failed Amendment (House)</td>\n",
       "      <td>FAH</td>\n",
       "      <td>This amendment has failed in the House.</td>\n",
       "      <td>House</td>\n",
       "    </tr>\n",
       "    <tr>\n",
       "      <th>15</th>\n",
       "      <td>Failed Passage (House)</td>\n",
       "      <td>FPH</td>\n",
       "      <td>Bill or resolution that failed to pass the House.</td>\n",
       "      <td>House</td>\n",
       "    </tr>\n",
       "    <tr>\n",
       "      <th>16</th>\n",
       "      <td>Failed Passage (Senate)</td>\n",
       "      <td>FPS</td>\n",
       "      <td>Bill or resolution that failed to pass the Sen...</td>\n",
       "      <td>Senate</td>\n",
       "    </tr>\n",
       "    <tr>\n",
       "      <th>17</th>\n",
       "      <td>Held at Desk (House)</td>\n",
       "      <td>HDH</td>\n",
       "      <td>An alternate name for this bill version is Ord...</td>\n",
       "      <td>House</td>\n",
       "    </tr>\n",
       "    <tr>\n",
       "      <th>18</th>\n",
       "      <td>Held at Desk (Senate)</td>\n",
       "      <td>HDS</td>\n",
       "      <td>An alternate name for this bill version is Ord...</td>\n",
       "      <td>Senate</td>\n",
       "    </tr>\n",
       "    <tr>\n",
       "      <th>19</th>\n",
       "      <td>Introduced (House)</td>\n",
       "      <td>IH</td>\n",
       "      <td>This version is a bill or resolution as formal...</td>\n",
       "      <td>House</td>\n",
       "    </tr>\n",
       "    <tr>\n",
       "      <th>20</th>\n",
       "      <td>Indefinitely Postponed (House)</td>\n",
       "      <td>IPH</td>\n",
       "      <td>This version is a bill or resolution as it was...</td>\n",
       "      <td>House</td>\n",
       "    </tr>\n",
       "    <tr>\n",
       "      <th>21</th>\n",
       "      <td>Indefinitely Postponed (Senate)</td>\n",
       "      <td>IPS</td>\n",
       "      <td>This version is a bill or resolution as it was...</td>\n",
       "      <td>Senate ",
       "House</td>\n",
       "    </tr>\n",
       "    <tr>\n",
       "      <th>22</th>\n",
       "      <td>Introduced (Senate)</td>\n",
       "      <td>IS</td>\n",
       "      <td>This version is a bill or resolution as formal...</td>\n",
       "      <td>Senate</td>\n",
       "    </tr>\n",
       "    <tr>\n",
       "      <th>23</th>\n",
       "      <td>Laid on Table (House)</td>\n",
       "      <td>LTH</td>\n",
       "      <td>This version is a bill or resolution as laid o...</td>\n",
       "      <td>House ",
       "Senate</td>\n",
       "    </tr>\n",
       "    <tr>\n",
       "      <th>24</th>\n",
       "      <td>Laid on Table (Senate)</td>\n",
       "      <td>LTS</td>\n",
       "      <td>This version was laid on the table in the Sena...</td>\n",
       "      <td>Senate ",
       "House</td>\n",
       "    </tr>\n",
       "    <tr>\n",
       "      <th>25</th>\n",
       "      <td>Ordered to be Printed (House)</td>\n",
       "      <td>OPH</td>\n",
       "      <td>This version was ordered to be printed by the ...</td>\n",
       "      <td>House</td>\n",
       "    </tr>\n",
       "    <tr>\n",
       "      <th>26</th>\n",
       "      <td>Ordered to be Printed (Senate)</td>\n",
       "      <td>OPS</td>\n",
       "      <td>This version was ordered to be printed by the ...</td>\n",
       "      <td>Senate</td>\n",
       "    </tr>\n",
       "    <tr>\n",
       "      <th>27</th>\n",
       "      <td>Previous Action Vitiated</td>\n",
       "      <td>PAV</td>\n",
       "      <td>This version is a bill or resolution as it was...</td>\n",
       "      <td>Senate ",
       "House</td>\n",
       "    </tr>\n",
       "    <tr>\n",
       "      <th>28</th>\n",
       "      <td>Placed on Calendar (House)</td>\n",
       "      <td>PCH</td>\n",
       "      <td>This version is a bill or resolution as placed...</td>\n",
       "      <td>House ",
       "Senate</td>\n",
       "    </tr>\n",
       "    <tr>\n",
       "      <th>29</th>\n",
       "      <td>Placed on Calendar (Senate)</td>\n",
       "      <td>PCS</td>\n",
       "      <td>This version is a bill or resolution as placed...</td>\n",
       "      <td>Senate ",
       "House</td>\n",
       "    </tr>\n",
       "    <tr>\n",
       "      <th>30</th>\n",
       "      <td>Public Print</td>\n",
       "      <td>PP</td>\n",
       "      <td>Any bill from the House or Senate may be issue...</td>\n",
       "      <td>Senate ",
       "House</td>\n",
       "    </tr>\n",
       "    <tr>\n",
       "      <th>31</th>\n",
       "      <td>Printed as Passed</td>\n",
       "      <td>PAP</td>\n",
       "      <td>This version is a public print of a bill as pa...</td>\n",
       "      <td>Senate ",
       "House</td>\n",
       "    </tr>\n",
       "    <tr>\n",
       "      <th>32</th>\n",
       "      <td>Ordered to be Printed with House Amendment</td>\n",
       "      <td>PWAH</td>\n",
       "      <td>This version shows Senate amendments to a Hous...</td>\n",
       "      <td>House ",
       "Senate</td>\n",
       "    </tr>\n",
       "    <tr>\n",
       "      <th>33</th>\n",
       "      <td>Referred with Amendments (House)</td>\n",
       "      <td>RAH</td>\n",
       "      <td>This version was referred with amendments to t...</td>\n",
       "      <td>House</td>\n",
       "    </tr>\n",
       "    <tr>\n",
       "      <th>34</th>\n",
       "      <td>Referred with Amendments (Senate)</td>\n",
       "      <td>RAS</td>\n",
       "      <td>This version was referred with amendments to t...</td>\n",
       "      <td>Senate</td>\n",
       "    </tr>\n",
       "    <tr>\n",
       "      <th>35</th>\n",
       "      <td>Reference Change (House)</td>\n",
       "      <td>RCH</td>\n",
       "      <td>An alternate name for this bill version is Ref...</td>\n",
       "      <td>House ",
       "Senate</td>\n",
       "    </tr>\n",
       "    <tr>\n",
       "      <th>36</th>\n",
       "      <td>Reference Change (Senate)</td>\n",
       "      <td>RCS</td>\n",
       "      <td>An alternate name for this version is Referred...</td>\n",
       "      <td>Senate ",
       "House</td>\n",
       "    </tr>\n",
       "    <tr>\n",
       "      <th>37</th>\n",
       "      <td>Received in (House)</td>\n",
       "      <td>RDH</td>\n",
       "      <td>An alternate name for this bill version is Rec...</td>\n",
       "      <td>House</td>\n",
       "    </tr>\n",
       "    <tr>\n",
       "      <th>38</th>\n",
       "      <td>Received in (Senate)</td>\n",
       "      <td>RDS</td>\n",
       "      <td>An alternate name for this bill version is Rec...</td>\n",
       "      <td>Senate</td>\n",
       "    </tr>\n",
       "    <tr>\n",
       "      <th>39</th>\n",
       "      <td>Re-engrossed Amendment (House)</td>\n",
       "      <td>REAH</td>\n",
       "      <td>This version is a re-engrossed amendment in th...</td>\n",
       "      <td>House ",
       "Senate</td>\n",
       "    </tr>\n",
       "    <tr>\n",
       "      <th>40</th>\n",
       "      <td>Re-engrossed Amendment (Senate)</td>\n",
       "      <td>RES</td>\n",
       "      <td>This version is a re-engrossed amendment in th...</td>\n",
       "      <td>Senate ",
       "House</td>\n",
       "    </tr>\n",
       "    <tr>\n",
       "      <th>41</th>\n",
       "      <td>Re-enrolled Bill</td>\n",
       "      <td>RENR</td>\n",
       "      <td>This version has been re-enrolled.</td>\n",
       "      <td>Joint ",
       "House ",
       "Senate</td>\n",
       "    </tr>\n",
       "    <tr>\n",
       "      <th>42</th>\n",
       "      <td>Referred in (House)</td>\n",
       "      <td>RFH</td>\n",
       "      <td>An alternate name for this bill version is Ref...</td>\n",
       "      <td>Senate ",
       "House</td>\n",
       "    </tr>\n",
       "    <tr>\n",
       "      <th>43</th>\n",
       "      <td>Referred in (Senate)</td>\n",
       "      <td>RFS</td>\n",
       "      <td>An alternate name for this bill version is Ref...</td>\n",
       "      <td>House ",
       "Senate</td>\n",
       "    </tr>\n",
       "    <tr>\n",
       "      <th>44</th>\n",
       "      <td>Reported in (House)</td>\n",
       "      <td>RH</td>\n",
       "      <td>This version is a bill or resolution as report...</td>\n",
       "      <td>House ",
       "Senate</td>\n",
       "    </tr>\n",
       "    <tr>\n",
       "      <th>45</th>\n",
       "      <td>Referral Instructions (House)</td>\n",
       "      <td>RIH</td>\n",
       "      <td>An alternate name for this bill version is Ref...</td>\n",
       "      <td>House ",
       "Senate</td>\n",
       "    </tr>\n",
       "    <tr>\n",
       "      <th>46</th>\n",
       "      <td>Referral Instructions (Senate)</td>\n",
       "      <td>RIS</td>\n",
       "      <td>An alternate name for this bill version is Ref...</td>\n",
       "      <td>Senate ",
       "House</td>\n",
       "    </tr>\n",
       "    <tr>\n",
       "      <th>47</th>\n",
       "      <td>Reported in (Senate)</td>\n",
       "      <td>RS</td>\n",
       "      <td>This version is a bill or resolution as report...</td>\n",
       "      <td>Senate ",
       "House</td>\n",
       "    </tr>\n",
       "    <tr>\n",
       "      <th>48</th>\n",
       "      <td>Referred to Committee (House)</td>\n",
       "      <td>RTH</td>\n",
       "      <td>Bill or resolution as referred or re-referred ...</td>\n",
       "      <td>House</td>\n",
       "    </tr>\n",
       "    <tr>\n",
       "      <th>49</th>\n",
       "      <td>Referred to Committee (Senate)</td>\n",
       "      <td>RTS</td>\n",
       "      <td>Bill or resolution as referred or re-referred ...</td>\n",
       "      <td>Senate</td>\n",
       "    </tr>\n",
       "    <tr>\n",
       "      <th>50</th>\n",
       "      <td>Additional Sponsors (Senate)</td>\n",
       "      <td>SAS</td>\n",
       "      <td>Additional sponsors have been added to this ve...</td>\n",
       "      <td>Senate</td>\n",
       "    </tr>\n",
       "    <tr>\n",
       "      <th>51</th>\n",
       "      <td>Sponsor Change</td>\n",
       "      <td>SC</td>\n",
       "      <td>This version is used to change sponsors.</td>\n",
       "      <td>House</td>\n",
       "    </tr>\n",
       "  </tbody>\n",
       "</table>\n",
       "</div>"
      ],
      "text/plain": [
       "                                         title  code  \\\n",
       "0                           Amendment (Senate)    AS   \n",
       "1                  Additional Sponsors (House)   ASH   \n",
       "2                            Agreed to (House)   ATH   \n",
       "3                           Agreed to (Senate)   ATS   \n",
       "4                 Committee Discharged (House)   CDH   \n",
       "5                Committee Discharged (Senate)   CDS   \n",
       "6                Considered and Passed (House)   CPH   \n",
       "7               Considered and Passed (Senate)   CPS   \n",
       "8                  Engrossed Amendment (House)   EAH   \n",
       "9                 Engrossed Amendment (Senate)   EAS   \n",
       "10                           Engrossed (House)    EH   \n",
       "11        Engrossed and Deemed Passed by House   EPH   \n",
       "12                                    Enrolled   ENR   \n",
       "13                          Engrossed (Senate)    ES   \n",
       "14                    Failed Amendment (House)   FAH   \n",
       "15                      Failed Passage (House)   FPH   \n",
       "16                     Failed Passage (Senate)   FPS   \n",
       "17                        Held at Desk (House)   HDH   \n",
       "18                       Held at Desk (Senate)   HDS   \n",
       "19                          Introduced (House)    IH   \n",
       "20              Indefinitely Postponed (House)   IPH   \n",
       "21             Indefinitely Postponed (Senate)   IPS   \n",
       "22                         Introduced (Senate)    IS   \n",
       "23                       Laid on Table (House)   LTH   \n",
       "24                      Laid on Table (Senate)   LTS   \n",
       "25               Ordered to be Printed (House)   OPH   \n",
       "26              Ordered to be Printed (Senate)   OPS   \n",
       "27                    Previous Action Vitiated   PAV   \n",
       "28                  Placed on Calendar (House)   PCH   \n",
       "29                 Placed on Calendar (Senate)   PCS   \n",
       "30                                Public Print    PP   \n",
       "31                           Printed as Passed   PAP   \n",
       "32  Ordered to be Printed with House Amendment  PWAH   \n",
       "33            Referred with Amendments (House)   RAH   \n",
       "34           Referred with Amendments (Senate)   RAS   \n",
       "35                    Reference Change (House)   RCH   \n",
       "36                   Reference Change (Senate)   RCS   \n",
       "37                         Received in (House)   RDH   \n",
       "38                        Received in (Senate)   RDS   \n",
       "39              Re-engrossed Amendment (House)  REAH   \n",
       "40             Re-engrossed Amendment (Senate)   RES   \n",
       "41                            Re-enrolled Bill  RENR   \n",
       "42                         Referred in (House)   RFH   \n",
       "43                        Referred in (Senate)   RFS   \n",
       "44                         Reported in (House)    RH   \n",
       "45               Referral Instructions (House)   RIH   \n",
       "46              Referral Instructions (Senate)   RIS   \n",
       "47                        Reported in (Senate)    RS   \n",
       "48               Referred to Committee (House)   RTH   \n",
       "49              Referred to Committee (Senate)   RTS   \n",
       "50                Additional Sponsors (Senate)   SAS   \n",
       "51                              Sponsor Change    SC   \n",
       "\n",
       "                                           definition             chamber  \n",
       "0   An alternate name for this version is Senate A...              Senate  \n",
       "1   An alternate name for this version is House Sp...               House  \n",
       "2   An alternate name for this version is Agreed t...               House  \n",
       "3   An alternate name for this version is Agreed t...              Senate  \n",
       "4   An alternate name for this version is House Co...        House\n",
       "Senate  \n",
       "5   An alternate name for this version is Senate C...        Senate\n",
       "House  \n",
       "6   Considered and Passed House – An alternate nam...               House  \n",
       "7   An alternate name for this version is Consider...        Senate\n",
       "House  \n",
       "8   An alternate name for this version is Engrosse...        House\n",
       "Senate  \n",
       "9   An alternate name for this version is Engrosse...        House\n",
       "Senate  \n",
       "10  An alternate name for this version is Engrosse...               House  \n",
       "11  This version is the official copy of the bill ...               House  \n",
       "12  An alternate name for this version is Enrolled...  Joint\n",
       "Senate\n",
       "House  \n",
       "13  An alternate name for this version is Engrosse...              Senate  \n",
       "14            This amendment has failed in the House.               House  \n",
       "15  Bill or resolution that failed to pass the House.               House  \n",
       "16  Bill or resolution that failed to pass the Sen...              Senate  \n",
       "17  An alternate name for this bill version is Ord...               House  \n",
       "18  An alternate name for this bill version is Ord...              Senate  \n",
       "19  This version is a bill or resolution as formal...               House  \n",
       "20  This version is a bill or resolution as it was...               House  \n",
       "21  This version is a bill or resolution as it was...        Senate\n",
       "House  \n",
       "22  This version is a bill or resolution as formal...              Senate  \n",
       "23  This version is a bill or resolution as laid o...        House\n",
       "Senate  \n",
       "24  This version was laid on the table in the Sena...        Senate\n",
       "House  \n",
       "25  This version was ordered to be printed by the ...               House  \n",
       "26  This version was ordered to be printed by the ...              Senate  \n",
       "27  This version is a bill or resolution as it was...        Senate\n",
       "House  \n",
       "28  This version is a bill or resolution as placed...        House\n",
       "Senate  \n",
       "29  This version is a bill or resolution as placed...        Senate\n",
       "House  \n",
       "30  Any bill from the House or Senate may be issue...        Senate\n",
       "House  \n",
       "31  This version is a public print of a bill as pa...        Senate\n",
       "House  \n",
       "32  This version shows Senate amendments to a Hous...        House\n",
       "Senate  \n",
       "33  This version was referred with amendments to t...               House  \n",
       "34  This version was referred with amendments to t...              Senate  \n",
       "35  An alternate name for this bill version is Ref...        House\n",
       "Senate  \n",
       "36  An alternate name for this version is Referred...        Senate\n",
       "House  \n",
       "37  An alternate name for this bill version is Rec...               House  \n",
       "38  An alternate name for this bill version is Rec...              Senate  \n",
       "39  This version is a re-engrossed amendment in th...        House\n",
       "Senate  \n",
       "40  This version is a re-engrossed amendment in th...        Senate\n",
       "House  \n",
       "41                 This version has been re-enrolled.  Joint\n",
       "House\n",
       "Senate  \n",
       "42  An alternate name for this bill version is Ref...        Senate\n",
       "House  \n",
       "43  An alternate name for this bill version is Ref...        House\n",
       "Senate  \n",
       "44  This version is a bill or resolution as report...        House\n",
       "Senate  \n",
       "45  An alternate name for this bill version is Ref...        House\n",
       "Senate  \n",
       "46  An alternate name for this bill version is Ref...        Senate\n",
       "House  \n",
       "47  This version is a bill or resolution as report...        Senate\n",
       "House  \n",
       "48  Bill or resolution as referred or re-referred ...               House  \n",
       "49  Bill or resolution as referred or re-referred ...              Senate  \n",
       "50  Additional sponsors have been added to this ve...              Senate  \n",
       "51           This version is used to change sponsors.               House  "
      ]
     },
     "execution_count": 490,
     "metadata": {},
     "output_type": "execute_result"
    }
   ],
   "source": [
    "bill_versions"
   ]
  },
  {
   "cell_type": "markdown",
   "metadata": {},
   "source": [
    "### Populating bill text.\n",
    "This has been migrated to `insert_bill_data.py`"
   ]
  },
  {
   "cell_type": "code",
   "execution_count": 80,
   "metadata": {},
   "outputs": [],
   "source": [
    "import re"
   ]
  },
  {
   "cell_type": "code",
   "execution_count": 70,
   "metadata": {},
   "outputs": [],
   "source": [
    "congress = '114'\n",
    "bill_type = 'hr'\n",
    "default_bill_number = 4764\n",
    "#2, 34, 876, 1321, 1624, 2212, 2820, 3831\n",
    "#number = bill_numbers[5]"
   ]
  },
  {
   "cell_type": "code",
   "execution_count": 71,
   "metadata": {},
   "outputs": [],
   "source": [
    "number = default_bill_number"
   ]
  },
  {
   "cell_type": "code",
   "execution_count": 61,
   "metadata": {},
   "outputs": [],
   "source": [
    "bill_path_root = '/Users/melissaferrari/Projects/repo/congress/data/'"
   ]
  },
  {
   "cell_type": "code",
   "execution_count": 62,
   "metadata": {},
   "outputs": [],
   "source": [
    "xml_paths = [x[0] for x in os.walk(bill_path_root) if 'xml' in x[0]]"
   ]
  },
  {
   "cell_type": "code",
   "execution_count": 78,
   "metadata": {},
   "outputs": [
    {
     "data": {
      "text/plain": [
       "'/Users/melissaferrari/Projects/repo/congress/data/114/bills/hr/hr1216/text-versions/ih/BILLS-114hr1216ih/xml'"
      ]
     },
     "execution_count": 78,
     "metadata": {},
     "output_type": "execute_result"
    }
   ],
   "source": [
    "xml_path = xml_paths[0]\n",
    "xml_path"
   ]
  },
  {
   "cell_type": "code",
   "execution_count": 81,
   "metadata": {},
   "outputs": [],
   "source": [
    "regex_pattern_00 = re.compile('\\d\\d\\d([a-z]+)\\d+')\n",
    "match_00 = regex_pattern_00.search(xml_path).group()\n",
    "\n",
    "regex_pattern_01 = re.compile('[a-z]+')\n",
    "bill_type = regex_pattern_01.search(match_00).group()\n",
    "congress, number = match_00.split(bill_type)\n",
    "bill_id = '{}{}-{}'.format(bill_type, number, congress)"
   ]
  },
  {
   "cell_type": "code",
   "execution_count": 82,
   "metadata": {},
   "outputs": [
    {
     "data": {
      "text/plain": [
       "'hr1216-114'"
      ]
     },
     "execution_count": 82,
     "metadata": {},
     "output_type": "execute_result"
    }
   ],
   "source": [
    "bill_id"
   ]
  },
  {
   "cell_type": "code",
   "execution_count": 72,
   "metadata": {},
   "outputs": [],
   "source": [
    "bill_path = '{}{}/bills/{}/{}{}/text-versions/ih/'.format(bill_path_root, \n",
    "                                                          congress, \n",
    "                                                          bill_type, \n",
    "                                                          bill_type, \n",
    "                                                          number)\n",
    "bill_path += 'BILLS-{}{}{}ih/xml'.format(congress, bill_type, number)\n",
    "\n",
    "xml_file = os.listdir(bill_path)[0]"
   ]
  },
  {
   "cell_type": "code",
   "execution_count": 74,
   "metadata": {},
   "outputs": [
    {
     "data": {
      "text/plain": [
       "'/Users/melissaferrari/Projects/repo/congress/data/114/bills/hr/hr4764/text-versions/ih/BILLS-114hr4764ih/xml'"
      ]
     },
     "execution_count": 74,
     "metadata": {},
     "output_type": "execute_result"
    }
   ],
   "source": [
    "bill_path"
   ]
  },
  {
   "cell_type": "code",
   "execution_count": 77,
   "metadata": {},
   "outputs": [
    {
     "data": {
      "text/plain": [
       "'BILLS-114hr4764ih.xml'"
      ]
     },
     "execution_count": 77,
     "metadata": {},
     "output_type": "execute_result"
    }
   ],
   "source": [
    "xml_file = os.listdir(bill_path)[0]\n",
    "xml_file"
   ]
  },
  {
   "cell_type": "markdown",
   "metadata": {},
   "source": [
    "# Separating actions."
   ]
  },
  {
   "cell_type": "code",
   "execution_count": 31,
   "metadata": {},
   "outputs": [],
   "source": [
    "data_actions = data_agg[['actions', 'bill_id']].copy()\n",
    "del data_agg['actions']"
   ]
  },
  {
   "cell_type": "code",
   "execution_count": 356,
   "metadata": {},
   "outputs": [
    {
     "data": {
      "text/html": [
       "<div>\n",
       "<style scoped>\n",
       "    .dataframe tbody tr th:only-of-type {\n",
       "        vertical-align: middle;\n",
       "    }\n",
       "\n",
       "    .dataframe tbody tr th {\n",
       "        vertical-align: top;\n",
       "    }\n",
       "\n",
       "    .dataframe thead th {\n",
       "        text-align: right;\n",
       "    }\n",
       "</style>\n",
       "<table border=\"1\" class=\"dataframe\">\n",
       "  <thead>\n",
       "    <tr style=\"text-align: right;\">\n",
       "      <th></th>\n",
       "      <th>actions</th>\n",
       "      <th>bill_id</th>\n",
       "    </tr>\n",
       "  </thead>\n",
       "  <tbody>\n",
       "    <tr>\n",
       "      <th>0</th>\n",
       "      <td>[{'acted_at': '2015-03-03', 'references': [], ...</td>\n",
       "      <td>hr1216-114</td>\n",
       "    </tr>\n",
       "    <tr>\n",
       "      <th>1</th>\n",
       "      <td>[{'acted_at': '2016-03-16', 'references': [], ...</td>\n",
       "      <td>hr4764-114</td>\n",
       "    </tr>\n",
       "    <tr>\n",
       "      <th>2</th>\n",
       "      <td>[{'acted_at': '2015-01-13', 'references': [], ...</td>\n",
       "      <td>hr337-114</td>\n",
       "    </tr>\n",
       "    <tr>\n",
       "      <th>3</th>\n",
       "      <td>[{'acted_at': '2016-09-14', 'references': [], ...</td>\n",
       "      <td>hr6033-114</td>\n",
       "    </tr>\n",
       "    <tr>\n",
       "      <th>4</th>\n",
       "      <td>[{'acted_at': '2015-05-21', 'references': [], ...</td>\n",
       "      <td>hr2493-114</td>\n",
       "    </tr>\n",
       "  </tbody>\n",
       "</table>\n",
       "</div>"
      ],
      "text/plain": [
       "                                             actions     bill_id\n",
       "0  [{'acted_at': '2015-03-03', 'references': [], ...  hr1216-114\n",
       "1  [{'acted_at': '2016-03-16', 'references': [], ...  hr4764-114\n",
       "2  [{'acted_at': '2015-01-13', 'references': [], ...   hr337-114\n",
       "3  [{'acted_at': '2016-09-14', 'references': [], ...  hr6033-114\n",
       "4  [{'acted_at': '2015-05-21', 'references': [], ...  hr2493-114"
      ]
     },
     "execution_count": 356,
     "metadata": {},
     "output_type": "execute_result"
    }
   ],
   "source": [
    "df = data_actions.copy()\n",
    "df.head()"
   ]
  },
  {
   "cell_type": "code",
   "execution_count": 357,
   "metadata": {},
   "outputs": [],
   "source": [
    "df = df[['actions', 'bill_id']].copy()\n",
    "df['actions'] = df['actions'].apply(ast.literal_eval)\n",
    "df = df.set_index(['bill_id'])['actions'].apply(pd.Series).stack()\n",
    "df = df.reset_index()\n",
    "del df['level_1']\n",
    "df.columns = ['bill_id', 'actions']\n",
    "\n",
    "df_indices = df.index"
   ]
  },
  {
   "cell_type": "code",
   "execution_count": 358,
   "metadata": {},
   "outputs": [
    {
     "data": {
      "text/html": [
       "<div>\n",
       "<style scoped>\n",
       "    .dataframe tbody tr th:only-of-type {\n",
       "        vertical-align: middle;\n",
       "    }\n",
       "\n",
       "    .dataframe tbody tr th {\n",
       "        vertical-align: top;\n",
       "    }\n",
       "\n",
       "    .dataframe thead th {\n",
       "        text-align: right;\n",
       "    }\n",
       "</style>\n",
       "<table border=\"1\" class=\"dataframe\">\n",
       "  <thead>\n",
       "    <tr style=\"text-align: right;\">\n",
       "      <th></th>\n",
       "      <th>bill_id</th>\n",
       "      <th>actions</th>\n",
       "    </tr>\n",
       "  </thead>\n",
       "  <tbody>\n",
       "    <tr>\n",
       "      <th>0</th>\n",
       "      <td>hr1216-114</td>\n",
       "      <td>{'acted_at': '2015-03-03', 'references': [], '...</td>\n",
       "    </tr>\n",
       "    <tr>\n",
       "      <th>1</th>\n",
       "      <td>hr1216-114</td>\n",
       "      <td>{'action_code': 'H11100', 'references': [], 't...</td>\n",
       "    </tr>\n",
       "    <tr>\n",
       "      <th>2</th>\n",
       "      <td>hr4764-114</td>\n",
       "      <td>{'acted_at': '2016-03-16', 'references': [], '...</td>\n",
       "    </tr>\n",
       "    <tr>\n",
       "      <th>3</th>\n",
       "      <td>hr4764-114</td>\n",
       "      <td>{'action_code': 'H11100', 'references': [], 't...</td>\n",
       "    </tr>\n",
       "    <tr>\n",
       "      <th>4</th>\n",
       "      <td>hr337-114</td>\n",
       "      <td>{'acted_at': '2015-01-13', 'references': [], '...</td>\n",
       "    </tr>\n",
       "  </tbody>\n",
       "</table>\n",
       "</div>"
      ],
      "text/plain": [
       "      bill_id                                            actions\n",
       "0  hr1216-114  {'acted_at': '2015-03-03', 'references': [], '...\n",
       "1  hr1216-114  {'action_code': 'H11100', 'references': [], 't...\n",
       "2  hr4764-114  {'acted_at': '2016-03-16', 'references': [], '...\n",
       "3  hr4764-114  {'action_code': 'H11100', 'references': [], 't...\n",
       "4   hr337-114  {'acted_at': '2015-01-13', 'references': [], '..."
      ]
     },
     "execution_count": 358,
     "metadata": {},
     "output_type": "execute_result"
    }
   ],
   "source": [
    "df.head()"
   ]
  },
  {
   "cell_type": "code",
   "execution_count": 359,
   "metadata": {},
   "outputs": [],
   "source": [
    "actions_dict = df['actions'].values.tolist()\n",
    "actions_df = pd.DataFrame(actions_dict, index=df_indices)#[['committee', 'committee_id']]"
   ]
  },
  {
   "cell_type": "code",
   "execution_count": 361,
   "metadata": {},
   "outputs": [
    {
     "data": {
      "text/plain": [
       "Index(['acted_at', 'action_code', 'bill_ids', 'calendar', 'committee',\n",
       "       'committees', 'congress', 'how', 'law', 'number', 'references',\n",
       "       'result', 'roll', 'status', 'suspension', 'text', 'type', 'under',\n",
       "       'vote_type', 'where'],\n",
       "      dtype='object')"
      ]
     },
     "execution_count": 361,
     "metadata": {},
     "output_type": "execute_result"
    }
   ],
   "source": [
    "actions_df.columns"
   ]
  },
  {
   "cell_type": "code",
   "execution_count": 364,
   "metadata": {},
   "outputs": [],
   "source": [
    "del actions_df['references']"
   ]
  },
  {
   "cell_type": "code",
   "execution_count": 368,
   "metadata": {},
   "outputs": [],
   "source": [
    "del actions_df['committees']"
   ]
  },
  {
   "cell_type": "code",
   "execution_count": 367,
   "metadata": {},
   "outputs": [],
   "source": [
    "actions_df_copy = actions_df.copy()"
   ]
  },
  {
   "cell_type": "code",
   "execution_count": 452,
   "metadata": {},
   "outputs": [
    {
     "data": {
      "text/html": [
       "<div>\n",
       "<style scoped>\n",
       "    .dataframe tbody tr th:only-of-type {\n",
       "        vertical-align: middle;\n",
       "    }\n",
       "\n",
       "    .dataframe tbody tr th {\n",
       "        vertical-align: top;\n",
       "    }\n",
       "\n",
       "    .dataframe thead th {\n",
       "        text-align: right;\n",
       "    }\n",
       "</style>\n",
       "<table border=\"1\" class=\"dataframe\">\n",
       "  <thead>\n",
       "    <tr style=\"text-align: right;\">\n",
       "      <th></th>\n",
       "      <th>acted_at</th>\n",
       "      <th>action_code</th>\n",
       "      <th>committee</th>\n",
       "      <th>result</th>\n",
       "      <th>status</th>\n",
       "      <th>text</th>\n",
       "      <th>type</th>\n",
       "    </tr>\n",
       "  </thead>\n",
       "  <tbody>\n",
       "    <tr>\n",
       "      <th>0</th>\n",
       "      <td>2015-03-03</td>\n",
       "      <td>Intro-H</td>\n",
       "      <td>NaN</td>\n",
       "      <td>NaN</td>\n",
       "      <td>NaN</td>\n",
       "      <td>Introduced in House</td>\n",
       "      <td>action</td>\n",
       "    </tr>\n",
       "    <tr>\n",
       "      <th>1</th>\n",
       "      <td>2015-03-03</td>\n",
       "      <td>H11100</td>\n",
       "      <td>NaN</td>\n",
       "      <td>NaN</td>\n",
       "      <td>REFERRED</td>\n",
       "      <td>Referred to the House Committee on Financial S...</td>\n",
       "      <td>referral</td>\n",
       "    </tr>\n",
       "    <tr>\n",
       "      <th>2</th>\n",
       "      <td>2016-03-16</td>\n",
       "      <td>Intro-H</td>\n",
       "      <td>NaN</td>\n",
       "      <td>NaN</td>\n",
       "      <td>NaN</td>\n",
       "      <td>Introduced in House</td>\n",
       "      <td>action</td>\n",
       "    </tr>\n",
       "    <tr>\n",
       "      <th>3</th>\n",
       "      <td>2016-03-16</td>\n",
       "      <td>H11100</td>\n",
       "      <td>NaN</td>\n",
       "      <td>NaN</td>\n",
       "      <td>REFERRED</td>\n",
       "      <td>Referred to the House Committee on Veterans' A...</td>\n",
       "      <td>referral</td>\n",
       "    </tr>\n",
       "    <tr>\n",
       "      <th>4</th>\n",
       "      <td>2015-01-13</td>\n",
       "      <td>Intro-H</td>\n",
       "      <td>NaN</td>\n",
       "      <td>NaN</td>\n",
       "      <td>NaN</td>\n",
       "      <td>Introduced in House</td>\n",
       "      <td>action</td>\n",
       "    </tr>\n",
       "  </tbody>\n",
       "</table>\n",
       "</div>"
      ],
      "text/plain": [
       "     acted_at action_code committee result    status  \\\n",
       "0  2015-03-03     Intro-H       NaN    NaN       NaN   \n",
       "1  2015-03-03      H11100       NaN    NaN  REFERRED   \n",
       "2  2016-03-16     Intro-H       NaN    NaN       NaN   \n",
       "3  2016-03-16      H11100       NaN    NaN  REFERRED   \n",
       "4  2015-01-13     Intro-H       NaN    NaN       NaN   \n",
       "\n",
       "                                                text      type  \n",
       "0                                Introduced in House    action  \n",
       "1  Referred to the House Committee on Financial S...  referral  \n",
       "2                                Introduced in House    action  \n",
       "3  Referred to the House Committee on Veterans' A...  referral  \n",
       "4                                Introduced in House    action  "
      ]
     },
     "execution_count": 452,
     "metadata": {},
     "output_type": "execute_result"
    }
   ],
   "source": [
    "actions_df.head()"
   ]
  },
  {
   "cell_type": "code",
   "execution_count": 455,
   "metadata": {},
   "outputs": [],
   "source": [
    "action_df_columns = ['acted_at', 'action_code', 'committee', 'result', 'status', 'text', 'type']"
   ]
  },
  {
   "cell_type": "code",
   "execution_count": 454,
   "metadata": {},
   "outputs": [
    {
     "data": {
      "text/plain": [
       "['acted_at', 'action_code', 'committee', 'result', 'status', 'text', 'type']"
      ]
     },
     "execution_count": 454,
     "metadata": {},
     "output_type": "execute_result"
    }
   ],
   "source": [
    "list(actions_df.columns)"
   ]
  },
  {
   "cell_type": "code",
   "execution_count": 446,
   "metadata": {},
   "outputs": [],
   "source": [
    "col_names = ['status', 'committee', 'result', 'suspension', 'type']\n",
    "col_name = 'suspension'"
   ]
  },
  {
   "cell_type": "code",
   "execution_count": 447,
   "metadata": {},
   "outputs": [
    {
     "data": {
      "text/html": [
       "<div>\n",
       "<style scoped>\n",
       "    .dataframe tbody tr th:only-of-type {\n",
       "        vertical-align: middle;\n",
       "    }\n",
       "\n",
       "    .dataframe tbody tr th {\n",
       "        vertical-align: top;\n",
       "    }\n",
       "\n",
       "    .dataframe thead th {\n",
       "        text-align: right;\n",
       "    }\n",
       "</style>\n",
       "<table border=\"1\" class=\"dataframe\">\n",
       "  <thead>\n",
       "    <tr style=\"text-align: right;\">\n",
       "      <th></th>\n",
       "      <th>suspension</th>\n",
       "    </tr>\n",
       "  </thead>\n",
       "  <tbody>\n",
       "    <tr>\n",
       "      <th>60</th>\n",
       "      <td>True</td>\n",
       "    </tr>\n",
       "    <tr>\n",
       "      <th>239</th>\n",
       "      <td>True</td>\n",
       "    </tr>\n",
       "    <tr>\n",
       "      <th>710</th>\n",
       "      <td>True</td>\n",
       "    </tr>\n",
       "    <tr>\n",
       "      <th>827</th>\n",
       "      <td>True</td>\n",
       "    </tr>\n",
       "    <tr>\n",
       "      <th>850</th>\n",
       "      <td>True</td>\n",
       "    </tr>\n",
       "  </tbody>\n",
       "</table>\n",
       "</div>"
      ],
      "text/plain": [
       "    suspension\n",
       "60        True\n",
       "239       True\n",
       "710       True\n",
       "827       True\n",
       "850       True"
      ]
     },
     "execution_count": 447,
     "metadata": {},
     "output_type": "execute_result"
    }
   ],
   "source": [
    "actions_df[[col_name]].dropna().head()"
   ]
  },
  {
   "cell_type": "code",
   "execution_count": 448,
   "metadata": {},
   "outputs": [
    {
     "data": {
      "text/plain": [
       "array([nan, None, True], dtype=object)"
      ]
     },
     "execution_count": 448,
     "metadata": {},
     "output_type": "execute_result"
    }
   ],
   "source": [
    "actions_df[col_name].unique()"
   ]
  },
  {
   "cell_type": "code",
   "execution_count": 449,
   "metadata": {},
   "outputs": [
    {
     "data": {
      "text/plain": [
       "2"
      ]
     },
     "execution_count": 449,
     "metadata": {},
     "output_type": "execute_result"
    }
   ],
   "source": [
    "actions_df[col_name].nunique()"
   ]
  },
  {
   "cell_type": "code",
   "execution_count": 450,
   "metadata": {},
   "outputs": [
    {
     "data": {
      "text/html": [
       "<div>\n",
       "<style scoped>\n",
       "    .dataframe tbody tr th:only-of-type {\n",
       "        vertical-align: middle;\n",
       "    }\n",
       "\n",
       "    .dataframe tbody tr th {\n",
       "        vertical-align: top;\n",
       "    }\n",
       "\n",
       "    .dataframe thead th {\n",
       "        text-align: right;\n",
       "    }\n",
       "</style>\n",
       "<table border=\"1\" class=\"dataframe\">\n",
       "  <thead>\n",
       "    <tr style=\"text-align: right;\">\n",
       "      <th></th>\n",
       "      <th>suspension</th>\n",
       "    </tr>\n",
       "  </thead>\n",
       "  <tbody>\n",
       "    <tr>\n",
       "      <th>count</th>\n",
       "      <td>178</td>\n",
       "    </tr>\n",
       "    <tr>\n",
       "      <th>unique</th>\n",
       "      <td>1</td>\n",
       "    </tr>\n",
       "    <tr>\n",
       "      <th>top</th>\n",
       "      <td>True</td>\n",
       "    </tr>\n",
       "    <tr>\n",
       "      <th>freq</th>\n",
       "      <td>178</td>\n",
       "    </tr>\n",
       "  </tbody>\n",
       "</table>\n",
       "</div>"
      ],
      "text/plain": [
       "       suspension\n",
       "count         178\n",
       "unique          1\n",
       "top          True\n",
       "freq          178"
      ]
     },
     "execution_count": 450,
     "metadata": {},
     "output_type": "execute_result"
    }
   ],
   "source": [
    "actions_df[[col_name]].dropna().describe()"
   ]
  },
  {
   "cell_type": "code",
   "execution_count": 451,
   "metadata": {},
   "outputs": [],
   "source": [
    "del actions_df[col_name]"
   ]
  },
  {
   "cell_type": "code",
   "execution_count": 458,
   "metadata": {},
   "outputs": [
    {
     "data": {
      "text/plain": [
       "array(['Introduced in House',\n",
       "       'Referred to the House Committee on Financial Services.',\n",
       "       \"Referred to the House Committee on Veterans' Affairs.\", ...,\n",
       "       'Became Public Law No: 114-32.',\n",
       "       'DEBATE - The House proceeded with forty minutes of debate on H.R. 4975.',\n",
       "       'Became Public Law No: 114-212.'], dtype=object)"
      ]
     },
     "execution_count": 458,
     "metadata": {},
     "output_type": "execute_result"
    }
   ],
   "source": [
    "actions_df.text.unique()"
   ]
  },
  {
   "cell_type": "markdown",
   "metadata": {},
   "source": [
    "# Separating committees."
   ]
  },
  {
   "cell_type": "code",
   "execution_count": 32,
   "metadata": {},
   "outputs": [],
   "source": [
    "data_committees = data_agg[['committees', 'bill_id']].copy()\n",
    "del data_agg['committees']"
   ]
  },
  {
   "cell_type": "code",
   "execution_count": 343,
   "metadata": {},
   "outputs": [
    {
     "data": {
      "text/html": [
       "<div>\n",
       "<style scoped>\n",
       "    .dataframe tbody tr th:only-of-type {\n",
       "        vertical-align: middle;\n",
       "    }\n",
       "\n",
       "    .dataframe tbody tr th {\n",
       "        vertical-align: top;\n",
       "    }\n",
       "\n",
       "    .dataframe thead th {\n",
       "        text-align: right;\n",
       "    }\n",
       "</style>\n",
       "<table border=\"1\" class=\"dataframe\">\n",
       "  <thead>\n",
       "    <tr style=\"text-align: right;\">\n",
       "      <th></th>\n",
       "      <th>committees</th>\n",
       "      <th>bill_id</th>\n",
       "    </tr>\n",
       "  </thead>\n",
       "  <tbody>\n",
       "    <tr>\n",
       "      <th>0</th>\n",
       "      <td>[{'committee_id': 'HSBA', 'activity': ['referr...</td>\n",
       "      <td>hr1216-114</td>\n",
       "    </tr>\n",
       "    <tr>\n",
       "      <th>1</th>\n",
       "      <td>[{'committee_id': 'HSVR', 'activity': ['referr...</td>\n",
       "      <td>hr4764-114</td>\n",
       "    </tr>\n",
       "    <tr>\n",
       "      <th>2</th>\n",
       "      <td>[{'committee_id': 'HSPW', 'activity': ['referr...</td>\n",
       "      <td>hr337-114</td>\n",
       "    </tr>\n",
       "    <tr>\n",
       "      <th>3</th>\n",
       "      <td>[{'committee_id': 'HSIF', 'activity': ['referr...</td>\n",
       "      <td>hr6033-114</td>\n",
       "    </tr>\n",
       "    <tr>\n",
       "      <th>4</th>\n",
       "      <td>[{'committee_id': 'HSAS', 'activity': ['referr...</td>\n",
       "      <td>hr2493-114</td>\n",
       "    </tr>\n",
       "  </tbody>\n",
       "</table>\n",
       "</div>"
      ],
      "text/plain": [
       "                                          committees     bill_id\n",
       "0  [{'committee_id': 'HSBA', 'activity': ['referr...  hr1216-114\n",
       "1  [{'committee_id': 'HSVR', 'activity': ['referr...  hr4764-114\n",
       "2  [{'committee_id': 'HSPW', 'activity': ['referr...   hr337-114\n",
       "3  [{'committee_id': 'HSIF', 'activity': ['referr...  hr6033-114\n",
       "4  [{'committee_id': 'HSAS', 'activity': ['referr...  hr2493-114"
      ]
     },
     "execution_count": 343,
     "metadata": {},
     "output_type": "execute_result"
    }
   ],
   "source": [
    "df = data_committees.copy()\n",
    "df.head()"
   ]
  },
  {
   "cell_type": "code",
   "execution_count": 344,
   "metadata": {},
   "outputs": [],
   "source": [
    "df = df[['committees', 'bill_id']].copy()\n",
    "df['committees'] = df['committees'].apply(ast.literal_eval)\n",
    "df = df.set_index(['bill_id'])['committees'].apply(pd.Series).stack()\n",
    "df = df.reset_index()\n",
    "del df['level_1']\n",
    "df.columns = ['bill_id', 'committees']\n",
    "\n",
    "df_indices = df.index"
   ]
  },
  {
   "cell_type": "code",
   "execution_count": 345,
   "metadata": {},
   "outputs": [
    {
     "data": {
      "text/html": [
       "<div>\n",
       "<style scoped>\n",
       "    .dataframe tbody tr th:only-of-type {\n",
       "        vertical-align: middle;\n",
       "    }\n",
       "\n",
       "    .dataframe tbody tr th {\n",
       "        vertical-align: top;\n",
       "    }\n",
       "\n",
       "    .dataframe thead th {\n",
       "        text-align: right;\n",
       "    }\n",
       "</style>\n",
       "<table border=\"1\" class=\"dataframe\">\n",
       "  <thead>\n",
       "    <tr style=\"text-align: right;\">\n",
       "      <th></th>\n",
       "      <th>bill_id</th>\n",
       "      <th>committees</th>\n",
       "    </tr>\n",
       "  </thead>\n",
       "  <tbody>\n",
       "    <tr>\n",
       "      <th>0</th>\n",
       "      <td>hr1216-114</td>\n",
       "      <td>{'committee_id': 'HSBA', 'activity': ['referra...</td>\n",
       "    </tr>\n",
       "    <tr>\n",
       "      <th>1</th>\n",
       "      <td>hr4764-114</td>\n",
       "      <td>{'committee_id': 'HSVR', 'activity': ['referra...</td>\n",
       "    </tr>\n",
       "    <tr>\n",
       "      <th>2</th>\n",
       "      <td>hr337-114</td>\n",
       "      <td>{'committee_id': 'HSPW', 'activity': ['referra...</td>\n",
       "    </tr>\n",
       "    <tr>\n",
       "      <th>3</th>\n",
       "      <td>hr337-114</td>\n",
       "      <td>{'committee_id': 'HSPW', 'subcommittee': 'Subc...</td>\n",
       "    </tr>\n",
       "    <tr>\n",
       "      <th>4</th>\n",
       "      <td>hr6033-114</td>\n",
       "      <td>{'committee_id': 'HSIF', 'activity': ['referra...</td>\n",
       "    </tr>\n",
       "  </tbody>\n",
       "</table>\n",
       "</div>"
      ],
      "text/plain": [
       "      bill_id                                         committees\n",
       "0  hr1216-114  {'committee_id': 'HSBA', 'activity': ['referra...\n",
       "1  hr4764-114  {'committee_id': 'HSVR', 'activity': ['referra...\n",
       "2   hr337-114  {'committee_id': 'HSPW', 'activity': ['referra...\n",
       "3   hr337-114  {'committee_id': 'HSPW', 'subcommittee': 'Subc...\n",
       "4  hr6033-114  {'committee_id': 'HSIF', 'activity': ['referra..."
      ]
     },
     "execution_count": 345,
     "metadata": {},
     "output_type": "execute_result"
    }
   ],
   "source": [
    "df.head()"
   ]
  },
  {
   "cell_type": "code",
   "execution_count": 352,
   "metadata": {},
   "outputs": [],
   "source": [
    "committees_dict = df['committees'].values.tolist()\n",
    "committees_df = pd.DataFrame(committees_dict, index=df_indices)[['committee', 'committee_id']]"
   ]
  },
  {
   "cell_type": "code",
   "execution_count": 353,
   "metadata": {},
   "outputs": [
    {
     "data": {
      "text/html": [
       "<div>\n",
       "<style scoped>\n",
       "    .dataframe tbody tr th:only-of-type {\n",
       "        vertical-align: middle;\n",
       "    }\n",
       "\n",
       "    .dataframe tbody tr th {\n",
       "        vertical-align: top;\n",
       "    }\n",
       "\n",
       "    .dataframe thead th {\n",
       "        text-align: right;\n",
       "    }\n",
       "</style>\n",
       "<table border=\"1\" class=\"dataframe\">\n",
       "  <thead>\n",
       "    <tr style=\"text-align: right;\">\n",
       "      <th></th>\n",
       "      <th>committee</th>\n",
       "      <th>committee_id</th>\n",
       "    </tr>\n",
       "  </thead>\n",
       "  <tbody>\n",
       "    <tr>\n",
       "      <th>0</th>\n",
       "      <td>House Financial Services</td>\n",
       "      <td>HSBA</td>\n",
       "    </tr>\n",
       "    <tr>\n",
       "      <th>1</th>\n",
       "      <td>House Veterans' Affairs</td>\n",
       "      <td>HSVR</td>\n",
       "    </tr>\n",
       "    <tr>\n",
       "      <th>2</th>\n",
       "      <td>House Transportation and Infrastructure</td>\n",
       "      <td>HSPW</td>\n",
       "    </tr>\n",
       "    <tr>\n",
       "      <th>3</th>\n",
       "      <td>House Transportation and Infrastructure</td>\n",
       "      <td>HSPW</td>\n",
       "    </tr>\n",
       "    <tr>\n",
       "      <th>4</th>\n",
       "      <td>House Energy and Commerce</td>\n",
       "      <td>HSIF</td>\n",
       "    </tr>\n",
       "  </tbody>\n",
       "</table>\n",
       "</div>"
      ],
      "text/plain": [
       "                                 committee committee_id\n",
       "0                 House Financial Services         HSBA\n",
       "1                  House Veterans' Affairs         HSVR\n",
       "2  House Transportation and Infrastructure         HSPW\n",
       "3  House Transportation and Infrastructure         HSPW\n",
       "4                House Energy and Commerce         HSIF"
      ]
     },
     "execution_count": 353,
     "metadata": {},
     "output_type": "execute_result"
    }
   ],
   "source": [
    "committees_df.head()"
   ]
  },
  {
   "cell_type": "code",
   "execution_count": 354,
   "metadata": {},
   "outputs": [],
   "source": [
    "df = df.merge(committees_df, left_index=True, right_index=True)\n",
    "del df['committees']"
   ]
  },
  {
   "cell_type": "code",
   "execution_count": 355,
   "metadata": {},
   "outputs": [
    {
     "data": {
      "text/html": [
       "<div>\n",
       "<style scoped>\n",
       "    .dataframe tbody tr th:only-of-type {\n",
       "        vertical-align: middle;\n",
       "    }\n",
       "\n",
       "    .dataframe tbody tr th {\n",
       "        vertical-align: top;\n",
       "    }\n",
       "\n",
       "    .dataframe thead th {\n",
       "        text-align: right;\n",
       "    }\n",
       "</style>\n",
       "<table border=\"1\" class=\"dataframe\">\n",
       "  <thead>\n",
       "    <tr style=\"text-align: right;\">\n",
       "      <th></th>\n",
       "      <th>bill_id</th>\n",
       "      <th>committee</th>\n",
       "      <th>committee_id</th>\n",
       "    </tr>\n",
       "  </thead>\n",
       "  <tbody>\n",
       "    <tr>\n",
       "      <th>0</th>\n",
       "      <td>hr1216-114</td>\n",
       "      <td>House Financial Services</td>\n",
       "      <td>HSBA</td>\n",
       "    </tr>\n",
       "    <tr>\n",
       "      <th>1</th>\n",
       "      <td>hr4764-114</td>\n",
       "      <td>House Veterans' Affairs</td>\n",
       "      <td>HSVR</td>\n",
       "    </tr>\n",
       "    <tr>\n",
       "      <th>2</th>\n",
       "      <td>hr337-114</td>\n",
       "      <td>House Transportation and Infrastructure</td>\n",
       "      <td>HSPW</td>\n",
       "    </tr>\n",
       "    <tr>\n",
       "      <th>3</th>\n",
       "      <td>hr337-114</td>\n",
       "      <td>House Transportation and Infrastructure</td>\n",
       "      <td>HSPW</td>\n",
       "    </tr>\n",
       "    <tr>\n",
       "      <th>4</th>\n",
       "      <td>hr6033-114</td>\n",
       "      <td>House Energy and Commerce</td>\n",
       "      <td>HSIF</td>\n",
       "    </tr>\n",
       "  </tbody>\n",
       "</table>\n",
       "</div>"
      ],
      "text/plain": [
       "      bill_id                                committee committee_id\n",
       "0  hr1216-114                 House Financial Services         HSBA\n",
       "1  hr4764-114                  House Veterans' Affairs         HSVR\n",
       "2   hr337-114  House Transportation and Infrastructure         HSPW\n",
       "3   hr337-114  House Transportation and Infrastructure         HSPW\n",
       "4  hr6033-114                House Energy and Commerce         HSIF"
      ]
     },
     "execution_count": 355,
     "metadata": {},
     "output_type": "execute_result"
    }
   ],
   "source": [
    "df.head()"
   ]
  },
  {
   "cell_type": "markdown",
   "metadata": {},
   "source": [
    "# Separating amendments."
   ]
  },
  {
   "cell_type": "code",
   "execution_count": 33,
   "metadata": {},
   "outputs": [],
   "source": [
    "data_amendments = data_agg[['amendments', 'bill_id']].copy()\n",
    "del data_agg['amendments']"
   ]
  },
  {
   "cell_type": "markdown",
   "metadata": {},
   "source": [
    "# Separating committee reports."
   ]
  },
  {
   "cell_type": "code",
   "execution_count": 34,
   "metadata": {},
   "outputs": [],
   "source": [
    "data_committee_reports = data_agg[['committee_reports', 'bill_id']].copy()\n",
    "del data_agg['committee_reports']"
   ]
  },
  {
   "cell_type": "code",
   "execution_count": 333,
   "metadata": {},
   "outputs": [
    {
     "data": {
      "text/html": [
       "<div>\n",
       "<style scoped>\n",
       "    .dataframe tbody tr th:only-of-type {\n",
       "        vertical-align: middle;\n",
       "    }\n",
       "\n",
       "    .dataframe tbody tr th {\n",
       "        vertical-align: top;\n",
       "    }\n",
       "\n",
       "    .dataframe thead th {\n",
       "        text-align: right;\n",
       "    }\n",
       "</style>\n",
       "<table border=\"1\" class=\"dataframe\">\n",
       "  <thead>\n",
       "    <tr style=\"text-align: right;\">\n",
       "      <th></th>\n",
       "      <th>committee_reports</th>\n",
       "      <th>bill_id</th>\n",
       "    </tr>\n",
       "  </thead>\n",
       "  <tbody>\n",
       "    <tr>\n",
       "      <th>0</th>\n",
       "      <td>[]</td>\n",
       "      <td>hr1216-114</td>\n",
       "    </tr>\n",
       "    <tr>\n",
       "      <th>1</th>\n",
       "      <td>[]</td>\n",
       "      <td>hr4764-114</td>\n",
       "    </tr>\n",
       "    <tr>\n",
       "      <th>2</th>\n",
       "      <td>[]</td>\n",
       "      <td>hr337-114</td>\n",
       "    </tr>\n",
       "    <tr>\n",
       "      <th>3</th>\n",
       "      <td>[]</td>\n",
       "      <td>hr6033-114</td>\n",
       "    </tr>\n",
       "    <tr>\n",
       "      <th>4</th>\n",
       "      <td>[]</td>\n",
       "      <td>hr2493-114</td>\n",
       "    </tr>\n",
       "  </tbody>\n",
       "</table>\n",
       "</div>"
      ],
      "text/plain": [
       "  committee_reports     bill_id\n",
       "0                []  hr1216-114\n",
       "1                []  hr4764-114\n",
       "2                []   hr337-114\n",
       "3                []  hr6033-114\n",
       "4                []  hr2493-114"
      ]
     },
     "execution_count": 333,
     "metadata": {},
     "output_type": "execute_result"
    }
   ],
   "source": [
    "data_committee_reports.head()"
   ]
  },
  {
   "cell_type": "code",
   "execution_count": 334,
   "metadata": {},
   "outputs": [],
   "source": [
    "df = data_committee_reports.copy()"
   ]
  },
  {
   "cell_type": "code",
   "execution_count": 335,
   "metadata": {},
   "outputs": [],
   "source": [
    "df = df[['committee_reports', 'bill_id']].copy()\n",
    "df['committee_reports'] = df['committee_reports'].apply(ast.literal_eval)\n",
    "df = df.set_index(['bill_id'])['committee_reports'].apply(pd.Series).stack()\n",
    "df = df.reset_index()\n",
    "del df['level_1']"
   ]
  },
  {
   "cell_type": "code",
   "execution_count": 337,
   "metadata": {},
   "outputs": [],
   "source": [
    "df.columns = ['bill_id', 'committee_reports']"
   ]
  },
  {
   "cell_type": "code",
   "execution_count": 338,
   "metadata": {},
   "outputs": [
    {
     "data": {
      "text/html": [
       "<div>\n",
       "<style scoped>\n",
       "    .dataframe tbody tr th:only-of-type {\n",
       "        vertical-align: middle;\n",
       "    }\n",
       "\n",
       "    .dataframe tbody tr th {\n",
       "        vertical-align: top;\n",
       "    }\n",
       "\n",
       "    .dataframe thead th {\n",
       "        text-align: right;\n",
       "    }\n",
       "</style>\n",
       "<table border=\"1\" class=\"dataframe\">\n",
       "  <thead>\n",
       "    <tr style=\"text-align: right;\">\n",
       "      <th></th>\n",
       "      <th>bill_id</th>\n",
       "      <th>committee_reports</th>\n",
       "    </tr>\n",
       "  </thead>\n",
       "  <tbody>\n",
       "    <tr>\n",
       "      <th>0</th>\n",
       "      <td>hr1818-114</td>\n",
       "      <td>H. Rept. 114-552</td>\n",
       "    </tr>\n",
       "    <tr>\n",
       "      <th>1</th>\n",
       "      <td>hr5226-114</td>\n",
       "      <td>H. Rept. 114-729</td>\n",
       "    </tr>\n",
       "    <tr>\n",
       "      <th>2</th>\n",
       "      <td>hr906-114</td>\n",
       "      <td>H. Rept. 114-142</td>\n",
       "    </tr>\n",
       "    <tr>\n",
       "      <th>3</th>\n",
       "      <td>hr308-114</td>\n",
       "      <td>H. Rept. 114-95</td>\n",
       "    </tr>\n",
       "    <tr>\n",
       "      <th>4</th>\n",
       "      <td>hr1675-114</td>\n",
       "      <td>H. Rept. 114-398</td>\n",
       "    </tr>\n",
       "  </tbody>\n",
       "</table>\n",
       "</div>"
      ],
      "text/plain": [
       "      bill_id committee_reports\n",
       "0  hr1818-114  H. Rept. 114-552\n",
       "1  hr5226-114  H. Rept. 114-729\n",
       "2   hr906-114  H. Rept. 114-142\n",
       "3   hr308-114   H. Rept. 114-95\n",
       "4  hr1675-114  H. Rept. 114-398"
      ]
     },
     "execution_count": 338,
     "metadata": {},
     "output_type": "execute_result"
    }
   ],
   "source": [
    "df.head()"
   ]
  },
  {
   "cell_type": "markdown",
   "metadata": {},
   "source": [
    "#### Separating cosponsorship.\n",
    "This has been migrated to `insert_bill_data.py`"
   ]
  },
  {
   "cell_type": "code",
   "execution_count": 239,
   "metadata": {},
   "outputs": [],
   "source": [
    "data_cosponsors = data_agg[['cosponsors', 'bill_id']].copy()\n",
    "#del data_agg['cosponsors']\n",
    "df = data_agg.copy()"
   ]
  },
  {
   "cell_type": "code",
   "execution_count": 240,
   "metadata": {},
   "outputs": [],
   "source": [
    "df = df[['cosponsors', 'bill_id']].copy()\n",
    "df['cosponsors'] = df['cosponsors'].apply(ast.literal_eval)\n",
    "df = df.set_index(['bill_id'])['cosponsors'].apply(pd.Series).stack()\n",
    "df = df.reset_index()\n",
    "del df['level_1']\n",
    "df.columns = ['bill_id', 'cosponsor']\n",
    "\n",
    "df_indices = df.index\n",
    "\n",
    "cosponsor_dict = df['cosponsor'].values.tolist()\n",
    "cosponsor_df = pd.DataFrame(cosponsor_dict, index=df_indices)[['bioguide_id', 'original_cosponsor']]\n",
    "\n",
    "df = df.merge(cosponsor_df, left_index=True, right_index=True)\n",
    "del df['cosponsor']"
   ]
  },
  {
   "cell_type": "code",
   "execution_count": 241,
   "metadata": {},
   "outputs": [
    {
     "data": {
      "text/html": [
       "<div>\n",
       "<style scoped>\n",
       "    .dataframe tbody tr th:only-of-type {\n",
       "        vertical-align: middle;\n",
       "    }\n",
       "\n",
       "    .dataframe tbody tr th {\n",
       "        vertical-align: top;\n",
       "    }\n",
       "\n",
       "    .dataframe thead th {\n",
       "        text-align: right;\n",
       "    }\n",
       "</style>\n",
       "<table border=\"1\" class=\"dataframe\">\n",
       "  <thead>\n",
       "    <tr style=\"text-align: right;\">\n",
       "      <th></th>\n",
       "      <th>bill_id</th>\n",
       "      <th>bioguide_id</th>\n",
       "      <th>original_cosponsor</th>\n",
       "    </tr>\n",
       "  </thead>\n",
       "  <tbody>\n",
       "    <tr>\n",
       "      <th>0</th>\n",
       "      <td>hr1216-114</td>\n",
       "      <td>C001037</td>\n",
       "      <td>True</td>\n",
       "    </tr>\n",
       "    <tr>\n",
       "      <th>1</th>\n",
       "      <td>hr1216-114</td>\n",
       "      <td>E000288</td>\n",
       "      <td>True</td>\n",
       "    </tr>\n",
       "    <tr>\n",
       "      <th>2</th>\n",
       "      <td>hr1216-114</td>\n",
       "      <td>H000636</td>\n",
       "      <td>True</td>\n",
       "    </tr>\n",
       "    <tr>\n",
       "      <th>3</th>\n",
       "      <td>hr4764-114</td>\n",
       "      <td>A000370</td>\n",
       "      <td>False</td>\n",
       "    </tr>\n",
       "    <tr>\n",
       "      <th>4</th>\n",
       "      <td>hr4764-114</td>\n",
       "      <td>A000372</td>\n",
       "      <td>False</td>\n",
       "    </tr>\n",
       "  </tbody>\n",
       "</table>\n",
       "</div>"
      ],
      "text/plain": [
       "      bill_id bioguide_id  original_cosponsor\n",
       "0  hr1216-114     C001037                True\n",
       "1  hr1216-114     E000288                True\n",
       "2  hr1216-114     H000636                True\n",
       "3  hr4764-114     A000370               False\n",
       "4  hr4764-114     A000372               False"
      ]
     },
     "execution_count": 241,
     "metadata": {},
     "output_type": "execute_result"
    }
   ],
   "source": [
    "df.head()"
   ]
  },
  {
   "cell_type": "markdown",
   "metadata": {},
   "source": [
    "# Unpack and separate bill history dictionary."
   ]
  },
  {
   "cell_type": "code",
   "execution_count": 36,
   "metadata": {},
   "outputs": [],
   "source": [
    "history_dict = data_agg['history'].apply(ast.literal_eval).values.tolist()\n",
    "history_df = pd.DataFrame(history_dict, index=data_agg.index)"
   ]
  },
  {
   "cell_type": "code",
   "execution_count": 37,
   "metadata": {},
   "outputs": [],
   "source": [
    "history_df = data_agg[['bill_id']].merge(history_df, right_index=True, left_index=True)"
   ]
  },
  {
   "cell_type": "code",
   "execution_count": 38,
   "metadata": {},
   "outputs": [],
   "source": [
    "del data_agg['history']"
   ]
  },
  {
   "cell_type": "code",
   "execution_count": 331,
   "metadata": {},
   "outputs": [
    {
     "data": {
      "text/html": [
       "<div>\n",
       "<style scoped>\n",
       "    .dataframe tbody tr th:only-of-type {\n",
       "        vertical-align: middle;\n",
       "    }\n",
       "\n",
       "    .dataframe tbody tr th {\n",
       "        vertical-align: top;\n",
       "    }\n",
       "\n",
       "    .dataframe thead th {\n",
       "        text-align: right;\n",
       "    }\n",
       "</style>\n",
       "<table border=\"1\" class=\"dataframe\">\n",
       "  <thead>\n",
       "    <tr style=\"text-align: right;\">\n",
       "      <th></th>\n",
       "      <th>bill_id</th>\n",
       "      <th>active</th>\n",
       "      <th>active_at</th>\n",
       "      <th>awaiting_signature</th>\n",
       "      <th>enacted</th>\n",
       "      <th>enacted_at</th>\n",
       "      <th>house_override_result</th>\n",
       "      <th>house_override_result_at</th>\n",
       "      <th>house_passage_result</th>\n",
       "      <th>house_passage_result_at</th>\n",
       "      <th>senate_cloture_result</th>\n",
       "      <th>senate_cloture_result_at</th>\n",
       "      <th>senate_passage_result</th>\n",
       "      <th>senate_passage_result_at</th>\n",
       "      <th>vetoed</th>\n",
       "      <th>vetoed_at</th>\n",
       "    </tr>\n",
       "  </thead>\n",
       "  <tbody>\n",
       "    <tr>\n",
       "      <th>0</th>\n",
       "      <td>hr1216-114</td>\n",
       "      <td>False</td>\n",
       "      <td>NaN</td>\n",
       "      <td>False</td>\n",
       "      <td>False</td>\n",
       "      <td>NaN</td>\n",
       "      <td>NaN</td>\n",
       "      <td>NaN</td>\n",
       "      <td>NaN</td>\n",
       "      <td>NaN</td>\n",
       "      <td>NaN</td>\n",
       "      <td>NaN</td>\n",
       "      <td>NaN</td>\n",
       "      <td>NaN</td>\n",
       "      <td>False</td>\n",
       "      <td>NaN</td>\n",
       "    </tr>\n",
       "    <tr>\n",
       "      <th>1</th>\n",
       "      <td>hr4764-114</td>\n",
       "      <td>False</td>\n",
       "      <td>NaN</td>\n",
       "      <td>False</td>\n",
       "      <td>False</td>\n",
       "      <td>NaN</td>\n",
       "      <td>NaN</td>\n",
       "      <td>NaN</td>\n",
       "      <td>NaN</td>\n",
       "      <td>NaN</td>\n",
       "      <td>NaN</td>\n",
       "      <td>NaN</td>\n",
       "      <td>NaN</td>\n",
       "      <td>NaN</td>\n",
       "      <td>False</td>\n",
       "      <td>NaN</td>\n",
       "    </tr>\n",
       "    <tr>\n",
       "      <th>2</th>\n",
       "      <td>hr337-114</td>\n",
       "      <td>False</td>\n",
       "      <td>NaN</td>\n",
       "      <td>False</td>\n",
       "      <td>False</td>\n",
       "      <td>NaN</td>\n",
       "      <td>NaN</td>\n",
       "      <td>NaN</td>\n",
       "      <td>NaN</td>\n",
       "      <td>NaN</td>\n",
       "      <td>NaN</td>\n",
       "      <td>NaN</td>\n",
       "      <td>NaN</td>\n",
       "      <td>NaN</td>\n",
       "      <td>False</td>\n",
       "      <td>NaN</td>\n",
       "    </tr>\n",
       "    <tr>\n",
       "      <th>3</th>\n",
       "      <td>hr6033-114</td>\n",
       "      <td>False</td>\n",
       "      <td>NaN</td>\n",
       "      <td>False</td>\n",
       "      <td>False</td>\n",
       "      <td>NaN</td>\n",
       "      <td>NaN</td>\n",
       "      <td>NaN</td>\n",
       "      <td>NaN</td>\n",
       "      <td>NaN</td>\n",
       "      <td>NaN</td>\n",
       "      <td>NaN</td>\n",
       "      <td>NaN</td>\n",
       "      <td>NaN</td>\n",
       "      <td>False</td>\n",
       "      <td>NaN</td>\n",
       "    </tr>\n",
       "    <tr>\n",
       "      <th>4</th>\n",
       "      <td>hr2493-114</td>\n",
       "      <td>False</td>\n",
       "      <td>NaN</td>\n",
       "      <td>False</td>\n",
       "      <td>False</td>\n",
       "      <td>NaN</td>\n",
       "      <td>NaN</td>\n",
       "      <td>NaN</td>\n",
       "      <td>NaN</td>\n",
       "      <td>NaN</td>\n",
       "      <td>NaN</td>\n",
       "      <td>NaN</td>\n",
       "      <td>NaN</td>\n",
       "      <td>NaN</td>\n",
       "      <td>False</td>\n",
       "      <td>NaN</td>\n",
       "    </tr>\n",
       "  </tbody>\n",
       "</table>\n",
       "</div>"
      ],
      "text/plain": [
       "      bill_id  active active_at  awaiting_signature  enacted enacted_at  \\\n",
       "0  hr1216-114   False       NaN               False    False        NaN   \n",
       "1  hr4764-114   False       NaN               False    False        NaN   \n",
       "2   hr337-114   False       NaN               False    False        NaN   \n",
       "3  hr6033-114   False       NaN               False    False        NaN   \n",
       "4  hr2493-114   False       NaN               False    False        NaN   \n",
       "\n",
       "  house_override_result house_override_result_at house_passage_result  \\\n",
       "0                   NaN                      NaN                  NaN   \n",
       "1                   NaN                      NaN                  NaN   \n",
       "2                   NaN                      NaN                  NaN   \n",
       "3                   NaN                      NaN                  NaN   \n",
       "4                   NaN                      NaN                  NaN   \n",
       "\n",
       "  house_passage_result_at senate_cloture_result senate_cloture_result_at  \\\n",
       "0                     NaN                   NaN                      NaN   \n",
       "1                     NaN                   NaN                      NaN   \n",
       "2                     NaN                   NaN                      NaN   \n",
       "3                     NaN                   NaN                      NaN   \n",
       "4                     NaN                   NaN                      NaN   \n",
       "\n",
       "  senate_passage_result senate_passage_result_at  vetoed vetoed_at  \n",
       "0                   NaN                      NaN   False       NaN  \n",
       "1                   NaN                      NaN   False       NaN  \n",
       "2                   NaN                      NaN   False       NaN  \n",
       "3                   NaN                      NaN   False       NaN  \n",
       "4                   NaN                      NaN   False       NaN  "
      ]
     },
     "execution_count": 331,
     "metadata": {},
     "output_type": "execute_result"
    }
   ],
   "source": [
    "history_df.head()"
   ]
  },
  {
   "cell_type": "code",
   "execution_count": 332,
   "metadata": {},
   "outputs": [
    {
     "data": {
      "text/html": [
       "<div>\n",
       "<style scoped>\n",
       "    .dataframe tbody tr th:only-of-type {\n",
       "        vertical-align: middle;\n",
       "    }\n",
       "\n",
       "    .dataframe tbody tr th {\n",
       "        vertical-align: top;\n",
       "    }\n",
       "\n",
       "    .dataframe thead th {\n",
       "        text-align: right;\n",
       "    }\n",
       "</style>\n",
       "<table border=\"1\" class=\"dataframe\">\n",
       "  <thead>\n",
       "    <tr style=\"text-align: right;\">\n",
       "      <th></th>\n",
       "      <th>bill_id</th>\n",
       "      <th>active</th>\n",
       "      <th>active_at</th>\n",
       "      <th>awaiting_signature</th>\n",
       "      <th>enacted</th>\n",
       "      <th>enacted_at</th>\n",
       "      <th>house_override_result</th>\n",
       "      <th>house_override_result_at</th>\n",
       "      <th>house_passage_result</th>\n",
       "      <th>house_passage_result_at</th>\n",
       "      <th>senate_cloture_result</th>\n",
       "      <th>senate_cloture_result_at</th>\n",
       "      <th>senate_passage_result</th>\n",
       "      <th>senate_passage_result_at</th>\n",
       "      <th>vetoed</th>\n",
       "      <th>vetoed_at</th>\n",
       "    </tr>\n",
       "  </thead>\n",
       "  <tbody>\n",
       "    <tr>\n",
       "      <th>count</th>\n",
       "      <td>6526</td>\n",
       "      <td>6526</td>\n",
       "      <td>1182</td>\n",
       "      <td>6526</td>\n",
       "      <td>6526</td>\n",
       "      <td>216</td>\n",
       "      <td>1</td>\n",
       "      <td>1</td>\n",
       "      <td>780</td>\n",
       "      <td>780</td>\n",
       "      <td>13</td>\n",
       "      <td>13</td>\n",
       "      <td>223</td>\n",
       "      <td>223</td>\n",
       "      <td>6526</td>\n",
       "      <td>3</td>\n",
       "    </tr>\n",
       "    <tr>\n",
       "      <th>unique</th>\n",
       "      <td>6526</td>\n",
       "      <td>2</td>\n",
       "      <td>348</td>\n",
       "      <td>1</td>\n",
       "      <td>2</td>\n",
       "      <td>63</td>\n",
       "      <td>1</td>\n",
       "      <td>1</td>\n",
       "      <td>2</td>\n",
       "      <td>780</td>\n",
       "      <td>2</td>\n",
       "      <td>13</td>\n",
       "      <td>1</td>\n",
       "      <td>93</td>\n",
       "      <td>2</td>\n",
       "      <td>3</td>\n",
       "    </tr>\n",
       "    <tr>\n",
       "      <th>top</th>\n",
       "      <td>hr4280-114</td>\n",
       "      <td>False</td>\n",
       "      <td>2015-03-25</td>\n",
       "      <td>False</td>\n",
       "      <td>False</td>\n",
       "      <td>2016-12-16</td>\n",
       "      <td>fail</td>\n",
       "      <td>2016-02-02</td>\n",
       "      <td>pass</td>\n",
       "      <td>2016-02-23T16:32:57-05:00</td>\n",
       "      <td>fail</td>\n",
       "      <td>2015-05-31</td>\n",
       "      <td>pass</td>\n",
       "      <td>2016-12-10</td>\n",
       "      <td>False</td>\n",
       "      <td>2016-01-08</td>\n",
       "    </tr>\n",
       "    <tr>\n",
       "      <th>freq</th>\n",
       "      <td>1</td>\n",
       "      <td>5344</td>\n",
       "      <td>31</td>\n",
       "      <td>6526</td>\n",
       "      <td>6310</td>\n",
       "      <td>43</td>\n",
       "      <td>1</td>\n",
       "      <td>1</td>\n",
       "      <td>773</td>\n",
       "      <td>1</td>\n",
       "      <td>7</td>\n",
       "      <td>1</td>\n",
       "      <td>223</td>\n",
       "      <td>44</td>\n",
       "      <td>6523</td>\n",
       "      <td>1</td>\n",
       "    </tr>\n",
       "  </tbody>\n",
       "</table>\n",
       "</div>"
      ],
      "text/plain": [
       "           bill_id active   active_at awaiting_signature enacted  enacted_at  \\\n",
       "count         6526   6526        1182               6526    6526         216   \n",
       "unique        6526      2         348                  1       2          63   \n",
       "top     hr4280-114  False  2015-03-25              False   False  2016-12-16   \n",
       "freq             1   5344          31               6526    6310          43   \n",
       "\n",
       "       house_override_result house_override_result_at house_passage_result  \\\n",
       "count                      1                        1                  780   \n",
       "unique                     1                        1                    2   \n",
       "top                     fail               2016-02-02                 pass   \n",
       "freq                       1                        1                  773   \n",
       "\n",
       "          house_passage_result_at senate_cloture_result  \\\n",
       "count                         780                    13   \n",
       "unique                        780                     2   \n",
       "top     2016-02-23T16:32:57-05:00                  fail   \n",
       "freq                            1                     7   \n",
       "\n",
       "       senate_cloture_result_at senate_passage_result  \\\n",
       "count                        13                   223   \n",
       "unique                       13                     1   \n",
       "top                  2015-05-31                  pass   \n",
       "freq                          1                   223   \n",
       "\n",
       "       senate_passage_result_at vetoed   vetoed_at  \n",
       "count                       223   6526           3  \n",
       "unique                       93      2           3  \n",
       "top                  2016-12-10  False  2016-01-08  \n",
       "freq                         44   6523           1  "
      ]
     },
     "execution_count": 332,
     "metadata": {},
     "output_type": "execute_result"
    }
   ],
   "source": [
    "history_df.describe()"
   ]
  },
  {
   "cell_type": "markdown",
   "metadata": {},
   "source": [
    "#### Separate related bills.\n",
    "This has been migrated to `insert_bill_data.py`"
   ]
  },
  {
   "cell_type": "code",
   "execution_count": 39,
   "metadata": {},
   "outputs": [],
   "source": [
    "data_related_bills = data_agg[['related_bills', 'bill_id']].copy()\n",
    "del data_agg['related_bills']"
   ]
  },
  {
   "cell_type": "code",
   "execution_count": 253,
   "metadata": {},
   "outputs": [
    {
     "data": {
      "text/html": [
       "<div>\n",
       "<style scoped>\n",
       "    .dataframe tbody tr th:only-of-type {\n",
       "        vertical-align: middle;\n",
       "    }\n",
       "\n",
       "    .dataframe tbody tr th {\n",
       "        vertical-align: top;\n",
       "    }\n",
       "\n",
       "    .dataframe thead th {\n",
       "        text-align: right;\n",
       "    }\n",
       "</style>\n",
       "<table border=\"1\" class=\"dataframe\">\n",
       "  <thead>\n",
       "    <tr style=\"text-align: right;\">\n",
       "      <th></th>\n",
       "      <th>related_bills</th>\n",
       "      <th>bill_id</th>\n",
       "    </tr>\n",
       "  </thead>\n",
       "  <tbody>\n",
       "    <tr>\n",
       "      <th>0</th>\n",
       "      <td>[]</td>\n",
       "      <td>hr1216-114</td>\n",
       "    </tr>\n",
       "    <tr>\n",
       "      <th>1</th>\n",
       "      <td>[{'reason': 'related', 'type': 'bill', 'bill_i...</td>\n",
       "      <td>hr4764-114</td>\n",
       "    </tr>\n",
       "    <tr>\n",
       "      <th>2</th>\n",
       "      <td>[]</td>\n",
       "      <td>hr337-114</td>\n",
       "    </tr>\n",
       "    <tr>\n",
       "      <th>3</th>\n",
       "      <td>[]</td>\n",
       "      <td>hr6033-114</td>\n",
       "    </tr>\n",
       "    <tr>\n",
       "      <th>4</th>\n",
       "      <td>[]</td>\n",
       "      <td>hr2493-114</td>\n",
       "    </tr>\n",
       "  </tbody>\n",
       "</table>\n",
       "</div>"
      ],
      "text/plain": [
       "                                       related_bills     bill_id\n",
       "0                                                 []  hr1216-114\n",
       "1  [{'reason': 'related', 'type': 'bill', 'bill_i...  hr4764-114\n",
       "2                                                 []   hr337-114\n",
       "3                                                 []  hr6033-114\n",
       "4                                                 []  hr2493-114"
      ]
     },
     "execution_count": 253,
     "metadata": {},
     "output_type": "execute_result"
    }
   ],
   "source": [
    "data_related_bills.head()"
   ]
  },
  {
   "cell_type": "code",
   "execution_count": 302,
   "metadata": {},
   "outputs": [],
   "source": [
    "df = data_related_bills.copy()"
   ]
  },
  {
   "cell_type": "code",
   "execution_count": 303,
   "metadata": {},
   "outputs": [],
   "source": [
    "df = df[['related_bills', 'bill_id']].copy()\n",
    "df['related_bills'] = df['related_bills'].apply(ast.literal_eval)\n",
    "df = df.set_index(['bill_id'])['related_bills'].apply(pd.Series).stack()\n",
    "df = df.reset_index()\n",
    "del df['level_1']\n",
    "df.columns = ['bill_id', 'related_bill']\n",
    "\n",
    "df_indices = df.index\n",
    "\n",
    "related_bills_dict = df['related_bill'].values.tolist()\n",
    "related_bills_df = pd.DataFrame(related_bills_dict, index=df_indices)\n",
    "del related_bills_df['type']\n",
    "related_bills_df.columns = ['related_bill_id', 'identified_by', 'reason']\n",
    "\n",
    "df = df.merge(related_bills_df, left_index=True, right_index=True)\n",
    "del df['related_bill']"
   ]
  },
  {
   "cell_type": "markdown",
   "metadata": {},
   "source": [
    "#### Separate subjects.\n",
    "This has been migrated to `insert_bill_data.py`"
   ]
  },
  {
   "cell_type": "code",
   "execution_count": 95,
   "metadata": {},
   "outputs": [],
   "source": [
    "data_agg['subjects'] = df['subjects']"
   ]
  },
  {
   "cell_type": "code",
   "execution_count": 96,
   "metadata": {},
   "outputs": [],
   "source": [
    "data_subjects = data_agg[['subjects', 'bill_id']].copy()\n",
    "del data_agg['subjects']"
   ]
  },
  {
   "cell_type": "code",
   "execution_count": 97,
   "metadata": {},
   "outputs": [],
   "source": [
    "data_subjects['subjects'] = data_subjects['subjects'].apply(ast.literal_eval)"
   ]
  },
  {
   "cell_type": "code",
   "execution_count": 98,
   "metadata": {},
   "outputs": [],
   "source": [
    "data_subjects = data_subjects.set_index(['bill_id'])['subjects'].apply(pd.Series).stack()\n",
    "data_subjects = data_subjects.reset_index()\n",
    "del data_subjects['level_1']\n",
    "data_subjects.columns = ['bill_id', 'subject']"
   ]
  },
  {
   "cell_type": "code",
   "execution_count": 99,
   "metadata": {},
   "outputs": [
    {
     "data": {
      "text/html": [
       "<div>\n",
       "<style scoped>\n",
       "    .dataframe tbody tr th:only-of-type {\n",
       "        vertical-align: middle;\n",
       "    }\n",
       "\n",
       "    .dataframe tbody tr th {\n",
       "        vertical-align: top;\n",
       "    }\n",
       "\n",
       "    .dataframe thead th {\n",
       "        text-align: right;\n",
       "    }\n",
       "</style>\n",
       "<table border=\"1\" class=\"dataframe\">\n",
       "  <thead>\n",
       "    <tr style=\"text-align: right;\">\n",
       "      <th></th>\n",
       "      <th>bill_id</th>\n",
       "      <th>subject</th>\n",
       "    </tr>\n",
       "  </thead>\n",
       "  <tbody>\n",
       "    <tr>\n",
       "      <th>0</th>\n",
       "      <td>hr1216-114</td>\n",
       "      <td>Congressional oversight</td>\n",
       "    </tr>\n",
       "    <tr>\n",
       "      <th>1</th>\n",
       "      <td>hr1216-114</td>\n",
       "      <td>Finance and financial sector</td>\n",
       "    </tr>\n",
       "    <tr>\n",
       "      <th>2</th>\n",
       "      <td>hr1216-114</td>\n",
       "      <td>Financial services and investments</td>\n",
       "    </tr>\n",
       "    <tr>\n",
       "      <th>3</th>\n",
       "      <td>hr1216-114</td>\n",
       "      <td>Government studies and investigations</td>\n",
       "    </tr>\n",
       "    <tr>\n",
       "      <th>4</th>\n",
       "      <td>hr1216-114</td>\n",
       "      <td>Securities</td>\n",
       "    </tr>\n",
       "  </tbody>\n",
       "</table>\n",
       "</div>"
      ],
      "text/plain": [
       "      bill_id                                subject\n",
       "0  hr1216-114                Congressional oversight\n",
       "1  hr1216-114           Finance and financial sector\n",
       "2  hr1216-114     Financial services and investments\n",
       "3  hr1216-114  Government studies and investigations\n",
       "4  hr1216-114                             Securities"
      ]
     },
     "execution_count": 99,
     "metadata": {},
     "output_type": "execute_result"
    }
   ],
   "source": [
    "data_subjects.head()"
   ]
  },
  {
   "cell_type": "code",
   "execution_count": 101,
   "metadata": {},
   "outputs": [],
   "source": [
    "import pandas as pd\n",
    "import json\n",
    "import os\n",
    "import numpy as np\n",
    "import zipfile\n",
    "from io import StringIO, BytesIO\n",
    "\n",
    "import matplotlib\n",
    "import matplotlib.pylab as plt\n",
    "%matplotlib inline"
   ]
  },
  {
   "cell_type": "code",
   "execution_count": 129,
   "metadata": {},
   "outputs": [],
   "source": [
    "cutoff = data_subjects.groupby('subject')[['bill_id', 'subject']].filter(lambda x: len(x) >= 300).copy()"
   ]
  },
  {
   "cell_type": "code",
   "execution_count": 130,
   "metadata": {},
   "outputs": [
    {
     "data": {
      "image/png": "[encoded data removed]",
      "text/plain": [
       "<Figure size 576x864 with 1 Axes>"
      ]
     },
     "metadata": {
      "needs_background": "light"
     },
     "output_type": "display_data"
    }
   ],
   "source": [
    "fig, ax = plt.subplots(figsize=(8, 12))\n",
    "color = matplotlib.cm.viridis_r(np.linspace(0, 1, cutoff.subject.nunique()))\n",
    "cutoff.groupby('subject').count()['bill_id'].sort_values().plot(kind='barh', ax=ax, color=color); \n",
    "ax.grid(); ax.set_axisbelow(True); ax.set_ylabel('Bill Subject', size=26);"
   ]
  },
  {
   "cell_type": "markdown",
   "metadata": {},
   "source": [
    "# Separate enacted_as."
   ]
  },
  {
   "cell_type": "code",
   "execution_count": 245,
   "metadata": {},
   "outputs": [],
   "source": [
    "data_enacted_as = data_agg[['enacted_as', 'bill_id']].copy()\n",
    "del data_agg['enacted_as']"
   ]
  },
  {
   "cell_type": "code",
   "execution_count": 248,
   "metadata": {},
   "outputs": [
    {
     "data": {
      "text/plain": [
       "216"
      ]
     },
     "execution_count": 248,
     "metadata": {},
     "output_type": "execute_result"
    }
   ],
   "source": [
    "data_enacted_as['enacted_as'].nunique()"
   ]
  },
  {
   "cell_type": "code",
   "execution_count": 250,
   "metadata": {},
   "outputs": [],
   "source": [
    "data_enacted_as = data_enacted_as.dropna().reset_index(drop=True)"
   ]
  },
  {
   "cell_type": "code",
   "execution_count": 251,
   "metadata": {},
   "outputs": [
    {
     "data": {
      "text/html": [
       "<div>\n",
       "<style scoped>\n",
       "    .dataframe tbody tr th:only-of-type {\n",
       "        vertical-align: middle;\n",
       "    }\n",
       "\n",
       "    .dataframe tbody tr th {\n",
       "        vertical-align: top;\n",
       "    }\n",
       "\n",
       "    .dataframe thead th {\n",
       "        text-align: right;\n",
       "    }\n",
       "</style>\n",
       "<table border=\"1\" class=\"dataframe\">\n",
       "  <thead>\n",
       "    <tr style=\"text-align: right;\">\n",
       "      <th></th>\n",
       "      <th>enacted_as</th>\n",
       "      <th>bill_id</th>\n",
       "    </tr>\n",
       "  </thead>\n",
       "  <tbody>\n",
       "    <tr>\n",
       "      <th>0</th>\n",
       "      <td>{'law_type': 'public', 'number': '169', 'congr...</td>\n",
       "      <td>hr2458-114</td>\n",
       "    </tr>\n",
       "    <tr>\n",
       "      <th>1</th>\n",
       "      <td>{'law_type': 'public', 'number': '317', 'congr...</td>\n",
       "      <td>hr6450-114</td>\n",
       "    </tr>\n",
       "    <tr>\n",
       "      <th>2</th>\n",
       "      <td>{'law_type': 'public', 'number': '231', 'congr...</td>\n",
       "      <td>hr2494-114</td>\n",
       "    </tr>\n",
       "    <tr>\n",
       "      <th>3</th>\n",
       "      <td>{'law_type': 'public', 'number': '301', 'congr...</td>\n",
       "      <td>hr5687-114</td>\n",
       "    </tr>\n",
       "    <tr>\n",
       "      <th>4</th>\n",
       "      <td>{'law_type': 'public', 'number': '189', 'congr...</td>\n",
       "      <td>hr3114-114</td>\n",
       "    </tr>\n",
       "  </tbody>\n",
       "</table>\n",
       "</div>"
      ],
      "text/plain": [
       "                                          enacted_as     bill_id\n",
       "0  {'law_type': 'public', 'number': '169', 'congr...  hr2458-114\n",
       "1  {'law_type': 'public', 'number': '317', 'congr...  hr6450-114\n",
       "2  {'law_type': 'public', 'number': '231', 'congr...  hr2494-114\n",
       "3  {'law_type': 'public', 'number': '301', 'congr...  hr5687-114\n",
       "4  {'law_type': 'public', 'number': '189', 'congr...  hr3114-114"
      ]
     },
     "execution_count": 251,
     "metadata": {},
     "output_type": "execute_result"
    }
   ],
   "source": [
    "data_enacted_as.head()"
   ]
  },
  {
   "cell_type": "code",
   "execution_count": 252,
   "metadata": {},
   "outputs": [
    {
     "data": {
      "text/plain": [
       "0      {'law_type': 'public', 'number': '169', 'congr...\n",
       "1      {'law_type': 'public', 'number': '317', 'congr...\n",
       "2      {'law_type': 'public', 'number': '231', 'congr...\n",
       "3      {'law_type': 'public', 'number': '301', 'congr...\n",
       "4      {'law_type': 'public', 'number': '189', 'congr...\n",
       "5      {'law_type': 'public', 'number': '158', 'congr...\n",
       "6      {'law_type': 'public', 'number': '277', 'congr...\n",
       "7      {'law_type': 'public', 'number': '90', 'congre...\n",
       "8      {'law_type': 'public', 'number': '43', 'congre...\n",
       "9      {'law_type': 'public', 'number': '291', 'congr...\n",
       "10     {'law_type': 'public', 'number': '318', 'congr...\n",
       "11     {'law_type': 'public', 'number': '79', 'congre...\n",
       "12     {'law_type': 'public', 'number': '292', 'congr...\n",
       "13     {'law_type': 'public', 'number': '123', 'congr...\n",
       "14     {'law_type': 'public', 'number': '305', 'congr...\n",
       "15     {'law_type': 'public', 'number': '286', 'congr...\n",
       "16     {'law_type': 'public', 'number': '28', 'congre...\n",
       "17     {'law_type': 'public', 'number': '102', 'congr...\n",
       "18     {'law_type': 'public', 'number': '200', 'congr...\n",
       "19     {'law_type': 'public', 'number': '54', 'congre...\n",
       "20     {'law_type': 'public', 'number': '252', 'congr...\n",
       "21     {'law_type': 'public', 'number': '13', 'congre...\n",
       "22     {'law_type': 'public', 'number': '182', 'congr...\n",
       "23     {'law_type': 'public', 'number': '303', 'congr...\n",
       "24     {'law_type': 'public', 'number': '124', 'congr...\n",
       "25     {'law_type': 'public', 'number': '168', 'congr...\n",
       "26     {'law_type': 'public', 'number': '227', 'congr...\n",
       "27     {'law_type': 'public', 'number': '135', 'congr...\n",
       "28     {'law_type': 'public', 'number': '279', 'congr...\n",
       "29     {'law_type': 'public', 'number': '1', 'congres...\n",
       "                             ...                        \n",
       "186    {'law_type': 'public', 'number': '167', 'congr...\n",
       "187    {'law_type': 'public', 'number': '14', 'congre...\n",
       "188    {'law_type': 'public', 'number': '89', 'congre...\n",
       "189    {'law_type': 'public', 'number': '307', 'congr...\n",
       "190    {'law_type': 'public', 'number': '81', 'congre...\n",
       "191    {'law_type': 'public', 'number': '151', 'congr...\n",
       "192    {'law_type': 'public', 'number': '104', 'congr...\n",
       "193    {'law_type': 'public', 'number': '319', 'congr...\n",
       "194    {'law_type': 'public', 'number': '140', 'congr...\n",
       "195    {'law_type': 'public', 'number': '20', 'congre...\n",
       "196    {'law_type': 'public', 'number': '234', 'congr...\n",
       "197    {'law_type': 'public', 'number': '141', 'congr...\n",
       "198    {'law_type': 'public', 'number': '61', 'congre...\n",
       "199    {'law_type': 'public', 'number': '8', 'congres...\n",
       "200    {'law_type': 'public', 'number': '213', 'congr...\n",
       "201    {'law_type': 'public', 'number': '225', 'congr...\n",
       "202    {'law_type': 'public', 'number': '119', 'congr...\n",
       "203    {'law_type': 'public', 'number': '23', 'congre...\n",
       "204    {'law_type': 'public', 'number': '201', 'congr...\n",
       "205    {'law_type': 'public', 'number': '50', 'congre...\n",
       "206    {'law_type': 'public', 'number': '202', 'congr...\n",
       "207    {'law_type': 'public', 'number': '105', 'congr...\n",
       "208    {'law_type': 'public', 'number': '192', 'congr...\n",
       "209    {'law_type': 'public', 'number': '36', 'congre...\n",
       "210    {'law_type': 'public', 'number': '53', 'congre...\n",
       "211    {'law_type': 'public', 'number': '203', 'congr...\n",
       "212    {'law_type': 'public', 'number': '278', 'congr...\n",
       "213    {'law_type': 'public', 'number': '87', 'congre...\n",
       "214    {'law_type': 'public', 'number': '32', 'congre...\n",
       "215    {'law_type': 'public', 'number': '212', 'congr...\n",
       "Name: enacted_as, Length: 216, dtype: object"
      ]
     },
     "execution_count": 252,
     "metadata": {},
     "output_type": "execute_result"
    }
   ],
   "source": [
    "data_enacted_as['enacted_as'].apply(ast.literal_eval)."
   ]
  },
  {
   "cell_type": "code",
   "execution_count": null,
   "metadata": {},
   "outputs": [],
   "source": []
  }
 ],
 "metadata": {
  "kernelspec": {
   "display_name": "Python 3",
   "language": "python",
   "name": "python3"
  },
  "language_info": {
   "codemirror_mode": {
    "name": "ipython",
    "version": 3
   },
   "file_extension": ".py",
   "mimetype": "text/x-python",
   "name": "python",
   "nbconvert_exporter": "python",
   "pygments_lexer": "ipython3",
   "version": "3.6.8"
  }
 },
 "nbformat": 4,
 "nbformat_minor": 2
}
