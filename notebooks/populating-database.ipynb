{
 "cells": [
  {
   "cell_type": "code",
   "execution_count": 2,
   "metadata": {
    "colab": {
     "autoexec": {
      "startup": false,
      "wait_interval": 0
     },
     "base_uri": "https://localhost:8080/",
     "height": 351
    },
    "colab_type": "code",
    "executionInfo": {
     "elapsed": 2687,
     "status": "error",
     "timestamp": 1527862142062,
     "user": {
      "displayName": "Sara Rasmussen",
      "photoUrl": "//lh4.googleusercontent.com/-LtO9lzWleSs/AAAAAAAAAAI/AAAAAAAAM2Y/BZMmlvpzHsA/s50-c-k-no/photo.jpg",
      "userId": "104187312336895847104"
     },
     "user_tz": 240
    },
    "id": "57CVuCgpksGN",
    "outputId": "402ccc33-0a4b-4126-9e5c-4f79da0c6cfe"
   },
   "outputs": [],
   "source": [
    "import sqlalchemy\n",
    "\n",
    "from sqlalchemy import create_engine\n",
    "from sqlalchemy_utils import database_exists, create_database\n",
    "import psycopg2\n",
    "import pandas as pd\n",
    "import os\n",
    "import numpy\n",
    "import ast"
   ]
  },
  {
   "cell_type": "code",
   "execution_count": 3,
   "metadata": {},
   "outputs": [],
   "source": [
    "hostname='localhost'\n",
    "dbname = 'congressional_bills'\n",
    "username = 'melissaferrari'"
   ]
  },
  {
   "cell_type": "markdown",
   "metadata": {},
   "source": [
    "### Database connection with sqlalchemy."
   ]
  },
  {
   "cell_type": "code",
   "execution_count": 60,
   "metadata": {},
   "outputs": [
    {
     "data": {
      "text/html": [
       "<div>\n",
       "<style scoped>\n",
       "    .dataframe tbody tr th:only-of-type {\n",
       "        vertical-align: middle;\n",
       "    }\n",
       "\n",
       "    .dataframe tbody tr th {\n",
       "        vertical-align: top;\n",
       "    }\n",
       "\n",
       "    .dataframe thead th {\n",
       "        text-align: right;\n",
       "    }\n",
       "</style>\n",
       "<table border=\"1\" class=\"dataframe\">\n",
       "  <thead>\n",
       "    <tr style=\"text-align: right;\">\n",
       "      <th></th>\n",
       "      <th>actions</th>\n",
       "      <th>amendments</th>\n",
       "      <th>bill_id</th>\n",
       "      <th>bill_type</th>\n",
       "      <th>by_request</th>\n",
       "      <th>committee_reports</th>\n",
       "      <th>committees</th>\n",
       "      <th>congress</th>\n",
       "      <th>cosponsors</th>\n",
       "      <th>enacted_as</th>\n",
       "      <th>...</th>\n",
       "      <th>short_title</th>\n",
       "      <th>sponsor</th>\n",
       "      <th>status</th>\n",
       "      <th>status_at</th>\n",
       "      <th>subjects</th>\n",
       "      <th>subjects_top_term</th>\n",
       "      <th>summary</th>\n",
       "      <th>titles</th>\n",
       "      <th>updated_at</th>\n",
       "      <th>url</th>\n",
       "    </tr>\n",
       "  </thead>\n",
       "  <tbody>\n",
       "    <tr>\n",
       "      <th>0</th>\n",
       "      <td>[{'acted_at': '2015-03-03', 'references': [], ...</td>\n",
       "      <td>[]</td>\n",
       "      <td>hr1216-114</td>\n",
       "      <td>hr</td>\n",
       "      <td>False</td>\n",
       "      <td>[]</td>\n",
       "      <td>[{'committee_id': 'HSBA', 'activity': ['referr...</td>\n",
       "      <td>114</td>\n",
       "      <td>[{'withdrawn_at': None, 'district': '7', 'spon...</td>\n",
       "      <td>NaN</td>\n",
       "      <td>...</td>\n",
       "      <td>Maker-Taker Conflict of Interest Reform Act of...</td>\n",
       "      <td>{'district': '8', 'type': 'person', 'title': '...</td>\n",
       "      <td>REFERRED</td>\n",
       "      <td>2015-03-03</td>\n",
       "      <td>['Congressional oversight', 'Finance and finan...</td>\n",
       "      <td>Finance and financial sector</td>\n",
       "      <td>{'date': '2015-03-03T05:00:00Z', 'text': 'Make...</td>\n",
       "      <td>[{'title': 'Maker-Taker Conflict of Interest R...</td>\n",
       "      <td>2017-12-11T19:28:52Z</td>\n",
       "      <td>https://www.gpo.gov/fdsys/bulkdata/BILLSTATUS/...</td>\n",
       "    </tr>\n",
       "    <tr>\n",
       "      <th>1</th>\n",
       "      <td>[{'acted_at': '2016-03-16', 'references': [], ...</td>\n",
       "      <td>[]</td>\n",
       "      <td>hr4764-114</td>\n",
       "      <td>hr</td>\n",
       "      <td>False</td>\n",
       "      <td>[]</td>\n",
       "      <td>[{'committee_id': 'HSVR', 'activity': ['referr...</td>\n",
       "      <td>114</td>\n",
       "      <td>[{'withdrawn_at': None, 'district': '12', 'spo...</td>\n",
       "      <td>NaN</td>\n",
       "      <td>...</td>\n",
       "      <td>Puppies Assisting Wounded Servicemembers (PAWS...</td>\n",
       "      <td>{'district': '6', 'type': 'person', 'title': '...</td>\n",
       "      <td>REFERRED</td>\n",
       "      <td>2016-03-16</td>\n",
       "      <td>['Armed forces and national security', 'Health...</td>\n",
       "      <td>Armed forces and national security</td>\n",
       "      <td>{'date': '2016-03-16T04:00:00Z', 'text': 'Pupp...</td>\n",
       "      <td>[{'title': 'Puppies Assisting Wounded Servicem...</td>\n",
       "      <td>2017-12-11T21:02:18Z</td>\n",
       "      <td>https://www.gpo.gov/fdsys/bulkdata/BILLSTATUS/...</td>\n",
       "    </tr>\n",
       "    <tr>\n",
       "      <th>2</th>\n",
       "      <td>[{'acted_at': '2015-01-13', 'references': [], ...</td>\n",
       "      <td>[]</td>\n",
       "      <td>hr337-114</td>\n",
       "      <td>hr</td>\n",
       "      <td>False</td>\n",
       "      <td>[]</td>\n",
       "      <td>[{'committee_id': 'HSPW', 'activity': ['referr...</td>\n",
       "      <td>114</td>\n",
       "      <td>[]</td>\n",
       "      <td>NaN</td>\n",
       "      <td>...</td>\n",
       "      <td>Maritime Lien Reform Act</td>\n",
       "      <td>{'district': None, 'type': 'person', 'title': ...</td>\n",
       "      <td>REFERRED</td>\n",
       "      <td>2015-01-13</td>\n",
       "      <td>['Civil actions and liability', 'Licensing and...</td>\n",
       "      <td>Transportation and public works</td>\n",
       "      <td>{'date': '2015-01-13T05:00:00Z', 'text': \"Mari...</td>\n",
       "      <td>[{'title': 'Maritime Lien Reform Act', 'type':...</td>\n",
       "      <td>2017-12-11T19:10:21Z</td>\n",
       "      <td>https://www.gpo.gov/fdsys/bulkdata/BILLSTATUS/...</td>\n",
       "    </tr>\n",
       "    <tr>\n",
       "      <th>3</th>\n",
       "      <td>[{'acted_at': '2016-09-14', 'references': [], ...</td>\n",
       "      <td>[]</td>\n",
       "      <td>hr6033-114</td>\n",
       "      <td>hr</td>\n",
       "      <td>False</td>\n",
       "      <td>[]</td>\n",
       "      <td>[{'committee_id': 'HSIF', 'activity': ['referr...</td>\n",
       "      <td>114</td>\n",
       "      <td>[{'withdrawn_at': None, 'district': '13', 'spo...</td>\n",
       "      <td>NaN</td>\n",
       "      <td>...</td>\n",
       "      <td>Adding Middle East Respiratory Syndrome to the...</td>\n",
       "      <td>{'district': '52', 'type': 'person', 'title': ...</td>\n",
       "      <td>REFERRED</td>\n",
       "      <td>2016-09-14</td>\n",
       "      <td>['Health']</td>\n",
       "      <td>Health</td>\n",
       "      <td>{'date': '2016-09-14T04:00:00Z', 'text': 'Addi...</td>\n",
       "      <td>[{'title': 'Adding Middle East Respiratory Syn...</td>\n",
       "      <td>2017-12-11T21:27:52Z</td>\n",
       "      <td>https://www.gpo.gov/fdsys/bulkdata/BILLSTATUS/...</td>\n",
       "    </tr>\n",
       "    <tr>\n",
       "      <th>4</th>\n",
       "      <td>[{'acted_at': '2015-05-21', 'references': [], ...</td>\n",
       "      <td>[]</td>\n",
       "      <td>hr2493-114</td>\n",
       "      <td>hr</td>\n",
       "      <td>False</td>\n",
       "      <td>[]</td>\n",
       "      <td>[{'committee_id': 'HSAS', 'activity': ['referr...</td>\n",
       "      <td>114</td>\n",
       "      <td>[{'withdrawn_at': None, 'district': '12', 'spo...</td>\n",
       "      <td>NaN</td>\n",
       "      <td>...</td>\n",
       "      <td>Wounded Warrior Service Dog Act of 2015</td>\n",
       "      <td>{'district': '2', 'type': 'person', 'title': '...</td>\n",
       "      <td>REFERRED</td>\n",
       "      <td>2015-05-21</td>\n",
       "      <td>['Animal protection and human-animal relations...</td>\n",
       "      <td>Armed forces and national security</td>\n",
       "      <td>{'date': '2015-05-21T04:00:00Z', 'text': 'Woun...</td>\n",
       "      <td>[{'title': 'Wounded Warrior Service Dog Act of...</td>\n",
       "      <td>2017-12-11T20:19:56Z</td>\n",
       "      <td>https://www.gpo.gov/fdsys/bulkdata/BILLSTATUS/...</td>\n",
       "    </tr>\n",
       "  </tbody>\n",
       "</table>\n",
       "<p>5 rows × 26 columns</p>\n",
       "</div>"
      ],
      "text/plain": [
       "                                             actions amendments     bill_id  \\\n",
       "0  [{'acted_at': '2015-03-03', 'references': [], ...         []  hr1216-114   \n",
       "1  [{'acted_at': '2016-03-16', 'references': [], ...         []  hr4764-114   \n",
       "2  [{'acted_at': '2015-01-13', 'references': [], ...         []   hr337-114   \n",
       "3  [{'acted_at': '2016-09-14', 'references': [], ...         []  hr6033-114   \n",
       "4  [{'acted_at': '2015-05-21', 'references': [], ...         []  hr2493-114   \n",
       "\n",
       "  bill_type  by_request committee_reports  \\\n",
       "0        hr       False                []   \n",
       "1        hr       False                []   \n",
       "2        hr       False                []   \n",
       "3        hr       False                []   \n",
       "4        hr       False                []   \n",
       "\n",
       "                                          committees  congress  \\\n",
       "0  [{'committee_id': 'HSBA', 'activity': ['referr...       114   \n",
       "1  [{'committee_id': 'HSVR', 'activity': ['referr...       114   \n",
       "2  [{'committee_id': 'HSPW', 'activity': ['referr...       114   \n",
       "3  [{'committee_id': 'HSIF', 'activity': ['referr...       114   \n",
       "4  [{'committee_id': 'HSAS', 'activity': ['referr...       114   \n",
       "\n",
       "                                          cosponsors enacted_as  \\\n",
       "0  [{'withdrawn_at': None, 'district': '7', 'spon...        NaN   \n",
       "1  [{'withdrawn_at': None, 'district': '12', 'spo...        NaN   \n",
       "2                                                 []        NaN   \n",
       "3  [{'withdrawn_at': None, 'district': '13', 'spo...        NaN   \n",
       "4  [{'withdrawn_at': None, 'district': '12', 'spo...        NaN   \n",
       "\n",
       "                         ...                          \\\n",
       "0                        ...                           \n",
       "1                        ...                           \n",
       "2                        ...                           \n",
       "3                        ...                           \n",
       "4                        ...                           \n",
       "\n",
       "                                         short_title  \\\n",
       "0  Maker-Taker Conflict of Interest Reform Act of...   \n",
       "1  Puppies Assisting Wounded Servicemembers (PAWS...   \n",
       "2                           Maritime Lien Reform Act   \n",
       "3  Adding Middle East Respiratory Syndrome to the...   \n",
       "4            Wounded Warrior Service Dog Act of 2015   \n",
       "\n",
       "                                             sponsor    status   status_at  \\\n",
       "0  {'district': '8', 'type': 'person', 'title': '...  REFERRED  2015-03-03   \n",
       "1  {'district': '6', 'type': 'person', 'title': '...  REFERRED  2016-03-16   \n",
       "2  {'district': None, 'type': 'person', 'title': ...  REFERRED  2015-01-13   \n",
       "3  {'district': '52', 'type': 'person', 'title': ...  REFERRED  2016-09-14   \n",
       "4  {'district': '2', 'type': 'person', 'title': '...  REFERRED  2015-05-21   \n",
       "\n",
       "                                            subjects  \\\n",
       "0  ['Congressional oversight', 'Finance and finan...   \n",
       "1  ['Armed forces and national security', 'Health...   \n",
       "2  ['Civil actions and liability', 'Licensing and...   \n",
       "3                                         ['Health']   \n",
       "4  ['Animal protection and human-animal relations...   \n",
       "\n",
       "                    subjects_top_term  \\\n",
       "0        Finance and financial sector   \n",
       "1  Armed forces and national security   \n",
       "2     Transportation and public works   \n",
       "3                              Health   \n",
       "4  Armed forces and national security   \n",
       "\n",
       "                                             summary  \\\n",
       "0  {'date': '2015-03-03T05:00:00Z', 'text': 'Make...   \n",
       "1  {'date': '2016-03-16T04:00:00Z', 'text': 'Pupp...   \n",
       "2  {'date': '2015-01-13T05:00:00Z', 'text': \"Mari...   \n",
       "3  {'date': '2016-09-14T04:00:00Z', 'text': 'Addi...   \n",
       "4  {'date': '2015-05-21T04:00:00Z', 'text': 'Woun...   \n",
       "\n",
       "                                              titles            updated_at  \\\n",
       "0  [{'title': 'Maker-Taker Conflict of Interest R...  2017-12-11T19:28:52Z   \n",
       "1  [{'title': 'Puppies Assisting Wounded Servicem...  2017-12-11T21:02:18Z   \n",
       "2  [{'title': 'Maritime Lien Reform Act', 'type':...  2017-12-11T19:10:21Z   \n",
       "3  [{'title': 'Adding Middle East Respiratory Syn...  2017-12-11T21:27:52Z   \n",
       "4  [{'title': 'Wounded Warrior Service Dog Act of...  2017-12-11T20:19:56Z   \n",
       "\n",
       "                                                 url  \n",
       "0  https://www.gpo.gov/fdsys/bulkdata/BILLSTATUS/...  \n",
       "1  https://www.gpo.gov/fdsys/bulkdata/BILLSTATUS/...  \n",
       "2  https://www.gpo.gov/fdsys/bulkdata/BILLSTATUS/...  \n",
       "3  https://www.gpo.gov/fdsys/bulkdata/BILLSTATUS/...  \n",
       "4  https://www.gpo.gov/fdsys/bulkdata/BILLSTATUS/...  \n",
       "\n",
       "[5 rows x 26 columns]"
      ]
     },
     "execution_count": 60,
     "metadata": {},
     "output_type": "execute_result"
    }
   ],
   "source": [
    "data_agg.head()"
   ]
  },
  {
   "cell_type": "code",
   "execution_count": 4,
   "metadata": {},
   "outputs": [],
   "source": [
    "#engine = create_engine('postgres://{}@{}/{}'.format(hostname, username, dbname))\n",
    "engine = create_engine('postgres://{}/{}'.format(hostname, dbname))"
   ]
  },
  {
   "cell_type": "code",
   "execution_count": 5,
   "metadata": {},
   "outputs": [
    {
     "name": "stdout",
     "output_type": "stream",
     "text": [
      "postgres://localhost/congressional_bills\n"
     ]
    }
   ],
   "source": [
    "print(engine.url)"
   ]
  },
  {
   "cell_type": "code",
   "execution_count": 6,
   "metadata": {},
   "outputs": [
    {
     "name": "stdout",
     "output_type": "stream",
     "text": [
      "True\n"
     ]
    }
   ],
   "source": [
    "## create a database (if it doesn't exist)\n",
    "if not database_exists(engine.url):\n",
    "    create_database(engine.url)\n",
    "print(database_exists(engine.url))"
   ]
  },
  {
   "cell_type": "markdown",
   "metadata": {},
   "source": [
    "### Load in csv data."
   ]
  },
  {
   "cell_type": "code",
   "execution_count": 7,
   "metadata": {},
   "outputs": [],
   "source": [
    "def import_csv(file_path):\n",
    "    df = pd.read_csv(file_path)\n",
    "    if 'Unnamed: 0' in df.columns:\n",
    "        del df['Unnamed: 0']\n",
    "    return df"
   ]
  },
  {
   "cell_type": "code",
   "execution_count": 8,
   "metadata": {},
   "outputs": [],
   "source": [
    "data_path = '/Users/melissaferrari/Projects/repo/insight/data_collection'\n",
    "file_name = 'agg_propublica_114hr.csv'\n",
    "data_agg = import_csv(os.path.join(data_path, file_name))"
   ]
  },
  {
   "cell_type": "code",
   "execution_count": 9,
   "metadata": {},
   "outputs": [
    {
     "data": {
      "text/html": [
       "<div>\n",
       "<style scoped>\n",
       "    .dataframe tbody tr th:only-of-type {\n",
       "        vertical-align: middle;\n",
       "    }\n",
       "\n",
       "    .dataframe tbody tr th {\n",
       "        vertical-align: top;\n",
       "    }\n",
       "\n",
       "    .dataframe thead th {\n",
       "        text-align: right;\n",
       "    }\n",
       "</style>\n",
       "<table border=\"1\" class=\"dataframe\">\n",
       "  <thead>\n",
       "    <tr style=\"text-align: right;\">\n",
       "      <th></th>\n",
       "      <th>actions</th>\n",
       "      <th>amendments</th>\n",
       "      <th>bill_id</th>\n",
       "      <th>bill_type</th>\n",
       "      <th>by_request</th>\n",
       "      <th>committee_reports</th>\n",
       "      <th>committees</th>\n",
       "      <th>congress</th>\n",
       "      <th>cosponsors</th>\n",
       "      <th>enacted_as</th>\n",
       "      <th>...</th>\n",
       "      <th>short_title</th>\n",
       "      <th>sponsor</th>\n",
       "      <th>status</th>\n",
       "      <th>status_at</th>\n",
       "      <th>subjects</th>\n",
       "      <th>subjects_top_term</th>\n",
       "      <th>summary</th>\n",
       "      <th>titles</th>\n",
       "      <th>updated_at</th>\n",
       "      <th>url</th>\n",
       "    </tr>\n",
       "  </thead>\n",
       "  <tbody>\n",
       "    <tr>\n",
       "      <th>0</th>\n",
       "      <td>[{'acted_at': '2015-03-03', 'references': [], ...</td>\n",
       "      <td>[]</td>\n",
       "      <td>hr1216-114</td>\n",
       "      <td>hr</td>\n",
       "      <td>False</td>\n",
       "      <td>[]</td>\n",
       "      <td>[{'committee_id': 'HSBA', 'activity': ['referr...</td>\n",
       "      <td>114</td>\n",
       "      <td>[{'withdrawn_at': None, 'district': '7', 'spon...</td>\n",
       "      <td>NaN</td>\n",
       "      <td>...</td>\n",
       "      <td>Maker-Taker Conflict of Interest Reform Act of...</td>\n",
       "      <td>{'district': '8', 'type': 'person', 'title': '...</td>\n",
       "      <td>REFERRED</td>\n",
       "      <td>2015-03-03</td>\n",
       "      <td>['Congressional oversight', 'Finance and finan...</td>\n",
       "      <td>Finance and financial sector</td>\n",
       "      <td>{'date': '2015-03-03T05:00:00Z', 'text': 'Make...</td>\n",
       "      <td>[{'title': 'Maker-Taker Conflict of Interest R...</td>\n",
       "      <td>2017-12-11T19:28:52Z</td>\n",
       "      <td>https://www.gpo.gov/fdsys/bulkdata/BILLSTATUS/...</td>\n",
       "    </tr>\n",
       "    <tr>\n",
       "      <th>1</th>\n",
       "      <td>[{'acted_at': '2016-03-16', 'references': [], ...</td>\n",
       "      <td>[]</td>\n",
       "      <td>hr4764-114</td>\n",
       "      <td>hr</td>\n",
       "      <td>False</td>\n",
       "      <td>[]</td>\n",
       "      <td>[{'committee_id': 'HSVR', 'activity': ['referr...</td>\n",
       "      <td>114</td>\n",
       "      <td>[{'withdrawn_at': None, 'district': '12', 'spo...</td>\n",
       "      <td>NaN</td>\n",
       "      <td>...</td>\n",
       "      <td>Puppies Assisting Wounded Servicemembers (PAWS...</td>\n",
       "      <td>{'district': '6', 'type': 'person', 'title': '...</td>\n",
       "      <td>REFERRED</td>\n",
       "      <td>2016-03-16</td>\n",
       "      <td>['Armed forces and national security', 'Health...</td>\n",
       "      <td>Armed forces and national security</td>\n",
       "      <td>{'date': '2016-03-16T04:00:00Z', 'text': 'Pupp...</td>\n",
       "      <td>[{'title': 'Puppies Assisting Wounded Servicem...</td>\n",
       "      <td>2017-12-11T21:02:18Z</td>\n",
       "      <td>https://www.gpo.gov/fdsys/bulkdata/BILLSTATUS/...</td>\n",
       "    </tr>\n",
       "    <tr>\n",
       "      <th>2</th>\n",
       "      <td>[{'acted_at': '2015-01-13', 'references': [], ...</td>\n",
       "      <td>[]</td>\n",
       "      <td>hr337-114</td>\n",
       "      <td>hr</td>\n",
       "      <td>False</td>\n",
       "      <td>[]</td>\n",
       "      <td>[{'committee_id': 'HSPW', 'activity': ['referr...</td>\n",
       "      <td>114</td>\n",
       "      <td>[]</td>\n",
       "      <td>NaN</td>\n",
       "      <td>...</td>\n",
       "      <td>Maritime Lien Reform Act</td>\n",
       "      <td>{'district': None, 'type': 'person', 'title': ...</td>\n",
       "      <td>REFERRED</td>\n",
       "      <td>2015-01-13</td>\n",
       "      <td>['Civil actions and liability', 'Licensing and...</td>\n",
       "      <td>Transportation and public works</td>\n",
       "      <td>{'date': '2015-01-13T05:00:00Z', 'text': \"Mari...</td>\n",
       "      <td>[{'title': 'Maritime Lien Reform Act', 'type':...</td>\n",
       "      <td>2017-12-11T19:10:21Z</td>\n",
       "      <td>https://www.gpo.gov/fdsys/bulkdata/BILLSTATUS/...</td>\n",
       "    </tr>\n",
       "    <tr>\n",
       "      <th>3</th>\n",
       "      <td>[{'acted_at': '2016-09-14', 'references': [], ...</td>\n",
       "      <td>[]</td>\n",
       "      <td>hr6033-114</td>\n",
       "      <td>hr</td>\n",
       "      <td>False</td>\n",
       "      <td>[]</td>\n",
       "      <td>[{'committee_id': 'HSIF', 'activity': ['referr...</td>\n",
       "      <td>114</td>\n",
       "      <td>[{'withdrawn_at': None, 'district': '13', 'spo...</td>\n",
       "      <td>NaN</td>\n",
       "      <td>...</td>\n",
       "      <td>Adding Middle East Respiratory Syndrome to the...</td>\n",
       "      <td>{'district': '52', 'type': 'person', 'title': ...</td>\n",
       "      <td>REFERRED</td>\n",
       "      <td>2016-09-14</td>\n",
       "      <td>['Health']</td>\n",
       "      <td>Health</td>\n",
       "      <td>{'date': '2016-09-14T04:00:00Z', 'text': 'Addi...</td>\n",
       "      <td>[{'title': 'Adding Middle East Respiratory Syn...</td>\n",
       "      <td>2017-12-11T21:27:52Z</td>\n",
       "      <td>https://www.gpo.gov/fdsys/bulkdata/BILLSTATUS/...</td>\n",
       "    </tr>\n",
       "    <tr>\n",
       "      <th>4</th>\n",
       "      <td>[{'acted_at': '2015-05-21', 'references': [], ...</td>\n",
       "      <td>[]</td>\n",
       "      <td>hr2493-114</td>\n",
       "      <td>hr</td>\n",
       "      <td>False</td>\n",
       "      <td>[]</td>\n",
       "      <td>[{'committee_id': 'HSAS', 'activity': ['referr...</td>\n",
       "      <td>114</td>\n",
       "      <td>[{'withdrawn_at': None, 'district': '12', 'spo...</td>\n",
       "      <td>NaN</td>\n",
       "      <td>...</td>\n",
       "      <td>Wounded Warrior Service Dog Act of 2015</td>\n",
       "      <td>{'district': '2', 'type': 'person', 'title': '...</td>\n",
       "      <td>REFERRED</td>\n",
       "      <td>2015-05-21</td>\n",
       "      <td>['Animal protection and human-animal relations...</td>\n",
       "      <td>Armed forces and national security</td>\n",
       "      <td>{'date': '2015-05-21T04:00:00Z', 'text': 'Woun...</td>\n",
       "      <td>[{'title': 'Wounded Warrior Service Dog Act of...</td>\n",
       "      <td>2017-12-11T20:19:56Z</td>\n",
       "      <td>https://www.gpo.gov/fdsys/bulkdata/BILLSTATUS/...</td>\n",
       "    </tr>\n",
       "  </tbody>\n",
       "</table>\n",
       "<p>5 rows × 26 columns</p>\n",
       "</div>"
      ],
      "text/plain": [
       "                                             actions amendments     bill_id  \\\n",
       "0  [{'acted_at': '2015-03-03', 'references': [], ...         []  hr1216-114   \n",
       "1  [{'acted_at': '2016-03-16', 'references': [], ...         []  hr4764-114   \n",
       "2  [{'acted_at': '2015-01-13', 'references': [], ...         []   hr337-114   \n",
       "3  [{'acted_at': '2016-09-14', 'references': [], ...         []  hr6033-114   \n",
       "4  [{'acted_at': '2015-05-21', 'references': [], ...         []  hr2493-114   \n",
       "\n",
       "  bill_type  by_request committee_reports  \\\n",
       "0        hr       False                []   \n",
       "1        hr       False                []   \n",
       "2        hr       False                []   \n",
       "3        hr       False                []   \n",
       "4        hr       False                []   \n",
       "\n",
       "                                          committees  congress  \\\n",
       "0  [{'committee_id': 'HSBA', 'activity': ['referr...       114   \n",
       "1  [{'committee_id': 'HSVR', 'activity': ['referr...       114   \n",
       "2  [{'committee_id': 'HSPW', 'activity': ['referr...       114   \n",
       "3  [{'committee_id': 'HSIF', 'activity': ['referr...       114   \n",
       "4  [{'committee_id': 'HSAS', 'activity': ['referr...       114   \n",
       "\n",
       "                                          cosponsors enacted_as  \\\n",
       "0  [{'withdrawn_at': None, 'district': '7', 'spon...        NaN   \n",
       "1  [{'withdrawn_at': None, 'district': '12', 'spo...        NaN   \n",
       "2                                                 []        NaN   \n",
       "3  [{'withdrawn_at': None, 'district': '13', 'spo...        NaN   \n",
       "4  [{'withdrawn_at': None, 'district': '12', 'spo...        NaN   \n",
       "\n",
       "                         ...                          \\\n",
       "0                        ...                           \n",
       "1                        ...                           \n",
       "2                        ...                           \n",
       "3                        ...                           \n",
       "4                        ...                           \n",
       "\n",
       "                                         short_title  \\\n",
       "0  Maker-Taker Conflict of Interest Reform Act of...   \n",
       "1  Puppies Assisting Wounded Servicemembers (PAWS...   \n",
       "2                           Maritime Lien Reform Act   \n",
       "3  Adding Middle East Respiratory Syndrome to the...   \n",
       "4            Wounded Warrior Service Dog Act of 2015   \n",
       "\n",
       "                                             sponsor    status   status_at  \\\n",
       "0  {'district': '8', 'type': 'person', 'title': '...  REFERRED  2015-03-03   \n",
       "1  {'district': '6', 'type': 'person', 'title': '...  REFERRED  2016-03-16   \n",
       "2  {'district': None, 'type': 'person', 'title': ...  REFERRED  2015-01-13   \n",
       "3  {'district': '52', 'type': 'person', 'title': ...  REFERRED  2016-09-14   \n",
       "4  {'district': '2', 'type': 'person', 'title': '...  REFERRED  2015-05-21   \n",
       "\n",
       "                                            subjects  \\\n",
       "0  ['Congressional oversight', 'Finance and finan...   \n",
       "1  ['Armed forces and national security', 'Health...   \n",
       "2  ['Civil actions and liability', 'Licensing and...   \n",
       "3                                         ['Health']   \n",
       "4  ['Animal protection and human-animal relations...   \n",
       "\n",
       "                    subjects_top_term  \\\n",
       "0        Finance and financial sector   \n",
       "1  Armed forces and national security   \n",
       "2     Transportation and public works   \n",
       "3                              Health   \n",
       "4  Armed forces and national security   \n",
       "\n",
       "                                             summary  \\\n",
       "0  {'date': '2015-03-03T05:00:00Z', 'text': 'Make...   \n",
       "1  {'date': '2016-03-16T04:00:00Z', 'text': 'Pupp...   \n",
       "2  {'date': '2015-01-13T05:00:00Z', 'text': \"Mari...   \n",
       "3  {'date': '2016-09-14T04:00:00Z', 'text': 'Addi...   \n",
       "4  {'date': '2015-05-21T04:00:00Z', 'text': 'Woun...   \n",
       "\n",
       "                                              titles            updated_at  \\\n",
       "0  [{'title': 'Maker-Taker Conflict of Interest R...  2017-12-11T19:28:52Z   \n",
       "1  [{'title': 'Puppies Assisting Wounded Servicem...  2017-12-11T21:02:18Z   \n",
       "2  [{'title': 'Maritime Lien Reform Act', 'type':...  2017-12-11T19:10:21Z   \n",
       "3  [{'title': 'Adding Middle East Respiratory Syn...  2017-12-11T21:27:52Z   \n",
       "4  [{'title': 'Wounded Warrior Service Dog Act of...  2017-12-11T20:19:56Z   \n",
       "\n",
       "                                                 url  \n",
       "0  https://www.gpo.gov/fdsys/bulkdata/BILLSTATUS/...  \n",
       "1  https://www.gpo.gov/fdsys/bulkdata/BILLSTATUS/...  \n",
       "2  https://www.gpo.gov/fdsys/bulkdata/BILLSTATUS/...  \n",
       "3  https://www.gpo.gov/fdsys/bulkdata/BILLSTATUS/...  \n",
       "4  https://www.gpo.gov/fdsys/bulkdata/BILLSTATUS/...  \n",
       "\n",
       "[5 rows x 26 columns]"
      ]
     },
     "execution_count": 9,
     "metadata": {},
     "output_type": "execute_result"
    }
   ],
   "source": [
    "data_agg.head()"
   ]
  },
  {
   "cell_type": "markdown",
   "metadata": {},
   "source": [
    "### Create legislator database table.\n",
    "The legislator table is flat and simply a copy of the csv file downloaded, so I will use `pandas` function `to_sql` for simplicity.\n",
    "\n",
    "[Legislator Data Glossary](https://github.com/unitedstates/congress-legislators)"
   ]
  },
  {
   "cell_type": "code",
   "execution_count": 10,
   "metadata": {},
   "outputs": [
    {
     "data": {
      "text/html": [
       "<div>\n",
       "<style scoped>\n",
       "    .dataframe tbody tr th:only-of-type {\n",
       "        vertical-align: middle;\n",
       "    }\n",
       "\n",
       "    .dataframe tbody tr th {\n",
       "        vertical-align: top;\n",
       "    }\n",
       "\n",
       "    .dataframe thead th {\n",
       "        text-align: right;\n",
       "    }\n",
       "</style>\n",
       "<table border=\"1\" class=\"dataframe\">\n",
       "  <thead>\n",
       "    <tr style=\"text-align: right;\">\n",
       "      <th></th>\n",
       "      <th>last_name</th>\n",
       "      <th>first_name</th>\n",
       "      <th>middle_name</th>\n",
       "      <th>suffix</th>\n",
       "      <th>nickname</th>\n",
       "      <th>full_name</th>\n",
       "      <th>birthday</th>\n",
       "      <th>gender</th>\n",
       "      <th>type</th>\n",
       "      <th>state</th>\n",
       "      <th>...</th>\n",
       "      <th>lis_id</th>\n",
       "      <th>fec_ids</th>\n",
       "      <th>cspan_id</th>\n",
       "      <th>govtrack_id</th>\n",
       "      <th>votesmart_id</th>\n",
       "      <th>ballotpedia_id</th>\n",
       "      <th>washington_post_id</th>\n",
       "      <th>icpsr_id</th>\n",
       "      <th>wikipedia_id</th>\n",
       "      <th>current_legislator</th>\n",
       "    </tr>\n",
       "  </thead>\n",
       "  <tbody>\n",
       "    <tr>\n",
       "      <th>0</th>\n",
       "      <td>Bassett</td>\n",
       "      <td>Richard</td>\n",
       "      <td>NaN</td>\n",
       "      <td>NaN</td>\n",
       "      <td>NaN</td>\n",
       "      <td>NaN</td>\n",
       "      <td>1745-04-02</td>\n",
       "      <td>M</td>\n",
       "      <td>sen</td>\n",
       "      <td>DE</td>\n",
       "      <td>...</td>\n",
       "      <td>NaN</td>\n",
       "      <td>NaN</td>\n",
       "      <td>NaN</td>\n",
       "      <td>401222</td>\n",
       "      <td>NaN</td>\n",
       "      <td>NaN</td>\n",
       "      <td>NaN</td>\n",
       "      <td>507.0</td>\n",
       "      <td>Richard Bassett (politician)</td>\n",
       "      <td>False</td>\n",
       "    </tr>\n",
       "    <tr>\n",
       "      <th>1</th>\n",
       "      <td>Bland</td>\n",
       "      <td>Theodorick</td>\n",
       "      <td>NaN</td>\n",
       "      <td>NaN</td>\n",
       "      <td>NaN</td>\n",
       "      <td>NaN</td>\n",
       "      <td>1742-03-21</td>\n",
       "      <td>M</td>\n",
       "      <td>rep</td>\n",
       "      <td>VA</td>\n",
       "      <td>...</td>\n",
       "      <td>NaN</td>\n",
       "      <td>NaN</td>\n",
       "      <td>NaN</td>\n",
       "      <td>401521</td>\n",
       "      <td>NaN</td>\n",
       "      <td>NaN</td>\n",
       "      <td>NaN</td>\n",
       "      <td>786.0</td>\n",
       "      <td>Theodorick Bland (congressman)</td>\n",
       "      <td>False</td>\n",
       "    </tr>\n",
       "    <tr>\n",
       "      <th>2</th>\n",
       "      <td>Burke</td>\n",
       "      <td>Aedanus</td>\n",
       "      <td>NaN</td>\n",
       "      <td>NaN</td>\n",
       "      <td>NaN</td>\n",
       "      <td>NaN</td>\n",
       "      <td>1743-06-16</td>\n",
       "      <td>M</td>\n",
       "      <td>rep</td>\n",
       "      <td>SC</td>\n",
       "      <td>...</td>\n",
       "      <td>NaN</td>\n",
       "      <td>NaN</td>\n",
       "      <td>NaN</td>\n",
       "      <td>402032</td>\n",
       "      <td>NaN</td>\n",
       "      <td>NaN</td>\n",
       "      <td>NaN</td>\n",
       "      <td>1260.0</td>\n",
       "      <td>Aedanus Burke</td>\n",
       "      <td>False</td>\n",
       "    </tr>\n",
       "    <tr>\n",
       "      <th>3</th>\n",
       "      <td>Carroll</td>\n",
       "      <td>Daniel</td>\n",
       "      <td>NaN</td>\n",
       "      <td>NaN</td>\n",
       "      <td>NaN</td>\n",
       "      <td>NaN</td>\n",
       "      <td>1730-07-22</td>\n",
       "      <td>M</td>\n",
       "      <td>rep</td>\n",
       "      <td>MD</td>\n",
       "      <td>...</td>\n",
       "      <td>NaN</td>\n",
       "      <td>NaN</td>\n",
       "      <td>NaN</td>\n",
       "      <td>402334</td>\n",
       "      <td>NaN</td>\n",
       "      <td>NaN</td>\n",
       "      <td>NaN</td>\n",
       "      <td>1538.0</td>\n",
       "      <td>Daniel Carroll</td>\n",
       "      <td>False</td>\n",
       "    </tr>\n",
       "    <tr>\n",
       "      <th>4</th>\n",
       "      <td>Clymer</td>\n",
       "      <td>George</td>\n",
       "      <td>NaN</td>\n",
       "      <td>NaN</td>\n",
       "      <td>NaN</td>\n",
       "      <td>NaN</td>\n",
       "      <td>1739-03-16</td>\n",
       "      <td>M</td>\n",
       "      <td>rep</td>\n",
       "      <td>PA</td>\n",
       "      <td>...</td>\n",
       "      <td>NaN</td>\n",
       "      <td>NaN</td>\n",
       "      <td>NaN</td>\n",
       "      <td>402671</td>\n",
       "      <td>NaN</td>\n",
       "      <td>NaN</td>\n",
       "      <td>NaN</td>\n",
       "      <td>1859.0</td>\n",
       "      <td>George Clymer</td>\n",
       "      <td>False</td>\n",
       "    </tr>\n",
       "  </tbody>\n",
       "</table>\n",
       "<p>5 rows × 35 columns</p>\n",
       "</div>"
      ],
      "text/plain": [
       "  last_name  first_name middle_name suffix nickname full_name    birthday  \\\n",
       "0   Bassett     Richard         NaN    NaN      NaN       NaN  1745-04-02   \n",
       "1     Bland  Theodorick         NaN    NaN      NaN       NaN  1742-03-21   \n",
       "2     Burke     Aedanus         NaN    NaN      NaN       NaN  1743-06-16   \n",
       "3   Carroll      Daniel         NaN    NaN      NaN       NaN  1730-07-22   \n",
       "4    Clymer      George         NaN    NaN      NaN       NaN  1739-03-16   \n",
       "\n",
       "  gender type state         ...          lis_id  fec_ids cspan_id govtrack_id  \\\n",
       "0      M  sen    DE         ...             NaN      NaN      NaN      401222   \n",
       "1      M  rep    VA         ...             NaN      NaN      NaN      401521   \n",
       "2      M  rep    SC         ...             NaN      NaN      NaN      402032   \n",
       "3      M  rep    MD         ...             NaN      NaN      NaN      402334   \n",
       "4      M  rep    PA         ...             NaN      NaN      NaN      402671   \n",
       "\n",
       "  votesmart_id ballotpedia_id washington_post_id icpsr_id  \\\n",
       "0          NaN            NaN                NaN    507.0   \n",
       "1          NaN            NaN                NaN    786.0   \n",
       "2          NaN            NaN                NaN   1260.0   \n",
       "3          NaN            NaN                NaN   1538.0   \n",
       "4          NaN            NaN                NaN   1859.0   \n",
       "\n",
       "                     wikipedia_id  current_legislator  \n",
       "0    Richard Bassett (politician)               False  \n",
       "1  Theodorick Bland (congressman)               False  \n",
       "2                   Aedanus Burke               False  \n",
       "3                  Daniel Carroll               False  \n",
       "4                   George Clymer               False  \n",
       "\n",
       "[5 rows x 35 columns]"
      ]
     },
     "execution_count": 10,
     "metadata": {},
     "output_type": "execute_result"
    }
   ],
   "source": [
    "leg_hist = import_csv(os.path.join(data_path, 'legislators-historical.csv'))\n",
    "leg_hist['current_legislator'] = False \n",
    "leg_hist.head()"
   ]
  },
  {
   "cell_type": "code",
   "execution_count": 11,
   "metadata": {},
   "outputs": [
    {
     "data": {
      "text/html": [
       "<div>\n",
       "<style scoped>\n",
       "    .dataframe tbody tr th:only-of-type {\n",
       "        vertical-align: middle;\n",
       "    }\n",
       "\n",
       "    .dataframe tbody tr th {\n",
       "        vertical-align: top;\n",
       "    }\n",
       "\n",
       "    .dataframe thead th {\n",
       "        text-align: right;\n",
       "    }\n",
       "</style>\n",
       "<table border=\"1\" class=\"dataframe\">\n",
       "  <thead>\n",
       "    <tr style=\"text-align: right;\">\n",
       "      <th></th>\n",
       "      <th>last_name</th>\n",
       "      <th>first_name</th>\n",
       "      <th>middle_name</th>\n",
       "      <th>suffix</th>\n",
       "      <th>nickname</th>\n",
       "      <th>full_name</th>\n",
       "      <th>birthday</th>\n",
       "      <th>gender</th>\n",
       "      <th>type</th>\n",
       "      <th>state</th>\n",
       "      <th>...</th>\n",
       "      <th>lis_id</th>\n",
       "      <th>fec_ids</th>\n",
       "      <th>cspan_id</th>\n",
       "      <th>govtrack_id</th>\n",
       "      <th>votesmart_id</th>\n",
       "      <th>ballotpedia_id</th>\n",
       "      <th>washington_post_id</th>\n",
       "      <th>icpsr_id</th>\n",
       "      <th>wikipedia_id</th>\n",
       "      <th>current_legislator</th>\n",
       "    </tr>\n",
       "  </thead>\n",
       "  <tbody>\n",
       "    <tr>\n",
       "      <th>0</th>\n",
       "      <td>Brown</td>\n",
       "      <td>Sherrod</td>\n",
       "      <td>NaN</td>\n",
       "      <td>NaN</td>\n",
       "      <td>NaN</td>\n",
       "      <td>Sherrod Brown</td>\n",
       "      <td>1952-11-09</td>\n",
       "      <td>M</td>\n",
       "      <td>sen</td>\n",
       "      <td>OH</td>\n",
       "      <td>...</td>\n",
       "      <td>S307</td>\n",
       "      <td>H2OH13033,S6OH00163</td>\n",
       "      <td>5051.0</td>\n",
       "      <td>400050</td>\n",
       "      <td>27018.0</td>\n",
       "      <td>Sherrod Brown</td>\n",
       "      <td>NaN</td>\n",
       "      <td>29389.0</td>\n",
       "      <td>Sherrod Brown</td>\n",
       "      <td>True</td>\n",
       "    </tr>\n",
       "    <tr>\n",
       "      <th>1</th>\n",
       "      <td>Cantwell</td>\n",
       "      <td>Maria</td>\n",
       "      <td>NaN</td>\n",
       "      <td>NaN</td>\n",
       "      <td>NaN</td>\n",
       "      <td>Maria Cantwell</td>\n",
       "      <td>1958-10-13</td>\n",
       "      <td>F</td>\n",
       "      <td>sen</td>\n",
       "      <td>WA</td>\n",
       "      <td>...</td>\n",
       "      <td>S275</td>\n",
       "      <td>S8WA00194,H2WA01054</td>\n",
       "      <td>26137.0</td>\n",
       "      <td>300018</td>\n",
       "      <td>27122.0</td>\n",
       "      <td>Maria Cantwell</td>\n",
       "      <td>NaN</td>\n",
       "      <td>39310.0</td>\n",
       "      <td>Maria Cantwell</td>\n",
       "      <td>True</td>\n",
       "    </tr>\n",
       "    <tr>\n",
       "      <th>2</th>\n",
       "      <td>Cardin</td>\n",
       "      <td>Benjamin</td>\n",
       "      <td>L.</td>\n",
       "      <td>NaN</td>\n",
       "      <td>NaN</td>\n",
       "      <td>Benjamin L. Cardin</td>\n",
       "      <td>1943-10-05</td>\n",
       "      <td>M</td>\n",
       "      <td>sen</td>\n",
       "      <td>MD</td>\n",
       "      <td>...</td>\n",
       "      <td>S308</td>\n",
       "      <td>H6MD03177,S6MD03177</td>\n",
       "      <td>4004.0</td>\n",
       "      <td>400064</td>\n",
       "      <td>26888.0</td>\n",
       "      <td>Ben Cardin</td>\n",
       "      <td>NaN</td>\n",
       "      <td>15408.0</td>\n",
       "      <td>Ben Cardin</td>\n",
       "      <td>True</td>\n",
       "    </tr>\n",
       "    <tr>\n",
       "      <th>3</th>\n",
       "      <td>Carper</td>\n",
       "      <td>Thomas</td>\n",
       "      <td>Richard</td>\n",
       "      <td>NaN</td>\n",
       "      <td>NaN</td>\n",
       "      <td>Thomas R. Carper</td>\n",
       "      <td>1947-01-23</td>\n",
       "      <td>M</td>\n",
       "      <td>sen</td>\n",
       "      <td>DE</td>\n",
       "      <td>...</td>\n",
       "      <td>S277</td>\n",
       "      <td>S8DE00079</td>\n",
       "      <td>663.0</td>\n",
       "      <td>300019</td>\n",
       "      <td>22421.0</td>\n",
       "      <td>Tom Carper</td>\n",
       "      <td>NaN</td>\n",
       "      <td>15015.0</td>\n",
       "      <td>Tom Carper</td>\n",
       "      <td>True</td>\n",
       "    </tr>\n",
       "    <tr>\n",
       "      <th>4</th>\n",
       "      <td>Casey</td>\n",
       "      <td>Robert</td>\n",
       "      <td>P.</td>\n",
       "      <td>Jr.</td>\n",
       "      <td>Bob</td>\n",
       "      <td>Robert P. Casey, Jr.</td>\n",
       "      <td>1960-04-13</td>\n",
       "      <td>M</td>\n",
       "      <td>sen</td>\n",
       "      <td>PA</td>\n",
       "      <td>...</td>\n",
       "      <td>S309</td>\n",
       "      <td>S6PA00217</td>\n",
       "      <td>47036.0</td>\n",
       "      <td>412246</td>\n",
       "      <td>2541.0</td>\n",
       "      <td>Bob Casey, Jr.</td>\n",
       "      <td>NaN</td>\n",
       "      <td>40703.0</td>\n",
       "      <td>Bob Casey Jr.</td>\n",
       "      <td>True</td>\n",
       "    </tr>\n",
       "  </tbody>\n",
       "</table>\n",
       "<p>5 rows × 35 columns</p>\n",
       "</div>"
      ],
      "text/plain": [
       "  last_name first_name middle_name suffix nickname             full_name  \\\n",
       "0     Brown    Sherrod         NaN    NaN      NaN         Sherrod Brown   \n",
       "1  Cantwell      Maria         NaN    NaN      NaN        Maria Cantwell   \n",
       "2    Cardin   Benjamin          L.    NaN      NaN    Benjamin L. Cardin   \n",
       "3    Carper     Thomas     Richard    NaN      NaN      Thomas R. Carper   \n",
       "4     Casey     Robert          P.    Jr.      Bob  Robert P. Casey, Jr.   \n",
       "\n",
       "     birthday gender type state        ...          lis_id  \\\n",
       "0  1952-11-09      M  sen    OH        ...            S307   \n",
       "1  1958-10-13      F  sen    WA        ...            S275   \n",
       "2  1943-10-05      M  sen    MD        ...            S308   \n",
       "3  1947-01-23      M  sen    DE        ...            S277   \n",
       "4  1960-04-13      M  sen    PA        ...            S309   \n",
       "\n",
       "               fec_ids cspan_id govtrack_id votesmart_id  ballotpedia_id  \\\n",
       "0  H2OH13033,S6OH00163   5051.0      400050      27018.0   Sherrod Brown   \n",
       "1  S8WA00194,H2WA01054  26137.0      300018      27122.0  Maria Cantwell   \n",
       "2  H6MD03177,S6MD03177   4004.0      400064      26888.0      Ben Cardin   \n",
       "3            S8DE00079    663.0      300019      22421.0      Tom Carper   \n",
       "4            S6PA00217  47036.0      412246       2541.0  Bob Casey, Jr.   \n",
       "\n",
       "  washington_post_id icpsr_id    wikipedia_id current_legislator  \n",
       "0                NaN  29389.0   Sherrod Brown               True  \n",
       "1                NaN  39310.0  Maria Cantwell               True  \n",
       "2                NaN  15408.0      Ben Cardin               True  \n",
       "3                NaN  15015.0      Tom Carper               True  \n",
       "4                NaN  40703.0   Bob Casey Jr.               True  \n",
       "\n",
       "[5 rows x 35 columns]"
      ]
     },
     "execution_count": 11,
     "metadata": {},
     "output_type": "execute_result"
    }
   ],
   "source": [
    "leg_current = import_csv(os.path.join(data_path, 'legislators-current.csv'))\n",
    "leg_current['current_legislator'] = True\n",
    "leg_current.head()"
   ]
  },
  {
   "cell_type": "code",
   "execution_count": 12,
   "metadata": {},
   "outputs": [],
   "source": [
    "leg_all = pd.concat([leg_current, leg_hist])"
   ]
  },
  {
   "cell_type": "code",
   "execution_count": 13,
   "metadata": {},
   "outputs": [
    {
     "data": {
      "text/plain": [
       "True"
      ]
     },
     "execution_count": 13,
     "metadata": {},
     "output_type": "execute_result"
    }
   ],
   "source": [
    "len(leg_current) + len(leg_hist) == len(leg_all.drop_duplicates())"
   ]
  },
  {
   "cell_type": "code",
   "execution_count": 14,
   "metadata": {},
   "outputs": [],
   "source": [
    "#leg_all.to_csv(os.path.join(data_path, 'legislators-all.csv'))\n",
    "leg_all = import_csv(os.path.join(data_path, 'legislators-all.csv'))"
   ]
  },
  {
   "cell_type": "code",
   "execution_count": 15,
   "metadata": {},
   "outputs": [
    {
     "data": {
      "text/html": [
       "<div>\n",
       "<style scoped>\n",
       "    .dataframe tbody tr th:only-of-type {\n",
       "        vertical-align: middle;\n",
       "    }\n",
       "\n",
       "    .dataframe tbody tr th {\n",
       "        vertical-align: top;\n",
       "    }\n",
       "\n",
       "    .dataframe thead th {\n",
       "        text-align: right;\n",
       "    }\n",
       "</style>\n",
       "<table border=\"1\" class=\"dataframe\">\n",
       "  <thead>\n",
       "    <tr style=\"text-align: right;\">\n",
       "      <th></th>\n",
       "      <th>last_name</th>\n",
       "      <th>first_name</th>\n",
       "      <th>middle_name</th>\n",
       "      <th>suffix</th>\n",
       "      <th>nickname</th>\n",
       "      <th>full_name</th>\n",
       "      <th>birthday</th>\n",
       "      <th>gender</th>\n",
       "      <th>type</th>\n",
       "      <th>state</th>\n",
       "      <th>...</th>\n",
       "      <th>lis_id</th>\n",
       "      <th>fec_ids</th>\n",
       "      <th>cspan_id</th>\n",
       "      <th>govtrack_id</th>\n",
       "      <th>votesmart_id</th>\n",
       "      <th>ballotpedia_id</th>\n",
       "      <th>washington_post_id</th>\n",
       "      <th>icpsr_id</th>\n",
       "      <th>wikipedia_id</th>\n",
       "      <th>current_legislator</th>\n",
       "    </tr>\n",
       "  </thead>\n",
       "  <tbody>\n",
       "    <tr>\n",
       "      <th>0</th>\n",
       "      <td>Brown</td>\n",
       "      <td>Sherrod</td>\n",
       "      <td>NaN</td>\n",
       "      <td>NaN</td>\n",
       "      <td>NaN</td>\n",
       "      <td>Sherrod Brown</td>\n",
       "      <td>1952-11-09</td>\n",
       "      <td>M</td>\n",
       "      <td>sen</td>\n",
       "      <td>OH</td>\n",
       "      <td>...</td>\n",
       "      <td>S307</td>\n",
       "      <td>H2OH13033,S6OH00163</td>\n",
       "      <td>5051.0</td>\n",
       "      <td>400050</td>\n",
       "      <td>27018.0</td>\n",
       "      <td>Sherrod Brown</td>\n",
       "      <td>NaN</td>\n",
       "      <td>29389.0</td>\n",
       "      <td>Sherrod Brown</td>\n",
       "      <td>True</td>\n",
       "    </tr>\n",
       "    <tr>\n",
       "      <th>1</th>\n",
       "      <td>Cantwell</td>\n",
       "      <td>Maria</td>\n",
       "      <td>NaN</td>\n",
       "      <td>NaN</td>\n",
       "      <td>NaN</td>\n",
       "      <td>Maria Cantwell</td>\n",
       "      <td>1958-10-13</td>\n",
       "      <td>F</td>\n",
       "      <td>sen</td>\n",
       "      <td>WA</td>\n",
       "      <td>...</td>\n",
       "      <td>S275</td>\n",
       "      <td>S8WA00194,H2WA01054</td>\n",
       "      <td>26137.0</td>\n",
       "      <td>300018</td>\n",
       "      <td>27122.0</td>\n",
       "      <td>Maria Cantwell</td>\n",
       "      <td>NaN</td>\n",
       "      <td>39310.0</td>\n",
       "      <td>Maria Cantwell</td>\n",
       "      <td>True</td>\n",
       "    </tr>\n",
       "    <tr>\n",
       "      <th>2</th>\n",
       "      <td>Cardin</td>\n",
       "      <td>Benjamin</td>\n",
       "      <td>L.</td>\n",
       "      <td>NaN</td>\n",
       "      <td>NaN</td>\n",
       "      <td>Benjamin L. Cardin</td>\n",
       "      <td>1943-10-05</td>\n",
       "      <td>M</td>\n",
       "      <td>sen</td>\n",
       "      <td>MD</td>\n",
       "      <td>...</td>\n",
       "      <td>S308</td>\n",
       "      <td>H6MD03177,S6MD03177</td>\n",
       "      <td>4004.0</td>\n",
       "      <td>400064</td>\n",
       "      <td>26888.0</td>\n",
       "      <td>Ben Cardin</td>\n",
       "      <td>NaN</td>\n",
       "      <td>15408.0</td>\n",
       "      <td>Ben Cardin</td>\n",
       "      <td>True</td>\n",
       "    </tr>\n",
       "    <tr>\n",
       "      <th>3</th>\n",
       "      <td>Carper</td>\n",
       "      <td>Thomas</td>\n",
       "      <td>Richard</td>\n",
       "      <td>NaN</td>\n",
       "      <td>NaN</td>\n",
       "      <td>Thomas R. Carper</td>\n",
       "      <td>1947-01-23</td>\n",
       "      <td>M</td>\n",
       "      <td>sen</td>\n",
       "      <td>DE</td>\n",
       "      <td>...</td>\n",
       "      <td>S277</td>\n",
       "      <td>S8DE00079</td>\n",
       "      <td>663.0</td>\n",
       "      <td>300019</td>\n",
       "      <td>22421.0</td>\n",
       "      <td>Tom Carper</td>\n",
       "      <td>NaN</td>\n",
       "      <td>15015.0</td>\n",
       "      <td>Tom Carper</td>\n",
       "      <td>True</td>\n",
       "    </tr>\n",
       "    <tr>\n",
       "      <th>4</th>\n",
       "      <td>Casey</td>\n",
       "      <td>Robert</td>\n",
       "      <td>P.</td>\n",
       "      <td>Jr.</td>\n",
       "      <td>Bob</td>\n",
       "      <td>Robert P. Casey, Jr.</td>\n",
       "      <td>1960-04-13</td>\n",
       "      <td>M</td>\n",
       "      <td>sen</td>\n",
       "      <td>PA</td>\n",
       "      <td>...</td>\n",
       "      <td>S309</td>\n",
       "      <td>S6PA00217</td>\n",
       "      <td>47036.0</td>\n",
       "      <td>412246</td>\n",
       "      <td>2541.0</td>\n",
       "      <td>Bob Casey, Jr.</td>\n",
       "      <td>NaN</td>\n",
       "      <td>40703.0</td>\n",
       "      <td>Bob Casey Jr.</td>\n",
       "      <td>True</td>\n",
       "    </tr>\n",
       "  </tbody>\n",
       "</table>\n",
       "<p>5 rows × 35 columns</p>\n",
       "</div>"
      ],
      "text/plain": [
       "  last_name first_name middle_name suffix nickname             full_name  \\\n",
       "0     Brown    Sherrod         NaN    NaN      NaN         Sherrod Brown   \n",
       "1  Cantwell      Maria         NaN    NaN      NaN        Maria Cantwell   \n",
       "2    Cardin   Benjamin          L.    NaN      NaN    Benjamin L. Cardin   \n",
       "3    Carper     Thomas     Richard    NaN      NaN      Thomas R. Carper   \n",
       "4     Casey     Robert          P.    Jr.      Bob  Robert P. Casey, Jr.   \n",
       "\n",
       "     birthday gender type state        ...          lis_id  \\\n",
       "0  1952-11-09      M  sen    OH        ...            S307   \n",
       "1  1958-10-13      F  sen    WA        ...            S275   \n",
       "2  1943-10-05      M  sen    MD        ...            S308   \n",
       "3  1947-01-23      M  sen    DE        ...            S277   \n",
       "4  1960-04-13      M  sen    PA        ...            S309   \n",
       "\n",
       "               fec_ids cspan_id govtrack_id votesmart_id  ballotpedia_id  \\\n",
       "0  H2OH13033,S6OH00163   5051.0      400050      27018.0   Sherrod Brown   \n",
       "1  S8WA00194,H2WA01054  26137.0      300018      27122.0  Maria Cantwell   \n",
       "2  H6MD03177,S6MD03177   4004.0      400064      26888.0      Ben Cardin   \n",
       "3            S8DE00079    663.0      300019      22421.0      Tom Carper   \n",
       "4            S6PA00217  47036.0      412246       2541.0  Bob Casey, Jr.   \n",
       "\n",
       "  washington_post_id icpsr_id    wikipedia_id current_legislator  \n",
       "0                NaN  29389.0   Sherrod Brown               True  \n",
       "1                NaN  39310.0  Maria Cantwell               True  \n",
       "2                NaN  15408.0      Ben Cardin               True  \n",
       "3                NaN  15015.0      Tom Carper               True  \n",
       "4                NaN  40703.0   Bob Casey Jr.               True  \n",
       "\n",
       "[5 rows x 35 columns]"
      ]
     },
     "execution_count": 15,
     "metadata": {},
     "output_type": "execute_result"
    }
   ],
   "source": [
    "leg_all.head()"
   ]
  },
  {
   "cell_type": "code",
   "execution_count": 90,
   "metadata": {},
   "outputs": [],
   "source": [
    "## insert data into database from Python (proof of concept - this won't be useful for big data, of course)\n",
    "#leg_all.to_sql('legislators', con=engine, if_exists='replace', index_label='id')"
   ]
  },
  {
   "cell_type": "code",
   "execution_count": 16,
   "metadata": {},
   "outputs": [],
   "source": [
    "bill_type = ['hr', 'hres', 'hjres', 'hconres', 's', 'sres', 'sjres', 'sconres']\n",
    "bill_type_df = pd.DataFrame({'name':bill_type})"
   ]
  },
  {
   "cell_type": "code",
   "execution_count": 379,
   "metadata": {},
   "outputs": [],
   "source": [
    "#bill_type_df.to_sql('lk_bill_type', con=engine, index_label='id', dtype={\"name\": sqlalchemy.types.String(8)})"
   ]
  },
  {
   "cell_type": "markdown",
   "metadata": {},
   "source": [
    "# Data Cleaning."
   ]
  },
  {
   "cell_type": "markdown",
   "metadata": {},
   "source": [
    "### Bill versions."
   ]
  },
  {
   "cell_type": "code",
   "execution_count": 17,
   "metadata": {},
   "outputs": [],
   "source": [
    "bill_versions = pd.read_csv(os.path.join(data_path, 'bill_version.csv'))\n",
    "bill_versions.columns = ['title', 'code', 'definition', 'chamber']"
   ]
  },
  {
   "cell_type": "code",
   "execution_count": 18,
   "metadata": {},
   "outputs": [
    {
     "data": {
      "text/html": [
       "<div>\n",
       "<style scoped>\n",
       "    .dataframe tbody tr th:only-of-type {\n",
       "        vertical-align: middle;\n",
       "    }\n",
       "\n",
       "    .dataframe tbody tr th {\n",
       "        vertical-align: top;\n",
       "    }\n",
       "\n",
       "    .dataframe thead th {\n",
       "        text-align: right;\n",
       "    }\n",
       "</style>\n",
       "<table border=\"1\" class=\"dataframe\">\n",
       "  <thead>\n",
       "    <tr style=\"text-align: right;\">\n",
       "      <th></th>\n",
       "      <th>title</th>\n",
       "      <th>code</th>\n",
       "      <th>definition</th>\n",
       "      <th>chamber</th>\n",
       "    </tr>\n",
       "  </thead>\n",
       "  <tbody>\n",
       "    <tr>\n",
       "      <th>0</th>\n",
       "      <td>Amendment (Senate)</td>\n",
       "      <td>AS</td>\n",
       "      <td>An alternate name for this version is Senate A...</td>\n",
       "      <td>Senate</td>\n",
       "    </tr>\n",
       "    <tr>\n",
       "      <th>1</th>\n",
       "      <td>Additional Sponsors (House)</td>\n",
       "      <td>ASH</td>\n",
       "      <td>An alternate name for this version is House Sp...</td>\n",
       "      <td>House</td>\n",
       "    </tr>\n",
       "    <tr>\n",
       "      <th>2</th>\n",
       "      <td>Agreed to (House)</td>\n",
       "      <td>ATH</td>\n",
       "      <td>An alternate name for this version is Agreed t...</td>\n",
       "      <td>House</td>\n",
       "    </tr>\n",
       "    <tr>\n",
       "      <th>3</th>\n",
       "      <td>Agreed to (Senate)</td>\n",
       "      <td>ATS</td>\n",
       "      <td>An alternate name for this version is Agreed t...</td>\n",
       "      <td>Senate</td>\n",
       "    </tr>\n",
       "    <tr>\n",
       "      <th>4</th>\n",
       "      <td>Committee Discharged (House)</td>\n",
       "      <td>CDH</td>\n",
       "      <td>An alternate name for this version is House Co...</td>\n",
       "      <td>House ",
       "Senate</td>\n",
       "    </tr>\n",
       "  </tbody>\n",
       "</table>\n",
       "</div>"
      ],
      "text/plain": [
       "                          title code  \\\n",
       "0            Amendment (Senate)   AS   \n",
       "1   Additional Sponsors (House)  ASH   \n",
       "2             Agreed to (House)  ATH   \n",
       "3            Agreed to (Senate)  ATS   \n",
       "4  Committee Discharged (House)  CDH   \n",
       "\n",
       "                                          definition       chamber  \n",
       "0  An alternate name for this version is Senate A...        Senate  \n",
       "1  An alternate name for this version is House Sp...         House  \n",
       "2  An alternate name for this version is Agreed t...         House  \n",
       "3  An alternate name for this version is Agreed t...        Senate  \n",
       "4  An alternate name for this version is House Co...  House\n",
       "Senate  "
      ]
     },
     "execution_count": 18,
     "metadata": {},
     "output_type": "execute_result"
    }
   ],
   "source": [
    "bill_versions.head()"
   ]
  },
  {
   "cell_type": "code",
   "execution_count": 19,
   "metadata": {},
   "outputs": [],
   "source": [
    "## insert data into database from Python (proof of concept - this won't be useful for big data, of course)\n",
    "bill_versions.to_sql('bill_versions', con=engine, if_exists='replace', index_label='id')"
   ]
  },
  {
   "cell_type": "markdown",
   "metadata": {},
   "source": [
    "#### Unpack sponsor dictionary."
   ]
  },
  {
   "cell_type": "code",
   "execution_count": 20,
   "metadata": {},
   "outputs": [],
   "source": [
    "sponsor_dict = data_agg['sponsor'].apply(ast.literal_eval).values.tolist()\n",
    "sponsor_df = pd.DataFrame(sponsor_dict, index=data_agg.index)[['bioguide_id']]"
   ]
  },
  {
   "cell_type": "code",
   "execution_count": 21,
   "metadata": {},
   "outputs": [],
   "source": [
    "data_agg = data_agg.merge(sponsor_df, left_index=True, right_index=True)\n",
    "del data_agg['sponsor']"
   ]
  },
  {
   "cell_type": "markdown",
   "metadata": {},
   "source": [
    "#### Clean bill title data."
   ]
  },
  {
   "cell_type": "code",
   "execution_count": 22,
   "metadata": {},
   "outputs": [
    {
     "data": {
      "text/html": [
       "<div>\n",
       "<style scoped>\n",
       "    .dataframe tbody tr th:only-of-type {\n",
       "        vertical-align: middle;\n",
       "    }\n",
       "\n",
       "    .dataframe tbody tr th {\n",
       "        vertical-align: top;\n",
       "    }\n",
       "\n",
       "    .dataframe thead th {\n",
       "        text-align: right;\n",
       "    }\n",
       "</style>\n",
       "<table border=\"1\" class=\"dataframe\">\n",
       "  <thead>\n",
       "    <tr style=\"text-align: right;\">\n",
       "      <th></th>\n",
       "      <th>short_title</th>\n",
       "      <th>official_title</th>\n",
       "      <th>popular_title</th>\n",
       "    </tr>\n",
       "  </thead>\n",
       "  <tbody>\n",
       "    <tr>\n",
       "      <th>0</th>\n",
       "      <td>Maker-Taker Conflict of Interest Reform Act of...</td>\n",
       "      <td>To require the Securities and Exchange Commiss...</td>\n",
       "      <td>NaN</td>\n",
       "    </tr>\n",
       "    <tr>\n",
       "      <th>1</th>\n",
       "      <td>Puppies Assisting Wounded Servicemembers (PAWS...</td>\n",
       "      <td>To direct the Secretary of Veterans Affairs to...</td>\n",
       "      <td>NaN</td>\n",
       "    </tr>\n",
       "    <tr>\n",
       "      <th>2</th>\n",
       "      <td>Maritime Lien Reform Act</td>\n",
       "      <td>To provide limitations on maritime liens on fi...</td>\n",
       "      <td>NaN</td>\n",
       "    </tr>\n",
       "    <tr>\n",
       "      <th>3</th>\n",
       "      <td>Adding Middle East Respiratory Syndrome to the...</td>\n",
       "      <td>To expand the tropical disease product priorit...</td>\n",
       "      <td>NaN</td>\n",
       "    </tr>\n",
       "    <tr>\n",
       "      <th>4</th>\n",
       "      <td>Wounded Warrior Service Dog Act of 2015</td>\n",
       "      <td>To establish a grant program to encourage the ...</td>\n",
       "      <td>NaN</td>\n",
       "    </tr>\n",
       "  </tbody>\n",
       "</table>\n",
       "</div>"
      ],
      "text/plain": [
       "                                         short_title  \\\n",
       "0  Maker-Taker Conflict of Interest Reform Act of...   \n",
       "1  Puppies Assisting Wounded Servicemembers (PAWS...   \n",
       "2                           Maritime Lien Reform Act   \n",
       "3  Adding Middle East Respiratory Syndrome to the...   \n",
       "4            Wounded Warrior Service Dog Act of 2015   \n",
       "\n",
       "                                      official_title popular_title  \n",
       "0  To require the Securities and Exchange Commiss...           NaN  \n",
       "1  To direct the Secretary of Veterans Affairs to...           NaN  \n",
       "2  To provide limitations on maritime liens on fi...           NaN  \n",
       "3  To expand the tropical disease product priorit...           NaN  \n",
       "4  To establish a grant program to encourage the ...           NaN  "
      ]
     },
     "execution_count": 22,
     "metadata": {},
     "output_type": "execute_result"
    }
   ],
   "source": [
    "data_agg[['short_title', 'official_title', 'popular_title']].head()"
   ]
  },
  {
   "cell_type": "markdown",
   "metadata": {},
   "source": [
    "The `titles` dict in the aggregated table data is redundant, so we delete it."
   ]
  },
  {
   "cell_type": "code",
   "execution_count": 23,
   "metadata": {},
   "outputs": [],
   "source": [
    "del data_agg['titles']"
   ]
  },
  {
   "cell_type": "markdown",
   "metadata": {},
   "source": [
    "#### Separating actions."
   ]
  },
  {
   "cell_type": "code",
   "execution_count": 24,
   "metadata": {},
   "outputs": [],
   "source": [
    "data_actions = data_agg[['actions', 'bill_id']].copy()\n",
    "del data_agg['actions']"
   ]
  },
  {
   "cell_type": "markdown",
   "metadata": {},
   "source": [
    "#### Separating committees."
   ]
  },
  {
   "cell_type": "code",
   "execution_count": 25,
   "metadata": {},
   "outputs": [],
   "source": [
    "data_committees = data_agg[['committees', 'bill_id']].copy()\n",
    "del data_agg['committees']"
   ]
  },
  {
   "cell_type": "markdown",
   "metadata": {},
   "source": [
    "#### Separating amendments."
   ]
  },
  {
   "cell_type": "code",
   "execution_count": 26,
   "metadata": {},
   "outputs": [],
   "source": [
    "data_amendments = data_agg[['amendments', 'bill_id']].copy()\n",
    "del data_agg['amendments']"
   ]
  },
  {
   "cell_type": "markdown",
   "metadata": {},
   "source": [
    "#### Separating committee reports."
   ]
  },
  {
   "cell_type": "code",
   "execution_count": 27,
   "metadata": {},
   "outputs": [],
   "source": [
    "data_committee_reports = data_agg[['committee_reports', 'bill_id']].copy()\n",
    "del data_agg['committee_reports']"
   ]
  },
  {
   "cell_type": "markdown",
   "metadata": {},
   "source": [
    "#### Separating cosponsorship."
   ]
  },
  {
   "cell_type": "code",
   "execution_count": 28,
   "metadata": {},
   "outputs": [],
   "source": [
    "data_cosponsors = data_agg[['cosponsors', 'bill_id']].copy()\n",
    "del data_agg['cosponsors']"
   ]
  },
  {
   "cell_type": "markdown",
   "metadata": {},
   "source": [
    "#### Unpack and separate bill history dictionary."
   ]
  },
  {
   "cell_type": "code",
   "execution_count": 29,
   "metadata": {},
   "outputs": [],
   "source": [
    "history_dict = data_agg['history'].apply(ast.literal_eval).values.tolist()\n",
    "history_df = pd.DataFrame(history_dict, index=data_agg.index)"
   ]
  },
  {
   "cell_type": "code",
   "execution_count": 30,
   "metadata": {},
   "outputs": [],
   "source": [
    "history_df = data_agg[['bill_id']].merge(history_df, right_index=True, left_index=True)"
   ]
  },
  {
   "cell_type": "code",
   "execution_count": 31,
   "metadata": {},
   "outputs": [],
   "source": [
    "del data_agg['history']"
   ]
  },
  {
   "cell_type": "markdown",
   "metadata": {},
   "source": [
    "#### Separate related bills."
   ]
  },
  {
   "cell_type": "code",
   "execution_count": 32,
   "metadata": {},
   "outputs": [],
   "source": [
    "data_related_bills = data_agg[['related_bills', 'bill_id']].copy()\n",
    "del data_agg['related_bills']"
   ]
  },
  {
   "cell_type": "markdown",
   "metadata": {},
   "source": [
    "#### Separate subjects."
   ]
  },
  {
   "cell_type": "code",
   "execution_count": 33,
   "metadata": {},
   "outputs": [],
   "source": [
    "data_subjects = data_agg[['subjects', 'bill_id']].copy()\n",
    "del data_agg['subjects']"
   ]
  },
  {
   "cell_type": "markdown",
   "metadata": {},
   "source": [
    "#### Separate summaries."
   ]
  },
  {
   "cell_type": "code",
   "execution_count": 34,
   "metadata": {},
   "outputs": [],
   "source": [
    "data_summary = data_agg[['summary', 'bill_id', 'congress', 'number', 'bill_type']].copy()\n",
    "del data_agg['summary']"
   ]
  },
  {
   "cell_type": "markdown",
   "metadata": {},
   "source": [
    "#### Separate enacted_as."
   ]
  },
  {
   "cell_type": "code",
   "execution_count": 35,
   "metadata": {},
   "outputs": [],
   "source": [
    "data_enacted_as = data_agg[['enacted_as', 'bill_id']].copy()\n",
    "del data_agg['enacted_as']"
   ]
  },
  {
   "cell_type": "code",
   "execution_count": 36,
   "metadata": {},
   "outputs": [
    {
     "data": {
      "text/plain": [
       "Index(['bill_id', 'bill_type', 'by_request', 'congress', 'introduced_at',\n",
       "       'number', 'official_title', 'popular_title', 'short_title', 'status',\n",
       "       'status_at', 'subjects_top_term', 'updated_at', 'url', 'bioguide_id'],\n",
       "      dtype='object')"
      ]
     },
     "execution_count": 36,
     "metadata": {},
     "output_type": "execute_result"
    }
   ],
   "source": [
    "data_agg.columns"
   ]
  },
  {
   "cell_type": "markdown",
   "metadata": {},
   "source": [
    "### Convert appropriate columns to `date` objects"
   ]
  },
  {
   "cell_type": "code",
   "execution_count": 37,
   "metadata": {},
   "outputs": [],
   "source": [
    "data_agg['status_at'] = pd.to_datetime(data_agg['status_at']).dt.date"
   ]
  },
  {
   "cell_type": "code",
   "execution_count": 38,
   "metadata": {},
   "outputs": [],
   "source": [
    "data_agg['introduced_at'] = pd.to_datetime(data_agg['introduced_at']).dt.date"
   ]
  },
  {
   "cell_type": "code",
   "execution_count": 39,
   "metadata": {},
   "outputs": [],
   "source": [
    "data_agg['updated_at'] = pd.to_datetime(data_agg['updated_at'])"
   ]
  },
  {
   "cell_type": "markdown",
   "metadata": {},
   "source": [
    "### Insert remaining data into `bills` table of database."
   ]
  },
  {
   "cell_type": "code",
   "execution_count": 40,
   "metadata": {},
   "outputs": [
    {
     "data": {
      "text/html": [
       "<div>\n",
       "<style scoped>\n",
       "    .dataframe tbody tr th:only-of-type {\n",
       "        vertical-align: middle;\n",
       "    }\n",
       "\n",
       "    .dataframe tbody tr th {\n",
       "        vertical-align: top;\n",
       "    }\n",
       "\n",
       "    .dataframe thead th {\n",
       "        text-align: right;\n",
       "    }\n",
       "</style>\n",
       "<table border=\"1\" class=\"dataframe\">\n",
       "  <thead>\n",
       "    <tr style=\"text-align: right;\">\n",
       "      <th></th>\n",
       "      <th>bill_id</th>\n",
       "      <th>bill_type</th>\n",
       "      <th>by_request</th>\n",
       "      <th>congress</th>\n",
       "      <th>introduced_at</th>\n",
       "      <th>number</th>\n",
       "      <th>official_title</th>\n",
       "      <th>popular_title</th>\n",
       "      <th>short_title</th>\n",
       "      <th>status</th>\n",
       "      <th>status_at</th>\n",
       "      <th>subjects_top_term</th>\n",
       "      <th>updated_at</th>\n",
       "      <th>url</th>\n",
       "      <th>bioguide_id</th>\n",
       "    </tr>\n",
       "  </thead>\n",
       "  <tbody>\n",
       "    <tr>\n",
       "      <th>0</th>\n",
       "      <td>hr1216-114</td>\n",
       "      <td>hr</td>\n",
       "      <td>False</td>\n",
       "      <td>114</td>\n",
       "      <td>2015-03-03</td>\n",
       "      <td>1216</td>\n",
       "      <td>To require the Securities and Exchange Commiss...</td>\n",
       "      <td>NaN</td>\n",
       "      <td>Maker-Taker Conflict of Interest Reform Act of...</td>\n",
       "      <td>REFERRED</td>\n",
       "      <td>2015-03-03</td>\n",
       "      <td>Finance and financial sector</td>\n",
       "      <td>2017-12-11 19:28:52</td>\n",
       "      <td>https://www.gpo.gov/fdsys/bulkdata/BILLSTATUS/...</td>\n",
       "      <td>L000562</td>\n",
       "    </tr>\n",
       "    <tr>\n",
       "      <th>1</th>\n",
       "      <td>hr4764-114</td>\n",
       "      <td>hr</td>\n",
       "      <td>False</td>\n",
       "      <td>114</td>\n",
       "      <td>2016-03-16</td>\n",
       "      <td>4764</td>\n",
       "      <td>To direct the Secretary of Veterans Affairs to...</td>\n",
       "      <td>NaN</td>\n",
       "      <td>Puppies Assisting Wounded Servicemembers (PAWS...</td>\n",
       "      <td>REFERRED</td>\n",
       "      <td>2016-03-16</td>\n",
       "      <td>Armed forces and national security</td>\n",
       "      <td>2017-12-11 21:02:18</td>\n",
       "      <td>https://www.gpo.gov/fdsys/bulkdata/BILLSTATUS/...</td>\n",
       "      <td>D000621</td>\n",
       "    </tr>\n",
       "    <tr>\n",
       "      <th>2</th>\n",
       "      <td>hr337-114</td>\n",
       "      <td>hr</td>\n",
       "      <td>False</td>\n",
       "      <td>114</td>\n",
       "      <td>2015-01-13</td>\n",
       "      <td>337</td>\n",
       "      <td>To provide limitations on maritime liens on fi...</td>\n",
       "      <td>NaN</td>\n",
       "      <td>Maritime Lien Reform Act</td>\n",
       "      <td>REFERRED</td>\n",
       "      <td>2015-01-13</td>\n",
       "      <td>Transportation and public works</td>\n",
       "      <td>2017-12-11 19:10:21</td>\n",
       "      <td>https://www.gpo.gov/fdsys/bulkdata/BILLSTATUS/...</td>\n",
       "      <td>Y000033</td>\n",
       "    </tr>\n",
       "    <tr>\n",
       "      <th>3</th>\n",
       "      <td>hr6033-114</td>\n",
       "      <td>hr</td>\n",
       "      <td>False</td>\n",
       "      <td>114</td>\n",
       "      <td>2016-09-14</td>\n",
       "      <td>6033</td>\n",
       "      <td>To expand the tropical disease product priorit...</td>\n",
       "      <td>NaN</td>\n",
       "      <td>Adding Middle East Respiratory Syndrome to the...</td>\n",
       "      <td>REFERRED</td>\n",
       "      <td>2016-09-14</td>\n",
       "      <td>Health</td>\n",
       "      <td>2017-12-11 21:27:52</td>\n",
       "      <td>https://www.gpo.gov/fdsys/bulkdata/BILLSTATUS/...</td>\n",
       "      <td>P000608</td>\n",
       "    </tr>\n",
       "    <tr>\n",
       "      <th>4</th>\n",
       "      <td>hr2493-114</td>\n",
       "      <td>hr</td>\n",
       "      <td>False</td>\n",
       "      <td>114</td>\n",
       "      <td>2015-05-21</td>\n",
       "      <td>2493</td>\n",
       "      <td>To establish a grant program to encourage the ...</td>\n",
       "      <td>NaN</td>\n",
       "      <td>Wounded Warrior Service Dog Act of 2015</td>\n",
       "      <td>REFERRED</td>\n",
       "      <td>2015-05-21</td>\n",
       "      <td>Armed forces and national security</td>\n",
       "      <td>2017-12-11 20:19:56</td>\n",
       "      <td>https://www.gpo.gov/fdsys/bulkdata/BILLSTATUS/...</td>\n",
       "      <td>M000312</td>\n",
       "    </tr>\n",
       "  </tbody>\n",
       "</table>\n",
       "</div>"
      ],
      "text/plain": [
       "      bill_id bill_type  by_request  congress introduced_at  number  \\\n",
       "0  hr1216-114        hr       False       114    2015-03-03    1216   \n",
       "1  hr4764-114        hr       False       114    2016-03-16    4764   \n",
       "2   hr337-114        hr       False       114    2015-01-13     337   \n",
       "3  hr6033-114        hr       False       114    2016-09-14    6033   \n",
       "4  hr2493-114        hr       False       114    2015-05-21    2493   \n",
       "\n",
       "                                      official_title popular_title  \\\n",
       "0  To require the Securities and Exchange Commiss...           NaN   \n",
       "1  To direct the Secretary of Veterans Affairs to...           NaN   \n",
       "2  To provide limitations on maritime liens on fi...           NaN   \n",
       "3  To expand the tropical disease product priorit...           NaN   \n",
       "4  To establish a grant program to encourage the ...           NaN   \n",
       "\n",
       "                                         short_title    status   status_at  \\\n",
       "0  Maker-Taker Conflict of Interest Reform Act of...  REFERRED  2015-03-03   \n",
       "1  Puppies Assisting Wounded Servicemembers (PAWS...  REFERRED  2016-03-16   \n",
       "2                           Maritime Lien Reform Act  REFERRED  2015-01-13   \n",
       "3  Adding Middle East Respiratory Syndrome to the...  REFERRED  2016-09-14   \n",
       "4            Wounded Warrior Service Dog Act of 2015  REFERRED  2015-05-21   \n",
       "\n",
       "                    subjects_top_term          updated_at  \\\n",
       "0        Finance and financial sector 2017-12-11 19:28:52   \n",
       "1  Armed forces and national security 2017-12-11 21:02:18   \n",
       "2     Transportation and public works 2017-12-11 19:10:21   \n",
       "3                              Health 2017-12-11 21:27:52   \n",
       "4  Armed forces and national security 2017-12-11 20:19:56   \n",
       "\n",
       "                                                 url bioguide_id  \n",
       "0  https://www.gpo.gov/fdsys/bulkdata/BILLSTATUS/...     L000562  \n",
       "1  https://www.gpo.gov/fdsys/bulkdata/BILLSTATUS/...     D000621  \n",
       "2  https://www.gpo.gov/fdsys/bulkdata/BILLSTATUS/...     Y000033  \n",
       "3  https://www.gpo.gov/fdsys/bulkdata/BILLSTATUS/...     P000608  \n",
       "4  https://www.gpo.gov/fdsys/bulkdata/BILLSTATUS/...     M000312  "
      ]
     },
     "execution_count": 40,
     "metadata": {},
     "output_type": "execute_result"
    }
   ],
   "source": [
    "data_agg.head()"
   ]
  },
  {
   "cell_type": "code",
   "execution_count": 41,
   "metadata": {},
   "outputs": [
    {
     "data": {
      "text/plain": [
       "['bill_id',\n",
       " 'bill_type',\n",
       " 'by_request',\n",
       " 'congress',\n",
       " 'introduced_at',\n",
       " 'number',\n",
       " 'official_title',\n",
       " 'popular_title',\n",
       " 'short_title',\n",
       " 'status',\n",
       " 'status_at',\n",
       " 'subjects_top_term',\n",
       " 'updated_at',\n",
       " 'url',\n",
       " 'bioguide_id']"
      ]
     },
     "execution_count": 41,
     "metadata": {},
     "output_type": "execute_result"
    }
   ],
   "source": [
    "list(data_agg.columns)"
   ]
  },
  {
   "cell_type": "code",
   "execution_count": 807,
   "metadata": {},
   "outputs": [],
   "source": [
    "col_names = ['bill_id', 'by_request', 'congress', 'introduced_at',\n",
    "             'number', 'official_title', 'popular_title', 'short_title',\n",
    "             'status_at', 'subjects_top_term', 'updated_at', 'url']\n",
    "\n",
    "relational_cols = ['status', 'bioguide_id', 'bill_type']\n",
    "\n",
    "data_path = '/Users/melissaferrari/Projects/repo/insight/data_collection'\n",
    "file_name = 'agg_propublica_114hr.csv'\n",
    "data_agg = import_csv(os.path.join(data_path, file_name))\n"
   ]
  },
  {
   "cell_type": "code",
   "execution_count": 810,
   "metadata": {},
   "outputs": [
    {
     "data": {
      "text/plain": [
       "Index(['actions', 'amendments', 'bill_id', 'bill_type', 'by_request',\n",
       "       'committee_reports', 'committees', 'congress', 'cosponsors',\n",
       "       'enacted_as', 'history', 'introduced_at', 'number', 'official_title',\n",
       "       'popular_title', 'related_bills', 'short_title', 'sponsor', 'status',\n",
       "       'status_at', 'subjects', 'subjects_top_term', 'summary', 'titles',\n",
       "       'updated_at', 'url'],\n",
       "      dtype='object')"
      ]
     },
     "execution_count": 810,
     "metadata": {},
     "output_type": "execute_result"
    }
   ],
   "source": [
    "data_agg.columns"
   ]
  },
  {
   "cell_type": "markdown",
   "metadata": {},
   "source": [
    "## Postgres with psycopg2."
   ]
  },
  {
   "cell_type": "code",
   "execution_count": 357,
   "metadata": {},
   "outputs": [],
   "source": [
    "db_conn = psycopg2.connect(\"host={} dbname={} user={}\".format(hostname,\n",
    "                                                              dbname,\n",
    "                                                              username))"
   ]
  },
  {
   "cell_type": "code",
   "execution_count": 275,
   "metadata": {},
   "outputs": [],
   "source": [
    "#db_conn.close()"
   ]
  },
  {
   "cell_type": "code",
   "execution_count": 358,
   "metadata": {},
   "outputs": [],
   "source": [
    "db_cursor = db_conn.cursor()"
   ]
  },
  {
   "cell_type": "markdown",
   "metadata": {},
   "source": [
    "#### List tables in database."
   ]
  },
  {
   "cell_type": "code",
   "execution_count": 278,
   "metadata": {},
   "outputs": [
    {
     "name": "stdout",
     "output_type": "stream",
     "text": [
      "('lk_status',)\n",
      "('related_bills',)\n",
      "('congresspeople',)\n",
      "('bill_actions',)\n",
      "('committees',)\n",
      "('bill_committee',)\n",
      "('action_committee',)\n",
      "('subjects',)\n",
      "('cosponsorship',)\n",
      "('summaries',)\n",
      "('lk_summary_source',)\n",
      "('bill_text',)\n",
      "('bills',)\n",
      "('legislators',)\n"
     ]
    }
   ],
   "source": [
    "db_cursor.execute(\"\"\"SELECT table_name \n",
    "                     FROM information_schema.tables \n",
    "                     WHERE table_schema = 'public'\"\"\")\n",
    "for table in db_cursor.fetchall():\n",
    "    print(table)"
   ]
  },
  {
   "cell_type": "markdown",
   "metadata": {},
   "source": [
    "#### Basic table queries."
   ]
  },
  {
   "cell_type": "code",
   "execution_count": 487,
   "metadata": {},
   "outputs": [],
   "source": [
    "db_conn.rollback()"
   ]
  },
  {
   "cell_type": "code",
   "execution_count": 489,
   "metadata": {},
   "outputs": [
    {
     "data": {
      "text/plain": [
       "[('ENACTED:SIGNED',),\n",
       " ('PASS_OVER:HOUSE',),\n",
       " ('REPORTED',),\n",
       " ('REFERRED',),\n",
       " ('PROV_KILL:CLOTUREFAILED',),\n",
       " ('PROV_KILL:SUSPENSIONFAILED',),\n",
       " ('PASS_BACK:SENATE',),\n",
       " ('PROV_KILL:VETO',),\n",
       " ('CONFERENCE:PASSED:HOUSE',),\n",
       " ('FAIL:ORIGINATING:HOUSE',),\n",
       " ('VETOED:OVERRIDE_FAIL_ORIGINATING:HOUSE',),\n",
       " ('ENACTED:TENDAYRULE',)]"
      ]
     },
     "execution_count": 489,
     "metadata": {},
     "output_type": "execute_result"
    }
   ],
   "source": [
    "db_cursor.execute('SELECT ls.name FROM lk_status ls')\n",
    "all_status = db_cursor.fetchall()\n",
    "all_status"
   ]
  },
  {
   "cell_type": "code",
   "execution_count": 293,
   "metadata": {},
   "outputs": [
    {
     "data": {
      "text/plain": [
       "[('Sherrod Brown',),\n",
       " ('Maria Cantwell',),\n",
       " ('Benjamin L. Cardin',),\n",
       " ('Thomas R. Carper',),\n",
       " ('Robert P. Casey, Jr.',),\n",
       " ('Dianne Feinstein',),\n",
       " ('Amy Klobuchar',),\n",
       " ('Robert Menendez',),\n",
       " ('Bernard Sanders',),\n",
       " ('Debbie Stabenow',)]"
      ]
     },
     "execution_count": 293,
     "metadata": {},
     "output_type": "execute_result"
    }
   ],
   "source": [
    "db_cursor.execute('SELECT ls.full_name FROM legislators ls;')\n",
    "all_status = db_cursor.fetchmany(10)\n",
    "all_status"
   ]
  },
  {
   "cell_type": "markdown",
   "metadata": {},
   "source": [
    "#### Formatting SQL queries to load data into database."
   ]
  },
  {
   "cell_type": "code",
   "execution_count": 103,
   "metadata": {},
   "outputs": [],
   "source": [
    "#db_conn.rollback()"
   ]
  },
  {
   "cell_type": "code",
   "execution_count": 775,
   "metadata": {},
   "outputs": [],
   "source": [
    "index = 2 #1226\n",
    "row = data_agg.iloc[index]"
   ]
  },
  {
   "cell_type": "code",
   "execution_count": 776,
   "metadata": {},
   "outputs": [
    {
     "data": {
      "text/plain": [
       "['bill_id',\n",
       " 'by_request',\n",
       " 'congress',\n",
       " 'introduced_at',\n",
       " 'number',\n",
       " 'official_title',\n",
       " 'popular_title',\n",
       " 'short_title',\n",
       " 'status_at',\n",
       " 'subjects_top_term',\n",
       " 'updated_at',\n",
       " 'url']"
      ]
     },
     "execution_count": 776,
     "metadata": {},
     "output_type": "execute_result"
    }
   ],
   "source": [
    "col_names"
   ]
  },
  {
   "cell_type": "code",
   "execution_count": 758,
   "metadata": {},
   "outputs": [],
   "source": [
    "col_names = list(data_agg.columns)"
   ]
  },
  {
   "cell_type": "code",
   "execution_count": 766,
   "metadata": {},
   "outputs": [],
   "source": [
    "relational_cols = ['status', 'bioguide_id', 'bill_type']"
   ]
  },
  {
   "cell_type": "code",
   "execution_count": 768,
   "metadata": {},
   "outputs": [],
   "source": [
    "data_agg = data_agg[col_names + relational_cols];"
   ]
  },
  {
   "cell_type": "code",
   "execution_count": 760,
   "metadata": {},
   "outputs": [
    {
     "data": {
      "text/plain": [
       "[None, None, None]"
      ]
     },
     "execution_count": 760,
     "metadata": {},
     "output_type": "execute_result"
    }
   ],
   "source": [
    "[col_names.remove(f) for f in relational_cols]"
   ]
  },
  {
   "cell_type": "code",
   "execution_count": 769,
   "metadata": {},
   "outputs": [
    {
     "data": {
      "text/plain": [
       "['bill_id',\n",
       " 'by_request',\n",
       " 'congress',\n",
       " 'introduced_at',\n",
       " 'number',\n",
       " 'official_title',\n",
       " 'popular_title',\n",
       " 'short_title',\n",
       " 'status_at',\n",
       " 'subjects_top_term',\n",
       " 'updated_at',\n",
       " 'url']"
      ]
     },
     "execution_count": 769,
     "metadata": {},
     "output_type": "execute_result"
    }
   ],
   "source": [
    "col_names"
   ]
  },
  {
   "cell_type": "code",
   "execution_count": 770,
   "metadata": {},
   "outputs": [
    {
     "data": {
      "text/plain": [
       "'bill_id, by_request, congress, introduced_at, number, official_title, popular_title, short_title, status_at, subjects_top_term, updated_at, url'"
      ]
     },
     "execution_count": 770,
     "metadata": {},
     "output_type": "execute_result"
    }
   ],
   "source": [
    "cols_string = str(col_names)[1:-1]\n",
    "cols_string = cols_string.replace(\"'\", '')\n",
    "cols_string"
   ]
  },
  {
   "cell_type": "code",
   "execution_count": 656,
   "metadata": {},
   "outputs": [
    {
     "data": {
      "text/plain": [
       "'%s, %s, %s, %s, %s, %s, %s, %s, %s, %s, %s, %s'"
      ]
     },
     "execution_count": 656,
     "metadata": {},
     "output_type": "execute_result"
    }
   ],
   "source": [
    "vals_type = '%s, ' * len(col_names)\n",
    "vals_type = vals_type[:-2]\n",
    "vals_type"
   ]
  },
  {
   "cell_type": "code",
   "execution_count": 657,
   "metadata": {},
   "outputs": [
    {
     "data": {
      "text/plain": [
       "['hr337-114',\n",
       " False,\n",
       " 114,\n",
       " datetime.date(2015, 1, 13),\n",
       " 337,\n",
       " 'To provide limitations on maritime liens on fishing permits, and for other purposes.',\n",
       " nan,\n",
       " 'Maritime Lien Reform Act',\n",
       " datetime.date(2015, 1, 13),\n",
       " 'Transportation and public works',\n",
       " Timestamp('2017-12-11 19:10:21'),\n",
       " 'https://www.gpo.gov/fdsys/bulkdata/BILLSTATUS/114/hr/BILLSTATUS-114hr337.xml',\n",
       " 'REFERRED',\n",
       " 'Y000033',\n",
       " 'hr']"
      ]
     },
     "execution_count": 657,
     "metadata": {},
     "output_type": "execute_result"
    }
   ],
   "source": [
    "insert_list = list(row[col_names]) + list(row[related_cols])\n",
    "insert_list"
   ]
  },
  {
   "cell_type": "code",
   "execution_count": 658,
   "metadata": {},
   "outputs": [],
   "source": [
    "for ix in range(len(insert_list)):\n",
    "    if type(insert_list[ix]) == numpy.int64:\n",
    "        insert_list[ix] = int(insert_list[ix])\n",
    "    if type(insert_list[ix]) == numpy.bool_:\n",
    "        insert_list[ix] = bool(insert_list[ix])"
   ]
  },
  {
   "cell_type": "code",
   "execution_count": 773,
   "metadata": {},
   "outputs": [
    {
     "data": {
      "text/plain": [
       "'/Users/melissaferrari/Projects/repo/insight/data_collection'"
      ]
     },
     "execution_count": 773,
     "metadata": {},
     "output_type": "execute_result"
    }
   ],
   "source": [
    "data_path"
   ]
  },
  {
   "cell_type": "code",
   "execution_count": 774,
   "metadata": {},
   "outputs": [
    {
     "data": {
      "text/plain": [
       "Index(['bill_id', 'by_request', 'congress', 'introduced_at', 'number',\n",
       "       'official_title', 'popular_title', 'short_title', 'status_at',\n",
       "       'subjects_top_term', 'updated_at', 'url', 'status', 'bioguide_id',\n",
       "       'bill_type'],\n",
       "      dtype='object')"
      ]
     },
     "execution_count": 774,
     "metadata": {},
     "output_type": "execute_result"
    }
   ],
   "source": [
    "data_agg.columns"
   ]
  },
  {
   "cell_type": "code",
   "execution_count": 771,
   "metadata": {},
   "outputs": [],
   "source": [
    "related_cols_string = str(related_cols)[1:-1]\n",
    "related_cols_string = related_cols_string.replace(\"'\", '')\n",
    "\n",
    "string_mapping = {\"bioguide_id\":\"sponsor\"}\n"
   ]
  },
  {
   "cell_type": "code",
   "execution_count": 663,
   "metadata": {},
   "outputs": [
    {
     "data": {
      "text/plain": [
       "'status, sponsor, bill_type'"
      ]
     },
     "execution_count": 663,
     "metadata": {},
     "output_type": "execute_result"
    }
   ],
   "source": [
    "for key in string_mapping.keys():\n",
    "    related_cols_string = related_cols_string.replace(key, string_mapping[key])\n",
    "query_keys = related_cols_string.split(', ')"
   ]
  },
  {
   "cell_type": "code",
   "execution_count": 751,
   "metadata": {},
   "outputs": [],
   "source": [
    "index = []\n",
    "column_name = []\n",
    "for ix, val in enumerate(query_keys):\n",
    "    index.append(ix)\n",
    "    column_name.append(val)\n",
    "table_relate = pd.DataFrame({'column':column_name}, index=index)\n",
    "table_relate['relation_column'] = ['name', 'bioguide_id', 'name']\n",
    "table_relate['relation_table'] = ['lk_status', 'legislators', 'lk_bill_type']"
   ]
  },
  {
   "cell_type": "code",
   "execution_count": 753,
   "metadata": {},
   "outputs": [],
   "source": [
    "query_list = ''\n",
    "for ix, row in table_relate.iterrows():\n",
    "    query_list += '(SELECT ls.id FROM {} ls WHERE {}=%s),'.format(row['relation_table'], row['relation_column'])\n",
    "query_list = query_list[:-1]    "
   ]
  },
  {
   "cell_type": "code",
   "execution_count": 754,
   "metadata": {},
   "outputs": [
    {
     "data": {
      "text/plain": [
       "'INSERT INTO bills (bill_id, by_request, congress, introduced_at, number, official_title, popular_title, short_title, status_at, subjects_top_term, updated_at, url, status, sponsor, bill_type) VALUES (%s, %s, %s, %s, %s, %s, %s, %s, %s, %s, %s, %s, (SELECT ls.id FROM lk_status ls WHERE name=%s),(SELECT ls.id FROM legislators ls WHERE bioguide_id=%s),(SELECT ls.id FROM lk_bill_type ls WHERE name=%s))'"
      ]
     },
     "execution_count": 754,
     "metadata": {},
     "output_type": "execute_result"
    }
   ],
   "source": [
    "sql = \"INSERT INTO bills ({}, {}) VALUES ({}, {})\".format(cols_string, \n",
    "                                                          related_cols_string, \n",
    "                                                          vals_type, \n",
    "                                                          query_list)\n",
    "sql"
   ]
  },
  {
   "cell_type": "code",
   "execution_count": 746,
   "metadata": {},
   "outputs": [],
   "source": [
    "#db_conn.rollback()"
   ]
  },
  {
   "cell_type": "code",
   "execution_count": 749,
   "metadata": {},
   "outputs": [],
   "source": [
    "db_cursor.execute(sql, insert_list)"
   ]
  },
  {
   "cell_type": "code",
   "execution_count": 750,
   "metadata": {},
   "outputs": [],
   "source": [
    "db_conn.commit()"
   ]
  },
  {
   "cell_type": "markdown",
   "metadata": {},
   "source": [
    "### Summary database."
   ]
  },
  {
   "cell_type": "code",
   "execution_count": 944,
   "metadata": {},
   "outputs": [
    {
     "data": {
      "text/plain": [
       "710     NaN\n",
       "1443    NaN\n",
       "2968    NaN\n",
       "3927    NaN\n",
       "5442    NaN\n",
       "6491    NaN\n",
       "Name: summary, dtype: object"
      ]
     },
     "execution_count": 944,
     "metadata": {},
     "output_type": "execute_result"
    }
   ],
   "source": [
    "data_summary['summary'][data_summary['summary'].isna()]"
   ]
  },
  {
   "cell_type": "code",
   "execution_count": 945,
   "metadata": {},
   "outputs": [],
   "source": [
    "data_summary.loc[data_summary['summary'].isna(), 'summary'] = \"{'as': 'nan'}\""
   ]
  },
  {
   "cell_type": "code",
   "execution_count": 946,
   "metadata": {},
   "outputs": [],
   "source": [
    "summary_dict = data_summary['summary'].apply(ast.literal_eval).values.tolist()"
   ]
  },
  {
   "cell_type": "code",
   "execution_count": 947,
   "metadata": {},
   "outputs": [],
   "source": [
    "summary_df = pd.DataFrame(summary_dict, index=data_agg.index)"
   ]
  },
  {
   "cell_type": "code",
   "execution_count": 948,
   "metadata": {},
   "outputs": [],
   "source": [
    "data_summary = data_summary.merge(summary_df, left_index=True, right_index=True)\n",
    "del data_summary['summary']"
   ]
  },
  {
   "cell_type": "code",
   "execution_count": 949,
   "metadata": {},
   "outputs": [],
   "source": [
    "data_summary['date'] = pd.to_datetime(data_summary['date']).dt.date"
   ]
  },
  {
   "cell_type": "code",
   "execution_count": 950,
   "metadata": {},
   "outputs": [
    {
     "data": {
      "text/plain": [
       "['bill_id', 'congress', 'number', 'bill_type', 'as', 'date', 'text']"
      ]
     },
     "execution_count": 950,
     "metadata": {},
     "output_type": "execute_result"
    }
   ],
   "source": [
    "list(data_summary.columns)"
   ]
  },
  {
   "cell_type": "code",
   "execution_count": 43,
   "metadata": {},
   "outputs": [],
   "source": [
    "col_names = ['as', 'date', 'text']\n",
    "\n",
    "relational_cols = ['bill_id', 'source']\n",
    "\n",
    "data_path = '/Users/melissaferrari/Projects/repo/insight/data_collection'\n",
    "file_name = 'agg_propublica_114hr.csv'\n",
    "data_agg = import_csv(os.path.join(data_path, file_name))\n",
    "\n",
    "data_summary = data_agg[['summary', 'bill_id']].copy()\n",
    "data_summary.loc[data_summary['summary'].isna(),\n",
    "                 'summary'] = \"{'as': 'nan'}\"\n",
    "\n",
    "data_summary = data_summary.dropna()"
   ]
  },
  {
   "cell_type": "code",
   "execution_count": 44,
   "metadata": {},
   "outputs": [],
   "source": [
    "to_dict = ast.literal_eval\n",
    "summary_dict = data_summary['summary'].apply(to_dict).values.tolist()\n",
    "\n",
    "summary_df = pd.DataFrame(summary_dict, index=data_agg.index)\n",
    "data_summary = data_summary.merge(summary_df,\n",
    "                                  left_index=True,\n",
    "                                  right_index=True)\n",
    "del data_summary['summary']\n",
    "data_summary['source'] = 'CRS'\n",
    "\n",
    "data_summary['date'] = pd.to_datetime(data_summary['date']).dt.date\n"
   ]
  },
  {
   "cell_type": "code",
   "execution_count": 45,
   "metadata": {},
   "outputs": [
    {
     "data": {
      "text/plain": [
       "710    nan\n",
       "Name: as, dtype: object"
      ]
     },
     "execution_count": 45,
     "metadata": {},
     "output_type": "execute_result"
    }
   ],
   "source": [
    "data_summary[data_summary['bill_id'] == 'hr6061-114']['as']"
   ]
  },
  {
   "cell_type": "code",
   "execution_count": 46,
   "metadata": {},
   "outputs": [
    {
     "data": {
      "text/plain": [
       "Index(['bill_id', 'as', 'date', 'text', 'source'], dtype='object')"
      ]
     },
     "execution_count": 46,
     "metadata": {},
     "output_type": "execute_result"
    }
   ],
   "source": [
    "data_summary.columns"
   ]
  },
  {
   "cell_type": "code",
   "execution_count": 47,
   "metadata": {},
   "outputs": [
    {
     "data": {
      "text/html": [
       "<div>\n",
       "<style scoped>\n",
       "    .dataframe tbody tr th:only-of-type {\n",
       "        vertical-align: middle;\n",
       "    }\n",
       "\n",
       "    .dataframe tbody tr th {\n",
       "        vertical-align: top;\n",
       "    }\n",
       "\n",
       "    .dataframe thead th {\n",
       "        text-align: right;\n",
       "    }\n",
       "</style>\n",
       "<table border=\"1\" class=\"dataframe\">\n",
       "  <thead>\n",
       "    <tr style=\"text-align: right;\">\n",
       "      <th></th>\n",
       "      <th>bill_id</th>\n",
       "      <th>as</th>\n",
       "      <th>date</th>\n",
       "      <th>text</th>\n",
       "      <th>source</th>\n",
       "    </tr>\n",
       "  </thead>\n",
       "  <tbody>\n",
       "    <tr>\n",
       "      <th>3433</th>\n",
       "      <td>hr2-114</td>\n",
       "      <td>Public Law</td>\n",
       "      <td>2015-04-17</td>\n",
       "      <td>(This measure has not been amended since it wa...</td>\n",
       "      <td>CRS</td>\n",
       "    </tr>\n",
       "  </tbody>\n",
       "</table>\n",
       "</div>"
      ],
      "text/plain": [
       "      bill_id          as        date  \\\n",
       "3433  hr2-114  Public Law  2015-04-17   \n",
       "\n",
       "                                                   text source  \n",
       "3433  (This measure has not been amended since it wa...    CRS  "
      ]
     },
     "execution_count": 47,
     "metadata": {},
     "output_type": "execute_result"
    }
   ],
   "source": [
    "data_summary[data_summary['bill_id'] == 'hr2-114']"
   ]
  },
  {
   "cell_type": "code",
   "execution_count": 889,
   "metadata": {},
   "outputs": [],
   "source": [
    "text = data_summary[data_summary['bill_id'] == 'hr2-114']['text'].values"
   ]
  },
  {
   "cell_type": "code",
   "execution_count": 890,
   "metadata": {},
   "outputs": [
    {
     "data": {
      "text/plain": [
       "numpy.ndarray"
      ]
     },
     "execution_count": 890,
     "metadata": {},
     "output_type": "execute_result"
    }
   ],
   "source": [
    "type(text)"
   ]
  },
  {
   "cell_type": "code",
   "execution_count": 895,
   "metadata": {},
   "outputs": [],
   "source": [
    "text[0];"
   ]
  },
  {
   "cell_type": "code",
   "execution_count": 48,
   "metadata": {},
   "outputs": [
    {
     "data": {
      "text/plain": [
       "array(['Introduced in House', 'Passed House without amendment',\n",
       "       'Passed House amended', 'Reported to House without amendment',\n",
       "       'Public Law', 'Reported to Senate without amendment',\n",
       "       'Reported to House with amendment(s)',\n",
       "       'Reported to House amended, Part I',\n",
       "       'Reported to House without amendment, Part I',\n",
       "       'Reported to Senate with amendment(s)', 'nan',\n",
       "       'Passed Senate amended', 'Conference report filed in House',\n",
       "       'Reported to House amended, Part II',\n",
       "       'Reported to House without amendment, Part II'], dtype=object)"
      ]
     },
     "execution_count": 48,
     "metadata": {},
     "output_type": "execute_result"
    }
   ],
   "source": [
    "data_summary['as'].unique()"
   ]
  },
  {
   "cell_type": "code",
   "execution_count": null,
   "metadata": {},
   "outputs": [],
   "source": [
    "version_code = {'Introduced in House':'IH', \n",
    "                'Passed House without amendment',\n",
    "                'Passed House amended', \n",
    "                'Reported to House without amendment',\n",
    "                'Public Law', \n",
    "                'Reported to Senate without amendment',\n",
    "                'Reported to House with amendment(s)',\n",
    "                'Reported to House amended, Part I',\n",
    "                'Reported to House without amendment, Part I',\n",
    "                'Reported to Senate with amendment(s)', \n",
    "                'Passed Senate amended',\n",
    "                'Conference report filed in House',\n",
    "                'Reported to House amended, Part II',\n",
    "                'Reported to House without amendment, Part II'}"
   ]
  },
  {
   "cell_type": "code",
   "execution_count": 922,
   "metadata": {},
   "outputs": [],
   "source": [
    "bill_versions.sort_values('title', ascending=False);"
   ]
  },
  {
   "cell_type": "code",
   "execution_count": null,
   "metadata": {},
   "outputs": [],
   "source": []
  },
  {
   "cell_type": "code",
   "execution_count": 953,
   "metadata": {},
   "outputs": [
    {
     "data": {
      "text/plain": [
       "5542"
      ]
     },
     "execution_count": 953,
     "metadata": {},
     "output_type": "execute_result"
    }
   ],
   "source": [
    "len(data_summary[data_summary['as'] == 'Introduced in House'])"
   ]
  },
  {
   "cell_type": "code",
   "execution_count": 959,
   "metadata": {},
   "outputs": [],
   "source": [
    "import zipfile"
   ]
  },
  {
   "cell_type": "code",
   "execution_count": 975,
   "metadata": {},
   "outputs": [
    {
     "name": "stdout",
     "output_type": "stream",
     "text": [
      "5394\n"
     ]
    }
   ],
   "source": [
    "for ix, row in data_summary[data_summary['as'] == 'Introduced in House'].iterrows():\n",
    "    congress = row.congress\n",
    "    bill_type = row.bill_type\n",
    "    number = row.number\n",
    "    bill_path = '/Users/melissaferrari/Projects/repo/congress/data/{}/bills/{}/{}{}/text-versions/ih/'.format(congress, bill_type, bill_type, number)\n",
    "\n",
    "    try:\n",
    "        os.path.isfile(os.path.join(bill_path, 'package.zip')) \n",
    "        zip_ref = zipfile.ZipFile(os.path.join(bill_path, 'package.zip'), 'r')\n",
    "        zip_ref.extractall(bill_path)\n",
    "        zip_ref.close()\n",
    "    except:\n",
    "        print(number)\n",
    "        pass\n"
   ]
  },
  {
   "cell_type": "code",
   "execution_count": 50,
   "metadata": {},
   "outputs": [
    {
     "data": {
      "text/plain": [
       "Index(['bill_id', 'as', 'date', 'text', 'source'], dtype='object')"
      ]
     },
     "execution_count": 50,
     "metadata": {},
     "output_type": "execute_result"
    }
   ],
   "source": [
    "data_summary.columns"
   ]
  },
  {
   "cell_type": "code",
   "execution_count": 51,
   "metadata": {},
   "outputs": [
    {
     "data": {
      "text/html": [
       "<div>\n",
       "<style scoped>\n",
       "    .dataframe tbody tr th:only-of-type {\n",
       "        vertical-align: middle;\n",
       "    }\n",
       "\n",
       "    .dataframe tbody tr th {\n",
       "        vertical-align: top;\n",
       "    }\n",
       "\n",
       "    .dataframe thead th {\n",
       "        text-align: right;\n",
       "    }\n",
       "</style>\n",
       "<table border=\"1\" class=\"dataframe\">\n",
       "  <thead>\n",
       "    <tr style=\"text-align: right;\">\n",
       "      <th></th>\n",
       "      <th>bill_id</th>\n",
       "      <th>as</th>\n",
       "      <th>date</th>\n",
       "      <th>text</th>\n",
       "      <th>source</th>\n",
       "    </tr>\n",
       "  </thead>\n",
       "  <tbody>\n",
       "    <tr>\n",
       "      <th>0</th>\n",
       "      <td>hr1216-114</td>\n",
       "      <td>Introduced in House</td>\n",
       "      <td>2015-03-03</td>\n",
       "      <td>Maker-Taker Conflict of Interest Reform Act of...</td>\n",
       "      <td>CRS</td>\n",
       "    </tr>\n",
       "    <tr>\n",
       "      <th>1</th>\n",
       "      <td>hr4764-114</td>\n",
       "      <td>Introduced in House</td>\n",
       "      <td>2016-03-16</td>\n",
       "      <td>Puppies Assisting Wounded Servicemembers (PAWS...</td>\n",
       "      <td>CRS</td>\n",
       "    </tr>\n",
       "    <tr>\n",
       "      <th>2</th>\n",
       "      <td>hr337-114</td>\n",
       "      <td>Introduced in House</td>\n",
       "      <td>2015-01-13</td>\n",
       "      <td>Maritime Lien Reform Act\\n\\nThis bill revises ...</td>\n",
       "      <td>CRS</td>\n",
       "    </tr>\n",
       "    <tr>\n",
       "      <th>3</th>\n",
       "      <td>hr6033-114</td>\n",
       "      <td>Introduced in House</td>\n",
       "      <td>2016-09-14</td>\n",
       "      <td>Adding Middle East Respiratory Syndrome to the...</td>\n",
       "      <td>CRS</td>\n",
       "    </tr>\n",
       "    <tr>\n",
       "      <th>4</th>\n",
       "      <td>hr2493-114</td>\n",
       "      <td>Introduced in House</td>\n",
       "      <td>2015-05-21</td>\n",
       "      <td>Wounded Warrior Service Dog Act of 2015 Direct...</td>\n",
       "      <td>CRS</td>\n",
       "    </tr>\n",
       "  </tbody>\n",
       "</table>\n",
       "</div>"
      ],
      "text/plain": [
       "      bill_id                   as        date  \\\n",
       "0  hr1216-114  Introduced in House  2015-03-03   \n",
       "1  hr4764-114  Introduced in House  2016-03-16   \n",
       "2   hr337-114  Introduced in House  2015-01-13   \n",
       "3  hr6033-114  Introduced in House  2016-09-14   \n",
       "4  hr2493-114  Introduced in House  2015-05-21   \n",
       "\n",
       "                                                text source  \n",
       "0  Maker-Taker Conflict of Interest Reform Act of...    CRS  \n",
       "1  Puppies Assisting Wounded Servicemembers (PAWS...    CRS  \n",
       "2  Maritime Lien Reform Act\\n\\nThis bill revises ...    CRS  \n",
       "3  Adding Middle East Respiratory Syndrome to the...    CRS  \n",
       "4  Wounded Warrior Service Dog Act of 2015 Direct...    CRS  "
      ]
     },
     "execution_count": 51,
     "metadata": {},
     "output_type": "execute_result"
    }
   ],
   "source": [
    "data_summary.head()"
   ]
  },
  {
   "cell_type": "code",
   "execution_count": null,
   "metadata": {},
   "outputs": [],
   "source": []
  },
  {
   "cell_type": "code",
   "execution_count": 53,
   "metadata": {},
   "outputs": [],
   "source": [
    "bill_ids = list(data_summary[data_summary['as'] == 'Introduced in House'].bill_id.values)"
   ]
  },
  {
   "cell_type": "code",
   "execution_count": 67,
   "metadata": {},
   "outputs": [],
   "source": [
    "numbers = [int(f.split('hr')[1].split('-114')[0]) for f in bill_ids]"
   ]
  },
  {
   "cell_type": "code",
   "execution_count": 68,
   "metadata": {},
   "outputs": [
    {
     "data": {
      "text/plain": [
       "[1216,\n",
       " 4764,\n",
       " 337,\n",
       " 6033,\n",
       " 2493,\n",
       " 3541,\n",
       " 6201,\n",
       " 3773,\n",
       " 939,\n",
       " 1024,\n",
       " 105,\n",
       " 4556,\n",
       " 3317,\n",
       " 1440,\n",
       " 561,\n",
       " 4132,\n",
       " 1672,\n",
       " 4300,\n",
       " 753,\n",
       " 3919,\n",
       " 6457,\n",
       " 3125,\n",
       " 2231,\n",
       " 5828,\n",
       " 5014,\n",
       " 595,\n",
       " 1686,\n",
       " 2003,\n",
       " 4790,\n",
       " 5642,\n",
       " 2467,\n",
       " 2655,\n",
       " 3787,\n",
       " 5470,\n",
       " 3926,\n",
       " 6468,\n",
       " 4931,\n",
       " 3328,\n",
       " 4569,\n",
       " 1827,\n",
       " 1229,\n",
       " 5689,\n",
       " 2800,\n",
       " 5219,\n",
       " 798,\n",
       " 5817,\n",
       " 2652,\n",
       " 3780,\n",
       " 5477,\n",
       " 4797,\n",
       " 5645,\n",
       " 1681,\n",
       " 5221,\n",
       " 2838,\n",
       " 2004,\n",
       " 2236,\n",
       " 5013,\n",
       " 592,\n",
       " 754,\n",
       " 4307,\n",
       " 3122,\n",
       " 3310,\n",
       " 1447,\n",
       " 4135,\n",
       " 566,\n",
       " 6206,\n",
       " 3774,\n",
       " 4551,\n",
       " 102,\n",
       " 5483,\n",
       " 1211,\n",
       " 330,\n",
       " 4763,\n",
       " 6034,\n",
       " 3546,\n",
       " 5810,\n",
       " 2807,\n",
       " 5448,\n",
       " 3579,\n",
       " 6239,\n",
       " 2699,\n",
       " 4936,\n",
       " 559,\n",
       " 3921,\n",
       " 4338,\n",
       " 6492,\n",
       " 2032,\n",
       " 796,\n",
       " 5217,\n",
       " 1485,\n",
       " 5819,\n",
       " 5025,\n",
       " 5441,\n",
       " 4593,\n",
       " 2664,\n",
       " 2456,\n",
       " 5673,\n",
       " 1015,\n",
       " 908,\n",
       " 1829,\n",
       " 4567,\n",
       " 134,\n",
       " 6230,\n",
       " 3742,\n",
       " 2690,\n",
       " 6002,\n",
       " 3570,\n",
       " 1227,\n",
       " 306,\n",
       " 6466,\n",
       " 3928,\n",
       " 1643,\n",
       " 762,\n",
       " 4331,\n",
       " 4103,\n",
       " 550,\n",
       " 3326,\n",
       " 2469,\n",
       " 3789,\n",
       " 5826,\n",
       " 1688,\n",
       " 5228,\n",
       " 3319,\n",
       " 4900,\n",
       " 6459,\n",
       " 3917,\n",
       " 1218,\n",
       " 339,\n",
       " 937,\n",
       " 4558,\n",
       " 4938,\n",
       " 1476,\n",
       " 557,\n",
       " 4104,\n",
       " 3321,\n",
       " 6461,\n",
       " 3113,\n",
       " 6005,\n",
       " 3577,\n",
       " 1220,\n",
       " 5680,\n",
       " 4752,\n",
       " 301,\n",
       " 1012,\n",
       " 133,\n",
       " 4560,\n",
       " 6237,\n",
       " 3745,\n",
       " 2697,\n",
       " 2451,\n",
       " 5674,\n",
       " 5446,\n",
       " 4594,\n",
       " 2663,\n",
       " 1482,\n",
       " 5022,\n",
       " 2207,\n",
       " 6495,\n",
       " 2809,\n",
       " 2035,\n",
       " 791,\n",
       " 6208,\n",
       " 930,\n",
       " 1811,\n",
       " 3548,\n",
       " 4309,\n",
       " 3910,\n",
       " 4907,\n",
       " 1449,\n",
       " 568,\n",
       " 2836,\n",
       " 2238,\n",
       " 5821,\n",
       " 5479,\n",
       " 4799,\n",
       " 4739,\n",
       " 1845,\n",
       " 1079,\n",
       " 964,\n",
       " 4953,\n",
       " 5881,\n",
       " 2298,\n",
       " 3944,\n",
       " 5875,\n",
       " 2862,\n",
       " 990,\n",
       " 2608,\n",
       " 731,\n",
       " 4362,\n",
       " 1610,\n",
       " 2095,\n",
       " 3147,\n",
       " 3375,\n",
       " 503,\n",
       " 5082,\n",
       " 1422,\n",
       " 6263,\n",
       " 4534,\n",
       " 167,\n",
       " 1046,\n",
       " 355,\n",
       " 4706,\n",
       " 1274,\n",
       " 3523,\n",
       " 6051,\n",
       " 2637,\n",
       " 5412,\n",
       " 193,\n",
       " 1280,\n",
       " 2405,\n",
       " 4396,\n",
       " 2253,\n",
       " 5076,\n",
       " 4998,\n",
       " 997,\n",
       " 5618,\n",
       " 2059,\n",
       " 2865,\n",
       " 5872,\n",
       " 2891,\n",
       " 3943,\n",
       " 5288,\n",
       " 1628,\n",
       " 4954,\n",
       " 5886,\n",
       " 1842,\n",
       " 963,\n",
       " 3729,\n",
       " 6069,\n",
       " 2254,\n",
       " 3386,\n",
       " 5071,\n",
       " 4391,\n",
       " 2066,\n",
       " 3988,\n",
       " 5627,\n",
       " 1287,\n",
       " 2402,\n",
       " 2630,\n",
       " 6290,\n",
       " 5415,\n",
       " 1889,\n",
       " 194,\n",
       " 4701,\n",
       " 352,\n",
       " 1273,\n",
       " 3524,\n",
       " 6056,\n",
       " 6264,\n",
       " 4533,\n",
       " 1041,\n",
       " 3372,\n",
       " 504,\n",
       " 4157,\n",
       " 5085,\n",
       " 1425,\n",
       " 736,\n",
       " 1617,\n",
       " 2092,\n",
       " 3140,\n",
       " 6432,\n",
       " 3981,\n",
       " 2853,\n",
       " 5078,\n",
       " 5844,\n",
       " 4996,\n",
       " 2639,\n",
       " 6299,\n",
       " 169,\n",
       " 1874,\n",
       " 955,\n",
       " 1048,\n",
       " 4708,\n",
       " 3149,\n",
       " 3975,\n",
       " 4962,\n",
       " 2434,\n",
       " 390,\n",
       " 5611,\n",
       " 5423,\n",
       " 1083,\n",
       " 2606,\n",
       " 4195,\n",
       " 3182,\n",
       " 2050,\n",
       " 5275,\n",
       " 532,\n",
       " 4161,\n",
       " 1413,\n",
       " 3344,\n",
       " 2296,\n",
       " 3176,\n",
       " 6404,\n",
       " 5281,\n",
       " 4353,\n",
       " 700,\n",
       " 3512,\n",
       " 6060,\n",
       " 4737,\n",
       " 364,\n",
       " 1245,\n",
       " 156,\n",
       " 4505,\n",
       " 1077,\n",
       " 3720,\n",
       " 6252,\n",
       " 4159,\n",
       " 4965,\n",
       " 738,\n",
       " 1619,\n",
       " 3972,\n",
       " 6058,\n",
       " 3718,\n",
       " 1873,\n",
       " 952,\n",
       " 5629,\n",
       " 3388,\n",
       " 4991,\n",
       " 2068,\n",
       " 3986,\n",
       " 2854,\n",
       " 4502,\n",
       " 151,\n",
       " 1070,\n",
       " 3727,\n",
       " 6255,\n",
       " 3515,\n",
       " 6067,\n",
       " 363,\n",
       " 4730,\n",
       " 1242,\n",
       " 3171,\n",
       " 6403,\n",
       " 5286,\n",
       " 707,\n",
       " 4354,\n",
       " 535,\n",
       " 1414,\n",
       " 5888,\n",
       " 3343,\n",
       " 2291,\n",
       " 3185,\n",
       " 2057,\n",
       " 5272,\n",
       " 5040,\n",
       " 4192,\n",
       " 2265,\n",
       " 999,\n",
       " 1084,\n",
       " 2601,\n",
       " 2433,\n",
       " 6093,\n",
       " 397,\n",
       " 5616,\n",
       " 4595,\n",
       " 2662,\n",
       " 3582,\n",
       " 2450,\n",
       " 5675,\n",
       " 2034,\n",
       " 2808,\n",
       " 6494,\n",
       " 790,\n",
       " 5211,\n",
       " 5023,\n",
       " 1483,\n",
       " 3112,\n",
       " 6460,\n",
       " 764,\n",
       " 4337,\n",
       " 1645,\n",
       " 4105,\n",
       " 556,\n",
       " 1477,\n",
       " 3320,\n",
       " 4561,\n",
       " 132,\n",
       " 1013,\n",
       " 3744,\n",
       " 2696,\n",
       " 6236,\n",
       " 3576,\n",
       " 5681,\n",
       " 300,\n",
       " 4753,\n",
       " 1221,\n",
       " 2239,\n",
       " 5820,\n",
       " 2837,\n",
       " 4798,\n",
       " 5478,\n",
       " 3549,\n",
       " 6209,\n",
       " 1810,\n",
       " 931,\n",
       " 569,\n",
       " 1448,\n",
       " 4308,\n",
       " 3911,\n",
       " 3571,\n",
       " 6003,\n",
       " 5686,\n",
       " 4754,\n",
       " 307,\n",
       " 1226,\n",
       " 1828,\n",
       " 135,\n",
       " 4566,\n",
       " 1014,\n",
       " 909,\n",
       " 3743,\n",
       " 2691,\n",
       " 6231,\n",
       " 551,\n",
       " 4102,\n",
       " 1470,\n",
       " 3327,\n",
       " 3115,\n",
       " 6467,\n",
       " 3929,\n",
       " 4330,\n",
       " 763,\n",
       " 5024,\n",
       " 5818,\n",
       " 1484,\n",
       " 2201,\n",
       " 2033,\n",
       " 6493,\n",
       " 797,\n",
       " 5216,\n",
       " 3585,\n",
       " 2457,\n",
       " 5672,\n",
       " 5440,\n",
       " 4592,\n",
       " 2665,\n",
       " 6458,\n",
       " 3916,\n",
       " 3318,\n",
       " 1817,\n",
       " 4559,\n",
       " 936,\n",
       " 338,\n",
       " 3788,\n",
       " 2468,\n",
       " 1689,\n",
       " 5827,\n",
       " 3311,\n",
       " 567,\n",
       " 4134,\n",
       " 1446,\n",
       " 4908,\n",
       " 4306,\n",
       " 755,\n",
       " 1674,\n",
       " 3123,\n",
       " 4762,\n",
       " 331,\n",
       " 2495,\n",
       " 3547,\n",
       " 6035,\n",
       " 3775,\n",
       " 6207,\n",
       " 103,\n",
       " 4550,\n",
       " 5482,\n",
       " 1022,\n",
       " 4796,\n",
       " 5644,\n",
       " 2461,\n",
       " 2653,\n",
       " 3781,\n",
       " 5476,\n",
       " 2237,\n",
       " 5012,\n",
       " 593,\n",
       " 5220,\n",
       " 1680,\n",
       " 2005,\n",
       " 2839,\n",
       " 1821,\n",
       " 900,\n",
       " 2698,\n",
       " 6238,\n",
       " 3920,\n",
       " 4339,\n",
       " 1479,\n",
       " 2806,\n",
       " 5811,\n",
       " 2208,\n",
       " 5449,\n",
       " 1687,\n",
       " 2002,\n",
       " 2230,\n",
       " 594,\n",
       " 5829,\n",
       " 2654,\n",
       " 3786,\n",
       " 4791,\n",
       " 5643,\n",
       " 2466,\n",
       " 3772,\n",
       " 6200,\n",
       " 104,\n",
       " 1819,\n",
       " 938,\n",
       " 1025,\n",
       " 4765,\n",
       " 1217,\n",
       " 2492,\n",
       " 3540,\n",
       " 6032,\n",
       " 752,\n",
       " 4301,\n",
       " 1673,\n",
       " 3124,\n",
       " 3918,\n",
       " 6456,\n",
       " 3316,\n",
       " 4133,\n",
       " 560,\n",
       " 1441,\n",
       " 2459,\n",
       " 5816,\n",
       " 2801,\n",
       " 5218,\n",
       " 799,\n",
       " 4930,\n",
       " 3329,\n",
       " 3927,\n",
       " 6469,\n",
       " 309,\n",
       " 5688,\n",
       " 1228,\n",
       " 4568,\n",
       " 1826,\n",
       " 1886,\n",
       " 1288,\n",
       " 5628,\n",
       " 3987,\n",
       " 2855,\n",
       " 2069,\n",
       " 3389,\n",
       " 5842,\n",
       " 4990,\n",
       " 1618,\n",
       " 739,\n",
       " 3973,\n",
       " 4964,\n",
       " 4158,\n",
       " 3719,\n",
       " 953,\n",
       " 1872,\n",
       " 6059,\n",
       " 5041,\n",
       " 4193,\n",
       " 2264,\n",
       " 3184,\n",
       " 2056,\n",
       " 6092,\n",
       " 2432,\n",
       " 396,\n",
       " 5617,\n",
       " 1085,\n",
       " 5425,\n",
       " 2600,\n",
       " 6066,\n",
       " 3514,\n",
       " 1243,\n",
       " 4731,\n",
       " 362,\n",
       " 1071,\n",
       " 150,\n",
       " 4503,\n",
       " 6254,\n",
       " 3726,\n",
       " 1415,\n",
       " 534,\n",
       " 2290,\n",
       " 6402,\n",
       " 3170,\n",
       " 1627,\n",
       " 5287,\n",
       " 4355,\n",
       " 706,\n",
       " 4709,\n",
       " 1049,\n",
       " 168,\n",
       " 1875,\n",
       " 4963,\n",
       " 3148,\n",
       " 5845,\n",
       " 4997,\n",
       " 5079,\n",
       " 4399,\n",
       " 3980,\n",
       " 2852,\n",
       " 6298,\n",
       " 2638,\n",
       " 1881,\n",
       " 6405,\n",
       " 3177,\n",
       " 1620,\n",
       " 5280,\n",
       " 701,\n",
       " 1412,\n",
       " 4160,\n",
       " 3345,\n",
       " 1076,\n",
       " 4504,\n",
       " 157,\n",
       " 6253,\n",
       " 3721,\n",
       " 3513,\n",
       " 1244,\n",
       " 365,\n",
       " 4736,\n",
       " 1082,\n",
       " 6095,\n",
       " 2435,\n",
       " 391,\n",
       " 5610,\n",
       " 3183,\n",
       " 5274,\n",
       " 4194,\n",
       " 4955,\n",
       " 5887,\n",
       " 4169,\n",
       " 2890,\n",
       " 3942,\n",
       " 1629,\n",
       " 708,\n",
       " 5289,\n",
       " 6068,\n",
       " 962,\n",
       " 1843,\n",
       " 3728,\n",
       " 5619,\n",
       " 996,\n",
       " 2864,\n",
       " 2058,\n",
       " 6265,\n",
       " 3717,\n",
       " 1040,\n",
       " 4532,\n",
       " 1272,\n",
       " 353,\n",
       " 4700,\n",
       " 6057,\n",
       " 3525,\n",
       " 1616,\n",
       " 737,\n",
       " 4364,\n",
       " 6433,\n",
       " 2093,\n",
       " 3141,\n",
       " 3373,\n",
       " 1424,\n",
       " 4156,\n",
       " 505,\n",
       " 5084,\n",
       " 4390,\n",
       " 5242,\n",
       " 2067,\n",
       " 2255,\n",
       " 5070,\n",
       " 6291,\n",
       " 2631,\n",
       " 1888,\n",
       " 5414,\n",
       " 1286,\n",
       " 5626,\n",
       " 2403,\n",
       " 2863,\n",
       " 5874,\n",
       " 991,\n",
       " 2609,\n",
       " 1078,\n",
       " 965,\n",
       " 1844,\n",
       " 4738,\n",
       " 2897,\n",
       " 3945,\n",
       " 4952,\n",
       " 5880,\n",
       " 2299,\n",
       " 1281,\n",
       " 5621,\n",
       " 2404,\n",
       " 6296,\n",
       " 2636,\n",
       " 5413,\n",
       " 192,\n",
       " 4999,\n",
       " 4397,\n",
       " 5245,\n",
       " 2060,\n",
       " 3374,\n",
       " 1423,\n",
       " 502,\n",
       " 4151,\n",
       " 5083,\n",
       " 1611,\n",
       " 4363,\n",
       " 730,\n",
       " 6434,\n",
       " 2094,\n",
       " 3146,\n",
       " 1275,\n",
       " 4707,\n",
       " 354,\n",
       " 6050,\n",
       " 3522,\n",
       " 6262,\n",
       " 3710,\n",
       " 166,\n",
       " 4535,\n",
       " 226,\n",
       " 4675,\n",
       " 1307,\n",
       " 3450,\n",
       " 6122,\n",
       " 6310,\n",
       " 1909,\n",
       " 5595,\n",
       " 4447,\n",
       " 1135,\n",
       " 828,\n",
       " 3206,\n",
       " 4023,\n",
       " 1551,\n",
       " 642,\n",
       " 4211,\n",
       " 1763,\n",
       " 3034,\n",
       " 3808,\n",
       " 484,\n",
       " 5105,\n",
       " 5939,\n",
       " 5337,\n",
       " 1797,\n",
       " 2112,\n",
       " 5753,\n",
       " 4681,\n",
       " 3696,\n",
       " 2744,\n",
       " 5561,\n",
       " 3837,\n",
       " 3239,\n",
       " 1936,\n",
       " 4478,\n",
       " 817,\n",
       " 219,\n",
       " 44,\n",
       " 2549,\n",
       " 2911,\n",
       " 689,\n",
       " 5308,\n",
       " 5906,\n",
       " 2743,\n",
       " 5566,\n",
       " 5754,\n",
       " 4686,\n",
       " 2571,\n",
       " 5330,\n",
       " 1790,\n",
       " 2115,\n",
       " 2929,\n",
       " 2327,\n",
       " 483,\n",
       " 5102,\n",
       " 4216,\n",
       " 645,\n",
       " 1764,\n",
       " 3201,\n",
       " 477,\n",
       " 4024,\n",
       " 4818,\n",
       " 1556,\n",
       " 3665,\n",
       " 6317,\n",
       " 5592,\n",
       " 4440,\n",
       " 88,\n",
       " 4672,\n",
       " 221,\n",
       " 2585,\n",
       " 6125,\n",
       " 5901,\n",
       " 2318,\n",
       " 2916,\n",
       " 5559,\n",
       " 43,\n",
       " 3468,\n",
       " 1931,\n",
       " 2788,\n",
       " 6328,\n",
       " 448,\n",
       " 4827,\n",
       " 1569,\n",
       " 3830,\n",
       " 4229,\n",
       " 2123,\n",
       " 5306,\n",
       " 687,\n",
       " 5134,\n",
       " 5908,\n",
       " 1594,\n",
       " 2311,\n",
       " 5550,\n",
       " 2775,\n",
       " 2547,\n",
       " 5762,\n",
       " 4476,\n",
       " 1938,\n",
       " 819,\n",
       " 2781,\n",
       " 3653,\n",
       " 6321,\n",
       " 3461,\n",
       " 6113,\n",
       " 4644,\n",
       " 217,\n",
       " 5796,\n",
       " 1336,\n",
       " 3005,\n",
       " 673,\n",
       " 1752,\n",
       " 441,\n",
       " 4012,\n",
       " 3237,\n",
       " 3698,\n",
       " 75,\n",
       " 5339,\n",
       " 1799,\n",
       " 2920,\n",
       " 3208,\n",
       " 4811,\n",
       " 3806,\n",
       " 228,\n",
       " 4449,\n",
       " 81,\n",
       " 826,\n",
       " 4015,\n",
       " 446,\n",
       " 4829,\n",
       " 3230,\n",
       " 3002,\n",
       " 674,\n",
       " 4227,\n",
       " 3466,\n",
       " 6114,\n",
       " 4643,\n",
       " 5791,\n",
       " 1331,\n",
       " 4471,\n",
       " 1103,\n",
       " 6326,\n",
       " 2540,\n",
       " 3492,\n",
       " 5765,\n",
       " 4485,\n",
       " 5557,\n",
       " 5133,\n",
       " 1593,\n",
       " 2316,\n",
       " 2124,\n",
       " 2918,\n",
       " 5301,\n",
       " 680,\n",
       " 6319,\n",
       " 1900,\n",
       " 86,\n",
       " 821,\n",
       " 4218,\n",
       " 3801,\n",
       " 479,\n",
       " 1558,\n",
       " 4816,\n",
       " 2927,\n",
       " 2329,\n",
       " 5930,\n",
       " 5568,\n",
       " 72,\n",
       " 4688,\n",
       " 4628,\n",
       " 1954,\n",
       " 5990,\n",
       " 4842,\n",
       " 2389,\n",
       " 3855,\n",
       " 2987,\n",
       " 3069,\n",
       " 5964,\n",
       " 5158,\n",
       " 2973,\n",
       " 881,\n",
       " 2719,\n",
       " 1701,\n",
       " 4273,\n",
       " 620,\n",
       " 6524,\n",
       " 3056,\n",
       " 2184,\n",
       " 3264,\n",
       " 1533,\n",
       " 5193,\n",
       " 4041,\n",
       " 6372,\n",
       " 3600,\n",
       " 1365,\n",
       " 4617,\n",
       " 244,\n",
       " 6140,\n",
       " 3432,\n",
       " 6386,\n",
       " 5503,\n",
       " 1391,\n",
       " 5731,\n",
       " 2514,\n",
       " 5355,\n",
       " 4287,\n",
       " 2170,\n",
       " 3290,\n",
       " 2342,\n",
       " 5167,\n",
       " 21,\n",
       " 886,\n",
       " 288,\n",
       " 2974,\n",
       " 2148,\n",
       " 3852,\n",
       " 2980,\n",
       " 1739,\n",
       " 618,\n",
       " 5997,\n",
       " 4845,\n",
       " 4079,\n",
       " 872,\n",
       " 1953,\n",
       " 3638,\n",
       " 6178,\n",
       " 3297,\n",
       " 2345,\n",
       " 5352,\n",
       " 4280,\n",
       " 3899,\n",
       " 2177,\n",
       " 1396,\n",
       " 5736,\n",
       " 2513,\n",
       " 6381,\n",
       " 2721,\n",
       " 1998,\n",
       " 5504,\n",
       " 1362,\n",
       " 243,\n",
       " 4610,\n",
       " 6147,\n",
       " 3435,\n",
       " 3607,\n",
       " 4422,\n",
       " 3263,\n",
       " 1534,\n",
       " 5194,\n",
       " 415,\n",
       " 1706,\n",
       " 627,\n",
       " 4274,\n",
       " 6523,\n",
       " 3051,\n",
       " 2183,\n",
       " 4289,\n",
       " 2942,\n",
       " 3890,\n",
       " 5955,\n",
       " 6388,\n",
       " 2728,\n",
       " 1159,\n",
       " 844,\n",
       " 4619,\n",
       " 3864,\n",
       " 3058,\n",
       " 4873,\n",
       " 6185,\n",
       " 2525,\n",
       " 5700,\n",
       " 281,\n",
       " 28,\n",
       " 5532,\n",
       " 2717,\n",
       " 5156,\n",
       " 2373,\n",
       " 2141,\n",
       " 3093,\n",
       " 5364,\n",
       " 1502,\n",
       " 4070,\n",
       " 423,\n",
       " 3255,\n",
       " ...]"
      ]
     },
     "execution_count": 68,
     "metadata": {},
     "output_type": "execute_result"
    }
   ],
   "source": [
    "numbers"
   ]
  },
  {
   "cell_type": "markdown",
   "metadata": {},
   "source": [
    "### Populating bill text."
   ]
  },
  {
   "cell_type": "code",
   "execution_count": 80,
   "metadata": {},
   "outputs": [],
   "source": [
    "import re"
   ]
  },
  {
   "cell_type": "code",
   "execution_count": 70,
   "metadata": {},
   "outputs": [],
   "source": [
    "congress = '114'\n",
    "bill_type = 'hr'\n",
    "default_bill_number = 4764\n",
    "#2, 34, 876, 1321, 1624, 2212, 2820, 3831\n",
    "#number = bill_numbers[5]"
   ]
  },
  {
   "cell_type": "code",
   "execution_count": 71,
   "metadata": {},
   "outputs": [],
   "source": [
    "number = default_bill_number"
   ]
  },
  {
   "cell_type": "code",
   "execution_count": 61,
   "metadata": {},
   "outputs": [],
   "source": [
    "bill_path_root = '/Users/melissaferrari/Projects/repo/congress/data/'"
   ]
  },
  {
   "cell_type": "code",
   "execution_count": 62,
   "metadata": {},
   "outputs": [],
   "source": [
    "xml_paths = [x[0] for x in os.walk(bill_path_root) if 'xml' in x[0]]"
   ]
  },
  {
   "cell_type": "code",
   "execution_count": 78,
   "metadata": {},
   "outputs": [
    {
     "data": {
      "text/plain": [
       "'/Users/melissaferrari/Projects/repo/congress/data/114/bills/hr/hr1216/text-versions/ih/BILLS-114hr1216ih/xml'"
      ]
     },
     "execution_count": 78,
     "metadata": {},
     "output_type": "execute_result"
    }
   ],
   "source": [
    "xml_path = xml_paths[0]\n",
    "xml_path"
   ]
  },
  {
   "cell_type": "code",
   "execution_count": 81,
   "metadata": {},
   "outputs": [],
   "source": [
    "regex_pattern_00 = re.compile('\\d\\d\\d([a-z]+)\\d+')\n",
    "match_00 = regex_pattern_00.search(xml_path).group()\n",
    "\n",
    "regex_pattern_01 = re.compile('[a-z]+')\n",
    "bill_type = regex_pattern_01.search(match_00).group()\n",
    "congress, number = match_00.split(bill_type)\n",
    "bill_id = '{}{}-{}'.format(bill_type, number, congress)"
   ]
  },
  {
   "cell_type": "code",
   "execution_count": 82,
   "metadata": {},
   "outputs": [
    {
     "data": {
      "text/plain": [
       "'hr1216-114'"
      ]
     },
     "execution_count": 82,
     "metadata": {},
     "output_type": "execute_result"
    }
   ],
   "source": [
    "bill_id"
   ]
  },
  {
   "cell_type": "code",
   "execution_count": 72,
   "metadata": {},
   "outputs": [],
   "source": [
    "bill_path = '{}{}/bills/{}/{}{}/text-versions/ih/'.format(bill_path_root, \n",
    "                                                          congress, \n",
    "                                                          bill_type, \n",
    "                                                          bill_type, \n",
    "                                                          number)\n",
    "bill_path += 'BILLS-{}{}{}ih/xml'.format(congress, bill_type, number)\n",
    "\n",
    "xml_file = os.listdir(bill_path)[0]"
   ]
  },
  {
   "cell_type": "code",
   "execution_count": 74,
   "metadata": {},
   "outputs": [
    {
     "data": {
      "text/plain": [
       "'/Users/melissaferrari/Projects/repo/congress/data/114/bills/hr/hr4764/text-versions/ih/BILLS-114hr4764ih/xml'"
      ]
     },
     "execution_count": 74,
     "metadata": {},
     "output_type": "execute_result"
    }
   ],
   "source": [
    "bill_path"
   ]
  },
  {
   "cell_type": "code",
   "execution_count": 77,
   "metadata": {},
   "outputs": [
    {
     "data": {
      "text/plain": [
       "'BILLS-114hr4764ih.xml'"
      ]
     },
     "execution_count": 77,
     "metadata": {},
     "output_type": "execute_result"
    }
   ],
   "source": [
    "xml_file = os.listdir(bill_path)[0]\n",
    "xml_file"
   ]
  },
  {
   "cell_type": "code",
   "execution_count": null,
   "metadata": {},
   "outputs": [],
   "source": []
  }
 ],
 "metadata": {
  "kernelspec": {
   "display_name": "Python 3",
   "language": "python",
   "name": "python3"
  },
  "language_info": {
   "codemirror_mode": {
    "name": "ipython",
    "version": 3
   },
   "file_extension": ".py",
   "mimetype": "text/x-python",
   "name": "python",
   "nbconvert_exporter": "python",
   "pygments_lexer": "ipython3",
   "version": "3.5.5"
  }
 },
 "nbformat": 4,
 "nbformat_minor": 2
}
